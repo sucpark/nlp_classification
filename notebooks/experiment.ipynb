{
 "cells": [
  {
   "cell_type": "code",
   "execution_count": 9,
   "id": "5a3bfcc2",
   "metadata": {},
   "outputs": [],
   "source": [
    "import os\n",
    "import sys\n",
    "sys.path.insert(0, '..')\n",
    "\n",
    "import argparse\n",
    "import random\n",
    "import numpy as np\n",
    "import pandas as pd\n",
    "import pickle\n",
    "import json\n",
    "import torch\n",
    "import torch.nn as nn\n",
    "import torch.nn.functional as F\n",
    "import matplotlib.pyplot as plt\n",
    "\n",
    "from torch.utils.data import DataLoader\n",
    "from tqdm.auto import tqdm\n",
    "from pathlib import Path\n",
    "from utils import *\n",
    "from model.metric import evaluate, predicate, acc, LSR\n",
    "from model.data import DAdataset\n",
    "from model.net import LSTMClassifier\n",
    "from model.utils import remove_punct, sent_tokenize, stemming, lemmatize, preprocess_text\n",
    "from torch.utils.tensorboard import SummaryWriter"
   ]
  },
  {
   "cell_type": "code",
   "execution_count": 10,
   "id": "29603697",
   "metadata": {},
   "outputs": [],
   "source": [
    "home_dir = Path('..')\n",
    "data_dir = home_dir / 'dataset' / 'SDAC'\n",
    "save_dir = home_dir / 'experiment' / 'SDAC'\n",
    "train_data_name = 'sw_train.txt'\n",
    "valid_data_name = 'sw_val.txt'\n",
    "test_data_name = 'sw_test.txt'\n",
    "# pretrained_embeddings_name = 'embeddings.pkl'\n",
    "token2idx_name = 'word2idx.json'\n",
    "label2idx_name = 'label2idx.json'\n",
    "config_name = 'config.json'\n",
    "\n",
    "# if not (home_dir / save_dir / data_name).exists():\n",
    "#     (home_dir / save_dir / data_name)\n",
    "    \n",
    "if not os.path.exists(save_dir):\n",
    "    os.makedirs(save_dir, exist_ok=True)"
   ]
  },
  {
   "cell_type": "code",
   "execution_count": 11,
   "id": "fae5ed57",
   "metadata": {},
   "outputs": [
    {
     "name": "stdout",
     "output_type": "stream",
     "text": [
      "Namespace(embedding_dim=128, epochs=30, hidden_size=256, lr=1e-05, max_len=256, n_batch=64, n_layers=1, summary_step=10000)\n"
     ]
    }
   ],
   "source": [
    "args = {\n",
    "    \"epochs\": 30,\n",
    "    \"n_batch\": 64,\n",
    "    \"max_len\": 256,\n",
    "    \"lr\": 1e-5,\n",
    "    \"summary_step\": 10000,\n",
    "    \"embedding_dim\": 128,\n",
    "    \"hidden_size\": 256,\n",
    "    \"n_layers\": 1,\n",
    "}\n",
    "args = argparse.Namespace(**args)\n",
    "print(args)"
   ]
  },
  {
   "cell_type": "code",
   "execution_count": 12,
   "id": "a2cfe25e",
   "metadata": {},
   "outputs": [],
   "source": [
    "# with open(data_dir / pretrained_embeddings_name, 'rb') as f:\n",
    "#     pretrained_embeddings = pickle.load(f)\n",
    "    \n",
    "with open(data_dir / token2idx_name, 'r') as f:\n",
    "    token2idx = json.load(f)\n",
    "    \n",
    "with open(data_dir / label2idx_name, 'r') as f:\n",
    "    label2idx = json.load(f)\n",
    "    \n",
    "with open(data_dir / config_name, 'r') as f:\n",
    "    config = json.load(f)\n",
    "    \n",
    "idx2token = {i:t for t,i in token2idx.items()}\n",
    "idx2label = {i:l for l,i in label2idx.items()}"
   ]
  },
  {
   "cell_type": "markdown",
   "id": "e7073819",
   "metadata": {},
   "source": [
    "## Train"
   ]
  },
  {
   "cell_type": "code",
   "execution_count": 13,
   "id": "a2eae6b8",
   "metadata": {},
   "outputs": [],
   "source": [
    "train_data = pd.read_csv(data_dir / train_data_name, header=None, sep='|', names=['speaker','utterance','tag'])\n",
    "valid_data = pd.read_csv(data_dir / valid_data_name, header=None, sep='|', names=['speaker','utterance','tag'])\n",
    "\n",
    "\n",
    "x_train, y_train = train_data['utterance'], train_data['tag']\n",
    "x_valid, y_valid = valid_data['utterance'], valid_data['tag']\n",
    "\n",
    "text_preprocess_pipeline = [sent_tokenize, stemming]\n",
    "\n",
    "x_train = x_train.apply(preprocess_text, processing_function_list=text_preprocess_pipeline)\n",
    "x_valid = x_valid.apply(preprocess_text, processing_function_list=text_preprocess_pipeline)"
   ]
  },
  {
   "cell_type": "code",
   "execution_count": 15,
   "id": "0382617b",
   "metadata": {},
   "outputs": [],
   "source": [
    "x_train = list(convert_token_to_idx(x_train, token2idx))\n",
    "x_valid = list(convert_token_to_idx(x_valid, token2idx))\n",
    "\n",
    "y_train = list(convert_label_to_idx(y_train, label2idx))\n",
    "y_valid = list(convert_label_to_idx(y_valid, label2idx))"
   ]
  },
  {
   "cell_type": "code",
   "execution_count": 16,
   "id": "82df0a28",
   "metadata": {},
   "outputs": [],
   "source": [
    "tr_ds = DAdataset(x_train, y_train)\n",
    "tr_dl = DataLoader(tr_ds, batch_size=args.n_batch, collate_fn=tr_ds.collate_fn, shuffle=True, drop_last=True)\n",
    "\n",
    "val_ds = DAdataset(x_valid, y_valid)\n",
    "val_dl = DataLoader(val_ds, batch_size=args.n_batch, collate_fn=val_ds.collate_fn, shuffle=True, drop_last=True)"
   ]
  },
  {
   "cell_type": "code",
   "execution_count": 17,
   "id": "028fc823",
   "metadata": {},
   "outputs": [],
   "source": [
    "learning_rate = args.lr\n",
    "batch_size = args.n_batch\n",
    "vocab_size = len(token2idx)\n",
    "embedding_dim = args.embedding_dim\n",
    "hidden_size = args.hidden_size\n",
    "output_size = len(label2idx)\n",
    "n_layers = args.n_layers\n",
    "dropout = 0.7\n",
    "\n",
    "device = torch.device(\"cuda\" if torch.cuda.is_available() else \"cpu\")\n",
    "model = LSTMClassifier(batch_size, output_size, hidden_size, vocab_size, n_layers, embedding_dim, device,\n",
    "                       dropout=dropout, bidirectional=True) #, weights=torch.from_numpy(pretrained_embeddings))\n",
    "\n",
    "loss_fn = LSR(epsilon=0.1, num_classes=output_size)\n",
    "\n",
    "if device.type == 'cuda':\n",
    "    torch.cuda.empty_cache()\n",
    "\n",
    "model.to(device)\n",
    "optimizer = torch.optim.Adam(model.parameters(), lr=args.lr, weight_decay=1e-5)\n",
    "\n",
    "writer = SummaryWriter(f'{save_dir}/runs')\n",
    "checkpoint_manager = CheckpointManager(save_dir)\n",
    "summary_manager = SummaryManager(save_dir)"
   ]
  },
  {
   "cell_type": "code",
   "execution_count": 18,
   "id": "6fe2ba78",
   "metadata": {},
   "outputs": [
    {
     "data": {
      "application/vnd.jupyter.widget-view+json": {
       "model_id": "eea282f3c41a46c69034ba940fe8e75d",
       "version_major": 2,
       "version_minor": 0
      },
      "text/plain": [
       "HBox(children=(HTML(value='epochs'), FloatProgress(value=0.0, max=30.0), HTML(value='')))"
      ]
     },
     "metadata": {},
     "output_type": "display_data"
    },
    {
     "data": {
      "application/vnd.jupyter.widget-view+json": {
       "model_id": "5c40ab18d0034a9faf593f86c6ed2bba",
       "version_major": 2,
       "version_minor": 0
      },
      "text/plain": [
       "HBox(children=(HTML(value='steps'), FloatProgress(value=0.0, max=3006.0), HTML(value='')))"
      ]
     },
     "metadata": {},
     "output_type": "display_data"
    },
    {
     "name": "stderr",
     "output_type": "stream",
     "text": [
      "steps: 100%|██████████| 51/51 [00:00<00:00, 250.25it/s]\n"
     ]
    },
    {
     "name": "stdout",
     "output_type": "stream",
     "text": [
      "\r",
      "\r",
      "global_Step:   0, tr_loss: 1.244395, val_loss: 1.242528\n"
     ]
    },
    {
     "name": "stderr",
     "output_type": "stream",
     "text": [
      "steps:  43%|████▎     | 22/51 [00:00<00:00, 218.50it/s]"
     ]
    },
    {
     "name": "stdout",
     "output_type": "stream",
     "text": [
      "\n"
     ]
    },
    {
     "name": "stderr",
     "output_type": "stream",
     "text": [
      "steps: 100%|██████████| 51/51 [00:00<00:00, 251.44it/s]\n"
     ]
    },
    {
     "name": "stdout",
     "output_type": "stream",
     "text": [
      "\r",
      "epoch : 1, tr_loss:  0.850641, val_loss: 0.620, tr_acc: 48.68%, val_acc: 57.33%\n"
     ]
    },
    {
     "data": {
      "application/vnd.jupyter.widget-view+json": {
       "model_id": "fe9ac3b24c6341b28561a3b15cb4e585",
       "version_major": 2,
       "version_minor": 0
      },
      "text/plain": [
       "HBox(children=(HTML(value='steps'), FloatProgress(value=0.0, max=3006.0), HTML(value='')))"
      ]
     },
     "metadata": {},
     "output_type": "display_data"
    },
    {
     "name": "stderr",
     "output_type": "stream",
     "text": [
      "steps:  43%|████▎     | 22/51 [00:00<00:00, 216.29it/s]"
     ]
    },
    {
     "name": "stdout",
     "output_type": "stream",
     "text": [
      "\n"
     ]
    },
    {
     "name": "stderr",
     "output_type": "stream",
     "text": [
      "steps: 100%|██████████| 51/51 [00:00<00:00, 232.27it/s]\n"
     ]
    },
    {
     "name": "stdout",
     "output_type": "stream",
     "text": [
      "\r",
      "epoch : 2, tr_loss:  0.641508, val_loss: 0.560, tr_acc: 59.06%, val_acc: 61.28%\n"
     ]
    },
    {
     "data": {
      "application/vnd.jupyter.widget-view+json": {
       "model_id": "37cc33f9bc7b4279aad70d577356eb3e",
       "version_major": 2,
       "version_minor": 0
      },
      "text/plain": [
       "HBox(children=(HTML(value='steps'), FloatProgress(value=0.0, max=3006.0), HTML(value='')))"
      ]
     },
     "metadata": {},
     "output_type": "display_data"
    },
    {
     "name": "stderr",
     "output_type": "stream",
     "text": [
      "steps:  41%|████      | 21/51 [00:00<00:00, 206.90it/s]"
     ]
    },
    {
     "name": "stdout",
     "output_type": "stream",
     "text": [
      "\n"
     ]
    },
    {
     "name": "stderr",
     "output_type": "stream",
     "text": [
      "steps: 100%|██████████| 51/51 [00:00<00:00, 219.82it/s]\n"
     ]
    },
    {
     "name": "stdout",
     "output_type": "stream",
     "text": [
      "\r",
      "epoch : 3, tr_loss:  0.600596, val_loss: 0.534, tr_acc: 61.93%, val_acc: 65.01%\n"
     ]
    },
    {
     "data": {
      "application/vnd.jupyter.widget-view+json": {
       "model_id": "72555a6a624a46c892345f9456dd844b",
       "version_major": 2,
       "version_minor": 0
      },
      "text/plain": [
       "HBox(children=(HTML(value='steps'), FloatProgress(value=0.0, max=3006.0), HTML(value='')))"
      ]
     },
     "metadata": {},
     "output_type": "display_data"
    },
    {
     "name": "stderr",
     "output_type": "stream",
     "text": [
      "steps: 100%|██████████| 51/51 [00:00<00:00, 249.29it/s]\n"
     ]
    },
    {
     "name": "stdout",
     "output_type": "stream",
     "text": [
      "\r",
      "\r",
      "global_Step: 10000, tr_loss: 0.587072, val_loss: 0.530631\n"
     ]
    },
    {
     "name": "stderr",
     "output_type": "stream",
     "text": [
      "steps:  45%|████▌     | 23/51 [00:00<00:00, 226.76it/s]"
     ]
    },
    {
     "name": "stdout",
     "output_type": "stream",
     "text": [
      "\n"
     ]
    },
    {
     "name": "stderr",
     "output_type": "stream",
     "text": [
      "steps: 100%|██████████| 51/51 [00:00<00:00, 233.39it/s]\n"
     ]
    },
    {
     "name": "stdout",
     "output_type": "stream",
     "text": [
      "\r",
      "epoch : 4, tr_loss:  0.578586, val_loss: 0.521, tr_acc: 63.57%, val_acc: 65.77%\n"
     ]
    },
    {
     "data": {
      "application/vnd.jupyter.widget-view+json": {
       "model_id": "e869f4cad6cc4a42abdd11fb965a002f",
       "version_major": 2,
       "version_minor": 0
      },
      "text/plain": [
       "HBox(children=(HTML(value='steps'), FloatProgress(value=0.0, max=3006.0), HTML(value='')))"
      ]
     },
     "metadata": {},
     "output_type": "display_data"
    },
    {
     "name": "stderr",
     "output_type": "stream",
     "text": [
      "steps:  45%|████▌     | 23/51 [00:00<00:00, 225.72it/s]"
     ]
    },
    {
     "name": "stdout",
     "output_type": "stream",
     "text": [
      "\n"
     ]
    },
    {
     "name": "stderr",
     "output_type": "stream",
     "text": [
      "steps: 100%|██████████| 51/51 [00:00<00:00, 237.10it/s]\n"
     ]
    },
    {
     "name": "stdout",
     "output_type": "stream",
     "text": [
      "\r",
      "epoch : 5, tr_loss:  0.565061, val_loss: 0.508, tr_acc: 64.57%, val_acc: 66.47%\n"
     ]
    },
    {
     "data": {
      "application/vnd.jupyter.widget-view+json": {
       "model_id": "e37f1365fb1a4d9c8e25786354b11f0a",
       "version_major": 2,
       "version_minor": 0
      },
      "text/plain": [
       "HBox(children=(HTML(value='steps'), FloatProgress(value=0.0, max=3006.0), HTML(value='')))"
      ]
     },
     "metadata": {},
     "output_type": "display_data"
    },
    {
     "name": "stderr",
     "output_type": "stream",
     "text": [
      "steps:  43%|████▎     | 22/51 [00:00<00:00, 216.10it/s]"
     ]
    },
    {
     "name": "stdout",
     "output_type": "stream",
     "text": [
      "\n"
     ]
    },
    {
     "name": "stderr",
     "output_type": "stream",
     "text": [
      "steps: 100%|██████████| 51/51 [00:00<00:00, 225.12it/s]\n"
     ]
    },
    {
     "name": "stdout",
     "output_type": "stream",
     "text": [
      "\r",
      "epoch : 6, tr_loss:  0.553061, val_loss: 0.498, tr_acc: 65.31%, val_acc: 67.91%\n"
     ]
    },
    {
     "data": {
      "application/vnd.jupyter.widget-view+json": {
       "model_id": "fde23c7934c54939999ff377abd5eb21",
       "version_major": 2,
       "version_minor": 0
      },
      "text/plain": [
       "HBox(children=(HTML(value='steps'), FloatProgress(value=0.0, max=3006.0), HTML(value='')))"
      ]
     },
     "metadata": {},
     "output_type": "display_data"
    },
    {
     "name": "stderr",
     "output_type": "stream",
     "text": [
      "steps: 100%|██████████| 51/51 [00:00<00:00, 303.65it/s]\n"
     ]
    },
    {
     "name": "stdout",
     "output_type": "stream",
     "text": [
      "\r",
      "\r",
      "global_Step: 20000, tr_loss: 0.544389, val_loss: 0.489749\n"
     ]
    },
    {
     "name": "stderr",
     "output_type": "stream",
     "text": [
      "steps: 100%|██████████| 51/51 [00:00<00:00, 290.30it/s]"
     ]
    },
    {
     "name": "stdout",
     "output_type": "stream",
     "text": [
      "\n",
      "\r",
      "epoch : 7, tr_loss:  0.543288, val_loss: 0.491, tr_acc: 66.06%, val_acc: 68.15%\n"
     ]
    },
    {
     "name": "stderr",
     "output_type": "stream",
     "text": [
      "\n"
     ]
    },
    {
     "data": {
      "application/vnd.jupyter.widget-view+json": {
       "model_id": "5b0548fb35ab452ea9ccf656adf70b95",
       "version_major": 2,
       "version_minor": 0
      },
      "text/plain": [
       "HBox(children=(HTML(value='steps'), FloatProgress(value=0.0, max=3006.0), HTML(value='')))"
      ]
     },
     "metadata": {},
     "output_type": "display_data"
    },
    {
     "name": "stderr",
     "output_type": "stream",
     "text": [
      "steps: 100%|██████████| 51/51 [00:00<00:00, 294.92it/s]"
     ]
    },
    {
     "name": "stdout",
     "output_type": "stream",
     "text": [
      "\n",
      "\r",
      "epoch : 8, tr_loss:  0.534723, val_loss: 0.485, tr_acc: 66.73%, val_acc: 69.04%\n"
     ]
    },
    {
     "name": "stderr",
     "output_type": "stream",
     "text": [
      "\n"
     ]
    },
    {
     "data": {
      "application/vnd.jupyter.widget-view+json": {
       "model_id": "94866c856c44412ba3a1aecde87fc77b",
       "version_major": 2,
       "version_minor": 0
      },
      "text/plain": [
       "HBox(children=(HTML(value='steps'), FloatProgress(value=0.0, max=3006.0), HTML(value='')))"
      ]
     },
     "metadata": {},
     "output_type": "display_data"
    },
    {
     "name": "stderr",
     "output_type": "stream",
     "text": [
      "steps: 100%|██████████| 51/51 [00:00<00:00, 287.39it/s]"
     ]
    },
    {
     "name": "stdout",
     "output_type": "stream",
     "text": [
      "\n",
      "\r",
      "epoch : 9, tr_loss:  0.526918, val_loss: 0.475, tr_acc: 67.24%, val_acc: 69.32%\n"
     ]
    },
    {
     "name": "stderr",
     "output_type": "stream",
     "text": [
      "\n"
     ]
    },
    {
     "data": {
      "application/vnd.jupyter.widget-view+json": {
       "model_id": "514ded6c5f1c4d4e9ba8ea046966b86b",
       "version_major": 2,
       "version_minor": 0
      },
      "text/plain": [
       "HBox(children=(HTML(value='steps'), FloatProgress(value=0.0, max=3006.0), HTML(value='')))"
      ]
     },
     "metadata": {},
     "output_type": "display_data"
    },
    {
     "name": "stderr",
     "output_type": "stream",
     "text": [
      "steps: 100%|██████████| 51/51 [00:00<00:00, 287.11it/s]\n"
     ]
    },
    {
     "name": "stdout",
     "output_type": "stream",
     "text": [
      "\r",
      "\r",
      "global_Step: 30000, tr_loss: 0.520998, val_loss: 0.472202\n"
     ]
    },
    {
     "name": "stderr",
     "output_type": "stream",
     "text": [
      "steps:  45%|████▌     | 23/51 [00:00<00:00, 225.03it/s]"
     ]
    },
    {
     "name": "stdout",
     "output_type": "stream",
     "text": [
      "\n"
     ]
    },
    {
     "name": "stderr",
     "output_type": "stream",
     "text": [
      "steps: 100%|██████████| 51/51 [00:00<00:00, 230.93it/s]\n"
     ]
    },
    {
     "name": "stdout",
     "output_type": "stream",
     "text": [
      "\r",
      "epoch : 10, tr_loss:  0.520949, val_loss: 0.469, tr_acc: 67.67%, val_acc: 69.50%\n"
     ]
    },
    {
     "data": {
      "application/vnd.jupyter.widget-view+json": {
       "model_id": "28c3535eaab44ae5a6a70fde9dbafa01",
       "version_major": 2,
       "version_minor": 0
      },
      "text/plain": [
       "HBox(children=(HTML(value='steps'), FloatProgress(value=0.0, max=3006.0), HTML(value='')))"
      ]
     },
     "metadata": {},
     "output_type": "display_data"
    },
    {
     "name": "stderr",
     "output_type": "stream",
     "text": [
      "steps: 100%|██████████| 51/51 [00:00<00:00, 258.94it/s]"
     ]
    },
    {
     "name": "stdout",
     "output_type": "stream",
     "text": [
      "\n",
      "\r",
      "epoch : 11, tr_loss:  0.514981, val_loss: 0.470, tr_acc: 68.16%, val_acc: 69.56%\n"
     ]
    },
    {
     "name": "stderr",
     "output_type": "stream",
     "text": [
      "\n"
     ]
    },
    {
     "data": {
      "application/vnd.jupyter.widget-view+json": {
       "model_id": "8611e791c3f74b229bafa78650b9577d",
       "version_major": 2,
       "version_minor": 0
      },
      "text/plain": [
       "HBox(children=(HTML(value='steps'), FloatProgress(value=0.0, max=3006.0), HTML(value='')))"
      ]
     },
     "metadata": {},
     "output_type": "display_data"
    },
    {
     "name": "stderr",
     "output_type": "stream",
     "text": [
      "steps:  43%|████▎     | 22/51 [00:00<00:00, 217.86it/s]"
     ]
    },
    {
     "name": "stdout",
     "output_type": "stream",
     "text": [
      "\n"
     ]
    },
    {
     "name": "stderr",
     "output_type": "stream",
     "text": [
      "steps: 100%|██████████| 51/51 [00:00<00:00, 227.98it/s]\n"
     ]
    },
    {
     "name": "stdout",
     "output_type": "stream",
     "text": [
      "\r",
      "epoch : 12, tr_loss:  0.510418, val_loss: 0.463, tr_acc: 68.43%, val_acc: 70.42%\n"
     ]
    },
    {
     "data": {
      "application/vnd.jupyter.widget-view+json": {
       "model_id": "ab5f420f6a8645a184dd39cd85933b06",
       "version_major": 2,
       "version_minor": 0
      },
      "text/plain": [
       "HBox(children=(HTML(value='steps'), FloatProgress(value=0.0, max=3006.0), HTML(value='')))"
      ]
     },
     "metadata": {},
     "output_type": "display_data"
    },
    {
     "name": "stderr",
     "output_type": "stream",
     "text": [
      "steps:  49%|████▉     | 25/51 [00:00<00:00, 247.39it/s]"
     ]
    },
    {
     "name": "stdout",
     "output_type": "stream",
     "text": [
      "\n"
     ]
    },
    {
     "name": "stderr",
     "output_type": "stream",
     "text": [
      "steps: 100%|██████████| 51/51 [00:00<00:00, 241.61it/s]\n"
     ]
    },
    {
     "name": "stdout",
     "output_type": "stream",
     "text": [
      "\r",
      "epoch : 13, tr_loss:  0.505872, val_loss: 0.460, tr_acc: 68.68%, val_acc: 70.81%\n"
     ]
    },
    {
     "data": {
      "application/vnd.jupyter.widget-view+json": {
       "model_id": "a375e74301874487a3a47c7847857bb7",
       "version_major": 2,
       "version_minor": 0
      },
      "text/plain": [
       "HBox(children=(HTML(value='steps'), FloatProgress(value=0.0, max=3006.0), HTML(value='')))"
      ]
     },
     "metadata": {},
     "output_type": "display_data"
    },
    {
     "name": "stderr",
     "output_type": "stream",
     "text": [
      "steps: 100%|██████████| 51/51 [00:00<00:00, 253.36it/s]\n"
     ]
    },
    {
     "name": "stdout",
     "output_type": "stream",
     "text": [
      "\r",
      "\r",
      "global_Step: 40000, tr_loss: 0.505245, val_loss: 0.453251\n"
     ]
    },
    {
     "name": "stderr",
     "output_type": "stream",
     "text": [
      "steps:  47%|████▋     | 24/51 [00:00<00:00, 231.70it/s]"
     ]
    },
    {
     "name": "stdout",
     "output_type": "stream",
     "text": [
      "\n"
     ]
    },
    {
     "name": "stderr",
     "output_type": "stream",
     "text": [
      "steps: 100%|██████████| 51/51 [00:00<00:00, 235.29it/s]\n"
     ]
    },
    {
     "name": "stdout",
     "output_type": "stream",
     "text": [
      "\r",
      "epoch : 14, tr_loss:  0.502540, val_loss: 0.455, tr_acc: 69.03%, val_acc: 70.81%\n"
     ]
    },
    {
     "data": {
      "application/vnd.jupyter.widget-view+json": {
       "model_id": "4784024d2c9a442bb6af07158c2b4e11",
       "version_major": 2,
       "version_minor": 0
      },
      "text/plain": [
       "HBox(children=(HTML(value='steps'), FloatProgress(value=0.0, max=3006.0), HTML(value='')))"
      ]
     },
     "metadata": {},
     "output_type": "display_data"
    },
    {
     "name": "stderr",
     "output_type": "stream",
     "text": [
      "steps:  43%|████▎     | 22/51 [00:00<00:00, 218.71it/s]"
     ]
    },
    {
     "name": "stdout",
     "output_type": "stream",
     "text": [
      "\n"
     ]
    },
    {
     "name": "stderr",
     "output_type": "stream",
     "text": [
      "steps: 100%|██████████| 51/51 [00:00<00:00, 218.40it/s]\n"
     ]
    },
    {
     "name": "stdout",
     "output_type": "stream",
     "text": [
      "\r",
      "epoch : 15, tr_loss:  0.498127, val_loss: 0.453, tr_acc: 69.23%, val_acc: 71.15%\n"
     ]
    },
    {
     "data": {
      "application/vnd.jupyter.widget-view+json": {
       "model_id": "63831550caf14147a542e3c479c3c922",
       "version_major": 2,
       "version_minor": 0
      },
      "text/plain": [
       "HBox(children=(HTML(value='steps'), FloatProgress(value=0.0, max=3006.0), HTML(value='')))"
      ]
     },
     "metadata": {},
     "output_type": "display_data"
    },
    {
     "name": "stderr",
     "output_type": "stream",
     "text": [
      "steps:  49%|████▉     | 25/51 [00:00<00:00, 245.57it/s]"
     ]
    },
    {
     "name": "stdout",
     "output_type": "stream",
     "text": [
      "\n"
     ]
    },
    {
     "name": "stderr",
     "output_type": "stream",
     "text": [
      "steps: 100%|██████████| 51/51 [00:00<00:00, 237.73it/s]\n"
     ]
    },
    {
     "name": "stdout",
     "output_type": "stream",
     "text": [
      "\r",
      "epoch : 16, tr_loss:  0.495719, val_loss: 0.449, tr_acc: 69.42%, val_acc: 71.52%\n"
     ]
    },
    {
     "data": {
      "application/vnd.jupyter.widget-view+json": {
       "model_id": "576bed88aff74f21a2d176fb4f22fb22",
       "version_major": 2,
       "version_minor": 0
      },
      "text/plain": [
       "HBox(children=(HTML(value='steps'), FloatProgress(value=0.0, max=3006.0), HTML(value='')))"
      ]
     },
     "metadata": {},
     "output_type": "display_data"
    },
    {
     "name": "stderr",
     "output_type": "stream",
     "text": [
      "steps: 100%|██████████| 51/51 [00:00<00:00, 253.20it/s]\n"
     ]
    },
    {
     "name": "stdout",
     "output_type": "stream",
     "text": [
      "\r",
      "\r",
      "global_Step: 50000, tr_loss: 0.492422, val_loss: 0.445168\n"
     ]
    },
    {
     "name": "stderr",
     "output_type": "stream",
     "text": [
      "steps:  51%|█████     | 26/51 [00:00<00:00, 254.18it/s]"
     ]
    },
    {
     "name": "stdout",
     "output_type": "stream",
     "text": [
      "\n"
     ]
    },
    {
     "name": "stderr",
     "output_type": "stream",
     "text": [
      "steps: 100%|██████████| 51/51 [00:00<00:00, 247.58it/s]\n"
     ]
    },
    {
     "name": "stdout",
     "output_type": "stream",
     "text": [
      "\r",
      "epoch : 17, tr_loss:  0.492390, val_loss: 0.445, tr_acc: 69.65%, val_acc: 71.91%\n"
     ]
    },
    {
     "data": {
      "application/vnd.jupyter.widget-view+json": {
       "model_id": "3fca43833d4543ab811e5f9c982b1ce2",
       "version_major": 2,
       "version_minor": 0
      },
      "text/plain": [
       "HBox(children=(HTML(value='steps'), FloatProgress(value=0.0, max=3006.0), HTML(value='')))"
      ]
     },
     "metadata": {},
     "output_type": "display_data"
    },
    {
     "name": "stderr",
     "output_type": "stream",
     "text": [
      "steps:  45%|████▌     | 23/51 [00:00<00:00, 224.14it/s]"
     ]
    },
    {
     "name": "stdout",
     "output_type": "stream",
     "text": [
      "\n"
     ]
    },
    {
     "name": "stderr",
     "output_type": "stream",
     "text": [
      "steps: 100%|██████████| 51/51 [00:00<00:00, 229.19it/s]"
     ]
    },
    {
     "name": "stdout",
     "output_type": "stream",
     "text": [
      "\r",
      "epoch : 18, tr_loss:  0.490011, val_loss: 0.445, tr_acc: 69.88%, val_acc: 71.45%\n"
     ]
    },
    {
     "name": "stderr",
     "output_type": "stream",
     "text": [
      "\n"
     ]
    },
    {
     "data": {
      "application/vnd.jupyter.widget-view+json": {
       "model_id": "f762f7a0d2ea440ab0195d92b0249767",
       "version_major": 2,
       "version_minor": 0
      },
      "text/plain": [
       "HBox(children=(HTML(value='steps'), FloatProgress(value=0.0, max=3006.0), HTML(value='')))"
      ]
     },
     "metadata": {},
     "output_type": "display_data"
    },
    {
     "name": "stderr",
     "output_type": "stream",
     "text": [
      "steps: 100%|██████████| 51/51 [00:00<00:00, 304.32it/s]"
     ]
    },
    {
     "name": "stdout",
     "output_type": "stream",
     "text": [
      "\n",
      "\r",
      "epoch : 19, tr_loss:  0.487461, val_loss: 0.440, tr_acc: 69.95%, val_acc: 72.28%\n"
     ]
    },
    {
     "name": "stderr",
     "output_type": "stream",
     "text": [
      "\n"
     ]
    },
    {
     "data": {
      "application/vnd.jupyter.widget-view+json": {
       "model_id": "8e965332d53f4aff8f070ead516727b2",
       "version_major": 2,
       "version_minor": 0
      },
      "text/plain": [
       "HBox(children=(HTML(value='steps'), FloatProgress(value=0.0, max=3006.0), HTML(value='')))"
      ]
     },
     "metadata": {},
     "output_type": "display_data"
    },
    {
     "name": "stderr",
     "output_type": "stream",
     "text": [
      "steps: 100%|██████████| 51/51 [00:00<00:00, 254.19it/s]\n"
     ]
    },
    {
     "name": "stdout",
     "output_type": "stream",
     "text": [
      "\r",
      "\r",
      "global_Step: 60000, tr_loss: 0.484503, val_loss: 0.436527\n"
     ]
    },
    {
     "name": "stderr",
     "output_type": "stream",
     "text": [
      "steps:  47%|████▋     | 24/51 [00:00<00:00, 232.78it/s]"
     ]
    },
    {
     "name": "stdout",
     "output_type": "stream",
     "text": [
      "\n"
     ]
    },
    {
     "name": "stderr",
     "output_type": "stream",
     "text": [
      "steps: 100%|██████████| 51/51 [00:00<00:00, 235.53it/s]\n"
     ]
    },
    {
     "name": "stdout",
     "output_type": "stream",
     "text": [
      "\r",
      "epoch : 20, tr_loss:  0.484706, val_loss: 0.439, tr_acc: 70.11%, val_acc: 72.43%\n"
     ]
    },
    {
     "data": {
      "application/vnd.jupyter.widget-view+json": {
       "model_id": "fd4561aab5f746b0ad31f426f82f9dcf",
       "version_major": 2,
       "version_minor": 0
      },
      "text/plain": [
       "HBox(children=(HTML(value='steps'), FloatProgress(value=0.0, max=3006.0), HTML(value='')))"
      ]
     },
     "metadata": {},
     "output_type": "display_data"
    },
    {
     "name": "stderr",
     "output_type": "stream",
     "text": [
      "steps:  49%|████▉     | 25/51 [00:00<00:00, 239.24it/s]"
     ]
    },
    {
     "name": "stdout",
     "output_type": "stream",
     "text": [
      "\n"
     ]
    },
    {
     "name": "stderr",
     "output_type": "stream",
     "text": [
      "steps: 100%|██████████| 51/51 [00:00<00:00, 230.00it/s]\n"
     ]
    },
    {
     "name": "stdout",
     "output_type": "stream",
     "text": [
      "\r",
      "epoch : 21, tr_loss:  0.482519, val_loss: 0.437, tr_acc: 70.27%, val_acc: 72.22%\n"
     ]
    },
    {
     "data": {
      "application/vnd.jupyter.widget-view+json": {
       "model_id": "51529cf96be3434c890fe9202c755022",
       "version_major": 2,
       "version_minor": 0
      },
      "text/plain": [
       "HBox(children=(HTML(value='steps'), FloatProgress(value=0.0, max=3006.0), HTML(value='')))"
      ]
     },
     "metadata": {},
     "output_type": "display_data"
    },
    {
     "name": "stderr",
     "output_type": "stream",
     "text": [
      "steps: 100%|██████████| 51/51 [00:00<00:00, 263.97it/s]"
     ]
    },
    {
     "name": "stdout",
     "output_type": "stream",
     "text": [
      "\n",
      "\r",
      "epoch : 22, tr_loss:  0.480171, val_loss: 0.432, tr_acc: 70.34%, val_acc: 72.62%\n"
     ]
    },
    {
     "name": "stderr",
     "output_type": "stream",
     "text": [
      "\n"
     ]
    },
    {
     "data": {
      "application/vnd.jupyter.widget-view+json": {
       "model_id": "80940bba1e66492285bf6af94e6b5ea2",
       "version_major": 2,
       "version_minor": 0
      },
      "text/plain": [
       "HBox(children=(HTML(value='steps'), FloatProgress(value=0.0, max=3006.0), HTML(value='')))"
      ]
     },
     "metadata": {},
     "output_type": "display_data"
    },
    {
     "name": "stderr",
     "output_type": "stream",
     "text": [
      "steps:  49%|████▉     | 25/51 [00:00<00:00, 238.12it/s]"
     ]
    },
    {
     "name": "stdout",
     "output_type": "stream",
     "text": [
      "\n"
     ]
    },
    {
     "name": "stderr",
     "output_type": "stream",
     "text": [
      "steps: 100%|██████████| 51/51 [00:00<00:00, 241.01it/s]"
     ]
    },
    {
     "name": "stdout",
     "output_type": "stream",
     "text": [
      "\r",
      "epoch : 23, tr_loss:  0.478835, val_loss: 0.437, tr_acc: 70.39%, val_acc: 72.49%\n"
     ]
    },
    {
     "name": "stderr",
     "output_type": "stream",
     "text": [
      "\n"
     ]
    },
    {
     "data": {
      "application/vnd.jupyter.widget-view+json": {
       "model_id": "32d7ece8eb0b40c9a8af8d1304b1494a",
       "version_major": 2,
       "version_minor": 0
      },
      "text/plain": [
       "HBox(children=(HTML(value='steps'), FloatProgress(value=0.0, max=3006.0), HTML(value='')))"
      ]
     },
     "metadata": {},
     "output_type": "display_data"
    },
    {
     "name": "stderr",
     "output_type": "stream",
     "text": [
      "steps: 100%|██████████| 51/51 [00:00<00:00, 254.16it/s]\n"
     ]
    },
    {
     "name": "stdout",
     "output_type": "stream",
     "text": [
      "\r",
      "\r",
      "global_Step: 70000, tr_loss: 0.479421, val_loss: 0.437424\n"
     ]
    },
    {
     "name": "stderr",
     "output_type": "stream",
     "text": [
      "steps:  49%|████▉     | 25/51 [00:00<00:00, 243.12it/s]"
     ]
    },
    {
     "name": "stdout",
     "output_type": "stream",
     "text": [
      "\n"
     ]
    },
    {
     "name": "stderr",
     "output_type": "stream",
     "text": [
      "\r",
      "steps: 100%|██████████| 51/51 [00:00<00:00, 254.02it/s]"
     ]
    },
    {
     "name": "stdout",
     "output_type": "stream",
     "text": [
      "\r",
      "epoch : 24, tr_loss:  0.476417, val_loss: 0.434, tr_acc: 70.60%, val_acc: 72.34%\n"
     ]
    },
    {
     "name": "stderr",
     "output_type": "stream",
     "text": [
      "\n"
     ]
    },
    {
     "data": {
      "application/vnd.jupyter.widget-view+json": {
       "model_id": "9fca12dd392a423ba10cb2731efec4e5",
       "version_major": 2,
       "version_minor": 0
      },
      "text/plain": [
       "HBox(children=(HTML(value='steps'), FloatProgress(value=0.0, max=3006.0), HTML(value='')))"
      ]
     },
     "metadata": {},
     "output_type": "display_data"
    },
    {
     "name": "stderr",
     "output_type": "stream",
     "text": [
      "steps:  43%|████▎     | 22/51 [00:00<00:00, 214.51it/s]"
     ]
    },
    {
     "name": "stdout",
     "output_type": "stream",
     "text": [
      "\n"
     ]
    },
    {
     "name": "stderr",
     "output_type": "stream",
     "text": [
      "steps: 100%|██████████| 51/51 [00:00<00:00, 223.58it/s]\n"
     ]
    },
    {
     "name": "stdout",
     "output_type": "stream",
     "text": [
      "\r",
      "epoch : 25, tr_loss:  0.475062, val_loss: 0.430, tr_acc: 70.73%, val_acc: 72.98%\n"
     ]
    },
    {
     "data": {
      "application/vnd.jupyter.widget-view+json": {
       "model_id": "3bcaa70f570a42d483c895fbf7400052",
       "version_major": 2,
       "version_minor": 0
      },
      "text/plain": [
       "HBox(children=(HTML(value='steps'), FloatProgress(value=0.0, max=3006.0), HTML(value='')))"
      ]
     },
     "metadata": {},
     "output_type": "display_data"
    },
    {
     "name": "stderr",
     "output_type": "stream",
     "text": [
      "steps: 100%|██████████| 51/51 [00:00<00:00, 255.48it/s]"
     ]
    },
    {
     "name": "stdout",
     "output_type": "stream",
     "text": [
      "\n"
     ]
    },
    {
     "name": "stderr",
     "output_type": "stream",
     "text": [
      "\n"
     ]
    },
    {
     "name": "stdout",
     "output_type": "stream",
     "text": [
      "\r",
      "epoch : 26, tr_loss:  0.473461, val_loss: 0.427, tr_acc: 70.87%, val_acc: 73.35%\n"
     ]
    },
    {
     "data": {
      "application/vnd.jupyter.widget-view+json": {
       "model_id": "88119ff925c949879ab4e5e764fa27f2",
       "version_major": 2,
       "version_minor": 0
      },
      "text/plain": [
       "HBox(children=(HTML(value='steps'), FloatProgress(value=0.0, max=3006.0), HTML(value='')))"
      ]
     },
     "metadata": {},
     "output_type": "display_data"
    },
    {
     "name": "stderr",
     "output_type": "stream",
     "text": [
      "steps: 100%|██████████| 51/51 [00:00<00:00, 260.11it/s]\n"
     ]
    },
    {
     "name": "stdout",
     "output_type": "stream",
     "text": [
      "\r",
      "\r",
      "global_Step: 80000, tr_loss: 0.470940, val_loss: 0.426941\n"
     ]
    },
    {
     "name": "stderr",
     "output_type": "stream",
     "text": [
      "steps:  47%|████▋     | 24/51 [00:00<00:00, 237.95it/s]"
     ]
    },
    {
     "name": "stdout",
     "output_type": "stream",
     "text": [
      "\n"
     ]
    },
    {
     "name": "stderr",
     "output_type": "stream",
     "text": [
      "steps: 100%|██████████| 51/51 [00:00<00:00, 234.76it/s]"
     ]
    },
    {
     "name": "stdout",
     "output_type": "stream",
     "text": [
      "\r",
      "epoch : 27, tr_loss:  0.471510, val_loss: 0.427, tr_acc: 70.94%, val_acc: 73.07%\n"
     ]
    },
    {
     "name": "stderr",
     "output_type": "stream",
     "text": [
      "\n"
     ]
    },
    {
     "data": {
      "application/vnd.jupyter.widget-view+json": {
       "model_id": "870047871a584c4e9c6e036cfd35818a",
       "version_major": 2,
       "version_minor": 0
      },
      "text/plain": [
       "HBox(children=(HTML(value='steps'), FloatProgress(value=0.0, max=3006.0), HTML(value='')))"
      ]
     },
     "metadata": {},
     "output_type": "display_data"
    },
    {
     "name": "stderr",
     "output_type": "stream",
     "text": [
      "steps:  45%|████▌     | 23/51 [00:00<00:00, 222.05it/s]"
     ]
    },
    {
     "name": "stdout",
     "output_type": "stream",
     "text": [
      "\n"
     ]
    },
    {
     "name": "stderr",
     "output_type": "stream",
     "text": [
      "steps: 100%|██████████| 51/51 [00:00<00:00, 226.52it/s]\n"
     ]
    },
    {
     "name": "stdout",
     "output_type": "stream",
     "text": [
      "\r",
      "epoch : 28, tr_loss:  0.469413, val_loss: 0.426, tr_acc: 71.08%, val_acc: 72.98%\n"
     ]
    },
    {
     "data": {
      "application/vnd.jupyter.widget-view+json": {
       "model_id": "0927115433094680823265d211fdb554",
       "version_major": 2,
       "version_minor": 0
      },
      "text/plain": [
       "HBox(children=(HTML(value='steps'), FloatProgress(value=0.0, max=3006.0), HTML(value='')))"
      ]
     },
     "metadata": {},
     "output_type": "display_data"
    },
    {
     "name": "stderr",
     "output_type": "stream",
     "text": [
      "steps:  49%|████▉     | 25/51 [00:00<00:00, 240.61it/s]"
     ]
    },
    {
     "name": "stdout",
     "output_type": "stream",
     "text": [
      "\n"
     ]
    },
    {
     "name": "stderr",
     "output_type": "stream",
     "text": [
      "steps: 100%|██████████| 51/51 [00:00<00:00, 238.49it/s]\n"
     ]
    },
    {
     "name": "stdout",
     "output_type": "stream",
     "text": [
      "\r",
      "epoch : 29, tr_loss:  0.468582, val_loss: 0.426, tr_acc: 71.25%, val_acc: 73.07%\n"
     ]
    },
    {
     "data": {
      "application/vnd.jupyter.widget-view+json": {
       "model_id": "ab8a3c19c11642628c7745740fe61e09",
       "version_major": 2,
       "version_minor": 0
      },
      "text/plain": [
       "HBox(children=(HTML(value='steps'), FloatProgress(value=0.0, max=3006.0), HTML(value='')))"
      ]
     },
     "metadata": {},
     "output_type": "display_data"
    },
    {
     "name": "stderr",
     "output_type": "stream",
     "text": [
      "steps: 100%|██████████| 51/51 [00:00<00:00, 265.46it/s]\n"
     ]
    },
    {
     "name": "stdout",
     "output_type": "stream",
     "text": [
      "\r",
      "\r",
      "global_Step: 90000, tr_loss: 0.467388, val_loss: 0.423310\n"
     ]
    },
    {
     "name": "stderr",
     "output_type": "stream",
     "text": [
      "steps:  41%|████      | 21/51 [00:00<00:00, 208.65it/s]"
     ]
    },
    {
     "name": "stdout",
     "output_type": "stream",
     "text": [
      "\n"
     ]
    },
    {
     "name": "stderr",
     "output_type": "stream",
     "text": [
      "steps: 100%|██████████| 51/51 [00:00<00:00, 223.04it/s]"
     ]
    },
    {
     "name": "stdout",
     "output_type": "stream",
     "text": [
      "\r",
      "epoch : 30, tr_loss:  0.466988, val_loss: 0.429, tr_acc: 71.36%, val_acc: 72.77%\n",
      "\n"
     ]
    },
    {
     "name": "stderr",
     "output_type": "stream",
     "text": [
      "\n"
     ]
    }
   ],
   "source": [
    "best_val_loss = 1e+10\n",
    "train_acc = []\n",
    "valid_acc = []\n",
    "train_losses = []\n",
    "valid_losses = []\n",
    "x_error_check = []\n",
    "\n",
    "for epoch in tqdm(range(args.epochs), desc='epochs'):\n",
    "    tr_loss = 0\n",
    "    tr_acc = 0\n",
    "    model.train()\n",
    "    \n",
    "    for step, mb in tqdm(enumerate(tr_dl), desc='steps', total=len(tr_dl)):\n",
    "        x_mb, y_mb = map(lambda elm: elm.to(device), mb)\n",
    "        \n",
    "        x_error_check.append(x_mb)\n",
    "        if len(x_error_check) > 2:\n",
    "            del x_error_check[0]\n",
    "        \n",
    "        optimizer.zero_grad()\n",
    "        y_hat_mb = model(x_mb)\n",
    "        loss = loss_fn(y_hat_mb, y_mb)\n",
    "        loss.backward()\n",
    "        optimizer.step()\n",
    "        \n",
    "        with torch.no_grad():\n",
    "            mb_acc = acc(y_hat_mb, y_mb)\n",
    "        \n",
    "        clip_gradient(model, 1e-1)\n",
    "        \n",
    "        tr_loss += loss.item()\n",
    "        tr_acc += mb_acc.item()\n",
    "        \n",
    "        if (epoch*len(tr_dl)+step) % args.summary_step == 0:\n",
    "            val_loss = evaluate(model, val_dl, {'loss':loss_fn}, device)['loss']\n",
    "            writer.add_scalars('loss', {'train': tr_loss / (step + 1), 'val': val_loss}, epoch*len(tr_dl) + step)\n",
    "            tqdm.write('global_Step: {:3}, tr_loss: {:3f}, val_loss: {:3f}'.format(epoch* len(tr_dl) + step,\n",
    "                                                                                       tr_loss / (step + 1),\n",
    "                                                                                       val_loss))\n",
    "            model.train()\n",
    "    \n",
    "    else:\n",
    "        tr_loss  /= (step + 1)\n",
    "        tr_acc /= (step + 1)\n",
    "        train_losses.append(tr_loss)\n",
    "        train_acc.append(tr_acc)\n",
    "        \n",
    "        tr_sum = {'loss': tr_loss, 'acc': tr_acc}\n",
    "        val_sum = evaluate(model, val_dl, {'loss': loss_fn, 'acc': acc}, device)\n",
    "        tqdm.write('epoch : {}, tr_loss: {: 3f}, val_loss: '\n",
    "                       '{:.3f}, tr_acc: {:.2%}, val_acc: {:.2%}'.format(epoch+1, tr_sum['loss'], val_sum['loss'],\n",
    "                                                                        tr_sum['acc'], val_sum['acc']))\n",
    "        \n",
    "        val_loss = val_sum['loss']\n",
    "        valid_losses.append(val_loss)\n",
    "        valid_acc.append(val_sum['acc'])\n",
    "        is_best = val_loss < best_val_loss\n",
    "        \n",
    "        if is_best:\n",
    "            state = {\n",
    "                'epoch': epoch+1, \n",
    "                'model_state_dict': model.state_dict(), \n",
    "                'opt_state_dict': optimizer.state_dict()\n",
    "            }\n",
    "            summary = {'tr': tr_sum, 'val': val_sum}\n",
    "            summary_manager.update(summary)\n",
    "            summary_manager.save('summary.json')\n",
    "            checkpoint_manager.save_checkpoint(state, 'best.tar')\n",
    "            best_val_loss = val_loss"
   ]
  },
  {
   "cell_type": "markdown",
   "id": "ba3e9478",
   "metadata": {},
   "source": [
    "    Issue) 갑자기 아래의 에러가 나는 경우\n",
    "    \n",
    "    (Expected tensor for argument #1 'indices' to have scalar type Long; but got torch.cuda.FloatTensor instead \n",
    "     while checking arguments for embedding)\n",
    "    \n",
    "    tr_dl 에서 나오는 index가 갑자기 소수점으로 바뀌는 경우가 있음. \n",
    "    위 에러가 뜬 뒤, x_mb.dtype 을 해보면 데이터 타입이 torch.float32 로 바뀌어 있음.\n",
    "    아마, batch 의 첫 번째 row가 empty일때, 이를 빼고 계산한뒤 다시 복구시킬때 gpu 에서 소수점으로 반환하는듯\n",
    "    \n",
    "    해결) 데이터 전처리시, punctuation 을 제거하지 않음. 문장중에 . 혹은 ? 만 있는 문장이 있기 때문에 empty sentence가 생김"
   ]
  },
  {
   "cell_type": "code",
   "execution_count": 19,
   "id": "7c4f56aa",
   "metadata": {},
   "outputs": [
    {
     "data": {
      "text/plain": [
       "{'tr': {'loss': 0.4685822755435428, 'acc': 0.7124656936127745},\n",
       " 'val': {'loss': 0.4264151770211665, 'acc': 0.7307457212713936}}"
      ]
     },
     "execution_count": 19,
     "metadata": {},
     "output_type": "execute_result"
    }
   ],
   "source": [
    "summary"
   ]
  },
  {
   "cell_type": "code",
   "execution_count": 20,
   "id": "853a20e0",
   "metadata": {},
   "outputs": [
    {
     "data": {
      "image/png": "[encoded data removed]",
      "text/plain": [
       "<Figure size 720x576 with 1 Axes>"
      ]
     },
     "metadata": {
      "needs_background": "light"
     },
     "output_type": "display_data"
    }
   ],
   "source": [
    "fig = plt.figure(figsize=(10,8))\n",
    "plt.plot(range(1, len(train_losses)+1), train_losses, label='Training Loss')\n",
    "plt.plot(range(1, len(valid_losses)+1), valid_losses, label='Validation Loss')\n",
    "\n",
    "minposs = valid_losses.index(min(valid_losses))+1\n",
    "plt.axvline(minposs, linestyle='dotted', color='r',label='Best Model Checkpoint')\n",
    "\n",
    "plt.title('Loss Curve')\n",
    "plt.xlabel('epochs')\n",
    "plt.ylabel('loss')\n",
    "plt.grid(True)\n",
    "plt.legend()\n",
    "plt.tight_layout()\n",
    "plt.show()\n",
    "fig.savefig(f'{save_dir}/loss_plot.png', bbox_inches = 'tight')"
   ]
  },
  {
   "cell_type": "code",
   "execution_count": 21,
   "id": "cdd2f33d",
   "metadata": {},
   "outputs": [
    {
     "data": {
      "image/png": "[encoded data removed]",
      "text/plain": [
       "<Figure size 720x576 with 1 Axes>"
      ]
     },
     "metadata": {
      "needs_background": "light"
     },
     "output_type": "display_data"
    }
   ],
   "source": [
    "fig = plt.figure(figsize=(10,8))\n",
    "plt.plot(range(1,len(train_acc)+1), train_acc, label='Training Accuracy')\n",
    "plt.plot(range(1,len(valid_acc)+1), valid_acc, label='Validation Accuracy')\n",
    "\n",
    "minposs = valid_losses.index(min(valid_losses))+1\n",
    "plt.axvline(minposs, linestyle='--', color='r',label='Best Model Checkpoint')\n",
    "\n",
    "plt.title('Accuracy Plot')\n",
    "plt.xlabel('epochs')\n",
    "plt.ylabel('accuracy')\n",
    "plt.grid(True)\n",
    "plt.legend()\n",
    "plt.tight_layout()\n",
    "plt.show()\n",
    "fig.savefig(f'{save_dir}/accuracy_plot.png', bbox_inches = 'tight')"
   ]
  },
  {
   "cell_type": "markdown",
   "id": "5a0a0d2a",
   "metadata": {},
   "source": [
    "## Evaluate"
   ]
  },
  {
   "cell_type": "code",
   "execution_count": 22,
   "id": "acad5f01",
   "metadata": {},
   "outputs": [],
   "source": [
    "# with open(data_dir / pretrained_embeddings_name, 'rb') as f:\n",
    "#     pretrained_embeddings = pickle.load(f)\n",
    "    \n",
    "with open(data_dir / token2idx_name, 'r') as f:\n",
    "    token2idx = json.load(f)\n",
    "    \n",
    "with open(data_dir / label2idx_name, 'r') as f:\n",
    "    label2idx = json.load(f)\n",
    "    \n",
    "with open(data_dir / config_name, 'r') as f:\n",
    "    config = json.load(f)\n",
    "    \n",
    "idx2token = {i:t for t,i in token2idx.items()}\n",
    "idx2label = {i:l for l,i in label2idx.items()}\n",
    "\n",
    "learning_rate = args.lr\n",
    "batch_size = 1\n",
    "vocab_size = len(token2idx)\n",
    "embedding_dim = args.embedding_dim\n",
    "hidden_size = args.hidden_size\n",
    "output_size = len(label2idx)\n",
    "n_layers = args.n_layers\n",
    "dropout = 0.7\n",
    "\n",
    "device = torch.device(\"cuda\" if torch.cuda.is_available() else \"cpu\")\n",
    "model = LSTMClassifier(batch_size, output_size, hidden_size, vocab_size, n_layers, embedding_dim, device,\n",
    "                       bidirectional=True) #, weights=torch.from_numpy(pretrained_embeddings))\n",
    "\n",
    "model.to(device)\n",
    "loss_fn = LSR(epsilon=0.1, num_classes=output_size)"
   ]
  },
  {
   "cell_type": "code",
   "execution_count": 23,
   "id": "b75d8722",
   "metadata": {},
   "outputs": [
    {
     "data": {
      "text/plain": [
       "<All keys matched successfully>"
      ]
     },
     "execution_count": 23,
     "metadata": {},
     "output_type": "execute_result"
    }
   ],
   "source": [
    "writer = SummaryWriter(f'{save_dir}/runs')\n",
    "checkpoint_manager = CheckpointManager(save_dir)\n",
    "summary_manager = SummaryManager(save_dir)\n",
    "\n",
    "ckpt = checkpoint_manager.load_checkpoint('best.tar')\n",
    "model.load_state_dict(ckpt['model_state_dict'])"
   ]
  },
  {
   "cell_type": "code",
   "execution_count": 23,
   "id": "87d48cbb",
   "metadata": {},
   "outputs": [],
   "source": [
    "test_data = pd.read_csv(data_dir / test_data_name, header=None, sep='|', names=['speaker','utterance','tag'])\n",
    "\n",
    "x_test, y_test = test_data['utterance'], test_data['tag']\n",
    "\n",
    "text_preprocess_pipeline = [sent_tokenize, stemming]\n",
    "x_test = x_test.apply(preprocess_text, processing_function_list=text_preprocess_pipeline)\n",
    "\n",
    "x_test = list(convert_token_to_idx(x_test, token2idx))\n",
    "y_test = list(convert_label_to_idx(y_test, label2idx))\n",
    "\n",
    "test_ds = DAdataset(x_test, y_test)\n",
    "test_dl = DataLoader(test_ds, batch_size=1, collate_fn=test_ds.collate_fn, drop_last=False)"
   ]
  },
  {
   "cell_type": "code",
   "execution_count": 24,
   "id": "47bb677e",
   "metadata": {},
   "outputs": [
    {
     "name": "stderr",
     "output_type": "stream",
     "text": [
      "steps: 100%|██████████| 4078/4078 [00:04<00:00, 845.92it/s]"
     ]
    },
    {
     "name": "stdout",
     "output_type": "stream",
     "text": [
      "loss: 1.250285, acc: 0.42%\n"
     ]
    },
    {
     "name": "stderr",
     "output_type": "stream",
     "text": [
      "\n"
     ]
    }
   ],
   "source": [
    "summ = evaluate(model, test_dl, {'loss': loss_fn, 'acc': acc}, device)\n",
    "\n",
    "summary_manager = SummaryManager(save_dir)\n",
    "summary_manager.load('summary.json')\n",
    "summary_manager.update(summ)\n",
    "summary_manager.save('summary.json')\n",
    "\n",
    "print('loss: {:3f}, acc: {:.2%}'.format(summ['loss'], summ['acc']))"
   ]
  },
  {
   "cell_type": "markdown",
   "id": "4d2227fd",
   "metadata": {},
   "source": [
    "### Make predictions"
   ]
  },
  {
   "cell_type": "code",
   "execution_count": 25,
   "id": "a1c032fc",
   "metadata": {},
   "outputs": [
    {
     "name": "stderr",
     "output_type": "stream",
     "text": [
      "steps: 100%|██████████| 4078/4078 [00:03<00:00, 1179.29it/s]\n"
     ]
    }
   ],
   "source": [
    "y_temp = [0]*len(x_test)\n",
    "test_ds = DAdataset(x_test, y_temp)\n",
    "test_dl = DataLoader(test_ds, batch_size=1) #, collate_fn=test_ds.collate_fn, shuffle=False, drop_last=False)\n",
    "predicates = predicate(model, test_dl, device)"
   ]
  },
  {
   "cell_type": "code",
   "execution_count": 26,
   "id": "19f0b4a1",
   "metadata": {},
   "outputs": [
    {
     "data": {
      "text/html": [
       "<div>\n",
       "<style scoped>\n",
       "    .dataframe tbody tr th:only-of-type {\n",
       "        vertical-align: middle;\n",
       "    }\n",
       "\n",
       "    .dataframe tbody tr th {\n",
       "        vertical-align: top;\n",
       "    }\n",
       "\n",
       "    .dataframe thead th {\n",
       "        text-align: right;\n",
       "    }\n",
       "</style>\n",
       "<table border=\"1\" class=\"dataframe\">\n",
       "  <thead>\n",
       "    <tr style=\"text-align: right;\">\n",
       "      <th></th>\n",
       "      <th>speaker</th>\n",
       "      <th>utterance</th>\n",
       "      <th>tag</th>\n",
       "      <th>prediction</th>\n",
       "    </tr>\n",
       "  </thead>\n",
       "  <tbody>\n",
       "    <tr>\n",
       "      <th>0</th>\n",
       "      <td>A</td>\n",
       "      <td>Okay, uh,</td>\n",
       "      <td>fo_o_fw_\"_by_bc</td>\n",
       "      <td>qw</td>\n",
       "    </tr>\n",
       "    <tr>\n",
       "      <th>1</th>\n",
       "      <td>A</td>\n",
       "      <td>could you tell me what you think contributes m...</td>\n",
       "      <td>qw</td>\n",
       "      <td>qrr</td>\n",
       "    </tr>\n",
       "    <tr>\n",
       "      <th>2</th>\n",
       "      <td>B</td>\n",
       "      <td>Well, it's hard to say.</td>\n",
       "      <td>^h</td>\n",
       "      <td>qw^d</td>\n",
       "    </tr>\n",
       "    <tr>\n",
       "      <th>3</th>\n",
       "      <td>B</td>\n",
       "      <td>I mean, while it's certainly the case that thi...</td>\n",
       "      <td>sv</td>\n",
       "      <td>qw^d</td>\n",
       "    </tr>\n",
       "    <tr>\n",
       "      <th>4</th>\n",
       "      <td>B</td>\n",
       "      <td>What do you think?</td>\n",
       "      <td>qo</td>\n",
       "      <td>qrr</td>\n",
       "    </tr>\n",
       "    <tr>\n",
       "      <th>5</th>\n",
       "      <td>A</td>\n",
       "      <td>Um, well, you talked about, uh, volcanos.</td>\n",
       "      <td>sd</td>\n",
       "      <td>qw^d</td>\n",
       "    </tr>\n",
       "    <tr>\n",
       "      <th>6</th>\n",
       "      <td>A</td>\n",
       "      <td>I'm not sure how many active volcanos there ar...</td>\n",
       "      <td>sd</td>\n",
       "      <td>no</td>\n",
       "    </tr>\n",
       "    <tr>\n",
       "      <th>7</th>\n",
       "      <td>A</td>\n",
       "      <td>I think probably the greatest cause is, uh, ve...</td>\n",
       "      <td>sv</td>\n",
       "      <td>no</td>\n",
       "    </tr>\n",
       "    <tr>\n",
       "      <th>8</th>\n",
       "      <td>B</td>\n",
       "      <td>Uh-huh.</td>\n",
       "      <td>b</td>\n",
       "      <td>ng</td>\n",
       "    </tr>\n",
       "    <tr>\n",
       "      <th>9</th>\n",
       "      <td>A</td>\n",
       "      <td>Um, uh, do you live right in the city itself?</td>\n",
       "      <td>qy</td>\n",
       "      <td>qw^d</td>\n",
       "    </tr>\n",
       "    <tr>\n",
       "      <th>10</th>\n",
       "      <td>B</td>\n",
       "      <td>No,</td>\n",
       "      <td>nn</td>\n",
       "      <td>qw^d</td>\n",
       "    </tr>\n",
       "    <tr>\n",
       "      <th>11</th>\n",
       "      <td>B</td>\n",
       "      <td>I'm more out in the suburbs,</td>\n",
       "      <td>sd</td>\n",
       "      <td>ng</td>\n",
       "    </tr>\n",
       "    <tr>\n",
       "      <th>12</th>\n",
       "      <td>B</td>\n",
       "      <td>but I certainly work near a city.</td>\n",
       "      <td>sd</td>\n",
       "      <td>ng</td>\n",
       "    </tr>\n",
       "    <tr>\n",
       "      <th>13</th>\n",
       "      <td>A</td>\n",
       "      <td>Okay,</td>\n",
       "      <td>bk</td>\n",
       "      <td>ar</td>\n",
       "    </tr>\n",
       "    <tr>\n",
       "      <th>14</th>\n",
       "      <td>A</td>\n",
       "      <td>so Can you notice,</td>\n",
       "      <td>qy</td>\n",
       "      <td>ba</td>\n",
       "    </tr>\n",
       "    <tr>\n",
       "      <th>15</th>\n",
       "      <td>B</td>\n",
       "      <td>How about you?</td>\n",
       "      <td>qo</td>\n",
       "      <td>bf</td>\n",
       "    </tr>\n",
       "    <tr>\n",
       "      <th>16</th>\n",
       "      <td>A</td>\n",
       "      <td>well it's, it's,</td>\n",
       "      <td>%</td>\n",
       "      <td>qrr</td>\n",
       "    </tr>\n",
       "    <tr>\n",
       "      <th>17</th>\n",
       "      <td>A</td>\n",
       "      <td>I live in a rural area.</td>\n",
       "      <td>sd</td>\n",
       "      <td>ng</td>\n",
       "    </tr>\n",
       "    <tr>\n",
       "      <th>18</th>\n",
       "      <td>B</td>\n",
       "      <td>Uh-huh.</td>\n",
       "      <td>b</td>\n",
       "      <td>ng</td>\n",
       "    </tr>\n",
       "    <tr>\n",
       "      <th>19</th>\n",
       "      <td>A</td>\n",
       "      <td>It's mainly farms and, uh, no heavy industry.</td>\n",
       "      <td>sd</td>\n",
       "      <td>qw</td>\n",
       "    </tr>\n",
       "    <tr>\n",
       "      <th>20</th>\n",
       "      <td>A</td>\n",
       "      <td>Attleboro, itself,</td>\n",
       "      <td>sd</td>\n",
       "      <td>h</td>\n",
       "    </tr>\n",
       "    <tr>\n",
       "      <th>21</th>\n",
       "      <td>A</td>\n",
       "      <td>I live in Rhode Island.</td>\n",
       "      <td>sd</td>\n",
       "      <td>ng</td>\n",
       "    </tr>\n",
       "    <tr>\n",
       "      <th>22</th>\n",
       "      <td>B</td>\n",
       "      <td>Oh, I see.</td>\n",
       "      <td>b</td>\n",
       "      <td>qw^d</td>\n",
       "    </tr>\n",
       "    <tr>\n",
       "      <th>23</th>\n",
       "      <td>A</td>\n",
       "      <td>And, it's in the north,</td>\n",
       "      <td>sd</td>\n",
       "      <td>aap_am</td>\n",
       "    </tr>\n",
       "    <tr>\n",
       "      <th>24</th>\n",
       "      <td>A</td>\n",
       "      <td>I live up in the, uh, northeast corner</td>\n",
       "      <td>sd</td>\n",
       "      <td>ng</td>\n",
       "    </tr>\n",
       "    <tr>\n",
       "      <th>25</th>\n",
       "      <td>A</td>\n",
       "      <td>and Attleboro sits in just over the line, wher...</td>\n",
       "      <td>sd</td>\n",
       "      <td>aap_am</td>\n",
       "    </tr>\n",
       "    <tr>\n",
       "      <th>26</th>\n",
       "      <td>B</td>\n",
       "      <td>Uh-huh.</td>\n",
       "      <td>b</td>\n",
       "      <td>ng</td>\n",
       "    </tr>\n",
       "    <tr>\n",
       "      <th>27</th>\n",
       "      <td>A</td>\n",
       "      <td>but there isn't a lot of heavy industry.</td>\n",
       "      <td>sd</td>\n",
       "      <td>aap_am</td>\n",
       "    </tr>\n",
       "    <tr>\n",
       "      <th>28</th>\n",
       "      <td>A</td>\n",
       "      <td>There's the freeways</td>\n",
       "      <td>sd</td>\n",
       "      <td>qw^d</td>\n",
       "    </tr>\n",
       "    <tr>\n",
       "      <th>29</th>\n",
       "      <td>A</td>\n",
       "      <td>and we get an occasional,</td>\n",
       "      <td>sd</td>\n",
       "      <td>aap_am</td>\n",
       "    </tr>\n",
       "    <tr>\n",
       "      <th>30</th>\n",
       "      <td>A</td>\n",
       "      <td>it depends which way the wind's blowing from B...</td>\n",
       "      <td>sd</td>\n",
       "      <td>bf</td>\n",
       "    </tr>\n",
       "    <tr>\n",
       "      <th>31</th>\n",
       "      <td>A</td>\n",
       "      <td>so we'll pick up that.</td>\n",
       "      <td>sd</td>\n",
       "      <td>ba</td>\n",
       "    </tr>\n",
       "    <tr>\n",
       "      <th>32</th>\n",
       "      <td>A</td>\n",
       "      <td>And, uh, I've noticed over the past say, maybe...</td>\n",
       "      <td>sd</td>\n",
       "      <td>aap_am</td>\n",
       "    </tr>\n",
       "    <tr>\n",
       "      <th>33</th>\n",
       "      <td>A</td>\n",
       "      <td>we live about twenty miles away from the state...</td>\n",
       "      <td>sd</td>\n",
       "      <td>qrr</td>\n",
       "    </tr>\n",
       "    <tr>\n",
       "      <th>34</th>\n",
       "      <td>A</td>\n",
       "      <td>and I notice that the fly patterns now of the ...</td>\n",
       "      <td>sd</td>\n",
       "      <td>fc</td>\n",
       "    </tr>\n",
       "    <tr>\n",
       "      <th>35</th>\n",
       "      <td>A</td>\n",
       "      <td>they're swinging wider so that now they are co...</td>\n",
       "      <td>sd</td>\n",
       "      <td>ng</td>\n",
       "    </tr>\n",
       "    <tr>\n",
       "      <th>36</th>\n",
       "      <td>B</td>\n",
       "      <td>Uh-huh.</td>\n",
       "      <td>b</td>\n",
       "      <td>ng</td>\n",
       "    </tr>\n",
       "    <tr>\n",
       "      <th>37</th>\n",
       "      <td>A</td>\n",
       "      <td>And, it seems like, uh, we're catching all tha...</td>\n",
       "      <td>sv</td>\n",
       "      <td>aap_am</td>\n",
       "    </tr>\n",
       "    <tr>\n",
       "      <th>38</th>\n",
       "      <td>A</td>\n",
       "      <td>I'm not sure if it's kerosene or what that's d...</td>\n",
       "      <td>sd</td>\n",
       "      <td>fc</td>\n",
       "    </tr>\n",
       "    <tr>\n",
       "      <th>39</th>\n",
       "      <td>A</td>\n",
       "      <td>But, other than that, you know, we don't have ...</td>\n",
       "      <td>sd</td>\n",
       "      <td>aap_am</td>\n",
       "    </tr>\n",
       "    <tr>\n",
       "      <th>40</th>\n",
       "      <td>B</td>\n",
       "      <td>Yeah.</td>\n",
       "      <td>b</td>\n",
       "      <td>ng</td>\n",
       "    </tr>\n",
       "    <tr>\n",
       "      <th>41</th>\n",
       "      <td>B</td>\n",
       "      <td>You mean like from the coal.</td>\n",
       "      <td>bf</td>\n",
       "      <td>%</td>\n",
       "    </tr>\n",
       "    <tr>\n",
       "      <th>42</th>\n",
       "      <td>A</td>\n",
       "      <td>Yeah,</td>\n",
       "      <td>ny</td>\n",
       "      <td>ng</td>\n",
       "    </tr>\n",
       "    <tr>\n",
       "      <th>43</th>\n",
       "      <td>A</td>\n",
       "      <td>yeah,</td>\n",
       "      <td>ny</td>\n",
       "      <td>ng</td>\n",
       "    </tr>\n",
       "    <tr>\n",
       "      <th>44</th>\n",
       "      <td>A</td>\n",
       "      <td>we generate,</td>\n",
       "      <td>sd</td>\n",
       "      <td>ar</td>\n",
       "    </tr>\n",
       "    <tr>\n",
       "      <th>45</th>\n",
       "      <td>A</td>\n",
       "      <td>one of our, our biggest electrical plants in R...</td>\n",
       "      <td>sd</td>\n",
       "      <td>aap_am</td>\n",
       "    </tr>\n",
       "    <tr>\n",
       "      <th>46</th>\n",
       "      <td>B</td>\n",
       "      <td>Um,</td>\n",
       "      <td>%</td>\n",
       "      <td>arp_nd</td>\n",
       "    </tr>\n",
       "    <tr>\n",
       "      <th>47</th>\n",
       "      <td>A</td>\n",
       "      <td>Um, there doesn't seem to be much emission fro...</td>\n",
       "      <td>sv</td>\n",
       "      <td>arp_nd</td>\n",
       "    </tr>\n",
       "    <tr>\n",
       "      <th>48</th>\n",
       "      <td>A</td>\n",
       "      <td>but I'm not sure about the rest of the country.</td>\n",
       "      <td>sd</td>\n",
       "      <td>^h</td>\n",
       "    </tr>\n",
       "    <tr>\n",
       "      <th>49</th>\n",
       "      <td>B</td>\n",
       "      <td>Yeah,</td>\n",
       "      <td>b</td>\n",
       "      <td>ng</td>\n",
       "    </tr>\n",
       "  </tbody>\n",
       "</table>\n",
       "</div>"
      ],
      "text/plain": [
       "   speaker                                          utterance  \\\n",
       "0        A                                          Okay, uh,   \n",
       "1        A  could you tell me what you think contributes m...   \n",
       "2        B                            Well, it's hard to say.   \n",
       "3        B  I mean, while it's certainly the case that thi...   \n",
       "4        B                                 What do you think?   \n",
       "5        A          Um, well, you talked about, uh, volcanos.   \n",
       "6        A  I'm not sure how many active volcanos there ar...   \n",
       "7        A  I think probably the greatest cause is, uh, ve...   \n",
       "8        B                                            Uh-huh.   \n",
       "9        A      Um, uh, do you live right in the city itself?   \n",
       "10       B                                                No,   \n",
       "11       B                       I'm more out in the suburbs,   \n",
       "12       B                  but I certainly work near a city.   \n",
       "13       A                                              Okay,   \n",
       "14       A                                 so Can you notice,   \n",
       "15       B                                     How about you?   \n",
       "16       A                                   well it's, it's,   \n",
       "17       A                            I live in a rural area.   \n",
       "18       B                                            Uh-huh.   \n",
       "19       A      It's mainly farms and, uh, no heavy industry.   \n",
       "20       A                                 Attleboro, itself,   \n",
       "21       A                            I live in Rhode Island.   \n",
       "22       B                                         Oh, I see.   \n",
       "23       A                            And, it's in the north,   \n",
       "24       A             I live up in the, uh, northeast corner   \n",
       "25       A  and Attleboro sits in just over the line, wher...   \n",
       "26       B                                            Uh-huh.   \n",
       "27       A           but there isn't a lot of heavy industry.   \n",
       "28       A                               There's the freeways   \n",
       "29       A                          and we get an occasional,   \n",
       "30       A  it depends which way the wind's blowing from B...   \n",
       "31       A                             so we'll pick up that.   \n",
       "32       A  And, uh, I've noticed over the past say, maybe...   \n",
       "33       A  we live about twenty miles away from the state...   \n",
       "34       A  and I notice that the fly patterns now of the ...   \n",
       "35       A  they're swinging wider so that now they are co...   \n",
       "36       B                                            Uh-huh.   \n",
       "37       A  And, it seems like, uh, we're catching all tha...   \n",
       "38       A  I'm not sure if it's kerosene or what that's d...   \n",
       "39       A  But, other than that, you know, we don't have ...   \n",
       "40       B                                              Yeah.   \n",
       "41       B                       You mean like from the coal.   \n",
       "42       A                                              Yeah,   \n",
       "43       A                                              yeah,   \n",
       "44       A                                       we generate,   \n",
       "45       A  one of our, our biggest electrical plants in R...   \n",
       "46       B                                                Um,   \n",
       "47       A  Um, there doesn't seem to be much emission fro...   \n",
       "48       A    but I'm not sure about the rest of the country.   \n",
       "49       B                                              Yeah,   \n",
       "\n",
       "                tag prediction  \n",
       "0   fo_o_fw_\"_by_bc         qw  \n",
       "1                qw        qrr  \n",
       "2                ^h       qw^d  \n",
       "3                sv       qw^d  \n",
       "4                qo        qrr  \n",
       "5                sd       qw^d  \n",
       "6                sd         no  \n",
       "7                sv         no  \n",
       "8                 b         ng  \n",
       "9                qy       qw^d  \n",
       "10               nn       qw^d  \n",
       "11               sd         ng  \n",
       "12               sd         ng  \n",
       "13               bk         ar  \n",
       "14               qy         ba  \n",
       "15               qo         bf  \n",
       "16                %        qrr  \n",
       "17               sd         ng  \n",
       "18                b         ng  \n",
       "19               sd         qw  \n",
       "20               sd          h  \n",
       "21               sd         ng  \n",
       "22                b       qw^d  \n",
       "23               sd     aap_am  \n",
       "24               sd         ng  \n",
       "25               sd     aap_am  \n",
       "26                b         ng  \n",
       "27               sd     aap_am  \n",
       "28               sd       qw^d  \n",
       "29               sd     aap_am  \n",
       "30               sd         bf  \n",
       "31               sd         ba  \n",
       "32               sd     aap_am  \n",
       "33               sd        qrr  \n",
       "34               sd         fc  \n",
       "35               sd         ng  \n",
       "36                b         ng  \n",
       "37               sv     aap_am  \n",
       "38               sd         fc  \n",
       "39               sd     aap_am  \n",
       "40                b         ng  \n",
       "41               bf          %  \n",
       "42               ny         ng  \n",
       "43               ny         ng  \n",
       "44               sd         ar  \n",
       "45               sd     aap_am  \n",
       "46                %     arp_nd  \n",
       "47               sv     arp_nd  \n",
       "48               sd         ^h  \n",
       "49                b         ng  "
      ]
     },
     "execution_count": 26,
     "metadata": {},
     "output_type": "execute_result"
    }
   ],
   "source": [
    "y_pred = [idx2label[p] for p in predicates]\n",
    "test_data['prediction'] = y_pred\n",
    "test_data.head(50)"
   ]
  },
  {
   "cell_type": "code",
   "execution_count": 30,
   "id": "d2d3700e",
   "metadata": {},
   "outputs": [
    {
     "data": {
      "text/plain": [
       "0       fo_o_fw_\"_by_bc\n",
       "1                    qw\n",
       "2                    ^h\n",
       "3                    sv\n",
       "4                    qo\n",
       "             ...       \n",
       "4073                 fc\n",
       "4074                 fc\n",
       "4075                 fc\n",
       "4076                 fc\n",
       "4077                 fc\n",
       "Name: tag, Length: 4078, dtype: object"
      ]
     },
     "execution_count": 30,
     "metadata": {},
     "output_type": "execute_result"
    }
   ],
   "source": [
    "test_data['tag']"
   ]
  },
  {
   "cell_type": "code",
   "execution_count": 33,
   "id": "cc312fc3",
   "metadata": {},
   "outputs": [
    {
     "data": {
      "text/plain": [
       "['qw',\n",
       " 'qrr',\n",
       " 'qw^d',\n",
       " 'qw^d',\n",
       " 'qrr',\n",
       " 'qw^d',\n",
       " 'no',\n",
       " 'no',\n",
       " 'ng',\n",
       " 'qw^d',\n",
       " 'qw^d',\n",
       " 'ng',\n",
       " 'ng',\n",
       " 'ar',\n",
       " 'ba',\n",
       " 'bf',\n",
       " 'qrr',\n",
       " 'ng',\n",
       " 'ng',\n",
       " 'qw',\n",
       " 'h',\n",
       " 'ng',\n",
       " 'qw^d',\n",
       " 'aap_am',\n",
       " 'ng',\n",
       " 'aap_am',\n",
       " 'ng',\n",
       " 'aap_am',\n",
       " 'qw^d',\n",
       " 'aap_am',\n",
       " 'bf',\n",
       " 'ba',\n",
       " 'aap_am',\n",
       " 'qrr',\n",
       " 'fc',\n",
       " 'ng',\n",
       " 'ng',\n",
       " 'aap_am',\n",
       " 'fc',\n",
       " 'aap_am',\n",
       " 'ng',\n",
       " '%',\n",
       " 'ng',\n",
       " 'ng',\n",
       " 'ar',\n",
       " 'aap_am',\n",
       " 'arp_nd',\n",
       " 'arp_nd',\n",
       " '^h',\n",
       " 'ng',\n",
       " 'bf',\n",
       " 'arp_nd',\n",
       " 'h',\n",
       " 'aap_am',\n",
       " 'ar',\n",
       " 'qw^d',\n",
       " 'ng',\n",
       " 'qw^d',\n",
       " 'ba',\n",
       " 'ng',\n",
       " 'ng',\n",
       " 'ng',\n",
       " 'no',\n",
       " 'ng',\n",
       " 'qw^d',\n",
       " 'ng',\n",
       " 'arp_nd',\n",
       " 'h',\n",
       " 'ng',\n",
       " 'ng',\n",
       " 'aap_am',\n",
       " 'ng',\n",
       " 'ng',\n",
       " 'ng',\n",
       " 'qrr',\n",
       " 'qrr',\n",
       " 'ng',\n",
       " 'ng',\n",
       " 'bf',\n",
       " 'aap_am',\n",
       " 'qw',\n",
       " 'ng',\n",
       " 'ng',\n",
       " 'aap_am',\n",
       " 'no',\n",
       " 'ng',\n",
       " 'ng',\n",
       " 'ng',\n",
       " '^g',\n",
       " 'no',\n",
       " 'arp_nd',\n",
       " 'ng',\n",
       " 'ng',\n",
       " 'ng',\n",
       " 'ng',\n",
       " 'qrr',\n",
       " 'ng',\n",
       " 'aap_am',\n",
       " 'ng',\n",
       " 'ng',\n",
       " 'aap_am',\n",
       " 'aap_am',\n",
       " 'aap_am',\n",
       " 'ng',\n",
       " 'ng',\n",
       " 'no',\n",
       " 'aap_am',\n",
       " 'ng',\n",
       " 'ng',\n",
       " '^h',\n",
       " 'qrr',\n",
       " 'ng',\n",
       " 'ng',\n",
       " 'arp_nd',\n",
       " 'qw^d',\n",
       " 'ba',\n",
       " 'arp_nd',\n",
       " 'qrr',\n",
       " 'ng',\n",
       " 'qrr',\n",
       " 'aap_am',\n",
       " 'ng',\n",
       " 'ba',\n",
       " 'qw^d',\n",
       " 'ng',\n",
       " 'ng',\n",
       " '^h',\n",
       " 'qw^d',\n",
       " 'aap_am',\n",
       " 'ng',\n",
       " 'ng',\n",
       " 'aap_am',\n",
       " 'qw^d',\n",
       " 'ng',\n",
       " 'ng',\n",
       " 'bf',\n",
       " 'ng',\n",
       " 'ng',\n",
       " 'qrr',\n",
       " 'no',\n",
       " 'aap_am',\n",
       " 'ng',\n",
       " 'aap_am',\n",
       " 'ng',\n",
       " 'ng',\n",
       " '^h',\n",
       " 'aap_am',\n",
       " 'ng',\n",
       " 'aap_am',\n",
       " 'aap_am',\n",
       " 'bf',\n",
       " '%',\n",
       " 'ng',\n",
       " 'ba',\n",
       " 'aap_am',\n",
       " 'ng',\n",
       " 'qrr',\n",
       " 'arp_nd',\n",
       " 'no',\n",
       " '^h',\n",
       " 'ng',\n",
       " 'ng',\n",
       " 'qrr',\n",
       " 'qrr',\n",
       " 'ng',\n",
       " 'bf',\n",
       " 'arp_nd',\n",
       " '^h',\n",
       " 'ng',\n",
       " 'bd',\n",
       " 'ng',\n",
       " 'aap_am',\n",
       " 'h',\n",
       " 'ng',\n",
       " 'aap_am',\n",
       " 'ng',\n",
       " 'ng',\n",
       " 'ng',\n",
       " 'ng',\n",
       " 'ba',\n",
       " 'qrr',\n",
       " 'aap_am',\n",
       " 'ng',\n",
       " 'qrr',\n",
       " 'qw^d',\n",
       " '%',\n",
       " 'aap_am',\n",
       " 'bd',\n",
       " 'aap_am',\n",
       " 'aap_am',\n",
       " 'aap_am',\n",
       " '^g',\n",
       " 'bf',\n",
       " 'ng',\n",
       " 'aap_am',\n",
       " 'ng',\n",
       " 'qrr',\n",
       " 'qw^d',\n",
       " 'ng',\n",
       " 'qrr',\n",
       " 'ng',\n",
       " 'no',\n",
       " 'ng',\n",
       " 'ng',\n",
       " '^h',\n",
       " 'ng',\n",
       " '%',\n",
       " 'qw^d',\n",
       " 'ng',\n",
       " 'aap_am',\n",
       " 'aap_am',\n",
       " '^g',\n",
       " 'bd',\n",
       " 'ng',\n",
       " 'qw',\n",
       " 'ng',\n",
       " '%',\n",
       " 'ng',\n",
       " '^h',\n",
       " '^h',\n",
       " 'qw^d',\n",
       " 'ng',\n",
       " 'qo',\n",
       " 'aap_am',\n",
       " 'no',\n",
       " 'ng',\n",
       " 'aap_am',\n",
       " 'ng',\n",
       " 'qrr',\n",
       " 'ng',\n",
       " 'aap_am',\n",
       " 'ng',\n",
       " '^h',\n",
       " '^h',\n",
       " 'ng',\n",
       " 'ng',\n",
       " 'qrr',\n",
       " 'aap_am',\n",
       " 'no',\n",
       " 'qrr',\n",
       " 'ng',\n",
       " 'aap_am',\n",
       " 'ng',\n",
       " 'ng',\n",
       " 'aap_am',\n",
       " 'aap_am',\n",
       " 'qrr',\n",
       " 'no',\n",
       " 'ng',\n",
       " 'aap_am',\n",
       " 'no',\n",
       " 'ng',\n",
       " 'qrr',\n",
       " 'ba',\n",
       " 'ng',\n",
       " 'aap_am',\n",
       " 'ng',\n",
       " 'ng',\n",
       " 'qw^d',\n",
       " 'qo',\n",
       " 'aap_am',\n",
       " 'bd',\n",
       " 'qrr',\n",
       " 'aap_am',\n",
       " 'ng',\n",
       " 'ng',\n",
       " 'ng',\n",
       " 'ar',\n",
       " 'arp_nd',\n",
       " 'qrr',\n",
       " 'ar',\n",
       " 'ng',\n",
       " 'qw^d',\n",
       " 'qw^d',\n",
       " 'ng',\n",
       " 'aap_am',\n",
       " 'qy^d',\n",
       " 'qrr',\n",
       " 'ng',\n",
       " 'ng',\n",
       " 'aap_am',\n",
       " 'ng',\n",
       " '%',\n",
       " 'ng',\n",
       " 'ng',\n",
       " 'aap_am',\n",
       " 'ng',\n",
       " 'ng',\n",
       " 'ng',\n",
       " 'ng',\n",
       " 'ng',\n",
       " 'fc',\n",
       " 'fc',\n",
       " 'ng',\n",
       " 'qw^d',\n",
       " 'ng',\n",
       " 'no',\n",
       " 'ng',\n",
       " 'qrr',\n",
       " 'qw^d',\n",
       " 'ng',\n",
       " 'ng',\n",
       " 'ng',\n",
       " 'ng',\n",
       " 'ng',\n",
       " 'aap_am',\n",
       " 'ng',\n",
       " 'ng',\n",
       " 'ng',\n",
       " 'ng',\n",
       " 'ng',\n",
       " 'ng',\n",
       " '^g',\n",
       " 'ng',\n",
       " 'ng',\n",
       " 'ng',\n",
       " 'ng',\n",
       " 'ng',\n",
       " 'ng',\n",
       " 'ng',\n",
       " 'ng',\n",
       " 'aap_am',\n",
       " 'bd',\n",
       " '^h',\n",
       " 'qw^d',\n",
       " 'ba',\n",
       " 'ng',\n",
       " 'aap_am',\n",
       " 'qw^d',\n",
       " 'ng',\n",
       " 'qw^d',\n",
       " 'no',\n",
       " 'ng',\n",
       " 'ng',\n",
       " 'ng',\n",
       " 'ba',\n",
       " 'ng',\n",
       " 'qrr',\n",
       " 'qw^d',\n",
       " 'ng',\n",
       " 'no',\n",
       " 'qw',\n",
       " 'ng',\n",
       " 'ng',\n",
       " 'ng',\n",
       " 'ar',\n",
       " 'no',\n",
       " '^h',\n",
       " '%',\n",
       " 'qw^d',\n",
       " 'aa',\n",
       " 'arp_nd',\n",
       " 'ng',\n",
       " 'qy^d',\n",
       " 'ng',\n",
       " 'bf',\n",
       " 'bf',\n",
       " 'ng',\n",
       " '^h',\n",
       " 'ng',\n",
       " 'ng',\n",
       " 'arp_nd',\n",
       " 'ng',\n",
       " 'ng',\n",
       " 'qw',\n",
       " 'qrr',\n",
       " 'ng',\n",
       " 'ng',\n",
       " 'ng',\n",
       " 'ng',\n",
       " 'no',\n",
       " 'aap_am',\n",
       " 'qw^d',\n",
       " 'aap_am',\n",
       " 'no',\n",
       " 'ng',\n",
       " 'ng',\n",
       " 'ng',\n",
       " 'arp_nd',\n",
       " 'ng',\n",
       " 'aap_am',\n",
       " 'aap_am',\n",
       " 'ng',\n",
       " 'ng',\n",
       " 'ng',\n",
       " 'arp_nd',\n",
       " 'ng',\n",
       " 'no',\n",
       " 'ng',\n",
       " 'ng',\n",
       " 'aap_am',\n",
       " 'qrr',\n",
       " 'qrr',\n",
       " 'ng',\n",
       " 'ba',\n",
       " '^g',\n",
       " 'no',\n",
       " 'ng',\n",
       " 'h',\n",
       " 'arp_nd',\n",
       " 'ng',\n",
       " 'ng',\n",
       " 'aap_am',\n",
       " 'aap_am',\n",
       " 'ng',\n",
       " 'qw^d',\n",
       " 'aap_am',\n",
       " '^h',\n",
       " 'ng',\n",
       " 'ng',\n",
       " 'ar',\n",
       " 'no',\n",
       " 'ng',\n",
       " 'ng',\n",
       " 'ng',\n",
       " 'ar',\n",
       " 'ng',\n",
       " 'ng',\n",
       " 'aap_am',\n",
       " 'qw^d',\n",
       " 'aap_am',\n",
       " 'ng',\n",
       " 'aap_am',\n",
       " 'qw^d',\n",
       " 'ng',\n",
       " 'aap_am',\n",
       " 'ar',\n",
       " 'ng',\n",
       " 'aap_am',\n",
       " 'aap_am',\n",
       " 'ng',\n",
       " 'aap_am',\n",
       " '%',\n",
       " 'ng',\n",
       " 'ng',\n",
       " 'ng',\n",
       " 'qrr',\n",
       " 'ng',\n",
       " 'ng',\n",
       " 'qw^d',\n",
       " 'ng',\n",
       " 'ng',\n",
       " 'ng',\n",
       " 'qrr',\n",
       " 'qw^d',\n",
       " 'ng',\n",
       " 'aap_am',\n",
       " 'bf',\n",
       " 'aap_am',\n",
       " 'aap_am',\n",
       " '^h',\n",
       " 'ng',\n",
       " 'ng',\n",
       " 'ng',\n",
       " 'ng',\n",
       " 'aap_am',\n",
       " 'ng',\n",
       " 'ar',\n",
       " 'no',\n",
       " 'ng',\n",
       " 'qw^d',\n",
       " 'aap_am',\n",
       " 'ng',\n",
       " 'ng',\n",
       " 'qw',\n",
       " 'ng',\n",
       " 'fc',\n",
       " '%',\n",
       " 'ng',\n",
       " 'ng',\n",
       " 'qw^d',\n",
       " 'ba',\n",
       " 'no',\n",
       " 'arp_nd',\n",
       " 'ng',\n",
       " 'aap_am',\n",
       " 'qw^d',\n",
       " 'ng',\n",
       " 'qrr',\n",
       " 'ng',\n",
       " 'ng',\n",
       " 'qw',\n",
       " 'ng',\n",
       " 'ng',\n",
       " 'ng',\n",
       " 'aap_am',\n",
       " 'aa',\n",
       " 'qw^d',\n",
       " 'aap_am',\n",
       " 'ng',\n",
       " 'aap_am',\n",
       " 'ar',\n",
       " 'ng',\n",
       " 'qrr',\n",
       " 'qw',\n",
       " 'ng',\n",
       " '^h',\n",
       " 'qw^d',\n",
       " '%',\n",
       " 'qw^d',\n",
       " 'qw^d',\n",
       " 'qw^d',\n",
       " 'aap_am',\n",
       " 'qw^d',\n",
       " 'h',\n",
       " '%',\n",
       " 'ng',\n",
       " 'qrr',\n",
       " 'ng',\n",
       " 'bd',\n",
       " 'aap_am',\n",
       " 'ng',\n",
       " 'ng',\n",
       " 'ng',\n",
       " 'h',\n",
       " 'ng',\n",
       " 'ng',\n",
       " 'qw^d',\n",
       " 'ng',\n",
       " 'ng',\n",
       " 'bf',\n",
       " 'ng',\n",
       " 'qrr',\n",
       " 'aap_am',\n",
       " 'qw',\n",
       " 'aap_am',\n",
       " 'ng',\n",
       " 'fc',\n",
       " 'ng',\n",
       " 'ng',\n",
       " 'no',\n",
       " 'ng',\n",
       " 'aap_am',\n",
       " 'ng',\n",
       " 'aap_am',\n",
       " 'fc',\n",
       " '^h',\n",
       " 'qw',\n",
       " 'qw^d',\n",
       " 'ba',\n",
       " 'ng',\n",
       " 'aap_am',\n",
       " 'aa',\n",
       " 'qw^d',\n",
       " 'ng',\n",
       " 'qw^d',\n",
       " 'qw^d',\n",
       " 'ng',\n",
       " 'aap_am',\n",
       " 'ng',\n",
       " 'ng',\n",
       " 'ng',\n",
       " 'ng',\n",
       " 'qo',\n",
       " 'fc',\n",
       " 'ng',\n",
       " 'ng',\n",
       " 'qw^d',\n",
       " 'ng',\n",
       " 'aap_am',\n",
       " 'ng',\n",
       " 'aap_am',\n",
       " 'qrr',\n",
       " 'aap_am',\n",
       " 'ng',\n",
       " 'qw',\n",
       " 'ng',\n",
       " 'ng',\n",
       " 'qrr',\n",
       " 'qrr',\n",
       " 'qw^d',\n",
       " 'ng',\n",
       " 'ar',\n",
       " 'ar',\n",
       " 'no',\n",
       " 'aap_am',\n",
       " 'fc',\n",
       " 'ng',\n",
       " 'aap_am',\n",
       " 'ng',\n",
       " 'qw^d',\n",
       " 'ng',\n",
       " 'qw^d',\n",
       " 'aap_am',\n",
       " '%',\n",
       " 'aap_am',\n",
       " '^h',\n",
       " 'h',\n",
       " 'ng',\n",
       " 'ng',\n",
       " 'ng',\n",
       " 'ng',\n",
       " 'no',\n",
       " 'ng',\n",
       " 'ng',\n",
       " '%',\n",
       " 'ng',\n",
       " 'ng',\n",
       " 'aap_am',\n",
       " 'qrr',\n",
       " 'qw^d',\n",
       " 'aap_am',\n",
       " 'ng',\n",
       " 'no',\n",
       " 'ng',\n",
       " 'ng',\n",
       " 'ar',\n",
       " 'ng',\n",
       " 'qrr',\n",
       " 'qw^d',\n",
       " 'h',\n",
       " 'ng',\n",
       " 'br',\n",
       " 'aap_am',\n",
       " 'ng',\n",
       " 'qrr',\n",
       " 'ng',\n",
       " 'qw^d',\n",
       " 'ng',\n",
       " 'ng',\n",
       " 'ng',\n",
       " 'ng',\n",
       " 'ng',\n",
       " 'ng',\n",
       " 'qo',\n",
       " 'ng',\n",
       " 'qw^d',\n",
       " 'no',\n",
       " '^h',\n",
       " 'ng',\n",
       " 'aap_am',\n",
       " 'qw^d',\n",
       " 'ng',\n",
       " 'ng',\n",
       " 'aap_am',\n",
       " 'qw^d',\n",
       " 'aa',\n",
       " '^h',\n",
       " 'qw^d',\n",
       " 'aap_am',\n",
       " 'ng',\n",
       " 'qw^d',\n",
       " 'qrr',\n",
       " 'aap_am',\n",
       " '^h',\n",
       " 'qw^d',\n",
       " 'no',\n",
       " 'oo_co_cc',\n",
       " 'ng',\n",
       " 'ng',\n",
       " 'ng',\n",
       " 'aap_am',\n",
       " 'qrr',\n",
       " 'qrr',\n",
       " '%',\n",
       " 'ng',\n",
       " 'ng',\n",
       " 'qrr',\n",
       " 'ar',\n",
       " 'ng',\n",
       " 'bf',\n",
       " 'qw^d',\n",
       " 'aap_am',\n",
       " 'qw^d',\n",
       " 'ng',\n",
       " 'qw',\n",
       " 'no',\n",
       " 'ar',\n",
       " 'qrr',\n",
       " 'aap_am',\n",
       " 'aap_am',\n",
       " 'ng',\n",
       " 'ng',\n",
       " 'qw^d',\n",
       " 'qrr',\n",
       " 'ng',\n",
       " 'aap_am',\n",
       " 'no',\n",
       " 'aa',\n",
       " 'bf',\n",
       " 'ng',\n",
       " 'qw^d',\n",
       " 'qw^d',\n",
       " 'ng',\n",
       " 'qrr',\n",
       " 'ng',\n",
       " 'ng',\n",
       " 'no',\n",
       " 'no',\n",
       " 'ng',\n",
       " 'qw',\n",
       " 'ng',\n",
       " 'ba',\n",
       " 'ng',\n",
       " 'bd',\n",
       " 'ng',\n",
       " 'no',\n",
       " 'no',\n",
       " 'fc',\n",
       " 'ng',\n",
       " 'ng',\n",
       " 'qw^d',\n",
       " 'ng',\n",
       " 'arp_nd',\n",
       " 'qw',\n",
       " 'fc',\n",
       " 'ng',\n",
       " 'fc',\n",
       " 'ng',\n",
       " 'qw^d',\n",
       " 'fc',\n",
       " 'qw',\n",
       " 'ng',\n",
       " 'ng',\n",
       " 'ng',\n",
       " 'ng',\n",
       " 'qrr',\n",
       " 'ng',\n",
       " 'ng',\n",
       " 'qw',\n",
       " 'fc',\n",
       " 'aap_am',\n",
       " 'no',\n",
       " 'ng',\n",
       " '^h',\n",
       " 'aap_am',\n",
       " 'ng',\n",
       " 'qw^d',\n",
       " 'ng',\n",
       " 'qw^d',\n",
       " 'no',\n",
       " 'ng',\n",
       " 'ng',\n",
       " 'aa',\n",
       " 'ng',\n",
       " 'qw^d',\n",
       " 'ng',\n",
       " 'h',\n",
       " 'qrr',\n",
       " '^g',\n",
       " 'ng',\n",
       " 'ng',\n",
       " 'ng',\n",
       " 'ng',\n",
       " 'ng',\n",
       " 'no',\n",
       " 'bf',\n",
       " 'qw^d',\n",
       " 'ng',\n",
       " 'no',\n",
       " 'aap_am',\n",
       " 'ng',\n",
       " 'ng',\n",
       " 'ng',\n",
       " 'aap_am',\n",
       " 'ng',\n",
       " 'ng',\n",
       " 'no',\n",
       " 'ng',\n",
       " 'qrr',\n",
       " 'ng',\n",
       " 'ng',\n",
       " 'ng',\n",
       " 'qw^d',\n",
       " 'ng',\n",
       " '^g',\n",
       " 'ng',\n",
       " 'ng',\n",
       " 'aap_am',\n",
       " 'qy^d',\n",
       " 'ng',\n",
       " 'aap_am',\n",
       " '^h',\n",
       " 'ng',\n",
       " 'ng',\n",
       " 'qrr',\n",
       " 'aap_am',\n",
       " 'ng',\n",
       " 'aap_am',\n",
       " 'qw^d',\n",
       " 'aap_am',\n",
       " 'ng',\n",
       " '^h',\n",
       " 'qw^d',\n",
       " 'qw^d',\n",
       " 'ng',\n",
       " 'qw',\n",
       " 'aap_am',\n",
       " 'ar',\n",
       " 'ng',\n",
       " 'qw^d',\n",
       " 'fc',\n",
       " 'aap_am',\n",
       " 'ng',\n",
       " '^h',\n",
       " 'qw^d',\n",
       " 'qrr',\n",
       " 'ng',\n",
       " 'qw',\n",
       " 'aa',\n",
       " 'ng',\n",
       " 'ng',\n",
       " 'ng',\n",
       " 'qw^d',\n",
       " 'aap_am',\n",
       " 'ng',\n",
       " 'ng',\n",
       " 'fc',\n",
       " 'ng',\n",
       " '^h',\n",
       " 'ng',\n",
       " 'ar',\n",
       " 'aap_am',\n",
       " 'bf',\n",
       " 'aap_am',\n",
       " 'arp_nd',\n",
       " 'qrr',\n",
       " 'qw^d',\n",
       " 'no',\n",
       " 'ng',\n",
       " 'ng',\n",
       " '^g',\n",
       " 'qw^d',\n",
       " 'ng',\n",
       " 'qw',\n",
       " 'ar',\n",
       " 'bf',\n",
       " 'qrr',\n",
       " 'ba',\n",
       " 'qw',\n",
       " 'ar',\n",
       " 'ng',\n",
       " 'qw^d',\n",
       " 'ng',\n",
       " 'ng',\n",
       " 'aap_am',\n",
       " 'aap_am',\n",
       " 't3',\n",
       " 'no',\n",
       " 'no',\n",
       " 'ng',\n",
       " 'aap_am',\n",
       " 'no',\n",
       " 'aap_am',\n",
       " 'qrr',\n",
       " 'ng',\n",
       " 'ng',\n",
       " 'ng',\n",
       " 'ng',\n",
       " 'ng',\n",
       " 'ng',\n",
       " 'fc',\n",
       " 'qrr',\n",
       " 'aap_am',\n",
       " 'qrr',\n",
       " 'ng',\n",
       " 'ng',\n",
       " 'aap_am',\n",
       " 'ng',\n",
       " 'qrr',\n",
       " 'ng',\n",
       " 'ng',\n",
       " 'ng',\n",
       " 'qrr',\n",
       " 'ng',\n",
       " 'ng',\n",
       " 'no',\n",
       " 'qw',\n",
       " 'ng',\n",
       " 'ng',\n",
       " 'aa',\n",
       " 'ng',\n",
       " 'no',\n",
       " 'ng',\n",
       " 'aap_am',\n",
       " 'ng',\n",
       " '%',\n",
       " '^h',\n",
       " 'ng',\n",
       " 'qw^d',\n",
       " 'ng',\n",
       " 'qw',\n",
       " 'ar',\n",
       " 'ng',\n",
       " 'aap_am',\n",
       " 'qy^d',\n",
       " 'ng',\n",
       " 'qw^d',\n",
       " 'ng',\n",
       " 'qrr',\n",
       " 'ar',\n",
       " 'qw^d',\n",
       " '^h',\n",
       " 'ar',\n",
       " 'ng',\n",
       " 'qw^d',\n",
       " 'arp_nd',\n",
       " 'ng',\n",
       " 'ng',\n",
       " 'ng',\n",
       " 'aap_am',\n",
       " 'qw^d',\n",
       " 'no',\n",
       " 'aap_am',\n",
       " 'aap_am',\n",
       " 'ng',\n",
       " 'aap_am',\n",
       " 'aap_am',\n",
       " 'aap_am',\n",
       " 'qw^d',\n",
       " 'ng',\n",
       " 'aap_am',\n",
       " 'aap_am',\n",
       " 'qw',\n",
       " 'aap_am',\n",
       " 'ng',\n",
       " '%',\n",
       " 'aap_am',\n",
       " 'aap_am',\n",
       " 'aap_am',\n",
       " 'ng',\n",
       " 'aap_am',\n",
       " 'qw^d',\n",
       " 'fc',\n",
       " 'aap_am',\n",
       " 'bd',\n",
       " 'qrr',\n",
       " 'ng',\n",
       " 'ng',\n",
       " 'ng',\n",
       " 'aap_am',\n",
       " 'oo_co_cc',\n",
       " 'no',\n",
       " 'qw^d',\n",
       " 'aap_am',\n",
       " 'ng',\n",
       " 'aap_am',\n",
       " 'ng',\n",
       " 'no',\n",
       " 'ng',\n",
       " 'aap_am',\n",
       " 'ba',\n",
       " 'arp_nd',\n",
       " '^h',\n",
       " 'ng',\n",
       " 'oo_co_cc',\n",
       " 'ng',\n",
       " 'ng',\n",
       " 'h',\n",
       " 'qo',\n",
       " 'aap_am',\n",
       " 'qrr',\n",
       " 'no',\n",
       " 'ng',\n",
       " 'no',\n",
       " 'qrr',\n",
       " '%',\n",
       " 'aap_am',\n",
       " 'ng',\n",
       " 'ng',\n",
       " '^h',\n",
       " 'qw^d',\n",
       " 'qw^d',\n",
       " '%',\n",
       " 'ng',\n",
       " 'ng',\n",
       " 'aap_am',\n",
       " 'qrr',\n",
       " 'ng',\n",
       " 'bf',\n",
       " 'ng',\n",
       " 'aap_am',\n",
       " 'qw^d',\n",
       " 'fc',\n",
       " 'aap_am',\n",
       " 'ng',\n",
       " 'aap_am',\n",
       " 'qw',\n",
       " 'ng',\n",
       " 'aap_am',\n",
       " 'aap_am',\n",
       " 'aa',\n",
       " 'fc',\n",
       " 'ng',\n",
       " 'qw^d',\n",
       " 'ng',\n",
       " 'qrr',\n",
       " '%',\n",
       " 'aap_am',\n",
       " '^h',\n",
       " 'ng',\n",
       " 'aap_am',\n",
       " 'ng',\n",
       " 'no',\n",
       " 'qrr',\n",
       " 'qw^d',\n",
       " 'aap_am',\n",
       " 'bf',\n",
       " 'aap_am',\n",
       " 'aap_am',\n",
       " ...]"
      ]
     },
     "execution_count": 33,
     "metadata": {},
     "output_type": "execute_result"
    }
   ],
   "source": [
    "y_pred"
   ]
  },
  {
   "cell_type": "code",
   "execution_count": 34,
   "id": "0c5eec2e",
   "metadata": {},
   "outputs": [
    {
     "data": {
      "text/plain": [
       "0       fo_o_fw_\"_by_bc\n",
       "1                    qw\n",
       "2                    ^h\n",
       "3                    sv\n",
       "4                    qo\n",
       "             ...       \n",
       "4073                 fc\n",
       "4074                 fc\n",
       "4075                 fc\n",
       "4076                 fc\n",
       "4077                 fc\n",
       "Name: tag, Length: 4078, dtype: object"
      ]
     },
     "execution_count": 34,
     "metadata": {},
     "output_type": "execute_result"
    }
   ],
   "source": [
    "test_data['tag']"
   ]
  },
  {
   "cell_type": "code",
   "execution_count": 31,
   "id": "39111f51",
   "metadata": {},
   "outputs": [
    {
     "data": {
      "text/plain": [
       "0.0"
      ]
     },
     "execution_count": 31,
     "metadata": {},
     "output_type": "execute_result"
    }
   ],
   "source": [
    "np.mean(np.array(test_data['tag']) == np.array(y_test))"
   ]
  },
  {
   "cell_type": "markdown",
   "id": "6a45ed10",
   "metadata": {},
   "source": [
    "https://discuss.pytorch.org/t/can-we-use-pre-trained-word-embeddings-for-weight-initialization-in-nn-embedding/1222\n",
    "https://quokkas.tistory.com/entry/pytorch%EC%97%90%EC%84%9C-EarlyStop-%EC%9D%B4%EC%9A%A9%ED%95%98%EA%B8%B0\n",
    "https://simonjisu.github.io/nlp/2018/07/05/packedsequence.html\n",
    "https://nbviewer.jupyter.org/github/simonjisu/pytorch_tutorials/blob/master/00_Basic_Utils/02_PackedSequence.ipynb\n",
    "\n",
    "데이터 전처리: https://m.blog.naver.com/PostView.naver?isHttpsRedirect=true&blogId=qbxlvnf11&logNo=221434157182\n",
    "\n",
    "pretrained 사용: https://discuss.pytorch.org/t/can-we-use-pre-trained-word-embeddings-for-weight-initialization-in-nn-embedding/1222"
   ]
  },
  {
   "cell_type": "code",
   "execution_count": null,
   "id": "27c51784",
   "metadata": {},
   "outputs": [],
   "source": []
  }
 ],
 "metadata": {
  "kernelspec": {
   "display_name": "Python 3",
   "language": "python",
   "name": "python3"
  },
  "language_info": {
   "codemirror_mode": {
    "name": "ipython",
    "version": 3
   },
   "file_extension": ".py",
   "mimetype": "text/x-python",
   "name": "python",
   "nbconvert_exporter": "python",
   "pygments_lexer": "ipython3",
   "version": "3.8.8"
  },
  "toc": {
   "base_numbering": 1,
   "nav_menu": {},
   "number_sections": false,
   "sideBar": true,
   "skip_h1_title": false,
   "title_cell": "Table of Contents",
   "title_sidebar": "Contents",
   "toc_cell": false,
   "toc_position": {},
   "toc_section_display": true,
   "toc_window_display": true
  }
 },
 "nbformat": 4,
 "nbformat_minor": 5
}
