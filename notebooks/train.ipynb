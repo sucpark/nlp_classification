{
 "cells": [
  {
   "cell_type": "code",
   "execution_count": 3,
   "metadata": {},
   "outputs": [],
   "source": [
    "import os\n",
    "import sys\n",
    "sys.path.insert(0, '..')\n",
    "\n",
    "import argparse\n",
    "import pandas as pd\n",
    "import matplotlib.pyplot as plt\n",
    "from tqdm.auto import tqdm\n",
    "from utils import *\n",
    "from model.metric import evaluate, acc, LSR\n",
    "from model.data import DAdataset\n",
    "from model.net import LSTMClassifier\n",
    "from model.utils import sent_tokenize, stemming, preprocess_text\n",
    "from torch.utils.data import DataLoader\n",
    "from torch.utils.tensorboard import SummaryWriter"
   ]
  },
  {
   "cell_type": "code",
   "execution_count": 4,
   "metadata": {},
   "outputs": [],
   "source": [
    "home_dir = Path('..')\n",
    "data_dir = home_dir / 'dataset' / 'SDAC'\n",
    "save_dir = home_dir / 'experiment' / 'SDAC'\n",
    "train_data_name = 'sw_train.txt'\n",
    "valid_data_name = 'sw_val.txt'\n",
    "test_data_name = 'sw_test.txt'\n",
    "# pretrained_embeddings_name = 'embeddings.pkl'\n",
    "token2idx_name = 'word2idx.json'\n",
    "label2idx_name = 'label2idx.json'\n",
    "config_name = 'config.json'\n",
    "    \n",
    "if not os.path.exists(save_dir):\n",
    "    os.makedirs(save_dir, exist_ok=True)"
   ]
  },
  {
   "cell_type": "code",
   "execution_count": 5,
   "metadata": {},
   "outputs": [
    {
     "name": "stdout",
     "output_type": "stream",
     "text": [
      "Namespace(embedding_dim=128, epochs=500, hidden_size=256, lr=1e-05, max_len=256, n_batch=64, n_layers=3, summary_step=10000)\n"
     ]
    }
   ],
   "source": [
    "args = {\n",
    "    \"epochs\": 500,\n",
    "    \"n_batch\": 64,\n",
    "    \"max_len\": 256,\n",
    "    \"lr\": 1e-5,\n",
    "    \"summary_step\": 10000,\n",
    "    \"embedding_dim\": 128,\n",
    "    \"hidden_size\": 256,\n",
    "    \"n_layers\": 3,\n",
    "}\n",
    "args = argparse.Namespace(**args)\n",
    "print(args)"
   ]
  },
  {
   "cell_type": "code",
   "execution_count": 6,
   "metadata": {},
   "outputs": [],
   "source": [
    "# with open(data_dir / pretrained_embeddings_name, 'rb') as f:\n",
    "#     pretrained_embeddings = pickle.load(f)\n",
    "    \n",
    "with open(data_dir / token2idx_name, 'r') as f:\n",
    "    token2idx = json.load(f)\n",
    "    \n",
    "with open(data_dir / label2idx_name, 'r') as f:\n",
    "    label2idx = json.load(f)\n",
    "    \n",
    "with open(data_dir / config_name, 'r') as f:\n",
    "    config = json.load(f)\n",
    "    \n",
    "idx2token = {i:t for t,i in token2idx.items()}\n",
    "idx2label = {i:l for l,i in label2idx.items()}"
   ]
  },
  {
   "cell_type": "markdown",
   "metadata": {},
   "source": [
    "## Train"
   ]
  },
  {
   "cell_type": "code",
   "execution_count": 7,
   "metadata": {},
   "outputs": [],
   "source": [
    "# 데이터 전처리 \n",
    "\n",
    "train_data = pd.read_csv(data_dir / train_data_name, header=None, sep='|', names=['speaker','utterance','tag'])\n",
    "valid_data = pd.read_csv(data_dir / valid_data_name, header=None, sep='|', names=['speaker','utterance','tag'])\n",
    "\n",
    "\n",
    "x_train, y_train = train_data['utterance'], train_data['tag']\n",
    "x_valid, y_valid = valid_data['utterance'], valid_data['tag']\n",
    "\n",
    "text_preprocess_pipeline = [sent_tokenize, stemming] # 이전에 해줬던 전처리 과정과 동일하게 해줘야 함\n",
    "\n",
    "x_train = x_train.apply(preprocess_text, processing_function_list=text_preprocess_pipeline)\n",
    "x_valid = x_valid.apply(preprocess_text, processing_function_list=text_preprocess_pipeline)"
   ]
  },
  {
   "cell_type": "code",
   "execution_count": 8,
   "metadata": {},
   "outputs": [],
   "source": [
    "# 학습 데이터 구성\n",
    "\n",
    "x_train = list(convert_token_to_idx(x_train, token2idx))\n",
    "x_valid = list(convert_token_to_idx(x_valid, token2idx))\n",
    "\n",
    "y_train = list(convert_label_to_idx(y_train, label2idx))\n",
    "y_valid = list(convert_label_to_idx(y_valid, label2idx))\n",
    "\n",
    "tr_ds = DAdataset(x_train, y_train)\n",
    "tr_dl = DataLoader(tr_ds, batch_size=args.n_batch, collate_fn=tr_ds.collate_fn, shuffle=True, drop_last=True)\n",
    "\n",
    "val_ds = DAdataset(x_valid, y_valid)\n",
    "val_dl = DataLoader(val_ds, batch_size=args.n_batch, collate_fn=val_ds.collate_fn, shuffle=True, drop_last=True)"
   ]
  },
  {
   "cell_type": "code",
   "execution_count": 9,
   "metadata": {},
   "outputs": [],
   "source": [
    "# 모델 생성\n",
    "\n",
    "learning_rate = args.lr\n",
    "batch_size = args.n_batch\n",
    "vocab_size = len(token2idx)\n",
    "embedding_dim = args.embedding_dim\n",
    "hidden_size = args.hidden_size\n",
    "output_size = len(label2idx)\n",
    "n_layers = args.n_layers\n",
    "dropout = 0.3\n",
    "\n",
    "device = torch.device(\"cuda\" if torch.cuda.is_available() else \"cpu\")\n",
    "device = torch.device('cpu')\n",
    "model = LSTMClassifier(output_size, hidden_size, vocab_size, n_layers, embedding_dim, device,\n",
    "                       dropout=dropout, bidirectional=True) #, weights=torch.from_numpy(pretrained_embeddings))\n",
    "\n",
    "loss_fn = LSR(epsilon=0.1, num_classes=output_size)\n",
    "\n",
    "if device.type == 'cuda':\n",
    "    torch.cuda.empty_cache()\n",
    "\n",
    "model.to(device)\n",
    "optimizer = torch.optim.Adam(model.parameters(), lr=args.lr, weight_decay=1e-5)\n",
    "\n",
    "writer = SummaryWriter(f'{save_dir}/runs')\n",
    "checkpoint_manager = CheckpointManager(save_dir)\n",
    "summary_manager = SummaryManager(save_dir)"
   ]
  },
  {
   "cell_type": "code",
   "execution_count": 10,
   "metadata": {},
   "outputs": [],
   "source": [
    "x_temp, y_temp = next(iter(val_dl))"
   ]
  },
  {
   "cell_type": "code",
   "execution_count": 11,
   "metadata": {
    "scrolled": true
   },
   "outputs": [
    {
     "data": {
      "text/plain": [
       "[tensor(2),\n",
       " tensor(2),\n",
       " tensor(2),\n",
       " tensor(2),\n",
       " tensor(2),\n",
       " tensor(7),\n",
       " tensor(8),\n",
       " tensor(34),\n",
       " tensor(5),\n",
       " tensor(4),\n",
       " tensor(7),\n",
       " tensor(7),\n",
       " tensor(13),\n",
       " tensor(2),\n",
       " tensor(3),\n",
       " tensor(2),\n",
       " tensor(27),\n",
       " tensor(2),\n",
       " tensor(10),\n",
       " tensor(24),\n",
       " tensor(9),\n",
       " tensor(2),\n",
       " tensor(6),\n",
       " tensor(6),\n",
       " tensor(18),\n",
       " tensor(17),\n",
       " tensor(2),\n",
       " tensor(2),\n",
       " tensor(1),\n",
       " tensor(7),\n",
       " tensor(14),\n",
       " tensor(2),\n",
       " tensor(25),\n",
       " tensor(4),\n",
       " tensor(4),\n",
       " tensor(2),\n",
       " tensor(6),\n",
       " tensor(7),\n",
       " tensor(4),\n",
       " tensor(6),\n",
       " tensor(19),\n",
       " tensor(6),\n",
       " tensor(2),\n",
       " tensor(19),\n",
       " tensor(14),\n",
       " tensor(7),\n",
       " tensor(7),\n",
       " tensor(5),\n",
       " tensor(9),\n",
       " tensor(5),\n",
       " tensor(7),\n",
       " tensor(11),\n",
       " tensor(8),\n",
       " tensor(16),\n",
       " tensor(8),\n",
       " tensor(20),\n",
       " tensor(2),\n",
       " tensor(11),\n",
       " tensor(2),\n",
       " tensor(2),\n",
       " tensor(17),\n",
       " tensor(17),\n",
       " tensor(16),\n",
       " tensor(12)]"
      ]
     },
     "execution_count": 11,
     "metadata": {},
     "output_type": "execute_result"
    }
   ],
   "source": [
    "x_temp_len = list(map(sum, (x_temp != 0)))\n",
    "x_temp_len"
   ]
  },
  {
   "cell_type": "code",
   "execution_count": 12,
   "metadata": {},
   "outputs": [
    {
     "data": {
      "text/plain": [
       "torch.Size([64, 34, 128])"
      ]
     },
     "execution_count": 12,
     "metadata": {},
     "output_type": "execute_result"
    }
   ],
   "source": [
    "embeds = model.embeddings(x_temp.to(device))\n",
    "embeds.shape"
   ]
  },
  {
   "cell_type": "code",
   "execution_count": 13,
   "metadata": {},
   "outputs": [],
   "source": [
    "from torch.nn.utils.rnn import pack_padded_sequence\n",
    "\n",
    "x_packed = pack_padded_sequence(embeds, x_temp_len, batch_first=True, enforce_sorted=False)"
   ]
  },
  {
   "cell_type": "code",
   "execution_count": 14,
   "metadata": {
    "scrolled": true
   },
   "outputs": [
    {
     "data": {
      "text/plain": [
       "(tensor([[[0., 0., 0.,  ..., 0., 0., 0.],\n",
       "          [0., 0., 0.,  ..., 0., 0., 0.],\n",
       "          [0., 0., 0.,  ..., 0., 0., 0.],\n",
       "          ...,\n",
       "          [0., 0., 0.,  ..., 0., 0., 0.],\n",
       "          [0., 0., 0.,  ..., 0., 0., 0.],\n",
       "          [0., 0., 0.,  ..., 0., 0., 0.]],\n",
       " \n",
       "         [[0., 0., 0.,  ..., 0., 0., 0.],\n",
       "          [0., 0., 0.,  ..., 0., 0., 0.],\n",
       "          [0., 0., 0.,  ..., 0., 0., 0.],\n",
       "          ...,\n",
       "          [0., 0., 0.,  ..., 0., 0., 0.],\n",
       "          [0., 0., 0.,  ..., 0., 0., 0.],\n",
       "          [0., 0., 0.,  ..., 0., 0., 0.]],\n",
       " \n",
       "         [[0., 0., 0.,  ..., 0., 0., 0.],\n",
       "          [0., 0., 0.,  ..., 0., 0., 0.],\n",
       "          [0., 0., 0.,  ..., 0., 0., 0.],\n",
       "          ...,\n",
       "          [0., 0., 0.,  ..., 0., 0., 0.],\n",
       "          [0., 0., 0.,  ..., 0., 0., 0.],\n",
       "          [0., 0., 0.,  ..., 0., 0., 0.]],\n",
       " \n",
       "         [[0., 0., 0.,  ..., 0., 0., 0.],\n",
       "          [0., 0., 0.,  ..., 0., 0., 0.],\n",
       "          [0., 0., 0.,  ..., 0., 0., 0.],\n",
       "          ...,\n",
       "          [0., 0., 0.,  ..., 0., 0., 0.],\n",
       "          [0., 0., 0.,  ..., 0., 0., 0.],\n",
       "          [0., 0., 0.,  ..., 0., 0., 0.]],\n",
       " \n",
       "         [[0., 0., 0.,  ..., 0., 0., 0.],\n",
       "          [0., 0., 0.,  ..., 0., 0., 0.],\n",
       "          [0., 0., 0.,  ..., 0., 0., 0.],\n",
       "          ...,\n",
       "          [0., 0., 0.,  ..., 0., 0., 0.],\n",
       "          [0., 0., 0.,  ..., 0., 0., 0.],\n",
       "          [0., 0., 0.,  ..., 0., 0., 0.]],\n",
       " \n",
       "         [[0., 0., 0.,  ..., 0., 0., 0.],\n",
       "          [0., 0., 0.,  ..., 0., 0., 0.],\n",
       "          [0., 0., 0.,  ..., 0., 0., 0.],\n",
       "          ...,\n",
       "          [0., 0., 0.,  ..., 0., 0., 0.],\n",
       "          [0., 0., 0.,  ..., 0., 0., 0.],\n",
       "          [0., 0., 0.,  ..., 0., 0., 0.]]]),\n",
       " tensor([[[0., 0., 0.,  ..., 0., 0., 0.],\n",
       "          [0., 0., 0.,  ..., 0., 0., 0.],\n",
       "          [0., 0., 0.,  ..., 0., 0., 0.],\n",
       "          ...,\n",
       "          [0., 0., 0.,  ..., 0., 0., 0.],\n",
       "          [0., 0., 0.,  ..., 0., 0., 0.],\n",
       "          [0., 0., 0.,  ..., 0., 0., 0.]],\n",
       " \n",
       "         [[0., 0., 0.,  ..., 0., 0., 0.],\n",
       "          [0., 0., 0.,  ..., 0., 0., 0.],\n",
       "          [0., 0., 0.,  ..., 0., 0., 0.],\n",
       "          ...,\n",
       "          [0., 0., 0.,  ..., 0., 0., 0.],\n",
       "          [0., 0., 0.,  ..., 0., 0., 0.],\n",
       "          [0., 0., 0.,  ..., 0., 0., 0.]],\n",
       " \n",
       "         [[0., 0., 0.,  ..., 0., 0., 0.],\n",
       "          [0., 0., 0.,  ..., 0., 0., 0.],\n",
       "          [0., 0., 0.,  ..., 0., 0., 0.],\n",
       "          ...,\n",
       "          [0., 0., 0.,  ..., 0., 0., 0.],\n",
       "          [0., 0., 0.,  ..., 0., 0., 0.],\n",
       "          [0., 0., 0.,  ..., 0., 0., 0.]],\n",
       " \n",
       "         [[0., 0., 0.,  ..., 0., 0., 0.],\n",
       "          [0., 0., 0.,  ..., 0., 0., 0.],\n",
       "          [0., 0., 0.,  ..., 0., 0., 0.],\n",
       "          ...,\n",
       "          [0., 0., 0.,  ..., 0., 0., 0.],\n",
       "          [0., 0., 0.,  ..., 0., 0., 0.],\n",
       "          [0., 0., 0.,  ..., 0., 0., 0.]],\n",
       " \n",
       "         [[0., 0., 0.,  ..., 0., 0., 0.],\n",
       "          [0., 0., 0.,  ..., 0., 0., 0.],\n",
       "          [0., 0., 0.,  ..., 0., 0., 0.],\n",
       "          ...,\n",
       "          [0., 0., 0.,  ..., 0., 0., 0.],\n",
       "          [0., 0., 0.,  ..., 0., 0., 0.],\n",
       "          [0., 0., 0.,  ..., 0., 0., 0.]],\n",
       " \n",
       "         [[0., 0., 0.,  ..., 0., 0., 0.],\n",
       "          [0., 0., 0.,  ..., 0., 0., 0.],\n",
       "          [0., 0., 0.,  ..., 0., 0., 0.],\n",
       "          ...,\n",
       "          [0., 0., 0.,  ..., 0., 0., 0.],\n",
       "          [0., 0., 0.,  ..., 0., 0., 0.],\n",
       "          [0., 0., 0.,  ..., 0., 0., 0.]]]))"
      ]
     },
     "execution_count": 14,
     "metadata": {},
     "output_type": "execute_result"
    }
   ],
   "source": [
    "hidden = model.init_hidden(x_temp.shape[0])\n",
    "hidden"
   ]
  },
  {
   "cell_type": "code",
   "execution_count": 59,
   "metadata": {},
   "outputs": [],
   "source": [
    "o,(h,c) = model.lstm(embeds, hidden)"
   ]
  },
  {
   "cell_type": "code",
   "execution_count": 65,
   "metadata": {},
   "outputs": [
    {
     "data": {
      "text/plain": [
       "torch.Size([6, 64, 256])"
      ]
     },
     "execution_count": 65,
     "metadata": {},
     "output_type": "execute_result"
    }
   ],
   "source": [
    "h.shape"
   ]
  },
  {
   "cell_type": "code",
   "execution_count": null,
   "metadata": {},
   "outputs": [],
   "source": []
  },
  {
   "cell_type": "code",
   "execution_count": 39,
   "metadata": {},
   "outputs": [],
   "source": [
    "from torch.nn.utils.rnn import pad_packed_sequence\n",
    "output_packed, hidden = model.lstm(x_packed, hidden)\n",
    "output_padded, output_lengths = pad_packed_sequence(output_packed, batch_first=True)"
   ]
  },
  {
   "cell_type": "code",
   "execution_count": 40,
   "metadata": {},
   "outputs": [
    {
     "name": "stdout",
     "output_type": "stream",
     "text": [
      "output_padded:  torch.Size([64, 34, 512])\n",
      "final_hidden_state:  torch.Size([6, 64, 256])\n"
     ]
    }
   ],
   "source": [
    "print(\"output_padded: \",output_padded.shape)\n",
    "print(\"final_hidden_state: \",hidden[0].shape)"
   ]
  },
  {
   "cell_type": "code",
   "execution_count": 17,
   "metadata": {},
   "outputs": [
    {
     "data": {
      "text/plain": [
       "tensor([ 2,  2,  2,  2,  2,  7,  8, 34,  5,  4,  7,  7, 13,  2,  3,  2, 27,  2,\n",
       "        10, 24,  9,  2,  6,  6, 18, 17,  2,  2,  1,  7, 14,  2, 25,  4,  4,  2,\n",
       "         6,  7,  4,  6, 19,  6,  2, 19, 14,  7,  7,  5,  9,  5,  7, 11,  8, 16,\n",
       "         8, 20,  2, 11,  2,  2, 17, 17, 16, 12])"
      ]
     },
     "execution_count": 17,
     "metadata": {},
     "output_type": "execute_result"
    }
   ],
   "source": [
    "output_lengths"
   ]
  },
  {
   "cell_type": "code",
   "execution_count": 38,
   "metadata": {},
   "outputs": [
    {
     "data": {
      "text/plain": [
       "torch.Size([512])"
      ]
     },
     "execution_count": 38,
     "metadata": {},
     "output_type": "execute_result"
    }
   ],
   "source": [
    "output_padded[0][1]"
   ]
  },
  {
   "cell_type": "code",
   "execution_count": 35,
   "metadata": {},
   "outputs": [
    {
     "data": {
      "text/plain": [
       "tensor([[ 0.0346, -0.0100,  0.0263,  ...,  0.0290,  0.0068,  0.0169],\n",
       "        [ 0.0292, -0.0149, -0.0036,  ...,  0.0307,  0.0076,  0.0068],\n",
       "        [ 0.0316, -0.0135,  0.0070,  ...,  0.0336,  0.0067,  0.0142],\n",
       "        ...,\n",
       "        [ 0.0467, -0.0095,  0.0288,  ...,  0.0193, -0.0015,  0.0206],\n",
       "        [ 0.0477, -0.0148,  0.0286,  ...,  0.0467,  0.0161,  0.0060],\n",
       "        [ 0.0304,  0.0124,  0.0095,  ...,  0.0300,  0.0083,  0.0066]],\n",
       "       grad_fn=<SelectBackward>)"
      ]
     },
     "execution_count": 35,
     "metadata": {},
     "output_type": "execute_result"
    }
   ],
   "source": [
    "hidden[0][-2]"
   ]
  },
  {
   "cell_type": "code",
   "execution_count": 85,
   "metadata": {},
   "outputs": [
    {
     "data": {
      "text/plain": [
       "tensor([[-0.0020, -0.0293, -0.0182,  ...,  0.0112,  0.0326, -0.0090],\n",
       "        [-0.0065, -0.0116, -0.0237,  ...,  0.0131,  0.0126, -0.0046],\n",
       "        [-0.0122, -0.0098, -0.0232,  ..., -0.0117,  0.0022, -0.0132],\n",
       "        ...,\n",
       "        [-0.0387, -0.0072, -0.0160,  ...,  0.0245, -0.0007, -0.0033],\n",
       "        [-0.0195, -0.0209, -0.0141,  ..., -0.0011, -0.0089, -0.0073],\n",
       "        [-0.0089, -0.0080, -0.0158,  ...,  0.0160, -0.0140, -0.0139]],\n",
       "       device='cuda:0', grad_fn=<IndexBackward>)"
      ]
     },
     "execution_count": 85,
     "metadata": {},
     "output_type": "execute_result"
    }
   ],
   "source": [
    "output_padded[range(len(output_padded)), output_lengths-1,:model.embedding_dim*2]"
   ]
  },
  {
   "cell_type": "code",
   "execution_count": 89,
   "metadata": {},
   "outputs": [
    {
     "ename": "RuntimeError",
     "evalue": "CUDA error: device-side assert triggered",
     "output_type": "error",
     "traceback": [
      "\u001b[1;31m---------------------------------------------------------------------------\u001b[0m",
      "\u001b[1;31mRuntimeError\u001b[0m                              Traceback (most recent call last)",
      "\u001b[1;32m<ipython-input-89-d124a5195110>\u001b[0m in \u001b[0;36m<module>\u001b[1;34m\u001b[0m\n\u001b[1;32m----> 1\u001b[1;33m \u001b[0moutput_padded\u001b[0m\u001b[1;33m[\u001b[0m\u001b[0mrange\u001b[0m\u001b[1;33m(\u001b[0m\u001b[0mlen\u001b[0m\u001b[1;33m(\u001b[0m\u001b[0moutput_padded\u001b[0m\u001b[1;33m)\u001b[0m\u001b[1;33m)\u001b[0m\u001b[1;33m,\u001b[0m \u001b[0moutput_lengths\u001b[0m\u001b[1;33m,\u001b[0m\u001b[1;33m:\u001b[0m\u001b[1;33m]\u001b[0m\u001b[1;33m\u001b[0m\u001b[1;33m\u001b[0m\u001b[0m\n\u001b[0m",
      "\u001b[1;31mRuntimeError\u001b[0m: CUDA error: device-side assert triggered"
     ]
    }
   ],
   "source": [
    "output_padded[range(len(output_padded)), output_lengths,:]"
   ]
  },
  {
   "cell_type": "code",
   "execution_count": 84,
   "metadata": {
    "scrolled": true
   },
   "outputs": [
    {
     "data": {
      "text/plain": [
       "torch.Size([256])"
      ]
     },
     "execution_count": 84,
     "metadata": {},
     "output_type": "execute_result"
    }
   ],
   "source": [
    "output_padded[0, 50, :model.embedding_dim*2]"
   ]
  },
  {
   "cell_type": "code",
   "execution_count": 83,
   "metadata": {},
   "outputs": [
    {
     "data": {
      "text/plain": [
       "torch.Size([256])"
      ]
     },
     "execution_count": 83,
     "metadata": {},
     "output_type": "execute_result"
    }
   ],
   "source": [
    "hidden[0][-1][50].shape"
   ]
  },
  {
   "cell_type": "code",
   "execution_count": 21,
   "metadata": {},
   "outputs": [
    {
     "data": {
      "text/plain": [
       "torch.Size([54, 512])"
      ]
     },
     "execution_count": 21,
     "metadata": {},
     "output_type": "execute_result"
    }
   ],
   "source": [
    "output_padded[0].shape"
   ]
  },
  {
   "cell_type": "code",
   "execution_count": 17,
   "metadata": {},
   "outputs": [
    {
     "data": {
      "text/plain": [
       "torch.Size([64, 54, 512])"
      ]
     },
     "execution_count": 17,
     "metadata": {},
     "output_type": "execute_result"
    }
   ],
   "source": [
    "output_padded.shape"
   ]
  },
  {
   "cell_type": "code",
   "execution_count": 24,
   "metadata": {},
   "outputs": [
    {
     "data": {
      "text/plain": [
       "tensor([ 2,  8,  5,  8,  6,  5,  2, 10,  4,  6,  5,  4,  7, 17, 24, 22,  2, 11,\n",
       "        12,  2, 25, 14,  8,  2, 14,  2,  2,  4,  2, 11,  4, 17, 17, 12,  3, 23,\n",
       "         6,  9,  2,  6,  2, 14, 14,  2,  2, 12, 13,  5, 15, 20,  4,  7, 15, 19,\n",
       "         2, 11,  9,  2, 20,  6, 28, 16, 15,  3])"
      ]
     },
     "execution_count": 24,
     "metadata": {},
     "output_type": "execute_result"
    }
   ],
   "source": [
    "output_lengths"
   ]
  },
  {
   "cell_type": "code",
   "execution_count": 31,
   "metadata": {},
   "outputs": [
    {
     "data": {
      "text/plain": [
       "tensor([ 2.,  8.,  5.,  8.,  6.,  5.,  2., 10.,  4.,  6.,  5.,  4.,  7., 17.,\n",
       "        24., 22.,  2., 11., 12.,  2., 25., 14.,  8.,  2., 14.,  2.,  2.,  4.,\n",
       "         2., 11.,  4., 17., 17., 12.,  3., 23.,  6.,  9.,  2.,  6.,  2., 14.,\n",
       "        14.,  2.,  2., 12., 13.,  5., 15., 20.,  4.,  7., 15., 19.,  2., 11.,\n",
       "         9.,  2., 20.,  6., 28., 16., 15.,  3.])"
      ]
     },
     "execution_count": 31,
     "metadata": {},
     "output_type": "execute_result"
    }
   ],
   "source": [
    "torch.Tensor(list(map(int, x_temp_len)))"
   ]
  },
  {
   "cell_type": "code",
   "execution_count": 47,
   "metadata": {},
   "outputs": [
    {
     "data": {
      "text/plain": [
       "64"
      ]
     },
     "execution_count": 47,
     "metadata": {},
     "output_type": "execute_result"
    }
   ],
   "source": [
    "len(output_padded)"
   ]
  },
  {
   "cell_type": "code",
   "execution_count": 27,
   "metadata": {},
   "outputs": [
    {
     "data": {
      "text/plain": [
       "tensor([51, 16, 11,  8, 13, 13,  5,  6, 12,  2,  5,  3, 11,  8, 36,  2, 17, 18,\n",
       "         2,  1, 14,  1, 27,  6, 17,  4,  4,  1,  1, 32, 13,  7,  7, 28,  6, 14,\n",
       "        11, 11, 30,  2,  9,  5, 45, 22, 19,  8,  2, 54,  6,  9,  8,  2,  2,  4,\n",
       "        16, 28, 10, 14,  6,  2,  2, 10, 16,  2])"
      ]
     },
     "execution_count": 27,
     "metadata": {},
     "output_type": "execute_result"
    }
   ],
   "source": [
    "output_lengths"
   ]
  },
  {
   "cell_type": "code",
   "execution_count": 48,
   "metadata": {
    "scrolled": true
   },
   "outputs": [
    {
     "ename": "IndexError",
     "evalue": "index -7 is out of bounds for dimension 0 with size 6",
     "output_type": "error",
     "traceback": [
      "\u001b[1;31m---------------------------------------------------------------------------\u001b[0m",
      "\u001b[1;31mIndexError\u001b[0m                                Traceback (most recent call last)",
      "\u001b[1;32m<ipython-input-48-bc00ea9470ce>\u001b[0m in \u001b[0;36m<module>\u001b[1;34m\u001b[0m\n\u001b[1;32m----> 1\u001b[1;33m \u001b[0mhidden\u001b[0m\u001b[1;33m[\u001b[0m\u001b[1;36m0\u001b[0m\u001b[1;33m]\u001b[0m\u001b[1;33m[\u001b[0m\u001b[1;33m-\u001b[0m\u001b[1;36m7\u001b[0m\u001b[1;33m]\u001b[0m\u001b[1;33m[\u001b[0m\u001b[1;36m50\u001b[0m\u001b[1;33m]\u001b[0m\u001b[1;33m\u001b[0m\u001b[1;33m\u001b[0m\u001b[0m\n\u001b[0m",
      "\u001b[1;31mIndexError\u001b[0m: index -7 is out of bounds for dimension 0 with size 6"
     ]
    }
   ],
   "source": []
  },
  {
   "cell_type": "code",
   "execution_count": 28,
   "metadata": {
    "scrolled": true
   },
   "outputs": [
    {
     "data": {
      "text/plain": [
       "tensor([-5.9190e-03, -1.5230e-02, -7.5413e-03, -7.2073e-03, -2.4762e-02,\n",
       "        -5.6826e-03,  6.4365e-02,  5.9067e-02, -5.2693e-02, -1.8924e-02,\n",
       "        -4.9723e-03, -6.1614e-03,  5.2086e-02,  2.0027e-02,  3.5750e-02,\n",
       "         2.7181e-02,  3.3520e-02, -5.9294e-03, -9.8193e-03,  5.2015e-02,\n",
       "        -3.7775e-02,  1.0651e-01,  3.9653e-02, -3.3403e-02, -3.7686e-02,\n",
       "         3.6214e-04, -3.8028e-02, -2.1626e-02,  2.3252e-02,  2.6240e-02,\n",
       "        -4.1544e-02,  1.1283e-02,  1.8556e-02, -1.2304e-02, -4.8137e-02,\n",
       "        -2.6861e-03,  4.9958e-02,  2.0638e-02, -3.4120e-02,  8.3136e-02,\n",
       "         2.1368e-02, -3.0862e-02, -1.9631e-02,  2.8949e-02,  1.6375e-02,\n",
       "        -2.2736e-02, -2.3491e-02,  3.8739e-02,  2.3731e-02,  4.4524e-02,\n",
       "        -3.8558e-02, -3.6590e-02,  8.5405e-03,  2.3612e-02, -2.6721e-02,\n",
       "        -9.7448e-03, -1.6330e-02,  3.4728e-02,  1.6256e-02, -6.2258e-02,\n",
       "        -1.5500e-02,  9.3484e-03,  2.3413e-02,  2.3902e-02, -2.0841e-02,\n",
       "         1.5728e-02,  1.8921e-02,  4.9641e-02, -6.1517e-03, -1.5438e-03,\n",
       "         1.8229e-02, -2.2540e-03,  6.2815e-02, -6.1236e-03, -3.2217e-03,\n",
       "        -3.2075e-02,  3.7890e-02, -1.0901e-02,  1.4903e-02, -3.4181e-03,\n",
       "         5.0063e-02,  2.0668e-02, -7.3688e-02,  1.6015e-02, -1.4209e-02,\n",
       "         2.2007e-02, -1.0122e-02,  3.8065e-02,  2.2059e-02,  1.7739e-02,\n",
       "         2.2152e-02,  6.1685e-03,  3.8379e-02,  4.6063e-03,  1.6357e-03,\n",
       "         1.1856e-02, -3.0038e-02, -6.3517e-02,  4.6413e-02, -2.2829e-02,\n",
       "        -2.8704e-02, -2.5585e-02,  1.8970e-03, -2.9140e-02,  7.8107e-03,\n",
       "        -6.0680e-02, -8.2258e-03,  2.7296e-02, -8.3313e-03, -3.6900e-02,\n",
       "         6.1985e-02,  7.8176e-02, -6.7400e-02,  1.3138e-02,  1.5662e-04,\n",
       "        -4.1079e-02,  1.7991e-02,  2.4515e-02,  2.7949e-02, -2.0251e-03,\n",
       "        -1.9284e-02,  2.3006e-02,  2.6417e-02, -3.0428e-02,  3.1083e-03,\n",
       "         9.2155e-02,  1.3076e-02,  1.9657e-02, -7.1391e-03, -4.8858e-02,\n",
       "         2.8926e-02, -2.0058e-02, -2.7769e-02,  4.5827e-02,  2.5340e-02,\n",
       "        -4.3367e-02, -6.3662e-02,  4.4605e-02, -1.4584e-02,  4.0494e-02,\n",
       "         6.9753e-02,  3.6955e-03, -8.0190e-03,  7.1538e-03, -3.5510e-02,\n",
       "         6.6004e-03, -3.3199e-02, -1.4604e-02, -8.2284e-03, -1.5808e-02,\n",
       "         3.8951e-02,  2.2196e-03, -7.2643e-03,  1.5455e-02, -3.0184e-02,\n",
       "         1.0499e-02,  2.1912e-02, -5.7813e-02, -3.2788e-02, -2.6976e-02,\n",
       "         1.1142e-02, -1.1260e-02, -3.4462e-02,  3.4447e-03,  1.0205e-02,\n",
       "         1.6504e-02, -2.9257e-02, -4.9209e-02, -4.3430e-03, -1.0021e-02,\n",
       "         2.5924e-02,  1.5462e-02,  3.4008e-02,  2.2311e-03,  2.7600e-02,\n",
       "        -2.4068e-02,  5.2691e-02, -1.0579e-02,  2.0410e-02, -5.3465e-02,\n",
       "        -1.9154e-02,  8.7688e-03, -3.6013e-02,  1.8774e-02, -2.1723e-02,\n",
       "         2.0499e-02,  1.4603e-02,  1.3557e-03,  2.0844e-02, -2.4372e-02,\n",
       "         5.0004e-02,  3.4709e-03, -1.8583e-02,  5.0225e-03, -3.3575e-02,\n",
       "         5.1627e-03,  3.2217e-02,  1.6366e-03, -2.0064e-02,  1.3512e-02,\n",
       "        -2.4260e-02,  3.1826e-02,  6.0912e-03, -4.1722e-02,  3.2212e-02,\n",
       "        -1.8964e-02,  2.2970e-02,  1.1180e-02, -1.3848e-02,  5.5495e-02,\n",
       "         9.7681e-03,  8.7752e-03,  1.8787e-03,  9.5651e-03, -2.9912e-02,\n",
       "         4.1549e-03, -8.0530e-03, -2.4341e-02,  2.2465e-02, -1.6619e-02,\n",
       "         1.6138e-02,  4.0383e-02, -1.8393e-02,  2.7836e-02, -1.5399e-02,\n",
       "         3.2320e-02, -8.5524e-03, -3.5001e-02, -2.8089e-02, -4.3241e-04,\n",
       "        -3.3013e-02, -2.5726e-02, -4.6513e-02,  1.7239e-02,  2.6385e-02,\n",
       "        -2.5788e-02, -2.4745e-02, -4.2617e-02, -2.8922e-02,  2.9923e-03,\n",
       "        -1.2644e-02, -3.4495e-02, -5.8319e-03, -2.6226e-02, -8.1580e-02,\n",
       "        -5.8744e-04,  2.4323e-02,  4.4005e-03,  1.6956e-02, -9.6968e-03,\n",
       "         8.1891e-03,  7.4471e-02,  3.4752e-02, -3.4592e-03,  4.9637e-03,\n",
       "        -2.5072e-03, -3.7760e-03,  2.5117e-02,  9.2213e-03,  1.5633e-02,\n",
       "        -5.6965e-04, -1.5799e-02, -1.8660e-02,  8.9174e-03,  1.5585e-02,\n",
       "        -2.8000e-03, -1.7395e-02,  8.4895e-03,  1.2472e-02, -1.3508e-03,\n",
       "        -3.5205e-02,  1.6401e-02, -8.9416e-03,  1.6190e-02, -1.3390e-02,\n",
       "        -2.8831e-03, -5.8765e-03,  1.1912e-02,  3.0738e-02, -2.2315e-02,\n",
       "        -7.2353e-04,  2.0684e-02,  5.5912e-03,  3.0513e-02, -1.7868e-03,\n",
       "        -7.9917e-03, -1.5263e-02,  4.4218e-04,  5.5825e-03,  2.1497e-04,\n",
       "         1.6198e-02, -7.2679e-03, -1.5605e-02, -2.4116e-02, -2.9838e-03,\n",
       "        -2.4996e-02,  5.9518e-03, -1.0888e-02, -1.8001e-04,  1.1017e-02,\n",
       "         2.0640e-02,  1.7283e-02, -2.8909e-02, -2.0052e-02, -2.4395e-03,\n",
       "        -1.0319e-02,  4.5595e-03,  4.4600e-03, -2.5146e-02, -1.8491e-02,\n",
       "         1.6981e-02,  4.7772e-03,  6.2653e-03, -1.5201e-02,  1.3682e-02,\n",
       "        -4.5796e-03,  1.8813e-02, -1.1434e-02,  6.4658e-05,  4.3654e-03,\n",
       "         1.3128e-02,  1.3733e-02, -1.5801e-02,  1.6981e-02, -4.2091e-04,\n",
       "         3.4290e-02,  1.2705e-02,  2.0831e-02, -4.1060e-03,  2.3365e-02,\n",
       "         1.1275e-02,  2.4218e-02,  1.0941e-02, -9.6420e-03,  1.3834e-02,\n",
       "         3.2125e-02, -1.6872e-02,  1.8943e-03,  1.1228e-02, -2.2663e-03,\n",
       "         1.6003e-02, -8.7480e-03,  2.6723e-02, -2.3702e-03, -1.7428e-02,\n",
       "         1.4510e-02, -2.9590e-02, -1.0300e-02, -1.9188e-02,  1.3702e-02,\n",
       "        -1.9885e-02,  1.3266e-02,  7.2155e-03,  9.3001e-03,  9.7213e-03,\n",
       "         1.0548e-02, -7.3480e-03,  1.9286e-02,  4.1321e-03, -1.9891e-02,\n",
       "        -2.1740e-02, -4.3925e-03,  1.5211e-02, -2.0652e-04, -1.3098e-02,\n",
       "        -1.2747e-03,  2.7159e-03, -2.6082e-03,  1.0809e-02, -2.9657e-02,\n",
       "         7.9270e-03, -1.2037e-02,  1.2920e-03, -2.7487e-03, -1.9828e-02,\n",
       "        -2.0689e-02, -1.2023e-02, -2.3077e-02,  1.3823e-03, -2.8483e-02,\n",
       "        -9.5037e-03, -2.2694e-03,  2.7285e-02,  2.3649e-02,  1.3916e-02,\n",
       "         1.6805e-03,  2.2240e-03, -3.0109e-03, -8.5258e-03, -2.0177e-02,\n",
       "         1.1586e-02, -7.0481e-04,  2.5506e-03,  9.7157e-03, -1.5578e-02,\n",
       "         2.0060e-02, -4.2386e-03, -2.0455e-02,  9.0764e-03,  1.1231e-02,\n",
       "        -5.8674e-03, -8.8668e-03,  1.1091e-03,  1.6854e-02,  1.4833e-02,\n",
       "         2.3265e-03, -1.5966e-02,  3.7336e-03,  8.0000e-03, -1.3134e-02,\n",
       "         4.7975e-03,  4.6826e-03,  2.0502e-02,  2.4879e-02, -2.4594e-02,\n",
       "        -6.6339e-03,  1.4200e-04, -1.5403e-02, -7.2694e-03, -3.0887e-02,\n",
       "        -2.7041e-02, -2.3584e-02,  1.9842e-02,  2.2458e-03,  1.5537e-02,\n",
       "        -4.3561e-03, -2.6957e-02, -2.6145e-02, -2.4644e-03,  8.0864e-03,\n",
       "        -3.3716e-02,  4.9204e-03, -1.5386e-02, -2.3247e-02,  7.3381e-03,\n",
       "         4.1337e-03, -2.0408e-02, -2.4599e-03,  2.1351e-02, -1.3113e-02,\n",
       "        -3.3558e-03, -2.3846e-02,  9.7657e-04, -3.0909e-03,  1.3951e-03,\n",
       "         1.2102e-02,  8.9930e-03, -2.7188e-03, -1.7570e-02,  2.7106e-03,\n",
       "         4.9490e-03,  2.1721e-02, -2.6169e-02,  1.0300e-02,  8.9243e-03,\n",
       "         1.7380e-03,  2.8126e-02, -8.9683e-03,  2.5784e-03,  1.5192e-02,\n",
       "        -2.5179e-02, -1.4766e-02, -5.6290e-03, -1.2896e-02,  1.5467e-02,\n",
       "        -6.3172e-03,  2.2040e-02,  1.3662e-02,  2.1262e-02, -3.1921e-02,\n",
       "         2.1082e-03, -1.2587e-02, -3.9623e-02, -2.0522e-02, -5.0765e-03,\n",
       "         4.2708e-03,  5.9806e-03,  2.2154e-02, -1.2270e-02, -2.6210e-02,\n",
       "        -2.0841e-02, -1.8518e-02,  6.2380e-03, -6.3618e-03, -3.9563e-03,\n",
       "        -3.1568e-03, -6.6853e-03, -7.6660e-03, -2.4647e-02,  9.2927e-03,\n",
       "         9.0696e-04,  7.0230e-03, -1.0839e-03,  1.3718e-02,  5.5576e-03,\n",
       "        -2.3535e-02,  1.4870e-02,  1.7750e-02,  6.2336e-04,  1.0100e-02,\n",
       "        -1.2937e-02,  9.9042e-03,  5.8797e-03, -1.8582e-03, -1.9256e-02,\n",
       "         2.8434e-02, -2.0691e-03,  1.6127e-02, -2.3022e-02,  2.7821e-02,\n",
       "         2.6156e-03,  8.4294e-03], device='cuda:0', grad_fn=<SelectBackward>)"
      ]
     },
     "execution_count": 28,
     "metadata": {},
     "output_type": "execute_result"
    }
   ],
   "source": [
    "output_padded[0][50]"
   ]
  },
  {
   "cell_type": "code",
   "execution_count": 25,
   "metadata": {},
   "outputs": [
    {
     "data": {
      "text/plain": [
       "tensor([-0.0059, -0.0152, -0.0075, -0.0072, -0.0248, -0.0057,  0.0644,  0.0591,\n",
       "        -0.0527, -0.0189, -0.0050, -0.0062,  0.0521,  0.0200,  0.0357,  0.0272,\n",
       "         0.0335, -0.0059, -0.0098,  0.0520, -0.0378,  0.1065,  0.0397, -0.0334,\n",
       "        -0.0377,  0.0004, -0.0380, -0.0216,  0.0233,  0.0262, -0.0415,  0.0113,\n",
       "         0.0186, -0.0123, -0.0481, -0.0027,  0.0500,  0.0206, -0.0341,  0.0831,\n",
       "         0.0214, -0.0309, -0.0196,  0.0289,  0.0164, -0.0227, -0.0235,  0.0387,\n",
       "         0.0237,  0.0445, -0.0386, -0.0366,  0.0085,  0.0236, -0.0267, -0.0097,\n",
       "        -0.0163,  0.0347,  0.0163, -0.0623, -0.0155,  0.0093,  0.0234,  0.0239,\n",
       "        -0.0208,  0.0157,  0.0189,  0.0496, -0.0062, -0.0015,  0.0182, -0.0023,\n",
       "         0.0628, -0.0061, -0.0032, -0.0321,  0.0379, -0.0109,  0.0149, -0.0034,\n",
       "         0.0501,  0.0207, -0.0737,  0.0160, -0.0142,  0.0220, -0.0101,  0.0381,\n",
       "         0.0221,  0.0177,  0.0222,  0.0062,  0.0384,  0.0046,  0.0016,  0.0119,\n",
       "        -0.0300, -0.0635,  0.0464, -0.0228, -0.0287, -0.0256,  0.0019, -0.0291,\n",
       "         0.0078, -0.0607, -0.0082,  0.0273, -0.0083, -0.0369,  0.0620,  0.0782,\n",
       "        -0.0674,  0.0131,  0.0002, -0.0411,  0.0180,  0.0245,  0.0279, -0.0020,\n",
       "        -0.0193,  0.0230,  0.0264, -0.0304,  0.0031,  0.0922,  0.0131,  0.0197,\n",
       "        -0.0071, -0.0489,  0.0289, -0.0201, -0.0278,  0.0458,  0.0253, -0.0434,\n",
       "        -0.0637,  0.0446, -0.0146,  0.0405,  0.0698,  0.0037, -0.0080,  0.0072,\n",
       "        -0.0355,  0.0066, -0.0332, -0.0146, -0.0082, -0.0158,  0.0390,  0.0022,\n",
       "        -0.0073,  0.0155, -0.0302,  0.0105,  0.0219, -0.0578, -0.0328, -0.0270,\n",
       "         0.0111, -0.0113, -0.0345,  0.0034,  0.0102,  0.0165, -0.0293, -0.0492,\n",
       "        -0.0043, -0.0100,  0.0259,  0.0155,  0.0340,  0.0022,  0.0276, -0.0241,\n",
       "         0.0527, -0.0106,  0.0204, -0.0535, -0.0192,  0.0088, -0.0360,  0.0188,\n",
       "        -0.0217,  0.0205,  0.0146,  0.0014,  0.0208, -0.0244,  0.0500,  0.0035,\n",
       "        -0.0186,  0.0050, -0.0336,  0.0052,  0.0322,  0.0016, -0.0201,  0.0135,\n",
       "        -0.0243,  0.0318,  0.0061, -0.0417,  0.0322, -0.0190,  0.0230,  0.0112,\n",
       "        -0.0138,  0.0555,  0.0098,  0.0088,  0.0019,  0.0096, -0.0299,  0.0042,\n",
       "        -0.0081, -0.0243,  0.0225, -0.0166,  0.0161,  0.0404, -0.0184,  0.0278,\n",
       "        -0.0154,  0.0323, -0.0086, -0.0350, -0.0281, -0.0004, -0.0330, -0.0257,\n",
       "        -0.0465,  0.0172,  0.0264, -0.0258, -0.0247, -0.0426, -0.0289,  0.0030,\n",
       "        -0.0126, -0.0345, -0.0058, -0.0262, -0.0816, -0.0006,  0.0243,  0.0044,\n",
       "         0.0170, -0.0097,  0.0082,  0.0745,  0.0348, -0.0035,  0.0050, -0.0025],\n",
       "       device='cuda:0', grad_fn=<SelectBackward>)"
      ]
     },
     "execution_count": 25,
     "metadata": {},
     "output_type": "execute_result"
    }
   ],
   "source": [
    "out_forward[0]"
   ]
  },
  {
   "cell_type": "code",
   "execution_count": 34,
   "metadata": {},
   "outputs": [
    {
     "data": {
      "text/plain": [
       "tensor([ 0.0346, -0.0100,  0.0263, -0.0163,  0.0316, -0.0159,  0.0229, -0.0443,\n",
       "         0.0030,  0.0235,  0.0277, -0.0410, -0.0196,  0.0134, -0.0103, -0.0093,\n",
       "         0.0037,  0.0173, -0.0139, -0.0355, -0.0274,  0.0103,  0.0401, -0.0079,\n",
       "        -0.0093,  0.0378, -0.0052,  0.0063,  0.0368,  0.0008,  0.0123, -0.0025,\n",
       "        -0.0154,  0.0067,  0.0189, -0.0226, -0.0170, -0.0243,  0.0017,  0.0338,\n",
       "        -0.0233, -0.0184, -0.0308, -0.0095,  0.0226, -0.0163, -0.0439,  0.0120,\n",
       "        -0.0161,  0.0222,  0.0238, -0.0067, -0.0076,  0.0030, -0.0020,  0.0161,\n",
       "        -0.0122, -0.0065, -0.0190, -0.0126, -0.0372,  0.0219, -0.0082, -0.0299,\n",
       "         0.0083, -0.0265, -0.0108, -0.0131, -0.0416,  0.0148, -0.0104,  0.0056,\n",
       "        -0.0228,  0.0350,  0.0304,  0.0160, -0.0340,  0.0158, -0.0100, -0.0075,\n",
       "         0.0037, -0.0019,  0.0377, -0.0040,  0.0091,  0.0449, -0.0037,  0.0258,\n",
       "         0.0036,  0.0083, -0.0138, -0.0154,  0.0039,  0.0063, -0.0168,  0.0185,\n",
       "         0.0244, -0.0021, -0.0150,  0.0028,  0.0032, -0.0304, -0.0210,  0.0138,\n",
       "        -0.0018,  0.0039, -0.0285,  0.0339, -0.0249, -0.0189, -0.0142,  0.0052,\n",
       "        -0.0460,  0.0153, -0.0375, -0.0341, -0.0022,  0.0083,  0.0284, -0.0421,\n",
       "         0.0139, -0.0043, -0.0169,  0.0112, -0.0269,  0.0124,  0.0302,  0.0126,\n",
       "         0.0030, -0.0221,  0.0063, -0.0199, -0.0016, -0.0033,  0.0234, -0.0108,\n",
       "        -0.0079, -0.0051, -0.0364,  0.0345, -0.0309,  0.0150, -0.0186,  0.0078,\n",
       "        -0.0029, -0.0182, -0.0351,  0.0017, -0.0023,  0.0200,  0.0089,  0.0093,\n",
       "         0.0314, -0.0134,  0.0066,  0.0173, -0.0331,  0.0335,  0.0151, -0.0019,\n",
       "         0.0320, -0.0338, -0.0183,  0.0198,  0.0276,  0.0230, -0.0033,  0.0071,\n",
       "        -0.0327,  0.0085, -0.0222,  0.0113, -0.0215, -0.0402, -0.0189, -0.0137,\n",
       "        -0.0115,  0.0084,  0.0114,  0.0063,  0.0541, -0.0325, -0.0029, -0.0080,\n",
       "        -0.0048, -0.0131, -0.0359, -0.0011, -0.0303,  0.0101,  0.0063,  0.0043,\n",
       "        -0.0019,  0.0173, -0.0381,  0.0426, -0.0097,  0.0059,  0.0256, -0.0038,\n",
       "        -0.0133,  0.0065, -0.0105,  0.0342,  0.0085,  0.0331,  0.0111,  0.0232,\n",
       "         0.0314, -0.0004,  0.0138, -0.0099,  0.0038,  0.0279,  0.0410, -0.0055,\n",
       "         0.0081, -0.0017,  0.0035, -0.0108, -0.0063, -0.0068, -0.0187, -0.0291,\n",
       "         0.0054, -0.0043, -0.0197,  0.0395, -0.0432, -0.0399, -0.0138, -0.0122,\n",
       "         0.0267, -0.0439, -0.0277, -0.0281, -0.0155, -0.0272, -0.0271, -0.0198,\n",
       "        -0.0396, -0.0085, -0.0217, -0.0368,  0.0184,  0.0009, -0.0319, -0.0108,\n",
       "        -0.0180, -0.0140, -0.0055,  0.0319,  0.0098,  0.0290,  0.0068,  0.0169],\n",
       "       grad_fn=<SliceBackward>)"
      ]
     },
     "execution_count": 34,
     "metadata": {},
     "output_type": "execute_result"
    }
   ],
   "source": [
    "output_padded[0,1,:256]"
   ]
  },
  {
   "cell_type": "code",
   "execution_count": 76,
   "metadata": {},
   "outputs": [
    {
     "data": {
      "text/plain": [
       "tensor([[ 5.0117e-02, -2.9023e-02,  3.4484e-02,  ...,  3.9410e-02,\n",
       "         -4.8543e-03,  6.6601e-03],\n",
       "        [ 2.4917e-02, -5.5243e-03, -3.9486e-04,  ...,  3.4679e-02,\n",
       "          3.5346e-05,  2.1544e-03],\n",
       "        [ 5.0238e-02, -2.3139e-02,  2.2175e-02,  ...,  4.0976e-02,\n",
       "          1.4420e-02,  1.0434e-02],\n",
       "        ...,\n",
       "        [ 3.5533e-02, -1.0150e-02,  3.3349e-02,  ...,  2.9045e-02,\n",
       "          9.4207e-03,  1.6960e-02],\n",
       "        [ 1.6531e-02, -9.7477e-03,  6.3999e-03,  ...,  2.8662e-02,\n",
       "          3.6536e-02,  7.6249e-04],\n",
       "        [ 5.2807e-02,  3.6283e-03,  2.3245e-02,  ...,  3.3590e-02,\n",
       "          1.2170e-02,  9.4513e-03]], grad_fn=<IndexBackward>)"
      ]
     },
     "execution_count": 76,
     "metadata": {},
     "output_type": "execute_result"
    }
   ],
   "source": [
    "out_forward = output_padded[range(len(output_padded)), output_lengths-1,:model.embedding_dim*2]\n",
    "out_forward"
   ]
  },
  {
   "cell_type": "code",
   "execution_count": 80,
   "metadata": {},
   "outputs": [
    {
     "data": {
      "text/plain": [
       "tensor([[ 0.0501, -0.0290,  0.0345,  ..., -0.0208,  0.0491, -0.0386],\n",
       "        [ 0.0249, -0.0055, -0.0004,  ..., -0.0257,  0.0461, -0.0202],\n",
       "        [ 0.0502, -0.0231,  0.0222,  ..., -0.0026,  0.0555, -0.0420],\n",
       "        ...,\n",
       "        [ 0.0355, -0.0101,  0.0333,  ...,  0.0026,  0.0660,  0.0036],\n",
       "        [ 0.0165, -0.0097,  0.0064,  ...,  0.0166,  0.0711, -0.0235],\n",
       "        [ 0.0528,  0.0036,  0.0232,  ..., -0.0085,  0.0346, -0.0208]],\n",
       "       grad_fn=<CatBackward>)"
      ]
     },
     "execution_count": 80,
     "metadata": {},
     "output_type": "execute_result"
    }
   ],
   "source": [
    "aaa = torch.cat((out_forward, out_backward), dim=1)\n",
    "aaa"
   ]
  },
  {
   "cell_type": "code",
   "execution_count": 82,
   "metadata": {},
   "outputs": [
    {
     "data": {
      "text/plain": [
       "tensor([[ 0.0501, -0.0290,  0.0345,  ..., -0.0208,  0.0491, -0.0386],\n",
       "        [ 0.0249, -0.0055, -0.0004,  ..., -0.0257,  0.0461, -0.0202],\n",
       "        [ 0.0502, -0.0231,  0.0222,  ..., -0.0026,  0.0555, -0.0420],\n",
       "        ...,\n",
       "        [ 0.0355, -0.0101,  0.0333,  ...,  0.0026,  0.0660,  0.0036],\n",
       "        [ 0.0165, -0.0097,  0.0064,  ...,  0.0166,  0.0711, -0.0235],\n",
       "        [ 0.0528,  0.0036,  0.0232,  ..., -0.0085,  0.0346, -0.0208]],\n",
       "       grad_fn=<CatBackward>)"
      ]
     },
     "execution_count": 82,
     "metadata": {},
     "output_type": "execute_result"
    }
   ],
   "source": [
    "bbb = torch.cat((hidden[0][-2,:,:], hidden[0][-1,:,:]), dim=1)\n",
    "bbb"
   ]
  },
  {
   "cell_type": "code",
   "execution_count": 83,
   "metadata": {},
   "outputs": [
    {
     "data": {
      "text/plain": [
       "tensor([[True, True, True,  ..., True, True, True],\n",
       "        [True, True, True,  ..., True, True, True],\n",
       "        [True, True, True,  ..., True, True, True],\n",
       "        ...,\n",
       "        [True, True, True,  ..., True, True, True],\n",
       "        [True, True, True,  ..., True, True, True],\n",
       "        [True, True, True,  ..., True, True, True]])"
      ]
     },
     "execution_count": 83,
     "metadata": {},
     "output_type": "execute_result"
    }
   ],
   "source": [
    "aaa == bbb"
   ]
  },
  {
   "cell_type": "code",
   "execution_count": 75,
   "metadata": {},
   "outputs": [
    {
     "data": {
      "text/plain": [
       "tensor([[ 1.7168e-02, -6.0795e-02, -9.8225e-04,  ...,  3.9410e-02,\n",
       "         -4.8543e-03,  6.6601e-03],\n",
       "        [-5.5305e-03, -2.8271e-02, -1.9069e-02,  ...,  3.4679e-02,\n",
       "          3.5346e-05,  2.1544e-03],\n",
       "        [-1.8045e-02, -8.0032e-02, -3.0521e-02,  ...,  4.0976e-02,\n",
       "          1.4420e-02,  1.0434e-02],\n",
       "        ...,\n",
       "        [ 2.2861e-02, -5.7726e-02,  4.1354e-03,  ...,  2.9045e-02,\n",
       "          9.4207e-03,  1.6960e-02],\n",
       "        [-2.3502e-03, -6.6451e-02, -1.3674e-02,  ...,  2.8662e-02,\n",
       "          3.6536e-02,  7.6249e-04],\n",
       "        [-9.7136e-05, -5.6657e-02,  2.2662e-04,  ...,  3.3590e-02,\n",
       "          1.2170e-02,  9.4513e-03]], grad_fn=<CatBackward>)"
      ]
     },
     "execution_count": 75,
     "metadata": {},
     "output_type": "execute_result"
    }
   ],
   "source": [
    "bbb"
   ]
  },
  {
   "cell_type": "code",
   "execution_count": 77,
   "metadata": {},
   "outputs": [
    {
     "data": {
      "text/plain": [
       "tensor([[ 5.0117e-02, -2.9023e-02,  3.4484e-02,  ...,  3.9410e-02,\n",
       "         -4.8543e-03,  6.6601e-03],\n",
       "        [ 2.4917e-02, -5.5243e-03, -3.9486e-04,  ...,  3.4679e-02,\n",
       "          3.5346e-05,  2.1544e-03],\n",
       "        [ 5.0238e-02, -2.3139e-02,  2.2175e-02,  ...,  4.0976e-02,\n",
       "          1.4420e-02,  1.0434e-02],\n",
       "        ...,\n",
       "        [ 3.5533e-02, -1.0150e-02,  3.3349e-02,  ...,  2.9045e-02,\n",
       "          9.4207e-03,  1.6960e-02],\n",
       "        [ 1.6531e-02, -9.7477e-03,  6.3999e-03,  ...,  2.8662e-02,\n",
       "          3.6536e-02,  7.6249e-04],\n",
       "        [ 5.2807e-02,  3.6283e-03,  2.3245e-02,  ...,  3.3590e-02,\n",
       "          1.2170e-02,  9.4513e-03]], grad_fn=<SelectBackward>)"
      ]
     },
     "execution_count": 77,
     "metadata": {},
     "output_type": "execute_result"
    }
   ],
   "source": [
    "hidden[0][-2]"
   ]
  },
  {
   "cell_type": "code",
   "execution_count": 53,
   "metadata": {},
   "outputs": [
    {
     "data": {
      "text/plain": [
       "tensor([[[ 0.0145, -0.0488, -0.0086,  ..., -0.0120,  0.0300, -0.0194],\n",
       "         [ 0.0145, -0.0488, -0.0086,  ..., -0.0120,  0.0300, -0.0194],\n",
       "         [ 0.0145, -0.0488, -0.0086,  ..., -0.0120,  0.0300, -0.0194],\n",
       "         ...,\n",
       "         [ 0.0000,  0.0000,  0.0000,  ...,  0.0000,  0.0000,  0.0000],\n",
       "         [ 0.0000,  0.0000,  0.0000,  ...,  0.0000,  0.0000,  0.0000],\n",
       "         [ 0.0000,  0.0000,  0.0000,  ...,  0.0000,  0.0000,  0.0000]],\n",
       "\n",
       "        [[-0.0004, -0.0191, -0.0141,  ..., -0.0104,  0.0468, -0.0158],\n",
       "         [-0.0004, -0.0191, -0.0141,  ..., -0.0104,  0.0468, -0.0158],\n",
       "         [-0.0004, -0.0191, -0.0141,  ..., -0.0104,  0.0468, -0.0158],\n",
       "         ...,\n",
       "         [ 0.0000,  0.0000,  0.0000,  ...,  0.0000,  0.0000,  0.0000],\n",
       "         [ 0.0000,  0.0000,  0.0000,  ...,  0.0000,  0.0000,  0.0000],\n",
       "         [ 0.0000,  0.0000,  0.0000,  ...,  0.0000,  0.0000,  0.0000]],\n",
       "\n",
       "        [[ 0.0045, -0.0540, -0.0191,  ..., -0.0064,  0.0463, -0.0241],\n",
       "         [ 0.0045, -0.0540, -0.0191,  ..., -0.0064,  0.0463, -0.0241],\n",
       "         [ 0.0045, -0.0540, -0.0191,  ..., -0.0064,  0.0463, -0.0241],\n",
       "         ...,\n",
       "         [ 0.0000,  0.0000,  0.0000,  ...,  0.0000,  0.0000,  0.0000],\n",
       "         [ 0.0000,  0.0000,  0.0000,  ...,  0.0000,  0.0000,  0.0000],\n",
       "         [ 0.0000,  0.0000,  0.0000,  ...,  0.0000,  0.0000,  0.0000]],\n",
       "\n",
       "        ...,\n",
       "\n",
       "        [[ 0.0084, -0.0493,  0.0053,  ..., -0.0024,  0.0528,  0.0064],\n",
       "         [ 0.0084, -0.0493,  0.0053,  ..., -0.0024,  0.0528,  0.0064],\n",
       "         [ 0.0084, -0.0493,  0.0053,  ..., -0.0024,  0.0528,  0.0064],\n",
       "         ...,\n",
       "         [ 0.0055, -0.0417, -0.0036,  ..., -0.0046,  0.0437, -0.0267],\n",
       "         [ 0.0022, -0.0534,  0.0034,  ..., -0.0134,  0.0364, -0.0295],\n",
       "         [ 0.0108, -0.0625,  0.0069,  ..., -0.0223,  0.0356, -0.0200]],\n",
       "\n",
       "        [[ 0.0016, -0.0590, -0.0033,  ...,  0.0141,  0.0722, -0.0106],\n",
       "         [ 0.0016, -0.0590, -0.0033,  ...,  0.0141,  0.0722, -0.0106],\n",
       "         [ 0.0016, -0.0590, -0.0033,  ...,  0.0141,  0.0722, -0.0106],\n",
       "         ...,\n",
       "         [ 0.0000,  0.0000,  0.0000,  ...,  0.0000,  0.0000,  0.0000],\n",
       "         [ 0.0172, -0.0676, -0.0136,  ...,  0.0094,  0.0390, -0.0387],\n",
       "         [ 0.0063, -0.0607, -0.0160,  ..., -0.0047,  0.0316, -0.0165]],\n",
       "\n",
       "        [[ 0.0140, -0.0522,  0.0056,  ..., -0.0164,  0.0339, -0.0125],\n",
       "         [ 0.0140, -0.0522,  0.0056,  ..., -0.0164,  0.0339, -0.0125],\n",
       "         [ 0.0140, -0.0522,  0.0056,  ..., -0.0164,  0.0339, -0.0125],\n",
       "         ...,\n",
       "         [ 0.0000,  0.0000,  0.0000,  ...,  0.0000,  0.0000,  0.0000],\n",
       "         [ 0.0000,  0.0000,  0.0000,  ...,  0.0000,  0.0000,  0.0000],\n",
       "         [ 0.0032, -0.0690, -0.0037,  ..., -0.0025,  0.0452, -0.0071]]],\n",
       "       grad_fn=<IndexBackward>)"
      ]
     },
     "execution_count": 53,
     "metadata": {},
     "output_type": "execute_result"
    }
   ],
   "source": [
    "output_padded[:, output_lengths-1, model.embedding_dim*2:]"
   ]
  },
  {
   "cell_type": "code",
   "execution_count": 78,
   "metadata": {},
   "outputs": [
    {
     "data": {
      "text/plain": [
       "tensor([[ 1.7168e-02, -6.0795e-02, -9.8225e-04,  ..., -2.0757e-02,\n",
       "          4.9101e-02, -3.8639e-02],\n",
       "        [-5.5305e-03, -2.8271e-02, -1.9069e-02,  ..., -2.5652e-02,\n",
       "          4.6070e-02, -2.0150e-02],\n",
       "        [-1.8045e-02, -8.0032e-02, -3.0521e-02,  ..., -2.6088e-03,\n",
       "          5.5506e-02, -4.1959e-02],\n",
       "        ...,\n",
       "        [ 2.2861e-02, -5.7726e-02,  4.1354e-03,  ...,  2.6459e-03,\n",
       "          6.6009e-02,  3.6255e-03],\n",
       "        [-2.3502e-03, -6.6451e-02, -1.3674e-02,  ...,  1.6643e-02,\n",
       "          7.1149e-02, -2.3500e-02],\n",
       "        [-9.7136e-05, -5.6657e-02,  2.2662e-04,  ..., -8.4521e-03,\n",
       "          3.4622e-02, -2.0802e-02]], grad_fn=<SliceBackward>)"
      ]
     },
     "execution_count": 78,
     "metadata": {},
     "output_type": "execute_result"
    }
   ],
   "source": [
    "out_backward = output_padded[:, 0, model.embedding_dim*2:]\n",
    "out_backward"
   ]
  },
  {
   "cell_type": "code",
   "execution_count": 79,
   "metadata": {},
   "outputs": [
    {
     "data": {
      "text/plain": [
       "tensor([[ 1.7168e-02, -6.0795e-02, -9.8225e-04,  ..., -2.0757e-02,\n",
       "          4.9101e-02, -3.8639e-02],\n",
       "        [-5.5305e-03, -2.8271e-02, -1.9069e-02,  ..., -2.5652e-02,\n",
       "          4.6070e-02, -2.0150e-02],\n",
       "        [-1.8045e-02, -8.0032e-02, -3.0521e-02,  ..., -2.6088e-03,\n",
       "          5.5506e-02, -4.1959e-02],\n",
       "        ...,\n",
       "        [ 2.2861e-02, -5.7726e-02,  4.1354e-03,  ...,  2.6459e-03,\n",
       "          6.6009e-02,  3.6255e-03],\n",
       "        [-2.3502e-03, -6.6451e-02, -1.3674e-02,  ...,  1.6643e-02,\n",
       "          7.1149e-02, -2.3500e-02],\n",
       "        [-9.7136e-05, -5.6657e-02,  2.2662e-04,  ..., -8.4521e-03,\n",
       "          3.4622e-02, -2.0802e-02]], grad_fn=<SelectBackward>)"
      ]
     },
     "execution_count": 79,
     "metadata": {},
     "output_type": "execute_result"
    }
   ],
   "source": [
    "hidden[0][-1]"
   ]
  },
  {
   "cell_type": "code",
   "execution_count": 57,
   "metadata": {},
   "outputs": [
    {
     "data": {
      "text/plain": [
       "torch.Size([64, 512])"
      ]
     },
     "execution_count": 57,
     "metadata": {},
     "output_type": "execute_result"
    }
   ],
   "source": [
    "torch.cat((hidden[0][-1], hidden[0][-2]), dim=1).shape"
   ]
  },
  {
   "cell_type": "code",
   "execution_count": 14,
   "metadata": {},
   "outputs": [
    {
     "data": {
      "text/plain": [
       "torch.Size([64, 73])"
      ]
     },
     "execution_count": 14,
     "metadata": {},
     "output_type": "execute_result"
    }
   ],
   "source": [
    "temp_x.shape"
   ]
  },
  {
   "cell_type": "code",
   "execution_count": 19,
   "metadata": {},
   "outputs": [
    {
     "data": {
      "text/plain": [
       "tensor(0)"
      ]
     },
     "execution_count": 19,
     "metadata": {},
     "output_type": "execute_result"
    }
   ],
   "source": [
    "temp_x[0][-1]"
   ]
  },
  {
   "cell_type": "code",
   "execution_count": null,
   "metadata": {},
   "outputs": [],
   "source": []
  },
  {
   "cell_type": "code",
   "execution_count": null,
   "metadata": {},
   "outputs": [],
   "source": []
  },
  {
   "cell_type": "code",
   "execution_count": 9,
   "metadata": {},
   "outputs": [
    {
     "data": {
      "text/plain": [
       "tensor([[[-1.5585,  0.8602,  0.8655,  ...,  0.5811, -2.4104, -0.5252],\n",
       "         [ 0.6890, -0.5026, -0.9596,  ...,  0.9239,  0.5304, -0.2593],\n",
       "         [ 0.0000,  0.0000,  0.0000,  ...,  0.0000,  0.0000,  0.0000],\n",
       "         ...,\n",
       "         [ 0.0000,  0.0000,  0.0000,  ...,  0.0000,  0.0000,  0.0000],\n",
       "         [ 0.0000,  0.0000,  0.0000,  ...,  0.0000,  0.0000,  0.0000],\n",
       "         [ 0.0000,  0.0000,  0.0000,  ...,  0.0000,  0.0000,  0.0000]],\n",
       "\n",
       "        [[ 0.9269, -0.6644, -0.3074,  ..., -0.9546, -1.2290, -0.5513],\n",
       "         [ 0.6379,  1.5721, -0.6920,  ...,  0.7210,  0.3606, -0.2311],\n",
       "         [ 0.0000,  0.0000,  0.0000,  ...,  0.0000,  0.0000,  0.0000],\n",
       "         ...,\n",
       "         [ 0.0000,  0.0000,  0.0000,  ...,  0.0000,  0.0000,  0.0000],\n",
       "         [ 0.0000,  0.0000,  0.0000,  ...,  0.0000,  0.0000,  0.0000],\n",
       "         [ 0.0000,  0.0000,  0.0000,  ...,  0.0000,  0.0000,  0.0000]],\n",
       "\n",
       "        [[-1.5585,  0.8602,  0.8655,  ...,  0.5811, -2.4104, -0.5252],\n",
       "         [ 0.6890, -0.5026, -0.9596,  ...,  0.9239,  0.5304, -0.2593],\n",
       "         [ 0.0000,  0.0000,  0.0000,  ...,  0.0000,  0.0000,  0.0000],\n",
       "         ...,\n",
       "         [ 0.0000,  0.0000,  0.0000,  ...,  0.0000,  0.0000,  0.0000],\n",
       "         [ 0.0000,  0.0000,  0.0000,  ...,  0.0000,  0.0000,  0.0000],\n",
       "         [ 0.0000,  0.0000,  0.0000,  ...,  0.0000,  0.0000,  0.0000]],\n",
       "\n",
       "        ...,\n",
       "\n",
       "        [[-1.5585,  0.8602,  0.8655,  ...,  0.5811, -2.4104, -0.5252],\n",
       "         [ 0.6890, -0.5026, -0.9596,  ...,  0.9239,  0.5304, -0.2593],\n",
       "         [ 0.0000,  0.0000,  0.0000,  ...,  0.0000,  0.0000,  0.0000],\n",
       "         ...,\n",
       "         [ 0.0000,  0.0000,  0.0000,  ...,  0.0000,  0.0000,  0.0000],\n",
       "         [ 0.0000,  0.0000,  0.0000,  ...,  0.0000,  0.0000,  0.0000],\n",
       "         [ 0.0000,  0.0000,  0.0000,  ...,  0.0000,  0.0000,  0.0000]],\n",
       "\n",
       "        [[-1.5585,  0.8602,  0.8655,  ...,  0.5811, -2.4104, -0.5252],\n",
       "         [ 0.6890, -0.5026, -0.9596,  ...,  0.9239,  0.5304, -0.2593],\n",
       "         [ 0.0000,  0.0000,  0.0000,  ...,  0.0000,  0.0000,  0.0000],\n",
       "         ...,\n",
       "         [ 0.0000,  0.0000,  0.0000,  ...,  0.0000,  0.0000,  0.0000],\n",
       "         [ 0.0000,  0.0000,  0.0000,  ...,  0.0000,  0.0000,  0.0000],\n",
       "         [ 0.0000,  0.0000,  0.0000,  ...,  0.0000,  0.0000,  0.0000]],\n",
       "\n",
       "        [[ 0.0723,  1.4882, -0.0551,  ..., -0.2288,  0.8740,  1.9333],\n",
       "         [ 0.6379,  1.5721, -0.6920,  ...,  0.7210,  0.3606, -0.2311],\n",
       "         [ 0.0000,  0.0000,  0.0000,  ...,  0.0000,  0.0000,  0.0000],\n",
       "         ...,\n",
       "         [ 0.0000,  0.0000,  0.0000,  ...,  0.0000,  0.0000,  0.0000],\n",
       "         [ 0.0000,  0.0000,  0.0000,  ...,  0.0000,  0.0000,  0.0000],\n",
       "         [ 0.0000,  0.0000,  0.0000,  ...,  0.0000,  0.0000,  0.0000]]],\n",
       "       device='cuda:0', grad_fn=<EmbeddingBackward>)"
      ]
     },
     "execution_count": 9,
     "metadata": {},
     "output_type": "execute_result"
    }
   ],
   "source": [
    "temp_input = model.embeddings(x_temp.to(device))\n",
    "temp_input"
   ]
  },
  {
   "cell_type": "code",
   "execution_count": 10,
   "metadata": {},
   "outputs": [
    {
     "data": {
      "text/plain": [
       "torch.Size([64, 36, 128])"
      ]
     },
     "execution_count": 10,
     "metadata": {},
     "output_type": "execute_result"
    }
   ],
   "source": [
    "temp_input.shape"
   ]
  },
  {
   "cell_type": "code",
   "execution_count": 11,
   "metadata": {},
   "outputs": [],
   "source": [
    "output, (fh, fc) = model.lstm(temp_input)"
   ]
  },
  {
   "cell_type": "code",
   "execution_count": 12,
   "metadata": {},
   "outputs": [
    {
     "data": {
      "text/plain": [
       "torch.Size([64, 36, 512])"
      ]
     },
     "execution_count": 12,
     "metadata": {},
     "output_type": "execute_result"
    }
   ],
   "source": [
    "output.shape"
   ]
  },
  {
   "cell_type": "code",
   "execution_count": 13,
   "metadata": {},
   "outputs": [
    {
     "data": {
      "text/plain": [
       "torch.Size([6, 64, 256])"
      ]
     },
     "execution_count": 13,
     "metadata": {},
     "output_type": "execute_result"
    }
   ],
   "source": [
    "fh.shape"
   ]
  },
  {
   "cell_type": "code",
   "execution_count": 14,
   "metadata": {},
   "outputs": [
    {
     "data": {
      "text/plain": [
       "torch.Size([6, 64, 256])"
      ]
     },
     "execution_count": 14,
     "metadata": {},
     "output_type": "execute_result"
    }
   ],
   "source": [
    "fc.shape"
   ]
  },
  {
   "cell_type": "code",
   "execution_count": 39,
   "metadata": {},
   "outputs": [
    {
     "data": {
      "text/plain": [
       "torch.Size([64, 512])"
      ]
     },
     "execution_count": 39,
     "metadata": {},
     "output_type": "execute_result"
    }
   ],
   "source": [
    "fff = torch.cat((fh[-2,:,:], fh[-1,:,:]), dim=1)\n",
    "fff.shape"
   ]
  },
  {
   "cell_type": "code",
   "execution_count": 30,
   "metadata": {},
   "outputs": [
    {
     "data": {
      "text/plain": [
       "tensor([[ 0.0443,  0.0855, -0.0822,  ..., -0.1491,  0.0526, -0.0692],\n",
       "        [ 0.0663, -0.0723, -0.0502,  ..., -0.2007, -0.1117, -0.0925],\n",
       "        [-0.0200, -0.0013,  0.0563,  ...,  0.0676, -0.1044,  0.0699],\n",
       "        ...,\n",
       "        [ 0.0046, -0.0686,  0.0098,  ..., -0.1796, -0.0161, -0.0854],\n",
       "        [-0.1584, -0.1306, -0.0351,  ..., -0.0218, -0.0293,  0.1023],\n",
       "        [-0.0271, -0.1150,  0.1615,  ...,  0.0358, -0.1038,  0.0879]],\n",
       "       device='cuda:0', grad_fn=<SelectBackward>)"
      ]
     },
     "execution_count": 30,
     "metadata": {},
     "output_type": "execute_result"
    }
   ],
   "source": [
    "fh[-1]"
   ]
  },
  {
   "cell_type": "code",
   "execution_count": 27,
   "metadata": {},
   "outputs": [
    {
     "data": {
      "text/plain": [
       "torch.Size([2, 64, 256])"
      ]
     },
     "execution_count": 27,
     "metadata": {},
     "output_type": "execute_result"
    }
   ],
   "source": [
    "fc.shape"
   ]
  },
  {
   "cell_type": "markdown",
   "metadata": {},
   "source": [
    "model.lstm(temp_x)"
   ]
  },
  {
   "cell_type": "code",
   "execution_count": 8,
   "metadata": {},
   "outputs": [
    {
     "data": {
      "application/vnd.jupyter.widget-view+json": {
       "model_id": "cc9101967800475e8b408f37368c964d",
       "version_major": 2,
       "version_minor": 0
      },
      "text/plain": [
       "HBox(children=(HTML(value='epochs'), FloatProgress(value=0.0, max=500.0), HTML(value='')))"
      ]
     },
     "metadata": {},
     "output_type": "display_data"
    },
    {
     "data": {
      "application/vnd.jupyter.widget-view+json": {
       "model_id": "eeca1ceb0b404aba9cf5e793b8f2f565",
       "version_major": 2,
       "version_minor": 0
      },
      "text/plain": [
       "HBox(children=(HTML(value='steps'), FloatProgress(value=0.0, max=3006.0), HTML(value='')))"
      ]
     },
     "metadata": {},
     "output_type": "display_data"
    },
    {
     "name": "stderr",
     "output_type": "stream",
     "text": [
      "steps: 100%|██████████| 51/51 [00:00<00:00, 269.84it/s]\n"
     ]
    },
    {
     "name": "stdout",
     "output_type": "stream",
     "text": [
      "\r",
      "\r",
      "global_Step:   0, tr_loss: 1.242780, val_loss: 1.236387\n"
     ]
    },
    {
     "name": "stderr",
     "output_type": "stream",
     "text": [
      "steps: 100%|██████████| 51/51 [00:00<00:00, 247.49it/s]"
     ]
    },
    {
     "name": "stdout",
     "output_type": "stream",
     "text": [
      "\n"
     ]
    },
    {
     "name": "stderr",
     "output_type": "stream",
     "text": [
      "\r",
      "steps: 100%|██████████| 51/51 [00:00<00:00, 249.70it/s]"
     ]
    },
    {
     "name": "stdout",
     "output_type": "stream",
     "text": [
      "\r",
      "epoch : 1, tr_loss:  0.788965, val_loss: 0.598, tr_acc: 52.14%, val_acc: 58.34%\n"
     ]
    },
    {
     "name": "stderr",
     "output_type": "stream",
     "text": [
      "\n"
     ]
    },
    {
     "data": {
      "application/vnd.jupyter.widget-view+json": {
       "model_id": "e4e236e88bb24b1aadd28d821931c516",
       "version_major": 2,
       "version_minor": 0
      },
      "text/plain": [
       "HBox(children=(HTML(value='steps'), FloatProgress(value=0.0, max=3006.0), HTML(value='')))"
      ]
     },
     "metadata": {},
     "output_type": "display_data"
    },
    {
     "name": "stderr",
     "output_type": "stream",
     "text": [
      "steps: 100%|██████████| 51/51 [00:00<00:00, 266.28it/s]"
     ]
    },
    {
     "name": "stdout",
     "output_type": "stream",
     "text": [
      "\n",
      "epoch : 2, tr_loss:  0.598789, val_loss: 0.539, tr_acc: 60.85%, val_acc: 62.87%\n"
     ]
    },
    {
     "name": "stderr",
     "output_type": "stream",
     "text": [
      "\n"
     ]
    },
    {
     "data": {
      "application/vnd.jupyter.widget-view+json": {
       "model_id": "b9baf8c7abfa445380418ed73a8923c5",
       "version_major": 2,
       "version_minor": 0
      },
      "text/plain": [
       "HBox(children=(HTML(value='steps'), FloatProgress(value=0.0, max=3006.0), HTML(value='')))"
      ]
     },
     "metadata": {},
     "output_type": "display_data"
    },
    {
     "name": "stderr",
     "output_type": "stream",
     "text": [
      "steps: 100%|██████████| 51/51 [00:00<00:00, 268.42it/s]"
     ]
    },
    {
     "name": "stdout",
     "output_type": "stream",
     "text": [
      "\n",
      "epoch : 3, tr_loss:  0.561874, val_loss: 0.512, tr_acc: 63.73%, val_acc: 66.32%\n"
     ]
    },
    {
     "name": "stderr",
     "output_type": "stream",
     "text": [
      "\n"
     ]
    },
    {
     "data": {
      "application/vnd.jupyter.widget-view+json": {
       "model_id": "0ebe4050a6ba400090e46fc4434c17ea",
       "version_major": 2,
       "version_minor": 0
      },
      "text/plain": [
       "HBox(children=(HTML(value='steps'), FloatProgress(value=0.0, max=3006.0), HTML(value='')))"
      ]
     },
     "metadata": {},
     "output_type": "display_data"
    },
    {
     "name": "stderr",
     "output_type": "stream",
     "text": [
      "steps: 100%|██████████| 51/51 [00:00<00:00, 280.21it/s]\n"
     ]
    },
    {
     "name": "stdout",
     "output_type": "stream",
     "text": [
      "\r",
      "\r",
      "global_Step: 10000, tr_loss: 0.546585, val_loss: 0.506267\n"
     ]
    },
    {
     "name": "stderr",
     "output_type": "stream",
     "text": [
      "steps: 100%|██████████| 51/51 [00:00<00:00, 269.84it/s]"
     ]
    },
    {
     "name": "stdout",
     "output_type": "stream",
     "text": [
      "\n",
      "epoch : 4, tr_loss:  0.541236, val_loss: 0.499, tr_acc: 65.24%, val_acc: 67.57%\n"
     ]
    },
    {
     "name": "stderr",
     "output_type": "stream",
     "text": [
      "\n"
     ]
    },
    {
     "data": {
      "application/vnd.jupyter.widget-view+json": {
       "model_id": "ff679b8bd114404ab60c364995162491",
       "version_major": 2,
       "version_minor": 0
      },
      "text/plain": [
       "HBox(children=(HTML(value='steps'), FloatProgress(value=0.0, max=3006.0), HTML(value='')))"
      ]
     },
     "metadata": {},
     "output_type": "display_data"
    },
    {
     "name": "stderr",
     "output_type": "stream",
     "text": [
      "steps: 100%|██████████| 51/51 [00:00<00:00, 268.42it/s]"
     ]
    },
    {
     "name": "stdout",
     "output_type": "stream",
     "text": [
      "\n",
      "epoch : 5, tr_loss:  0.526337, val_loss: 0.482, tr_acc: 66.30%, val_acc: 69.10%\n"
     ]
    },
    {
     "name": "stderr",
     "output_type": "stream",
     "text": [
      "\n"
     ]
    },
    {
     "data": {
      "application/vnd.jupyter.widget-view+json": {
       "model_id": "665e0ac171a9476badee850ad8f51c50",
       "version_major": 2,
       "version_minor": 0
      },
      "text/plain": [
       "HBox(children=(HTML(value='steps'), FloatProgress(value=0.0, max=3006.0), HTML(value='')))"
      ]
     },
     "metadata": {},
     "output_type": "display_data"
    },
    {
     "name": "stderr",
     "output_type": "stream",
     "text": [
      "steps: 100%|██████████| 51/51 [00:00<00:00, 264.48it/s]"
     ]
    },
    {
     "name": "stdout",
     "output_type": "stream",
     "text": [
      "\n",
      "epoch : 6, tr_loss:  0.514638, val_loss: 0.471, tr_acc: 67.10%, val_acc: 70.17%\n"
     ]
    },
    {
     "name": "stderr",
     "output_type": "stream",
     "text": [
      "\n"
     ]
    },
    {
     "data": {
      "application/vnd.jupyter.widget-view+json": {
       "model_id": "50f1d92d27534b858bce1e80cab96c9a",
       "version_major": 2,
       "version_minor": 0
      },
      "text/plain": [
       "HBox(children=(HTML(value='steps'), FloatProgress(value=0.0, max=3006.0), HTML(value='')))"
      ]
     },
     "metadata": {},
     "output_type": "display_data"
    },
    {
     "name": "stderr",
     "output_type": "stream",
     "text": [
      "steps: 100%|██████████| 51/51 [00:00<00:00, 280.22it/s]\n"
     ]
    },
    {
     "name": "stdout",
     "output_type": "stream",
     "text": [
      "\r",
      "\r",
      "global_Step: 20000, tr_loss: 0.506635, val_loss: 0.472101\n"
     ]
    },
    {
     "name": "stderr",
     "output_type": "stream",
     "text": [
      "steps: 100%|██████████| 51/51 [00:00<00:00, 264.92it/s]"
     ]
    },
    {
     "name": "stdout",
     "output_type": "stream",
     "text": [
      "\n",
      "epoch : 7, tr_loss:  0.505431, val_loss: 0.464, tr_acc: 67.88%, val_acc: 70.17%\n"
     ]
    },
    {
     "name": "stderr",
     "output_type": "stream",
     "text": [
      "\n"
     ]
    },
    {
     "data": {
      "application/vnd.jupyter.widget-view+json": {
       "model_id": "0d3884be1e5f4357889a5e79a756a9a8",
       "version_major": 2,
       "version_minor": 0
      },
      "text/plain": [
       "HBox(children=(HTML(value='steps'), FloatProgress(value=0.0, max=3006.0), HTML(value='')))"
      ]
     },
     "metadata": {},
     "output_type": "display_data"
    },
    {
     "name": "stderr",
     "output_type": "stream",
     "text": [
      "steps: 100%|██████████| 51/51 [00:00<00:00, 266.77it/s]"
     ]
    },
    {
     "name": "stdout",
     "output_type": "stream",
     "text": [
      "\n",
      "epoch : 8, tr_loss:  0.497748, val_loss: 0.461, tr_acc: 68.52%, val_acc: 70.94%\n"
     ]
    },
    {
     "name": "stderr",
     "output_type": "stream",
     "text": [
      "\n"
     ]
    },
    {
     "data": {
      "application/vnd.jupyter.widget-view+json": {
       "model_id": "97f087c70a9d445792dafd5dbb6c4738",
       "version_major": 2,
       "version_minor": 0
      },
      "text/plain": [
       "HBox(children=(HTML(value='steps'), FloatProgress(value=0.0, max=3006.0), HTML(value='')))"
      ]
     },
     "metadata": {},
     "output_type": "display_data"
    },
    {
     "name": "stderr",
     "output_type": "stream",
     "text": [
      "steps: 100%|██████████| 51/51 [00:00<00:00, 267.01it/s]"
     ]
    },
    {
     "name": "stdout",
     "output_type": "stream",
     "text": [
      "\n",
      "epoch : 9, tr_loss:  0.490810, val_loss: 0.455, tr_acc: 68.88%, val_acc: 70.94%\n"
     ]
    },
    {
     "name": "stderr",
     "output_type": "stream",
     "text": [
      "\n"
     ]
    },
    {
     "data": {
      "application/vnd.jupyter.widget-view+json": {
       "model_id": "1fb6e41eda9a492085a8d0bae06a6f38",
       "version_major": 2,
       "version_minor": 0
      },
      "text/plain": [
       "HBox(children=(HTML(value='steps'), FloatProgress(value=0.0, max=3006.0), HTML(value='')))"
      ]
     },
     "metadata": {},
     "output_type": "display_data"
    },
    {
     "name": "stderr",
     "output_type": "stream",
     "text": [
      "steps: 100%|██████████| 51/51 [00:00<00:00, 264.35it/s]\n"
     ]
    },
    {
     "name": "stdout",
     "output_type": "stream",
     "text": [
      "\r",
      "\r",
      "global_Step: 30000, tr_loss: 0.485872, val_loss: 0.447697\n"
     ]
    },
    {
     "name": "stderr",
     "output_type": "stream",
     "text": [
      "steps: 100%|██████████| 51/51 [00:00<00:00, 266.08it/s]"
     ]
    },
    {
     "name": "stdout",
     "output_type": "stream",
     "text": [
      "\n",
      "epoch : 10, tr_loss:  0.485409, val_loss: 0.452, tr_acc: 69.30%, val_acc: 70.94%\n"
     ]
    },
    {
     "name": "stderr",
     "output_type": "stream",
     "text": [
      "\n"
     ]
    },
    {
     "data": {
      "application/vnd.jupyter.widget-view+json": {
       "model_id": "822f7e5c355f43eda1e42ac4c15f82d8",
       "version_major": 2,
       "version_minor": 0
      },
      "text/plain": [
       "HBox(children=(HTML(value='steps'), FloatProgress(value=0.0, max=3006.0), HTML(value='')))"
      ]
     },
     "metadata": {},
     "output_type": "display_data"
    },
    {
     "name": "stderr",
     "output_type": "stream",
     "text": [
      "steps: 100%|██████████| 51/51 [00:00<00:00, 272.44it/s]"
     ]
    },
    {
     "name": "stdout",
     "output_type": "stream",
     "text": [
      "\n",
      "epoch : 11, tr_loss:  0.480516, val_loss: 0.445, tr_acc: 69.60%, val_acc: 71.61%\n"
     ]
    },
    {
     "name": "stderr",
     "output_type": "stream",
     "text": [
      "\n"
     ]
    },
    {
     "data": {
      "application/vnd.jupyter.widget-view+json": {
       "model_id": "31080d596a2741038d08bc21b7717e6b",
       "version_major": 2,
       "version_minor": 0
      },
      "text/plain": [
       "HBox(children=(HTML(value='steps'), FloatProgress(value=0.0, max=3006.0), HTML(value='')))"
      ]
     },
     "metadata": {},
     "output_type": "display_data"
    },
    {
     "name": "stderr",
     "output_type": "stream",
     "text": [
      "steps: 100%|██████████| 51/51 [00:00<00:00, 274.16it/s]"
     ]
    },
    {
     "name": "stdout",
     "output_type": "stream",
     "text": [
      "\n",
      "epoch : 12, tr_loss:  0.476170, val_loss: 0.438, tr_acc: 69.93%, val_acc: 71.97%\n"
     ]
    },
    {
     "name": "stderr",
     "output_type": "stream",
     "text": [
      "\n"
     ]
    },
    {
     "data": {
      "application/vnd.jupyter.widget-view+json": {
       "model_id": "ce5030a197a6402ca331431fd0624661",
       "version_major": 2,
       "version_minor": 0
      },
      "text/plain": [
       "HBox(children=(HTML(value='steps'), FloatProgress(value=0.0, max=3006.0), HTML(value='')))"
      ]
     },
     "metadata": {},
     "output_type": "display_data"
    },
    {
     "name": "stderr",
     "output_type": "stream",
     "text": [
      "steps: 100%|██████████| 51/51 [00:00<00:00, 271.28it/s]"
     ]
    },
    {
     "name": "stdout",
     "output_type": "stream",
     "text": [
      "\n",
      "epoch : 13, tr_loss:  0.472165, val_loss: 0.436, tr_acc: 70.29%, val_acc: 71.79%\n"
     ]
    },
    {
     "name": "stderr",
     "output_type": "stream",
     "text": [
      "\n"
     ]
    },
    {
     "data": {
      "application/vnd.jupyter.widget-view+json": {
       "model_id": "cdeef4c3ecf546f986e6eab031a7b2bb",
       "version_major": 2,
       "version_minor": 0
      },
      "text/plain": [
       "HBox(children=(HTML(value='steps'), FloatProgress(value=0.0, max=3006.0), HTML(value='')))"
      ]
     },
     "metadata": {},
     "output_type": "display_data"
    },
    {
     "name": "stderr",
     "output_type": "stream",
     "text": [
      "steps: 100%|██████████| 51/51 [00:00<00:00, 276.71it/s]\n"
     ]
    },
    {
     "name": "stdout",
     "output_type": "stream",
     "text": [
      "\r",
      "\r",
      "global_Step: 40000, tr_loss: 0.469289, val_loss: 0.438040\n"
     ]
    },
    {
     "name": "stderr",
     "output_type": "stream",
     "text": [
      "steps: 100%|██████████| 51/51 [00:00<00:00, 269.84it/s]"
     ]
    },
    {
     "name": "stdout",
     "output_type": "stream",
     "text": [
      "\n",
      "epoch : 14, tr_loss:  0.468722, val_loss: 0.434, tr_acc: 70.54%, val_acc: 72.25%\n"
     ]
    },
    {
     "name": "stderr",
     "output_type": "stream",
     "text": [
      "\n"
     ]
    },
    {
     "data": {
      "application/vnd.jupyter.widget-view+json": {
       "model_id": "a734ed477cd941d289e2c1b77e46113c",
       "version_major": 2,
       "version_minor": 0
      },
      "text/plain": [
       "HBox(children=(HTML(value='steps'), FloatProgress(value=0.0, max=3006.0), HTML(value='')))"
      ]
     },
     "metadata": {},
     "output_type": "display_data"
    },
    {
     "name": "stderr",
     "output_type": "stream",
     "text": [
      "steps: 100%|██████████| 51/51 [00:00<00:00, 258.88it/s]"
     ]
    },
    {
     "name": "stdout",
     "output_type": "stream",
     "text": [
      "\n",
      "epoch : 15, tr_loss:  0.465317, val_loss: 0.432, tr_acc: 70.73%, val_acc: 72.40%\n"
     ]
    },
    {
     "name": "stderr",
     "output_type": "stream",
     "text": [
      "\n"
     ]
    },
    {
     "data": {
      "application/vnd.jupyter.widget-view+json": {
       "model_id": "b7e9e80e82bc4cf1b3ee7f3a051aa1b3",
       "version_major": 2,
       "version_minor": 0
      },
      "text/plain": [
       "HBox(children=(HTML(value='steps'), FloatProgress(value=0.0, max=3006.0), HTML(value='')))"
      ]
     },
     "metadata": {},
     "output_type": "display_data"
    },
    {
     "name": "stderr",
     "output_type": "stream",
     "text": [
      "steps: 100%|██████████| 51/51 [00:00<00:00, 272.73it/s]"
     ]
    },
    {
     "name": "stdout",
     "output_type": "stream",
     "text": [
      "\n",
      "epoch : 16, tr_loss:  0.462349, val_loss: 0.427, tr_acc: 70.90%, val_acc: 72.68%\n"
     ]
    },
    {
     "name": "stderr",
     "output_type": "stream",
     "text": [
      "\n"
     ]
    },
    {
     "data": {
      "application/vnd.jupyter.widget-view+json": {
       "model_id": "a3e53e228b4349aaa36754cadcffab6d",
       "version_major": 2,
       "version_minor": 0
      },
      "text/plain": [
       "HBox(children=(HTML(value='steps'), FloatProgress(value=0.0, max=3006.0), HTML(value='')))"
      ]
     },
     "metadata": {},
     "output_type": "display_data"
    },
    {
     "name": "stderr",
     "output_type": "stream",
     "text": [
      "steps: 100%|██████████| 51/51 [00:00<00:00, 279.39it/s]\n"
     ]
    },
    {
     "name": "stdout",
     "output_type": "stream",
     "text": [
      "\r",
      "\r",
      "global_Step: 50000, tr_loss: 0.461678, val_loss: 0.427348\n"
     ]
    },
    {
     "name": "stderr",
     "output_type": "stream",
     "text": [
      "steps: 100%|██████████| 51/51 [00:00<00:00, 268.42it/s]"
     ]
    },
    {
     "name": "stdout",
     "output_type": "stream",
     "text": [
      "\n",
      "epoch : 17, tr_loss:  0.459697, val_loss: 0.424, tr_acc: 71.12%, val_acc: 72.95%\n"
     ]
    },
    {
     "name": "stderr",
     "output_type": "stream",
     "text": [
      "\n"
     ]
    },
    {
     "data": {
      "application/vnd.jupyter.widget-view+json": {
       "model_id": "d04b9bf6af504e0b884e2cb479b26a4f",
       "version_major": 2,
       "version_minor": 0
      },
      "text/plain": [
       "HBox(children=(HTML(value='steps'), FloatProgress(value=0.0, max=3006.0), HTML(value='')))"
      ]
     },
     "metadata": {},
     "output_type": "display_data"
    },
    {
     "name": "stderr",
     "output_type": "stream",
     "text": [
      "steps: 100%|██████████| 51/51 [00:00<00:00, 269.84it/s]"
     ]
    },
    {
     "name": "stdout",
     "output_type": "stream",
     "text": [
      "\n",
      "epoch : 18, tr_loss:  0.457225, val_loss: 0.425, tr_acc: 71.22%, val_acc: 73.07%\n"
     ]
    },
    {
     "name": "stderr",
     "output_type": "stream",
     "text": [
      "\n"
     ]
    },
    {
     "data": {
      "application/vnd.jupyter.widget-view+json": {
       "model_id": "4049e67cbd4d419ea71290e0ec4076a1",
       "version_major": 2,
       "version_minor": 0
      },
      "text/plain": [
       "HBox(children=(HTML(value='steps'), FloatProgress(value=0.0, max=3006.0), HTML(value='')))"
      ]
     },
     "metadata": {},
     "output_type": "display_data"
    },
    {
     "name": "stderr",
     "output_type": "stream",
     "text": [
      "steps: 100%|██████████| 51/51 [00:00<00:00, 272.67it/s]"
     ]
    },
    {
     "name": "stdout",
     "output_type": "stream",
     "text": [
      "\n",
      "epoch : 19, tr_loss:  0.454575, val_loss: 0.422, tr_acc: 71.42%, val_acc: 72.77%\n"
     ]
    },
    {
     "name": "stderr",
     "output_type": "stream",
     "text": [
      "\n"
     ]
    },
    {
     "data": {
      "application/vnd.jupyter.widget-view+json": {
       "model_id": "6c7bd7272f554597b8563210aa397b5e",
       "version_major": 2,
       "version_minor": 0
      },
      "text/plain": [
       "HBox(children=(HTML(value='steps'), FloatProgress(value=0.0, max=3006.0), HTML(value='')))"
      ]
     },
     "metadata": {},
     "output_type": "display_data"
    },
    {
     "name": "stderr",
     "output_type": "stream",
     "text": [
      "steps: 100%|██████████| 51/51 [00:00<00:00, 284.91it/s]\n"
     ]
    },
    {
     "name": "stdout",
     "output_type": "stream",
     "text": [
      "\r",
      "\r",
      "global_Step: 60000, tr_loss: 0.453005, val_loss: 0.419282\n"
     ]
    },
    {
     "name": "stderr",
     "output_type": "stream",
     "text": [
      "steps: 100%|██████████| 51/51 [00:00<00:00, 274.17it/s]"
     ]
    },
    {
     "name": "stdout",
     "output_type": "stream",
     "text": [
      "\n",
      "epoch : 20, tr_loss:  0.452431, val_loss: 0.424, tr_acc: 71.58%, val_acc: 72.77%\n"
     ]
    },
    {
     "name": "stderr",
     "output_type": "stream",
     "text": [
      "\n"
     ]
    },
    {
     "data": {
      "application/vnd.jupyter.widget-view+json": {
       "model_id": "c9ed0e8b75a94abc9d92ad5f09c1016e",
       "version_major": 2,
       "version_minor": 0
      },
      "text/plain": [
       "HBox(children=(HTML(value='steps'), FloatProgress(value=0.0, max=3006.0), HTML(value='')))"
      ]
     },
     "metadata": {},
     "output_type": "display_data"
    },
    {
     "name": "stderr",
     "output_type": "stream",
     "text": [
      "steps: 100%|██████████| 51/51 [00:00<00:00, 273.34it/s]"
     ]
    },
    {
     "name": "stdout",
     "output_type": "stream",
     "text": [
      "\n",
      "epoch : 21, tr_loss:  0.450220, val_loss: 0.416, tr_acc: 71.70%, val_acc: 73.50%\n"
     ]
    },
    {
     "name": "stderr",
     "output_type": "stream",
     "text": [
      "\n"
     ]
    },
    {
     "data": {
      "application/vnd.jupyter.widget-view+json": {
       "model_id": "f625b647383e495db76ea6bd911ad408",
       "version_major": 2,
       "version_minor": 0
      },
      "text/plain": [
       "HBox(children=(HTML(value='steps'), FloatProgress(value=0.0, max=3006.0), HTML(value='')))"
      ]
     },
     "metadata": {},
     "output_type": "display_data"
    },
    {
     "name": "stderr",
     "output_type": "stream",
     "text": [
      "steps: 100%|██████████| 51/51 [00:00<00:00, 268.42it/s]"
     ]
    },
    {
     "name": "stdout",
     "output_type": "stream",
     "text": [
      "\n",
      "epoch : 22, tr_loss:  0.448683, val_loss: 0.418, tr_acc: 71.83%, val_acc: 73.17%\n"
     ]
    },
    {
     "name": "stderr",
     "output_type": "stream",
     "text": [
      "\n"
     ]
    },
    {
     "data": {
      "application/vnd.jupyter.widget-view+json": {
       "model_id": "f7734ddb54a94f89b5c1c6bae5ed735e",
       "version_major": 2,
       "version_minor": 0
      },
      "text/plain": [
       "HBox(children=(HTML(value='steps'), FloatProgress(value=0.0, max=3006.0), HTML(value='')))"
      ]
     },
     "metadata": {},
     "output_type": "display_data"
    },
    {
     "name": "stderr",
     "output_type": "stream",
     "text": [
      "steps: 100%|██████████| 51/51 [00:00<00:00, 268.42it/s]"
     ]
    },
    {
     "name": "stdout",
     "output_type": "stream",
     "text": [
      "\n",
      "epoch : 23, tr_loss:  0.446678, val_loss: 0.416, tr_acc: 71.99%, val_acc: 73.56%\n"
     ]
    },
    {
     "name": "stderr",
     "output_type": "stream",
     "text": [
      "\n"
     ]
    },
    {
     "data": {
      "application/vnd.jupyter.widget-view+json": {
       "model_id": "195d8debbeaf43c1adf094111ffbe737",
       "version_major": 2,
       "version_minor": 0
      },
      "text/plain": [
       "HBox(children=(HTML(value='steps'), FloatProgress(value=0.0, max=3006.0), HTML(value='')))"
      ]
     },
     "metadata": {},
     "output_type": "display_data"
    },
    {
     "name": "stderr",
     "output_type": "stream",
     "text": [
      "steps: 100%|██████████| 51/51 [00:00<00:00, 283.34it/s]\n"
     ]
    },
    {
     "name": "stdout",
     "output_type": "stream",
     "text": [
      "\r",
      "\r",
      "global_Step: 70000, tr_loss: 0.444469, val_loss: 0.413562\n"
     ]
    },
    {
     "name": "stderr",
     "output_type": "stream",
     "text": [
      "steps: 100%|██████████| 51/51 [00:00<00:00, 267.47it/s]"
     ]
    },
    {
     "name": "stdout",
     "output_type": "stream",
     "text": [
      "\n",
      "epoch : 24, tr_loss:  0.444620, val_loss: 0.414, tr_acc: 72.11%, val_acc: 73.66%\n"
     ]
    },
    {
     "name": "stderr",
     "output_type": "stream",
     "text": [
      "\n"
     ]
    },
    {
     "data": {
      "application/vnd.jupyter.widget-view+json": {
       "model_id": "3d23b7d48a7646f5b96e001557fc473a",
       "version_major": 2,
       "version_minor": 0
      },
      "text/plain": [
       "HBox(children=(HTML(value='steps'), FloatProgress(value=0.0, max=3006.0), HTML(value='')))"
      ]
     },
     "metadata": {},
     "output_type": "display_data"
    },
    {
     "name": "stderr",
     "output_type": "stream",
     "text": [
      "steps:  55%|█████▍    | 28/51 [00:00<00:00, 277.23it/s]"
     ]
    },
    {
     "name": "stdout",
     "output_type": "stream",
     "text": [
      "\n"
     ]
    },
    {
     "name": "stderr",
     "output_type": "stream",
     "text": [
      "\r",
      "steps: 100%|██████████| 51/51 [00:00<00:00, 273.87it/s]"
     ]
    },
    {
     "name": "stdout",
     "output_type": "stream",
     "text": [
      "\r",
      "epoch : 25, tr_loss:  0.443064, val_loss: 0.414, tr_acc: 72.22%, val_acc: 73.66%\n"
     ]
    },
    {
     "name": "stderr",
     "output_type": "stream",
     "text": [
      "\n"
     ]
    },
    {
     "data": {
      "application/vnd.jupyter.widget-view+json": {
       "model_id": "01520aa4a53144199cd3ea2633e20112",
       "version_major": 2,
       "version_minor": 0
      },
      "text/plain": [
       "HBox(children=(HTML(value='steps'), FloatProgress(value=0.0, max=3006.0), HTML(value='')))"
      ]
     },
     "metadata": {},
     "output_type": "display_data"
    },
    {
     "name": "stderr",
     "output_type": "stream",
     "text": [
      "steps: 100%|██████████| 51/51 [00:00<00:00, 269.84it/s]"
     ]
    },
    {
     "name": "stdout",
     "output_type": "stream",
     "text": [
      "\n",
      "epoch : 26, tr_loss:  0.441480, val_loss: 0.419, tr_acc: 72.31%, val_acc: 73.04%\n"
     ]
    },
    {
     "name": "stderr",
     "output_type": "stream",
     "text": [
      "\n"
     ]
    },
    {
     "data": {
      "application/vnd.jupyter.widget-view+json": {
       "model_id": "fe19266445944426b9276ec132b54dd7",
       "version_major": 2,
       "version_minor": 0
      },
      "text/plain": [
       "HBox(children=(HTML(value='steps'), FloatProgress(value=0.0, max=3006.0), HTML(value='')))"
      ]
     },
     "metadata": {},
     "output_type": "display_data"
    },
    {
     "name": "stderr",
     "output_type": "stream",
     "text": [
      "steps: 100%|██████████| 51/51 [00:00<00:00, 261.54it/s]\n"
     ]
    },
    {
     "name": "stdout",
     "output_type": "stream",
     "text": [
      "\r",
      "\r",
      "global_Step: 80000, tr_loss: 0.442351, val_loss: 0.413854\n"
     ]
    },
    {
     "name": "stderr",
     "output_type": "stream",
     "text": [
      "steps: 100%|██████████| 51/51 [00:00<00:00, 269.84it/s]"
     ]
    },
    {
     "name": "stdout",
     "output_type": "stream",
     "text": [
      "\n",
      "epoch : 27, tr_loss:  0.440177, val_loss: 0.415, tr_acc: 72.38%, val_acc: 73.35%\n"
     ]
    },
    {
     "name": "stderr",
     "output_type": "stream",
     "text": [
      "\n"
     ]
    },
    {
     "data": {
      "application/vnd.jupyter.widget-view+json": {
       "model_id": "511a9403f0dd4560918a502999e8008d",
       "version_major": 2,
       "version_minor": 0
      },
      "text/plain": [
       "HBox(children=(HTML(value='steps'), FloatProgress(value=0.0, max=3006.0), HTML(value='')))"
      ]
     },
     "metadata": {},
     "output_type": "display_data"
    },
    {
     "name": "stderr",
     "output_type": "stream",
     "text": [
      "steps:  53%|█████▎    | 27/51 [00:00<00:00, 267.32it/s]"
     ]
    },
    {
     "name": "stdout",
     "output_type": "stream",
     "text": [
      "\n"
     ]
    },
    {
     "name": "stderr",
     "output_type": "stream",
     "text": [
      "\r",
      "steps: 100%|██████████| 51/51 [00:00<00:00, 271.27it/s]"
     ]
    },
    {
     "name": "stdout",
     "output_type": "stream",
     "text": [
      "\r",
      "epoch : 28, tr_loss:  0.438621, val_loss: 0.412, tr_acc: 72.57%, val_acc: 73.75%\n"
     ]
    },
    {
     "name": "stderr",
     "output_type": "stream",
     "text": [
      "\n"
     ]
    },
    {
     "data": {
      "application/vnd.jupyter.widget-view+json": {
       "model_id": "9bd564dda81a41acad7d01a2bf971ce2",
       "version_major": 2,
       "version_minor": 0
      },
      "text/plain": [
       "HBox(children=(HTML(value='steps'), FloatProgress(value=0.0, max=3006.0), HTML(value='')))"
      ]
     },
     "metadata": {},
     "output_type": "display_data"
    },
    {
     "name": "stderr",
     "output_type": "stream",
     "text": [
      "steps: 100%|██████████| 51/51 [00:00<00:00, 268.42it/s]"
     ]
    },
    {
     "name": "stdout",
     "output_type": "stream",
     "text": [
      "\n",
      "epoch : 29, tr_loss:  0.437039, val_loss: 0.405, tr_acc: 72.64%, val_acc: 74.39%\n"
     ]
    },
    {
     "name": "stderr",
     "output_type": "stream",
     "text": [
      "\n"
     ]
    },
    {
     "data": {
      "application/vnd.jupyter.widget-view+json": {
       "model_id": "e13fd6eaf9634eddbc2d366e25798eaa",
       "version_major": 2,
       "version_minor": 0
      },
      "text/plain": [
       "HBox(children=(HTML(value='steps'), FloatProgress(value=0.0, max=3006.0), HTML(value='')))"
      ]
     },
     "metadata": {},
     "output_type": "display_data"
    },
    {
     "name": "stderr",
     "output_type": "stream",
     "text": [
      "steps: 100%|██████████| 51/51 [00:00<00:00, 283.33it/s]\n"
     ]
    },
    {
     "name": "stdout",
     "output_type": "stream",
     "text": [
      "\r",
      "\r",
      "global_Step: 90000, tr_loss: 0.435562, val_loss: 0.412018\n"
     ]
    },
    {
     "name": "stderr",
     "output_type": "stream",
     "text": [
      "steps: 100%|██████████| 51/51 [00:00<00:00, 272.10it/s]"
     ]
    },
    {
     "name": "stdout",
     "output_type": "stream",
     "text": [
      "\n",
      "epoch : 30, tr_loss:  0.435918, val_loss: 0.409, tr_acc: 72.69%, val_acc: 73.90%\n"
     ]
    },
    {
     "name": "stderr",
     "output_type": "stream",
     "text": [
      "\n"
     ]
    },
    {
     "data": {
      "application/vnd.jupyter.widget-view+json": {
       "model_id": "52548a98558440948363e110a6b86eb1",
       "version_major": 2,
       "version_minor": 0
      },
      "text/plain": [
       "HBox(children=(HTML(value='steps'), FloatProgress(value=0.0, max=3006.0), HTML(value='')))"
      ]
     },
     "metadata": {},
     "output_type": "display_data"
    },
    {
     "name": "stderr",
     "output_type": "stream",
     "text": [
      "steps: 100%|██████████| 51/51 [00:00<00:00, 269.84it/s]"
     ]
    },
    {
     "name": "stdout",
     "output_type": "stream",
     "text": [
      "\n",
      "epoch : 31, tr_loss:  0.434447, val_loss: 0.405, tr_acc: 72.80%, val_acc: 74.45%\n"
     ]
    },
    {
     "name": "stderr",
     "output_type": "stream",
     "text": [
      "\n"
     ]
    },
    {
     "data": {
      "application/vnd.jupyter.widget-view+json": {
       "model_id": "1f2e3555ad794dca82127d7d598b2d71",
       "version_major": 2,
       "version_minor": 0
      },
      "text/plain": [
       "HBox(children=(HTML(value='steps'), FloatProgress(value=0.0, max=3006.0), HTML(value='')))"
      ]
     },
     "metadata": {},
     "output_type": "display_data"
    },
    {
     "name": "stderr",
     "output_type": "stream",
     "text": [
      "steps: 100%|██████████| 51/51 [00:00<00:00, 269.84it/s]"
     ]
    },
    {
     "name": "stdout",
     "output_type": "stream",
     "text": [
      "\n",
      "epoch : 32, tr_loss:  0.433313, val_loss: 0.407, tr_acc: 72.91%, val_acc: 73.96%\n"
     ]
    },
    {
     "name": "stderr",
     "output_type": "stream",
     "text": [
      "\n"
     ]
    },
    {
     "data": {
      "application/vnd.jupyter.widget-view+json": {
       "model_id": "0dc4384365734d74ad5f229df7a4af8b",
       "version_major": 2,
       "version_minor": 0
      },
      "text/plain": [
       "HBox(children=(HTML(value='steps'), FloatProgress(value=0.0, max=3006.0), HTML(value='')))"
      ]
     },
     "metadata": {},
     "output_type": "display_data"
    },
    {
     "name": "stderr",
     "output_type": "stream",
     "text": [
      "steps: 100%|██████████| 51/51 [00:00<00:00, 264.25it/s]"
     ]
    },
    {
     "name": "stdout",
     "output_type": "stream",
     "text": [
      "\n",
      "epoch : 33, tr_loss:  0.432221, val_loss: 0.404, tr_acc: 73.03%, val_acc: 74.36%\n"
     ]
    },
    {
     "name": "stderr",
     "output_type": "stream",
     "text": [
      "\n"
     ]
    },
    {
     "data": {
      "application/vnd.jupyter.widget-view+json": {
       "model_id": "999567b41f144fdca15646b73e50f0f6",
       "version_major": 2,
       "version_minor": 0
      },
      "text/plain": [
       "HBox(children=(HTML(value='steps'), FloatProgress(value=0.0, max=3006.0), HTML(value='')))"
      ]
     },
     "metadata": {},
     "output_type": "display_data"
    },
    {
     "name": "stderr",
     "output_type": "stream",
     "text": [
      "steps: 100%|██████████| 51/51 [00:00<00:00, 275.88it/s]\n"
     ]
    },
    {
     "name": "stdout",
     "output_type": "stream",
     "text": [
      "\r",
      "\r",
      "global_Step: 100000, tr_loss: 0.430835, val_loss: 0.407927\n"
     ]
    },
    {
     "name": "stderr",
     "output_type": "stream",
     "text": [
      "steps: 100%|██████████| 51/51 [00:00<00:00, 265.63it/s]"
     ]
    },
    {
     "name": "stdout",
     "output_type": "stream",
     "text": [
      "\n",
      "epoch : 34, tr_loss:  0.430913, val_loss: 0.404, tr_acc: 73.06%, val_acc: 74.27%\n"
     ]
    },
    {
     "name": "stderr",
     "output_type": "stream",
     "text": [
      "\n"
     ]
    },
    {
     "data": {
      "application/vnd.jupyter.widget-view+json": {
       "model_id": "0afe8769c329439486150ac9e291513b",
       "version_major": 2,
       "version_minor": 0
      },
      "text/plain": [
       "HBox(children=(HTML(value='steps'), FloatProgress(value=0.0, max=3006.0), HTML(value='')))"
      ]
     },
     "metadata": {},
     "output_type": "display_data"
    },
    {
     "name": "stderr",
     "output_type": "stream",
     "text": [
      "steps: 100%|██████████| 51/51 [00:00<00:00, 272.17it/s]"
     ]
    },
    {
     "name": "stdout",
     "output_type": "stream",
     "text": [
      "\n",
      "epoch : 35, tr_loss:  0.429635, val_loss: 0.405, tr_acc: 73.21%, val_acc: 74.02%\n"
     ]
    },
    {
     "name": "stderr",
     "output_type": "stream",
     "text": [
      "\n"
     ]
    },
    {
     "data": {
      "application/vnd.jupyter.widget-view+json": {
       "model_id": "aae8b0f9ef0d41dab985b6fceea7fd27",
       "version_major": 2,
       "version_minor": 0
      },
      "text/plain": [
       "HBox(children=(HTML(value='steps'), FloatProgress(value=0.0, max=3006.0), HTML(value='')))"
      ]
     },
     "metadata": {},
     "output_type": "display_data"
    },
    {
     "name": "stderr",
     "output_type": "stream",
     "text": [
      "steps: 100%|██████████| 51/51 [00:00<00:00, 269.84it/s]"
     ]
    },
    {
     "name": "stdout",
     "output_type": "stream",
     "text": [
      "\n",
      "epoch : 36, tr_loss:  0.429024, val_loss: 0.401, tr_acc: 73.14%, val_acc: 74.72%\n"
     ]
    },
    {
     "name": "stderr",
     "output_type": "stream",
     "text": [
      "\n"
     ]
    },
    {
     "data": {
      "application/vnd.jupyter.widget-view+json": {
       "model_id": "9a76e894848b479e8b18fcb4ffcabcfe",
       "version_major": 2,
       "version_minor": 0
      },
      "text/plain": [
       "HBox(children=(HTML(value='steps'), FloatProgress(value=0.0, max=3006.0), HTML(value='')))"
      ]
     },
     "metadata": {},
     "output_type": "display_data"
    },
    {
     "name": "stderr",
     "output_type": "stream",
     "text": [
      "steps: 100%|██████████| 51/51 [00:00<00:00, 276.53it/s]\n"
     ]
    },
    {
     "name": "stdout",
     "output_type": "stream",
     "text": [
      "\r",
      "\r",
      "global_Step: 110000, tr_loss: 0.428072, val_loss: 0.402233\n"
     ]
    },
    {
     "name": "stderr",
     "output_type": "stream",
     "text": [
      "steps: 100%|██████████| 51/51 [00:00<00:00, 271.56it/s]"
     ]
    },
    {
     "name": "stdout",
     "output_type": "stream",
     "text": [
      "\n",
      "epoch : 37, tr_loss:  0.427614, val_loss: 0.397, tr_acc: 73.27%, val_acc: 75.21%\n"
     ]
    },
    {
     "name": "stderr",
     "output_type": "stream",
     "text": [
      "\n"
     ]
    },
    {
     "data": {
      "application/vnd.jupyter.widget-view+json": {
       "model_id": "66c22e6d31684bc381ca12608aa9bc3b",
       "version_major": 2,
       "version_minor": 0
      },
      "text/plain": [
       "HBox(children=(HTML(value='steps'), FloatProgress(value=0.0, max=3006.0), HTML(value='')))"
      ]
     },
     "metadata": {},
     "output_type": "display_data"
    },
    {
     "name": "stderr",
     "output_type": "stream",
     "text": [
      "steps: 100%|██████████| 51/51 [00:00<00:00, 271.28it/s]"
     ]
    },
    {
     "name": "stdout",
     "output_type": "stream",
     "text": [
      "\n",
      "epoch : 38, tr_loss:  0.426948, val_loss: 0.414, tr_acc: 73.31%, val_acc: 73.56%\n"
     ]
    },
    {
     "name": "stderr",
     "output_type": "stream",
     "text": [
      "\n"
     ]
    },
    {
     "data": {
      "application/vnd.jupyter.widget-view+json": {
       "model_id": "93b4795d8a464bc881552722b1e5a20b",
       "version_major": 2,
       "version_minor": 0
      },
      "text/plain": [
       "HBox(children=(HTML(value='steps'), FloatProgress(value=0.0, max=3006.0), HTML(value='')))"
      ]
     },
     "metadata": {},
     "output_type": "display_data"
    },
    {
     "name": "stderr",
     "output_type": "stream",
     "text": [
      "steps: 100%|██████████| 51/51 [00:00<00:00, 273.37it/s]"
     ]
    },
    {
     "name": "stdout",
     "output_type": "stream",
     "text": [
      "\n",
      "epoch : 39, tr_loss:  0.425806, val_loss: 0.404, tr_acc: 73.41%, val_acc: 74.27%\n"
     ]
    },
    {
     "name": "stderr",
     "output_type": "stream",
     "text": [
      "\n"
     ]
    },
    {
     "data": {
      "application/vnd.jupyter.widget-view+json": {
       "model_id": "142ed31d68f8452aaa1f585f5297a273",
       "version_major": 2,
       "version_minor": 0
      },
      "text/plain": [
       "HBox(children=(HTML(value='steps'), FloatProgress(value=0.0, max=3006.0), HTML(value='')))"
      ]
     },
     "metadata": {},
     "output_type": "display_data"
    },
    {
     "name": "stderr",
     "output_type": "stream",
     "text": [
      "steps: 100%|██████████| 51/51 [00:00<00:00, 284.08it/s]\n"
     ]
    },
    {
     "name": "stdout",
     "output_type": "stream",
     "text": [
      "\r",
      "\r",
      "global_Step: 120000, tr_loss: 0.424233, val_loss: 0.405867\n"
     ]
    },
    {
     "name": "stderr",
     "output_type": "stream",
     "text": [
      "steps: 100%|██████████| 51/51 [00:00<00:00, 271.28it/s]"
     ]
    },
    {
     "name": "stdout",
     "output_type": "stream",
     "text": [
      "\n",
      "epoch : 40, tr_loss:  0.424814, val_loss: 0.408, tr_acc: 73.49%, val_acc: 74.24%\n"
     ]
    },
    {
     "name": "stderr",
     "output_type": "stream",
     "text": [
      "\n"
     ]
    },
    {
     "data": {
      "application/vnd.jupyter.widget-view+json": {
       "model_id": "2c6ae29bed664252b3df7ae865ca6ced",
       "version_major": 2,
       "version_minor": 0
      },
      "text/plain": [
       "HBox(children=(HTML(value='steps'), FloatProgress(value=0.0, max=3006.0), HTML(value='')))"
      ]
     },
     "metadata": {},
     "output_type": "display_data"
    },
    {
     "name": "stderr",
     "output_type": "stream",
     "text": [
      "steps: 100%|██████████| 51/51 [00:00<00:00, 268.16it/s]"
     ]
    },
    {
     "name": "stdout",
     "output_type": "stream",
     "text": [
      "\n",
      "epoch : 41, tr_loss:  0.423559, val_loss: 0.401, tr_acc: 73.59%, val_acc: 75.06%\n"
     ]
    },
    {
     "name": "stderr",
     "output_type": "stream",
     "text": [
      "\n"
     ]
    },
    {
     "data": {
      "application/vnd.jupyter.widget-view+json": {
       "model_id": "3bab0172d8a54e5b8c8ff0a8e47afe07",
       "version_major": 2,
       "version_minor": 0
      },
      "text/plain": [
       "HBox(children=(HTML(value='steps'), FloatProgress(value=0.0, max=3006.0), HTML(value='')))"
      ]
     },
     "metadata": {},
     "output_type": "display_data"
    },
    {
     "name": "stderr",
     "output_type": "stream",
     "text": [
      "steps:  53%|█████▎    | 27/51 [00:00<00:00, 264.72it/s]"
     ]
    },
    {
     "name": "stdout",
     "output_type": "stream",
     "text": [
      "\n"
     ]
    },
    {
     "name": "stderr",
     "output_type": "stream",
     "text": [
      "\r",
      "steps: 100%|██████████| 51/51 [00:00<00:00, 267.70it/s]"
     ]
    },
    {
     "name": "stdout",
     "output_type": "stream",
     "text": [
      "\r",
      "epoch : 42, tr_loss:  0.422655, val_loss: 0.398, tr_acc: 73.60%, val_acc: 75.21%\n"
     ]
    },
    {
     "name": "stderr",
     "output_type": "stream",
     "text": [
      "\n"
     ]
    },
    {
     "data": {
      "application/vnd.jupyter.widget-view+json": {
       "model_id": "7d4de0f3a33c40e0beaa92256a6f2e36",
       "version_major": 2,
       "version_minor": 0
      },
      "text/plain": [
       "HBox(children=(HTML(value='steps'), FloatProgress(value=0.0, max=3006.0), HTML(value='')))"
      ]
     },
     "metadata": {},
     "output_type": "display_data"
    },
    {
     "name": "stderr",
     "output_type": "stream",
     "text": [
      "steps: 100%|██████████| 51/51 [00:00<00:00, 274.19it/s]"
     ]
    },
    {
     "name": "stdout",
     "output_type": "stream",
     "text": [
      "\n",
      "\r",
      "epoch : 43, tr_loss:  0.421864, val_loss: 0.402, tr_acc: 73.66%, val_acc: 74.85%"
     ]
    },
    {
     "name": "stderr",
     "output_type": "stream",
     "text": [
      "\n"
     ]
    },
    {
     "name": "stdout",
     "output_type": "stream",
     "text": [
      "\n"
     ]
    },
    {
     "data": {
      "application/vnd.jupyter.widget-view+json": {
       "model_id": "d01a2fc12f1f431fa5a25f47a99877fc",
       "version_major": 2,
       "version_minor": 0
      },
      "text/plain": [
       "HBox(children=(HTML(value='steps'), FloatProgress(value=0.0, max=3006.0), HTML(value='')))"
      ]
     },
     "metadata": {},
     "output_type": "display_data"
    },
    {
     "name": "stderr",
     "output_type": "stream",
     "text": [
      "steps: 100%|██████████| 51/51 [00:00<00:00, 276.42it/s]\n"
     ]
    },
    {
     "name": "stdout",
     "output_type": "stream",
     "text": [
      "\r",
      "\r",
      "global_Step: 130000, tr_loss: 0.421924, val_loss: 0.403085\n"
     ]
    },
    {
     "name": "stderr",
     "output_type": "stream",
     "text": [
      "steps: 100%|██████████| 51/51 [00:00<00:00, 269.62it/s]"
     ]
    },
    {
     "name": "stdout",
     "output_type": "stream",
     "text": [
      "\n",
      "epoch : 44, tr_loss:  0.421010, val_loss: 0.403, tr_acc: 73.73%, val_acc: 74.33%\n"
     ]
    },
    {
     "name": "stderr",
     "output_type": "stream",
     "text": [
      "\n"
     ]
    },
    {
     "data": {
      "application/vnd.jupyter.widget-view+json": {
       "model_id": "a6a9b5a9b0a447a6af3b618bb2ac2d4b",
       "version_major": 2,
       "version_minor": 0
      },
      "text/plain": [
       "HBox(children=(HTML(value='steps'), FloatProgress(value=0.0, max=3006.0), HTML(value='')))"
      ]
     },
     "metadata": {},
     "output_type": "display_data"
    },
    {
     "name": "stderr",
     "output_type": "stream",
     "text": [
      "steps: 100%|██████████| 51/51 [00:00<00:00, 271.50it/s]"
     ]
    },
    {
     "name": "stdout",
     "output_type": "stream",
     "text": [
      "\n",
      "epoch : 45, tr_loss:  0.420024, val_loss: 0.397, tr_acc: 73.76%, val_acc: 75.00%\n"
     ]
    },
    {
     "name": "stderr",
     "output_type": "stream",
     "text": [
      "\n"
     ]
    },
    {
     "data": {
      "application/vnd.jupyter.widget-view+json": {
       "model_id": "87fda23541f8472b9fd976a58e76b54f",
       "version_major": 2,
       "version_minor": 0
      },
      "text/plain": [
       "HBox(children=(HTML(value='steps'), FloatProgress(value=0.0, max=3006.0), HTML(value='')))"
      ]
     },
     "metadata": {},
     "output_type": "display_data"
    },
    {
     "name": "stderr",
     "output_type": "stream",
     "text": [
      "steps: 100%|██████████| 51/51 [00:00<00:00, 272.86it/s]"
     ]
    },
    {
     "name": "stdout",
     "output_type": "stream",
     "text": [
      "\n",
      "epoch : 46, tr_loss:  0.419270, val_loss: 0.403, tr_acc: 73.85%, val_acc: 74.66%\n"
     ]
    },
    {
     "name": "stderr",
     "output_type": "stream",
     "text": [
      "\n"
     ]
    },
    {
     "data": {
      "application/vnd.jupyter.widget-view+json": {
       "model_id": "7129a49eb36e4781b8db950b2df02eab",
       "version_major": 2,
       "version_minor": 0
      },
      "text/plain": [
       "HBox(children=(HTML(value='steps'), FloatProgress(value=0.0, max=3006.0), HTML(value='')))"
      ]
     },
     "metadata": {},
     "output_type": "display_data"
    },
    {
     "name": "stderr",
     "output_type": "stream",
     "text": [
      "steps: 100%|██████████| 51/51 [00:00<00:00, 277.55it/s]\n"
     ]
    },
    {
     "name": "stdout",
     "output_type": "stream",
     "text": [
      "\r",
      "\r",
      "global_Step: 140000, tr_loss: 0.418637, val_loss: 0.403668\n"
     ]
    },
    {
     "name": "stderr",
     "output_type": "stream",
     "text": [
      "steps: 100%|██████████| 51/51 [00:00<00:00, 269.43it/s]"
     ]
    },
    {
     "name": "stdout",
     "output_type": "stream",
     "text": [
      "\n",
      "epoch : 47, tr_loss:  0.418432, val_loss: 0.402, tr_acc: 73.87%, val_acc: 74.82%\n"
     ]
    },
    {
     "name": "stderr",
     "output_type": "stream",
     "text": [
      "\n"
     ]
    },
    {
     "data": {
      "application/vnd.jupyter.widget-view+json": {
       "model_id": "bd9e8deb4ad3439588487c253d15bdb5",
       "version_major": 2,
       "version_minor": 0
      },
      "text/plain": [
       "HBox(children=(HTML(value='steps'), FloatProgress(value=0.0, max=3006.0), HTML(value='')))"
      ]
     },
     "metadata": {},
     "output_type": "display_data"
    },
    {
     "name": "stderr",
     "output_type": "stream",
     "text": [
      "steps:  57%|█████▋    | 29/51 [00:00<00:00, 285.92it/s]"
     ]
    },
    {
     "name": "stdout",
     "output_type": "stream",
     "text": [
      "\n"
     ]
    },
    {
     "name": "stderr",
     "output_type": "stream",
     "text": [
      "\r",
      "steps: 100%|██████████| 51/51 [00:00<00:00, 276.80it/s]"
     ]
    },
    {
     "name": "stdout",
     "output_type": "stream",
     "text": [
      "\r",
      "epoch : 48, tr_loss:  0.417746, val_loss: 0.403, tr_acc: 73.83%, val_acc: 74.69%\n"
     ]
    },
    {
     "name": "stderr",
     "output_type": "stream",
     "text": [
      "\n"
     ]
    },
    {
     "data": {
      "application/vnd.jupyter.widget-view+json": {
       "model_id": "5a8ce00cf7f341b2a721ee604b5d7f6b",
       "version_major": 2,
       "version_minor": 0
      },
      "text/plain": [
       "HBox(children=(HTML(value='steps'), FloatProgress(value=0.0, max=3006.0), HTML(value='')))"
      ]
     },
     "metadata": {},
     "output_type": "display_data"
    },
    {
     "name": "stderr",
     "output_type": "stream",
     "text": [
      "steps: 100%|██████████| 51/51 [00:00<00:00, 273.99it/s]"
     ]
    },
    {
     "name": "stdout",
     "output_type": "stream",
     "text": [
      "\n",
      "epoch : 49, tr_loss:  0.417011, val_loss: 0.397, tr_acc: 73.93%, val_acc: 75.28%\n"
     ]
    },
    {
     "name": "stderr",
     "output_type": "stream",
     "text": [
      "\n"
     ]
    },
    {
     "data": {
      "application/vnd.jupyter.widget-view+json": {
       "model_id": "3b60d39afddf444ab7152dcd8b589675",
       "version_major": 2,
       "version_minor": 0
      },
      "text/plain": [
       "HBox(children=(HTML(value='steps'), FloatProgress(value=0.0, max=3006.0), HTML(value='')))"
      ]
     },
     "metadata": {},
     "output_type": "display_data"
    },
    {
     "name": "stderr",
     "output_type": "stream",
     "text": [
      "steps: 100%|██████████| 51/51 [00:00<00:00, 284.75it/s]\n"
     ]
    },
    {
     "name": "stdout",
     "output_type": "stream",
     "text": [
      "\r",
      "\r",
      "global_Step: 150000, tr_loss: 0.414998, val_loss: 0.396158\n"
     ]
    },
    {
     "name": "stderr",
     "output_type": "stream",
     "text": [
      "steps: 100%|██████████| 51/51 [00:00<00:00, 274.24it/s]"
     ]
    },
    {
     "name": "stdout",
     "output_type": "stream",
     "text": [
      "\n"
     ]
    },
    {
     "name": "stderr",
     "output_type": "stream",
     "text": [
      "\n"
     ]
    },
    {
     "name": "stdout",
     "output_type": "stream",
     "text": [
      "\r",
      "epoch : 50, tr_loss:  0.415899, val_loss: 0.402, tr_acc: 74.00%, val_acc: 74.60%\n"
     ]
    },
    {
     "data": {
      "application/vnd.jupyter.widget-view+json": {
       "model_id": "6c606bd6488a49c78ac7b3913324ddcf",
       "version_major": 2,
       "version_minor": 0
      },
      "text/plain": [
       "HBox(children=(HTML(value='steps'), FloatProgress(value=0.0, max=3006.0), HTML(value='')))"
      ]
     },
     "metadata": {},
     "output_type": "display_data"
    },
    {
     "name": "stderr",
     "output_type": "stream",
     "text": [
      "steps:  55%|█████▍    | 28/51 [00:00<00:00, 274.52it/s]"
     ]
    },
    {
     "name": "stdout",
     "output_type": "stream",
     "text": [
      "\n"
     ]
    },
    {
     "name": "stderr",
     "output_type": "stream",
     "text": [
      "\r",
      "steps: 100%|██████████| 51/51 [00:00<00:00, 273.39it/s]"
     ]
    },
    {
     "name": "stdout",
     "output_type": "stream",
     "text": [
      "\r",
      "epoch : 51, tr_loss:  0.415033, val_loss: 0.397, tr_acc: 74.13%, val_acc: 75.24%\n"
     ]
    },
    {
     "name": "stderr",
     "output_type": "stream",
     "text": [
      "\n"
     ]
    },
    {
     "data": {
      "application/vnd.jupyter.widget-view+json": {
       "model_id": "78f00fa458564e5ea60d666965b8b2ef",
       "version_major": 2,
       "version_minor": 0
      },
      "text/plain": [
       "HBox(children=(HTML(value='steps'), FloatProgress(value=0.0, max=3006.0), HTML(value='')))"
      ]
     },
     "metadata": {},
     "output_type": "display_data"
    },
    {
     "name": "stderr",
     "output_type": "stream",
     "text": [
      "steps: 100%|██████████| 51/51 [00:00<00:00, 269.84it/s]"
     ]
    },
    {
     "name": "stdout",
     "output_type": "stream",
     "text": [
      "\n",
      "epoch : 52, tr_loss:  0.414571, val_loss: 0.396, tr_acc: 74.13%, val_acc: 75.58%\n"
     ]
    },
    {
     "name": "stderr",
     "output_type": "stream",
     "text": [
      "\n"
     ]
    },
    {
     "data": {
      "application/vnd.jupyter.widget-view+json": {
       "model_id": "a2817c9e49a74751bd8d597c190b2fa1",
       "version_major": 2,
       "version_minor": 0
      },
      "text/plain": [
       "HBox(children=(HTML(value='steps'), FloatProgress(value=0.0, max=3006.0), HTML(value='')))"
      ]
     },
     "metadata": {},
     "output_type": "display_data"
    },
    {
     "name": "stderr",
     "output_type": "stream",
     "text": [
      "steps: 100%|██████████| 51/51 [00:00<00:00, 271.88it/s]"
     ]
    },
    {
     "name": "stdout",
     "output_type": "stream",
     "text": [
      "\n",
      "epoch : 53, tr_loss:  0.413605, val_loss: 0.396, tr_acc: 74.17%, val_acc: 75.28%\n"
     ]
    },
    {
     "name": "stderr",
     "output_type": "stream",
     "text": [
      "\n"
     ]
    },
    {
     "data": {
      "application/vnd.jupyter.widget-view+json": {
       "model_id": "b27c1a7cb40d4ece8f27f9feb974e1e4",
       "version_major": 2,
       "version_minor": 0
      },
      "text/plain": [
       "HBox(children=(HTML(value='steps'), FloatProgress(value=0.0, max=3006.0), HTML(value='')))"
      ]
     },
     "metadata": {},
     "output_type": "display_data"
    },
    {
     "name": "stderr",
     "output_type": "stream",
     "text": [
      "steps: 100%|██████████| 51/51 [00:00<00:00, 282.09it/s]\n"
     ]
    },
    {
     "name": "stdout",
     "output_type": "stream",
     "text": [
      "\r",
      "\r",
      "global_Step: 160000, tr_loss: 0.410084, val_loss: 0.401543\n"
     ]
    },
    {
     "name": "stderr",
     "output_type": "stream",
     "text": [
      "steps: 100%|██████████| 51/51 [00:00<00:00, 267.01it/s]"
     ]
    },
    {
     "name": "stdout",
     "output_type": "stream",
     "text": [
      "\n",
      "epoch : 54, tr_loss:  0.413188, val_loss: 0.399, tr_acc: 74.25%, val_acc: 75.18%\n"
     ]
    },
    {
     "name": "stderr",
     "output_type": "stream",
     "text": [
      "\n"
     ]
    },
    {
     "data": {
      "application/vnd.jupyter.widget-view+json": {
       "model_id": "33db53dac20b41bca7cb72be4612ee32",
       "version_major": 2,
       "version_minor": 0
      },
      "text/plain": [
       "HBox(children=(HTML(value='steps'), FloatProgress(value=0.0, max=3006.0), HTML(value='')))"
      ]
     },
     "metadata": {},
     "output_type": "display_data"
    },
    {
     "name": "stderr",
     "output_type": "stream",
     "text": [
      "steps: 100%|██████████| 51/51 [00:00<00:00, 269.12it/s]"
     ]
    },
    {
     "name": "stdout",
     "output_type": "stream",
     "text": [
      "\n",
      "epoch : 55, tr_loss:  0.412202, val_loss: 0.407, tr_acc: 74.29%, val_acc: 74.27%\n"
     ]
    },
    {
     "name": "stderr",
     "output_type": "stream",
     "text": [
      "\n"
     ]
    },
    {
     "data": {
      "application/vnd.jupyter.widget-view+json": {
       "model_id": "a94c4e97c8aa44b694363103bba780b0",
       "version_major": 2,
       "version_minor": 0
      },
      "text/plain": [
       "HBox(children=(HTML(value='steps'), FloatProgress(value=0.0, max=3006.0), HTML(value='')))"
      ]
     },
     "metadata": {},
     "output_type": "display_data"
    },
    {
     "name": "stderr",
     "output_type": "stream",
     "text": [
      "steps: 100%|██████████| 51/51 [00:00<00:00, 268.85it/s]"
     ]
    },
    {
     "name": "stdout",
     "output_type": "stream",
     "text": [
      "\n",
      "epoch : 56, tr_loss:  0.411973, val_loss: 0.395, tr_acc: 74.28%, val_acc: 75.21%\n"
     ]
    },
    {
     "name": "stderr",
     "output_type": "stream",
     "text": [
      "\n"
     ]
    },
    {
     "data": {
      "application/vnd.jupyter.widget-view+json": {
       "model_id": "19d4eb886a4a4c35b69e3675cbea711b",
       "version_major": 2,
       "version_minor": 0
      },
      "text/plain": [
       "HBox(children=(HTML(value='steps'), FloatProgress(value=0.0, max=3006.0), HTML(value='')))"
      ]
     },
     "metadata": {},
     "output_type": "display_data"
    },
    {
     "name": "stderr",
     "output_type": "stream",
     "text": [
      "steps: 100%|██████████| 51/51 [00:00<00:00, 280.00it/s]\n"
     ]
    },
    {
     "name": "stdout",
     "output_type": "stream",
     "text": [
      "\r",
      "\r",
      "global_Step: 170000, tr_loss: 0.409947, val_loss: 0.394914\n"
     ]
    },
    {
     "name": "stderr",
     "output_type": "stream",
     "text": [
      "steps: 100%|██████████| 51/51 [00:00<00:00, 271.27it/s]"
     ]
    },
    {
     "name": "stdout",
     "output_type": "stream",
     "text": [
      "\n",
      "epoch : 57, tr_loss:  0.410853, val_loss: 0.396, tr_acc: 74.38%, val_acc: 75.52%\n"
     ]
    },
    {
     "name": "stderr",
     "output_type": "stream",
     "text": [
      "\n"
     ]
    },
    {
     "data": {
      "application/vnd.jupyter.widget-view+json": {
       "model_id": "133e04fe47dd44ed9c35e6ab236d8d2b",
       "version_major": 2,
       "version_minor": 0
      },
      "text/plain": [
       "HBox(children=(HTML(value='steps'), FloatProgress(value=0.0, max=3006.0), HTML(value='')))"
      ]
     },
     "metadata": {},
     "output_type": "display_data"
    },
    {
     "name": "stderr",
     "output_type": "stream",
     "text": [
      "steps: 100%|██████████| 51/51 [00:00<00:00, 268.43it/s]"
     ]
    },
    {
     "name": "stdout",
     "output_type": "stream",
     "text": [
      "\n",
      "epoch : 58, tr_loss:  0.410290, val_loss: 0.399, tr_acc: 74.31%, val_acc: 75.24%\n"
     ]
    },
    {
     "name": "stderr",
     "output_type": "stream",
     "text": [
      "\n"
     ]
    },
    {
     "data": {
      "application/vnd.jupyter.widget-view+json": {
       "model_id": "6706b2c8fc5342579d30dc35bc316b80",
       "version_major": 2,
       "version_minor": 0
      },
      "text/plain": [
       "HBox(children=(HTML(value='steps'), FloatProgress(value=0.0, max=3006.0), HTML(value='')))"
      ]
     },
     "metadata": {},
     "output_type": "display_data"
    },
    {
     "name": "stderr",
     "output_type": "stream",
     "text": [
      "steps: 100%|██████████| 51/51 [00:00<00:00, 268.36it/s]"
     ]
    },
    {
     "name": "stdout",
     "output_type": "stream",
     "text": [
      "\n",
      "epoch : 59, tr_loss:  0.409556, val_loss: 0.398, tr_acc: 74.42%, val_acc: 75.31%\n"
     ]
    },
    {
     "name": "stderr",
     "output_type": "stream",
     "text": [
      "\n"
     ]
    },
    {
     "data": {
      "application/vnd.jupyter.widget-view+json": {
       "model_id": "5df06d457b984ad6a0b6fb46de36a285",
       "version_major": 2,
       "version_minor": 0
      },
      "text/plain": [
       "HBox(children=(HTML(value='steps'), FloatProgress(value=0.0, max=3006.0), HTML(value='')))"
      ]
     },
     "metadata": {},
     "output_type": "display_data"
    },
    {
     "name": "stderr",
     "output_type": "stream",
     "text": [
      "steps: 100%|██████████| 51/51 [00:00<00:00, 283.92it/s]\n"
     ]
    },
    {
     "name": "stdout",
     "output_type": "stream",
     "text": [
      "\r",
      "\r",
      "global_Step: 180000, tr_loss: 0.407866, val_loss: 0.404833\n"
     ]
    },
    {
     "name": "stderr",
     "output_type": "stream",
     "text": [
      "steps: 100%|██████████| 51/51 [00:00<00:00, 267.02it/s]"
     ]
    },
    {
     "name": "stdout",
     "output_type": "stream",
     "text": [
      "\n",
      "epoch : 60, tr_loss:  0.408806, val_loss: 0.397, tr_acc: 74.50%, val_acc: 75.21%\n"
     ]
    },
    {
     "name": "stderr",
     "output_type": "stream",
     "text": [
      "\n"
     ]
    },
    {
     "data": {
      "application/vnd.jupyter.widget-view+json": {
       "model_id": "ffd4ef0bad834fa6a4d591e8cb5ef745",
       "version_major": 2,
       "version_minor": 0
      },
      "text/plain": [
       "HBox(children=(HTML(value='steps'), FloatProgress(value=0.0, max=3006.0), HTML(value='')))"
      ]
     },
     "metadata": {},
     "output_type": "display_data"
    },
    {
     "name": "stderr",
     "output_type": "stream",
     "text": [
      "steps: 100%|██████████| 51/51 [00:00<00:00, 264.25it/s]"
     ]
    },
    {
     "name": "stdout",
     "output_type": "stream",
     "text": [
      "\n",
      "epoch : 61, tr_loss:  0.408123, val_loss: 0.400, tr_acc: 74.54%, val_acc: 75.18%\n"
     ]
    },
    {
     "name": "stderr",
     "output_type": "stream",
     "text": [
      "\n"
     ]
    },
    {
     "data": {
      "application/vnd.jupyter.widget-view+json": {
       "model_id": "2f7e8c66e8174ac0bd71bdd48cfd91d4",
       "version_major": 2,
       "version_minor": 0
      },
      "text/plain": [
       "HBox(children=(HTML(value='steps'), FloatProgress(value=0.0, max=3006.0), HTML(value='')))"
      ]
     },
     "metadata": {},
     "output_type": "display_data"
    },
    {
     "name": "stderr",
     "output_type": "stream",
     "text": [
      "steps: 100%|██████████| 51/51 [00:00<00:00, 271.07it/s]"
     ]
    },
    {
     "name": "stdout",
     "output_type": "stream",
     "text": [
      "\n",
      "epoch : 62, tr_loss:  0.407563, val_loss: 0.391, tr_acc: 74.52%, val_acc: 75.92%\n"
     ]
    },
    {
     "name": "stderr",
     "output_type": "stream",
     "text": [
      "\n"
     ]
    },
    {
     "data": {
      "application/vnd.jupyter.widget-view+json": {
       "model_id": "c716dbad38d24fffb06e755feca65449",
       "version_major": 2,
       "version_minor": 0
      },
      "text/plain": [
       "HBox(children=(HTML(value='steps'), FloatProgress(value=0.0, max=3006.0), HTML(value='')))"
      ]
     },
     "metadata": {},
     "output_type": "display_data"
    },
    {
     "name": "stderr",
     "output_type": "stream",
     "text": [
      "steps: 100%|██████████| 51/51 [00:00<00:00, 266.78it/s]"
     ]
    },
    {
     "name": "stdout",
     "output_type": "stream",
     "text": [
      "\n",
      "epoch : 63, tr_loss:  0.406466, val_loss: 0.403, tr_acc: 74.61%, val_acc: 75.21%\n"
     ]
    },
    {
     "name": "stderr",
     "output_type": "stream",
     "text": [
      "\n"
     ]
    },
    {
     "data": {
      "application/vnd.jupyter.widget-view+json": {
       "model_id": "fa78ad93808b4d87ab169c7af502a3d0",
       "version_major": 2,
       "version_minor": 0
      },
      "text/plain": [
       "HBox(children=(HTML(value='steps'), FloatProgress(value=0.0, max=3006.0), HTML(value='')))"
      ]
     },
     "metadata": {},
     "output_type": "display_data"
    },
    {
     "name": "stderr",
     "output_type": "stream",
     "text": [
      "steps: 100%|██████████| 51/51 [00:00<00:00, 272.90it/s]\n"
     ]
    },
    {
     "name": "stdout",
     "output_type": "stream",
     "text": [
      "\r",
      "\r",
      "global_Step: 190000, tr_loss: 0.404774, val_loss: 0.417809\n"
     ]
    },
    {
     "name": "stderr",
     "output_type": "stream",
     "text": [
      "steps: 100%|██████████| 51/51 [00:00<00:00, 270.14it/s]"
     ]
    },
    {
     "name": "stdout",
     "output_type": "stream",
     "text": [
      "\n",
      "epoch : 64, tr_loss:  0.406160, val_loss: 0.394, tr_acc: 74.59%, val_acc: 75.86%\n"
     ]
    },
    {
     "name": "stderr",
     "output_type": "stream",
     "text": [
      "\n"
     ]
    },
    {
     "data": {
      "application/vnd.jupyter.widget-view+json": {
       "model_id": "d5bbd4bf67024ff1a977a614b1730c6f",
       "version_major": 2,
       "version_minor": 0
      },
      "text/plain": [
       "HBox(children=(HTML(value='steps'), FloatProgress(value=0.0, max=3006.0), HTML(value='')))"
      ]
     },
     "metadata": {},
     "output_type": "display_data"
    },
    {
     "name": "stderr",
     "output_type": "stream",
     "text": [
      "steps: 100%|██████████| 51/51 [00:00<00:00, 271.28it/s]"
     ]
    },
    {
     "name": "stdout",
     "output_type": "stream",
     "text": [
      "\n",
      "epoch : 65, tr_loss:  0.405596, val_loss: 0.397, tr_acc: 74.74%, val_acc: 75.73%\n"
     ]
    },
    {
     "name": "stderr",
     "output_type": "stream",
     "text": [
      "\n"
     ]
    },
    {
     "data": {
      "application/vnd.jupyter.widget-view+json": {
       "model_id": "9aeaa520835540a0a0c948cb57e05346",
       "version_major": 2,
       "version_minor": 0
      },
      "text/plain": [
       "HBox(children=(HTML(value='steps'), FloatProgress(value=0.0, max=3006.0), HTML(value='')))"
      ]
     },
     "metadata": {},
     "output_type": "display_data"
    },
    {
     "name": "stderr",
     "output_type": "stream",
     "text": [
      "steps: 100%|██████████| 51/51 [00:00<00:00, 271.30it/s]"
     ]
    },
    {
     "name": "stdout",
     "output_type": "stream",
     "text": [
      "\n",
      "epoch : 66, tr_loss:  0.404853, val_loss: 0.397, tr_acc: 74.72%, val_acc: 75.06%\n"
     ]
    },
    {
     "name": "stderr",
     "output_type": "stream",
     "text": [
      "\n"
     ]
    },
    {
     "data": {
      "application/vnd.jupyter.widget-view+json": {
       "model_id": "c7efc15a9ddc44129dff1632a17248f6",
       "version_major": 2,
       "version_minor": 0
      },
      "text/plain": [
       "HBox(children=(HTML(value='steps'), FloatProgress(value=0.0, max=3006.0), HTML(value='')))"
      ]
     },
     "metadata": {},
     "output_type": "display_data"
    },
    {
     "name": "stderr",
     "output_type": "stream",
     "text": [
      "steps: 100%|██████████| 51/51 [00:00<00:00, 277.90it/s]\n"
     ]
    },
    {
     "name": "stdout",
     "output_type": "stream",
     "text": [
      "\r",
      "\r",
      "global_Step: 200000, tr_loss: 0.404478, val_loss: 0.395973\n"
     ]
    },
    {
     "name": "stderr",
     "output_type": "stream",
     "text": [
      "steps: 100%|██████████| 51/51 [00:00<00:00, 269.82it/s]"
     ]
    },
    {
     "name": "stdout",
     "output_type": "stream",
     "text": [
      "\n",
      "epoch : 67, tr_loss:  0.404039, val_loss: 0.400, tr_acc: 74.78%, val_acc: 75.21%\n"
     ]
    },
    {
     "name": "stderr",
     "output_type": "stream",
     "text": [
      "\n"
     ]
    },
    {
     "data": {
      "application/vnd.jupyter.widget-view+json": {
       "model_id": "c34dc8c715224ef2ba50f663fdc4f269",
       "version_major": 2,
       "version_minor": 0
      },
      "text/plain": [
       "HBox(children=(HTML(value='steps'), FloatProgress(value=0.0, max=3006.0), HTML(value='')))"
      ]
     },
     "metadata": {},
     "output_type": "display_data"
    },
    {
     "name": "stderr",
     "output_type": "stream",
     "text": [
      "steps: 100%|██████████| 51/51 [00:00<00:00, 266.06it/s]"
     ]
    },
    {
     "name": "stdout",
     "output_type": "stream",
     "text": [
      "\n",
      "epoch : 68, tr_loss:  0.403694, val_loss: 0.397, tr_acc: 74.79%, val_acc: 75.31%\n"
     ]
    },
    {
     "name": "stderr",
     "output_type": "stream",
     "text": [
      "\n"
     ]
    },
    {
     "data": {
      "application/vnd.jupyter.widget-view+json": {
       "model_id": "393838eb943942fa9b6a05754de2ba87",
       "version_major": 2,
       "version_minor": 0
      },
      "text/plain": [
       "HBox(children=(HTML(value='steps'), FloatProgress(value=0.0, max=3006.0), HTML(value='')))"
      ]
     },
     "metadata": {},
     "output_type": "display_data"
    },
    {
     "name": "stderr",
     "output_type": "stream",
     "text": [
      "steps: 100%|██████████| 51/51 [00:00<00:00, 268.42it/s]"
     ]
    },
    {
     "name": "stdout",
     "output_type": "stream",
     "text": [
      "\n",
      "epoch : 69, tr_loss:  0.403060, val_loss: 0.392, tr_acc: 74.80%, val_acc: 75.83%\n"
     ]
    },
    {
     "name": "stderr",
     "output_type": "stream",
     "text": [
      "\n"
     ]
    },
    {
     "data": {
      "application/vnd.jupyter.widget-view+json": {
       "model_id": "4f742ea20069488ca347c2b71255d4be",
       "version_major": 2,
       "version_minor": 0
      },
      "text/plain": [
       "HBox(children=(HTML(value='steps'), FloatProgress(value=0.0, max=3006.0), HTML(value='')))"
      ]
     },
     "metadata": {},
     "output_type": "display_data"
    },
    {
     "name": "stderr",
     "output_type": "stream",
     "text": [
      "steps: 100%|██████████| 51/51 [00:00<00:00, 278.47it/s]\n"
     ]
    },
    {
     "name": "stdout",
     "output_type": "stream",
     "text": [
      "\r",
      "\r",
      "global_Step: 210000, tr_loss: 0.401511, val_loss: 0.393237\n"
     ]
    },
    {
     "name": "stderr",
     "output_type": "stream",
     "text": [
      "steps: 100%|██████████| 51/51 [00:00<00:00, 265.54it/s]"
     ]
    },
    {
     "name": "stdout",
     "output_type": "stream",
     "text": [
      "\n",
      "epoch : 70, tr_loss:  0.402365, val_loss: 0.400, tr_acc: 74.83%, val_acc: 74.79%\n"
     ]
    },
    {
     "name": "stderr",
     "output_type": "stream",
     "text": [
      "\n"
     ]
    },
    {
     "data": {
      "application/vnd.jupyter.widget-view+json": {
       "model_id": "8128c21be6164865b8ca8414efbda595",
       "version_major": 2,
       "version_minor": 0
      },
      "text/plain": [
       "HBox(children=(HTML(value='steps'), FloatProgress(value=0.0, max=3006.0), HTML(value='')))"
      ]
     },
     "metadata": {},
     "output_type": "display_data"
    },
    {
     "name": "stderr",
     "output_type": "stream",
     "text": [
      "steps: 100%|██████████| 51/51 [00:00<00:00, 271.73it/s]"
     ]
    },
    {
     "name": "stdout",
     "output_type": "stream",
     "text": [
      "\n",
      "epoch : 71, tr_loss:  0.401800, val_loss: 0.400, tr_acc: 74.98%, val_acc: 75.15%\n"
     ]
    },
    {
     "name": "stderr",
     "output_type": "stream",
     "text": [
      "\n"
     ]
    },
    {
     "data": {
      "application/vnd.jupyter.widget-view+json": {
       "model_id": "6e202490fc184a979a6d356ddcc693d2",
       "version_major": 2,
       "version_minor": 0
      },
      "text/plain": [
       "HBox(children=(HTML(value='steps'), FloatProgress(value=0.0, max=3006.0), HTML(value='')))"
      ]
     },
     "metadata": {},
     "output_type": "display_data"
    },
    {
     "name": "stderr",
     "output_type": "stream",
     "text": [
      "steps: 100%|██████████| 51/51 [00:00<00:00, 269.78it/s]"
     ]
    },
    {
     "name": "stdout",
     "output_type": "stream",
     "text": [
      "\n",
      "epoch : 72, tr_loss:  0.401571, val_loss: 0.403, tr_acc: 74.89%, val_acc: 75.06%\n"
     ]
    },
    {
     "name": "stderr",
     "output_type": "stream",
     "text": [
      "\n"
     ]
    },
    {
     "data": {
      "application/vnd.jupyter.widget-view+json": {
       "model_id": "7da01c912505407bb406ba292ca948f1",
       "version_major": 2,
       "version_minor": 0
      },
      "text/plain": [
       "HBox(children=(HTML(value='steps'), FloatProgress(value=0.0, max=3006.0), HTML(value='')))"
      ]
     },
     "metadata": {},
     "output_type": "display_data"
    },
    {
     "name": "stderr",
     "output_type": "stream",
     "text": [
      "steps: 100%|██████████| 51/51 [00:00<00:00, 269.84it/s]"
     ]
    },
    {
     "name": "stdout",
     "output_type": "stream",
     "text": [
      "\n",
      "epoch : 73, tr_loss:  0.400564, val_loss: 0.408, tr_acc: 74.98%, val_acc: 74.97%\n"
     ]
    },
    {
     "name": "stderr",
     "output_type": "stream",
     "text": [
      "\n"
     ]
    },
    {
     "data": {
      "application/vnd.jupyter.widget-view+json": {
       "model_id": "ae4a53094b604b5abc4f93d696e2439f",
       "version_major": 2,
       "version_minor": 0
      },
      "text/plain": [
       "HBox(children=(HTML(value='steps'), FloatProgress(value=0.0, max=3006.0), HTML(value='')))"
      ]
     },
     "metadata": {},
     "output_type": "display_data"
    },
    {
     "name": "stderr",
     "output_type": "stream",
     "text": [
      "steps: 100%|██████████| 51/51 [00:00<00:00, 281.50it/s]\n"
     ]
    },
    {
     "name": "stdout",
     "output_type": "stream",
     "text": [
      "\r",
      "\r",
      "global_Step: 220000, tr_loss: 0.401131, val_loss: 0.392024\n"
     ]
    },
    {
     "name": "stderr",
     "output_type": "stream",
     "text": [
      "steps: 100%|██████████| 51/51 [00:00<00:00, 262.88it/s]"
     ]
    },
    {
     "name": "stdout",
     "output_type": "stream",
     "text": [
      "\n",
      "epoch : 74, tr_loss:  0.399958, val_loss: 0.405, tr_acc: 75.06%, val_acc: 75.31%\n"
     ]
    },
    {
     "name": "stderr",
     "output_type": "stream",
     "text": [
      "\n"
     ]
    },
    {
     "data": {
      "application/vnd.jupyter.widget-view+json": {
       "model_id": "da064ca19468467a89eb88b78e043ce3",
       "version_major": 2,
       "version_minor": 0
      },
      "text/plain": [
       "HBox(children=(HTML(value='steps'), FloatProgress(value=0.0, max=3006.0), HTML(value='')))"
      ]
     },
     "metadata": {},
     "output_type": "display_data"
    },
    {
     "name": "stderr",
     "output_type": "stream",
     "text": [
      "steps: 100%|██████████| 51/51 [00:00<00:00, 268.42it/s]"
     ]
    },
    {
     "name": "stdout",
     "output_type": "stream",
     "text": [
      "\n",
      "epoch : 75, tr_loss:  0.398882, val_loss: 0.397, tr_acc: 75.12%, val_acc: 75.55%\n"
     ]
    },
    {
     "name": "stderr",
     "output_type": "stream",
     "text": [
      "\n"
     ]
    },
    {
     "data": {
      "application/vnd.jupyter.widget-view+json": {
       "model_id": "d601ca7f439e4a3e8e9ed322c124ac4a",
       "version_major": 2,
       "version_minor": 0
      },
      "text/plain": [
       "HBox(children=(HTML(value='steps'), FloatProgress(value=0.0, max=3006.0), HTML(value='')))"
      ]
     },
     "metadata": {},
     "output_type": "display_data"
    },
    {
     "name": "stderr",
     "output_type": "stream",
     "text": [
      "steps: 100%|██████████| 51/51 [00:00<00:00, 272.53it/s]"
     ]
    },
    {
     "name": "stdout",
     "output_type": "stream",
     "text": [
      "\n",
      "epoch : 76, tr_loss:  0.398626, val_loss: 0.390, tr_acc: 75.09%, val_acc: 76.25%\n"
     ]
    },
    {
     "name": "stderr",
     "output_type": "stream",
     "text": [
      "\n"
     ]
    },
    {
     "data": {
      "application/vnd.jupyter.widget-view+json": {
       "model_id": "7d93912127b549a78682f03673a9a896",
       "version_major": 2,
       "version_minor": 0
      },
      "text/plain": [
       "HBox(children=(HTML(value='steps'), FloatProgress(value=0.0, max=3006.0), HTML(value='')))"
      ]
     },
     "metadata": {},
     "output_type": "display_data"
    },
    {
     "name": "stderr",
     "output_type": "stream",
     "text": [
      "steps: 100%|██████████| 51/51 [00:00<00:00, 284.58it/s]\n"
     ]
    },
    {
     "name": "stdout",
     "output_type": "stream",
     "text": [
      "\r",
      "\r",
      "global_Step: 230000, tr_loss: 0.396310, val_loss: 0.393849\n"
     ]
    },
    {
     "name": "stderr",
     "output_type": "stream",
     "text": [
      "steps: 100%|██████████| 51/51 [00:00<00:00, 268.42it/s]"
     ]
    },
    {
     "name": "stdout",
     "output_type": "stream",
     "text": [
      "\n",
      "epoch : 77, tr_loss:  0.398224, val_loss: 0.415, tr_acc: 75.11%, val_acc: 74.82%\n"
     ]
    },
    {
     "name": "stderr",
     "output_type": "stream",
     "text": [
      "\n"
     ]
    },
    {
     "data": {
      "application/vnd.jupyter.widget-view+json": {
       "model_id": "3cde953bcfae47989d341c89271a3887",
       "version_major": 2,
       "version_minor": 0
      },
      "text/plain": [
       "HBox(children=(HTML(value='steps'), FloatProgress(value=0.0, max=3006.0), HTML(value='')))"
      ]
     },
     "metadata": {},
     "output_type": "display_data"
    },
    {
     "name": "stderr",
     "output_type": "stream",
     "text": [
      "steps: 100%|██████████| 51/51 [00:00<00:00, 274.19it/s]"
     ]
    },
    {
     "name": "stdout",
     "output_type": "stream",
     "text": [
      "\n",
      "epoch : 78, tr_loss:  0.397477, val_loss: 0.401, tr_acc: 75.16%, val_acc: 75.24%\n"
     ]
    },
    {
     "name": "stderr",
     "output_type": "stream",
     "text": [
      "\n"
     ]
    },
    {
     "data": {
      "application/vnd.jupyter.widget-view+json": {
       "model_id": "585d7ea2355a4a16adc69ea9b5b81165",
       "version_major": 2,
       "version_minor": 0
      },
      "text/plain": [
       "HBox(children=(HTML(value='steps'), FloatProgress(value=0.0, max=3006.0), HTML(value='')))"
      ]
     },
     "metadata": {},
     "output_type": "display_data"
    },
    {
     "name": "stderr",
     "output_type": "stream",
     "text": [
      "steps: 100%|██████████| 51/51 [00:00<00:00, 271.55it/s]"
     ]
    },
    {
     "name": "stdout",
     "output_type": "stream",
     "text": [
      "\n",
      "epoch : 79, tr_loss:  0.397271, val_loss: 0.404, tr_acc: 75.22%, val_acc: 75.12%\n"
     ]
    },
    {
     "name": "stderr",
     "output_type": "stream",
     "text": [
      "\n"
     ]
    },
    {
     "data": {
      "application/vnd.jupyter.widget-view+json": {
       "model_id": "c54d1386f9f64eceafa542f415b2332c",
       "version_major": 2,
       "version_minor": 0
      },
      "text/plain": [
       "HBox(children=(HTML(value='steps'), FloatProgress(value=0.0, max=3006.0), HTML(value='')))"
      ]
     },
     "metadata": {},
     "output_type": "display_data"
    },
    {
     "name": "stderr",
     "output_type": "stream",
     "text": [
      "steps: 100%|██████████| 51/51 [00:00<00:00, 288.13it/s]\n"
     ]
    },
    {
     "name": "stdout",
     "output_type": "stream",
     "text": [
      "\r",
      "\r",
      "global_Step: 240000, tr_loss: 0.395838, val_loss: 0.399446\n"
     ]
    },
    {
     "name": "stderr",
     "output_type": "stream",
     "text": [
      "steps: 100%|██████████| 51/51 [00:00<00:00, 276.81it/s]"
     ]
    },
    {
     "name": "stdout",
     "output_type": "stream",
     "text": [
      "\n",
      "\r",
      "epoch : 80, tr_loss:  0.396318, val_loss: 0.403, tr_acc: 75.26%, val_acc: 75.18%\n"
     ]
    },
    {
     "name": "stderr",
     "output_type": "stream",
     "text": [
      "\n"
     ]
    },
    {
     "data": {
      "application/vnd.jupyter.widget-view+json": {
       "model_id": "dd7b82157fcd4402996dd23d5e26bf3d",
       "version_major": 2,
       "version_minor": 0
      },
      "text/plain": [
       "HBox(children=(HTML(value='steps'), FloatProgress(value=0.0, max=3006.0), HTML(value='')))"
      ]
     },
     "metadata": {},
     "output_type": "display_data"
    },
    {
     "name": "stderr",
     "output_type": "stream",
     "text": [
      "steps: 100%|██████████| 51/51 [00:00<00:00, 269.84it/s]"
     ]
    },
    {
     "name": "stdout",
     "output_type": "stream",
     "text": [
      "\n",
      "epoch : 81, tr_loss:  0.395923, val_loss: 0.406, tr_acc: 75.33%, val_acc: 74.94%\n"
     ]
    },
    {
     "name": "stderr",
     "output_type": "stream",
     "text": [
      "\n"
     ]
    },
    {
     "data": {
      "application/vnd.jupyter.widget-view+json": {
       "model_id": "3732b7a1cc5d476db0013dad7d538ddb",
       "version_major": 2,
       "version_minor": 0
      },
      "text/plain": [
       "HBox(children=(HTML(value='steps'), FloatProgress(value=0.0, max=3006.0), HTML(value='')))"
      ]
     },
     "metadata": {},
     "output_type": "display_data"
    },
    {
     "name": "stderr",
     "output_type": "stream",
     "text": [
      "steps:  55%|█████▍    | 28/51 [00:00<00:00, 274.35it/s]"
     ]
    },
    {
     "name": "stdout",
     "output_type": "stream",
     "text": [
      "\n"
     ]
    },
    {
     "name": "stderr",
     "output_type": "stream",
     "text": [
      "\r",
      "steps: 100%|██████████| 51/51 [00:00<00:00, 269.87it/s]"
     ]
    },
    {
     "name": "stdout",
     "output_type": "stream",
     "text": [
      "\r",
      "epoch : 82, tr_loss:  0.395465, val_loss: 0.397, tr_acc: 75.34%, val_acc: 75.52%\n"
     ]
    },
    {
     "name": "stderr",
     "output_type": "stream",
     "text": [
      "\n"
     ]
    },
    {
     "data": {
      "application/vnd.jupyter.widget-view+json": {
       "model_id": "3b82e8d0267449b19520aa70e3e8505b",
       "version_major": 2,
       "version_minor": 0
      },
      "text/plain": [
       "HBox(children=(HTML(value='steps'), FloatProgress(value=0.0, max=3006.0), HTML(value='')))"
      ]
     },
     "metadata": {},
     "output_type": "display_data"
    },
    {
     "name": "stderr",
     "output_type": "stream",
     "text": [
      "steps: 100%|██████████| 51/51 [00:00<00:00, 273.61it/s]"
     ]
    },
    {
     "name": "stdout",
     "output_type": "stream",
     "text": [
      "\n",
      "epoch : 83, tr_loss:  0.394733, val_loss: 0.410, tr_acc: 75.39%, val_acc: 75.09%\n"
     ]
    },
    {
     "name": "stderr",
     "output_type": "stream",
     "text": [
      "\n"
     ]
    },
    {
     "data": {
      "application/vnd.jupyter.widget-view+json": {
       "model_id": "2c668fb310454a7b9281a7f213f3faff",
       "version_major": 2,
       "version_minor": 0
      },
      "text/plain": [
       "HBox(children=(HTML(value='steps'), FloatProgress(value=0.0, max=3006.0), HTML(value='')))"
      ]
     },
     "metadata": {},
     "output_type": "display_data"
    },
    {
     "name": "stderr",
     "output_type": "stream",
     "text": [
      "steps: 100%|██████████| 51/51 [00:00<00:00, 284.27it/s]\n"
     ]
    },
    {
     "name": "stdout",
     "output_type": "stream",
     "text": [
      "\r",
      "\r",
      "global_Step: 250000, tr_loss: 0.393980, val_loss: 0.398369\n"
     ]
    },
    {
     "name": "stderr",
     "output_type": "stream",
     "text": [
      "steps:  98%|█████████▊| 50/51 [00:00<00:00, 251.94it/s]"
     ]
    },
    {
     "name": "stdout",
     "output_type": "stream",
     "text": [
      "\n"
     ]
    },
    {
     "name": "stderr",
     "output_type": "stream",
     "text": [
      "\r",
      "steps: 100%|██████████| 51/51 [00:00<00:00, 246.38it/s]"
     ]
    },
    {
     "name": "stdout",
     "output_type": "stream",
     "text": [
      "\r",
      "epoch : 84, tr_loss:  0.393822, val_loss: 0.409, tr_acc: 75.39%, val_acc: 75.15%\n"
     ]
    },
    {
     "name": "stderr",
     "output_type": "stream",
     "text": [
      "\n"
     ]
    },
    {
     "data": {
      "application/vnd.jupyter.widget-view+json": {
       "model_id": "b2998f7046e04e7d9f1bb0b6c1a2cec0",
       "version_major": 2,
       "version_minor": 0
      },
      "text/plain": [
       "HBox(children=(HTML(value='steps'), FloatProgress(value=0.0, max=3006.0), HTML(value='')))"
      ]
     },
     "metadata": {},
     "output_type": "display_data"
    },
    {
     "name": "stderr",
     "output_type": "stream",
     "text": [
      "steps: 100%|██████████| 51/51 [00:00<00:00, 271.12it/s]"
     ]
    },
    {
     "name": "stdout",
     "output_type": "stream",
     "text": [
      "\n",
      "epoch : 85, tr_loss:  0.393444, val_loss: 0.408, tr_acc: 75.42%, val_acc: 74.94%\n"
     ]
    },
    {
     "name": "stderr",
     "output_type": "stream",
     "text": [
      "\n"
     ]
    },
    {
     "data": {
      "application/vnd.jupyter.widget-view+json": {
       "model_id": "3dda03c8a05c43ee9419ec6f86086ced",
       "version_major": 2,
       "version_minor": 0
      },
      "text/plain": [
       "HBox(children=(HTML(value='steps'), FloatProgress(value=0.0, max=3006.0), HTML(value='')))"
      ]
     },
     "metadata": {},
     "output_type": "display_data"
    },
    {
     "name": "stderr",
     "output_type": "stream",
     "text": [
      "steps: 100%|██████████| 51/51 [00:00<00:00, 266.20it/s]"
     ]
    },
    {
     "name": "stdout",
     "output_type": "stream",
     "text": [
      "\n",
      "epoch : 86, tr_loss:  0.392885, val_loss: 0.398, tr_acc: 75.53%, val_acc: 75.86%\n"
     ]
    },
    {
     "name": "stderr",
     "output_type": "stream",
     "text": [
      "\n"
     ]
    },
    {
     "data": {
      "application/vnd.jupyter.widget-view+json": {
       "model_id": "a052389fdc294fc9b7dea7d2e1eb0aa1",
       "version_major": 2,
       "version_minor": 0
      },
      "text/plain": [
       "HBox(children=(HTML(value='steps'), FloatProgress(value=0.0, max=3006.0), HTML(value='')))"
      ]
     },
     "metadata": {},
     "output_type": "display_data"
    },
    {
     "name": "stderr",
     "output_type": "stream",
     "text": [
      "steps: 100%|██████████| 51/51 [00:00<00:00, 286.48it/s]\n"
     ]
    },
    {
     "name": "stdout",
     "output_type": "stream",
     "text": [
      "\r",
      "\r",
      "global_Step: 260000, tr_loss: 0.391448, val_loss: 0.406039\n"
     ]
    },
    {
     "name": "stderr",
     "output_type": "stream",
     "text": [
      "steps: 100%|██████████| 51/51 [00:00<00:00, 275.51it/s]"
     ]
    },
    {
     "name": "stdout",
     "output_type": "stream",
     "text": [
      "\n",
      "epoch : 87, tr_loss:  0.391955, val_loss: 0.413, tr_acc: 75.45%, val_acc: 75.15%\n"
     ]
    },
    {
     "name": "stderr",
     "output_type": "stream",
     "text": [
      "\n"
     ]
    },
    {
     "data": {
      "application/vnd.jupyter.widget-view+json": {
       "model_id": "b04c4d6adbeb4adda8dffa87717d5e0c",
       "version_major": 2,
       "version_minor": 0
      },
      "text/plain": [
       "HBox(children=(HTML(value='steps'), FloatProgress(value=0.0, max=3006.0), HTML(value='')))"
      ]
     },
     "metadata": {},
     "output_type": "display_data"
    },
    {
     "name": "stderr",
     "output_type": "stream",
     "text": [
      "steps: 100%|██████████| 51/51 [00:00<00:00, 273.62it/s]"
     ]
    },
    {
     "name": "stdout",
     "output_type": "stream",
     "text": [
      "\n",
      "epoch : 88, tr_loss:  0.391846, val_loss: 0.412, tr_acc: 75.56%, val_acc: 75.18%\n"
     ]
    },
    {
     "name": "stderr",
     "output_type": "stream",
     "text": [
      "\n"
     ]
    },
    {
     "data": {
      "application/vnd.jupyter.widget-view+json": {
       "model_id": "245e5cfad909430c8c83cebdb7bf2bd1",
       "version_major": 2,
       "version_minor": 0
      },
      "text/plain": [
       "HBox(children=(HTML(value='steps'), FloatProgress(value=0.0, max=3006.0), HTML(value='')))"
      ]
     },
     "metadata": {},
     "output_type": "display_data"
    },
    {
     "name": "stderr",
     "output_type": "stream",
     "text": [
      "steps: 100%|██████████| 51/51 [00:00<00:00, 271.79it/s]"
     ]
    },
    {
     "name": "stdout",
     "output_type": "stream",
     "text": [
      "\n",
      "epoch : 89, tr_loss:  0.391239, val_loss: 0.402, tr_acc: 75.59%, val_acc: 75.58%\n"
     ]
    },
    {
     "name": "stderr",
     "output_type": "stream",
     "text": [
      "\n"
     ]
    },
    {
     "data": {
      "application/vnd.jupyter.widget-view+json": {
       "model_id": "d34527f5527a4d65bda94f28698ee103",
       "version_major": 2,
       "version_minor": 0
      },
      "text/plain": [
       "HBox(children=(HTML(value='steps'), FloatProgress(value=0.0, max=3006.0), HTML(value='')))"
      ]
     },
     "metadata": {},
     "output_type": "display_data"
    },
    {
     "name": "stderr",
     "output_type": "stream",
     "text": [
      "steps: 100%|██████████| 51/51 [00:00<00:00, 289.48it/s]\n"
     ]
    },
    {
     "name": "stdout",
     "output_type": "stream",
     "text": [
      "\r",
      "\r",
      "global_Step: 270000, tr_loss: 0.390379, val_loss: 0.412481\n"
     ]
    },
    {
     "name": "stderr",
     "output_type": "stream",
     "text": [
      "steps: 100%|██████████| 51/51 [00:00<00:00, 274.66it/s]"
     ]
    },
    {
     "name": "stdout",
     "output_type": "stream",
     "text": [
      "\n",
      "epoch : 90, tr_loss:  0.390286, val_loss: 0.409, tr_acc: 75.57%, val_acc: 75.24%\n"
     ]
    },
    {
     "name": "stderr",
     "output_type": "stream",
     "text": [
      "\n"
     ]
    },
    {
     "data": {
      "application/vnd.jupyter.widget-view+json": {
       "model_id": "a5c78bdef87444d6824b96b9ab3fe590",
       "version_major": 2,
       "version_minor": 0
      },
      "text/plain": [
       "HBox(children=(HTML(value='steps'), FloatProgress(value=0.0, max=3006.0), HTML(value='')))"
      ]
     },
     "metadata": {},
     "output_type": "display_data"
    },
    {
     "name": "stderr",
     "output_type": "stream",
     "text": [
      "steps: 100%|██████████| 51/51 [00:00<00:00, 269.92it/s]"
     ]
    },
    {
     "name": "stdout",
     "output_type": "stream",
     "text": [
      "\n",
      "epoch : 91, tr_loss:  0.389901, val_loss: 0.419, tr_acc: 75.71%, val_acc: 75.06%\n"
     ]
    },
    {
     "name": "stderr",
     "output_type": "stream",
     "text": [
      "\n"
     ]
    },
    {
     "data": {
      "application/vnd.jupyter.widget-view+json": {
       "model_id": "8a624385db9248f78c6c0df248565d2a",
       "version_major": 2,
       "version_minor": 0
      },
      "text/plain": [
       "HBox(children=(HTML(value='steps'), FloatProgress(value=0.0, max=3006.0), HTML(value='')))"
      ]
     },
     "metadata": {},
     "output_type": "display_data"
    },
    {
     "name": "stderr",
     "output_type": "stream",
     "text": [
      "steps: 100%|██████████| 51/51 [00:00<00:00, 272.73it/s]"
     ]
    },
    {
     "name": "stdout",
     "output_type": "stream",
     "text": [
      "\n",
      "epoch : 92, tr_loss:  0.389337, val_loss: 0.424, tr_acc: 75.67%, val_acc: 75.28%\n"
     ]
    },
    {
     "name": "stderr",
     "output_type": "stream",
     "text": [
      "\n"
     ]
    },
    {
     "data": {
      "application/vnd.jupyter.widget-view+json": {
       "model_id": "3d7d6d6d100a482da4a2c3f10234aab4",
       "version_major": 2,
       "version_minor": 0
      },
      "text/plain": [
       "HBox(children=(HTML(value='steps'), FloatProgress(value=0.0, max=3006.0), HTML(value='')))"
      ]
     },
     "metadata": {},
     "output_type": "display_data"
    },
    {
     "name": "stderr",
     "output_type": "stream",
     "text": [
      "steps: 100%|██████████| 51/51 [00:00<00:00, 275.60it/s]"
     ]
    },
    {
     "name": "stdout",
     "output_type": "stream",
     "text": [
      "\n",
      "\r",
      "epoch : 93, tr_loss:  0.388689, val_loss: 0.410, tr_acc: 75.73%, val_acc: 75.43%\n"
     ]
    },
    {
     "name": "stderr",
     "output_type": "stream",
     "text": [
      "\n"
     ]
    },
    {
     "data": {
      "application/vnd.jupyter.widget-view+json": {
       "model_id": "03339b6a79a142598b1be0c295ced76a",
       "version_major": 2,
       "version_minor": 0
      },
      "text/plain": [
       "HBox(children=(HTML(value='steps'), FloatProgress(value=0.0, max=3006.0), HTML(value='')))"
      ]
     },
     "metadata": {},
     "output_type": "display_data"
    },
    {
     "name": "stderr",
     "output_type": "stream",
     "text": [
      "steps: 100%|██████████| 51/51 [00:00<00:00, 288.85it/s]\n"
     ]
    },
    {
     "name": "stdout",
     "output_type": "stream",
     "text": [
      "\r",
      "\r",
      "global_Step: 280000, tr_loss: 0.390423, val_loss: 0.425926\n"
     ]
    },
    {
     "name": "stderr",
     "output_type": "stream",
     "text": [
      "steps: 100%|██████████| 51/51 [00:00<00:00, 272.73it/s]"
     ]
    },
    {
     "name": "stdout",
     "output_type": "stream",
     "text": [
      "\n",
      "epoch : 94, tr_loss:  0.388722, val_loss: 0.420, tr_acc: 75.72%, val_acc: 75.12%\n"
     ]
    },
    {
     "name": "stderr",
     "output_type": "stream",
     "text": [
      "\n"
     ]
    },
    {
     "data": {
      "application/vnd.jupyter.widget-view+json": {
       "model_id": "7413066c343545eba36621a2939b84b2",
       "version_major": 2,
       "version_minor": 0
      },
      "text/plain": [
       "HBox(children=(HTML(value='steps'), FloatProgress(value=0.0, max=3006.0), HTML(value='')))"
      ]
     },
     "metadata": {},
     "output_type": "display_data"
    },
    {
     "name": "stderr",
     "output_type": "stream",
     "text": [
      "steps: 100%|██████████| 51/51 [00:00<00:00, 268.42it/s]"
     ]
    },
    {
     "name": "stdout",
     "output_type": "stream",
     "text": [
      "\n",
      "epoch : 95, tr_loss:  0.387937, val_loss: 0.412, tr_acc: 75.73%, val_acc: 75.67%\n"
     ]
    },
    {
     "name": "stderr",
     "output_type": "stream",
     "text": [
      "\n"
     ]
    },
    {
     "data": {
      "application/vnd.jupyter.widget-view+json": {
       "model_id": "c048e1a6a68348f3b2048194d443f67b",
       "version_major": 2,
       "version_minor": 0
      },
      "text/plain": [
       "HBox(children=(HTML(value='steps'), FloatProgress(value=0.0, max=3006.0), HTML(value='')))"
      ]
     },
     "metadata": {},
     "output_type": "display_data"
    },
    {
     "name": "stderr",
     "output_type": "stream",
     "text": [
      "steps: 100%|██████████| 51/51 [00:00<00:00, 275.63it/s]"
     ]
    },
    {
     "name": "stdout",
     "output_type": "stream",
     "text": [
      "\n"
     ]
    },
    {
     "name": "stderr",
     "output_type": "stream",
     "text": [
      "\n"
     ]
    },
    {
     "name": "stdout",
     "output_type": "stream",
     "text": [
      "\r",
      "epoch : 96, tr_loss:  0.388113, val_loss: 0.407, tr_acc: 75.75%, val_acc: 75.52%\n"
     ]
    },
    {
     "data": {
      "application/vnd.jupyter.widget-view+json": {
       "model_id": "73915bfbbbfd4ad284630a8d0041df01",
       "version_major": 2,
       "version_minor": 0
      },
      "text/plain": [
       "HBox(children=(HTML(value='steps'), FloatProgress(value=0.0, max=3006.0), HTML(value='')))"
      ]
     },
     "metadata": {},
     "output_type": "display_data"
    },
    {
     "name": "stderr",
     "output_type": "stream",
     "text": [
      "steps: 100%|██████████| 51/51 [00:00<00:00, 283.22it/s]\n"
     ]
    },
    {
     "name": "stdout",
     "output_type": "stream",
     "text": [
      "\r",
      "\r",
      "global_Step: 290000, tr_loss: 0.387696, val_loss: 0.411621\n"
     ]
    },
    {
     "name": "stderr",
     "output_type": "stream",
     "text": [
      "steps: 100%|██████████| 51/51 [00:00<00:00, 271.17it/s]"
     ]
    },
    {
     "name": "stdout",
     "output_type": "stream",
     "text": [
      "\n",
      "epoch : 97, tr_loss:  0.386739, val_loss: 0.418, tr_acc: 75.92%, val_acc: 75.64%\n"
     ]
    },
    {
     "name": "stderr",
     "output_type": "stream",
     "text": [
      "\n"
     ]
    },
    {
     "data": {
      "application/vnd.jupyter.widget-view+json": {
       "model_id": "33dcf97d383f4d8cbe3e345fc9f660be",
       "version_major": 2,
       "version_minor": 0
      },
      "text/plain": [
       "HBox(children=(HTML(value='steps'), FloatProgress(value=0.0, max=3006.0), HTML(value='')))"
      ]
     },
     "metadata": {},
     "output_type": "display_data"
    },
    {
     "name": "stderr",
     "output_type": "stream",
     "text": [
      "steps: 100%|██████████| 51/51 [00:00<00:00, 273.12it/s]"
     ]
    },
    {
     "name": "stdout",
     "output_type": "stream",
     "text": [
      "\n",
      "epoch : 98, tr_loss:  0.386565, val_loss: 0.418, tr_acc: 75.89%, val_acc: 75.46%\n"
     ]
    },
    {
     "name": "stderr",
     "output_type": "stream",
     "text": [
      "\n"
     ]
    },
    {
     "data": {
      "application/vnd.jupyter.widget-view+json": {
       "model_id": "a2d3c508fc7a4961b40dc9a93846feb9",
       "version_major": 2,
       "version_minor": 0
      },
      "text/plain": [
       "HBox(children=(HTML(value='steps'), FloatProgress(value=0.0, max=3006.0), HTML(value='')))"
      ]
     },
     "metadata": {},
     "output_type": "display_data"
    },
    {
     "name": "stderr",
     "output_type": "stream",
     "text": [
      "steps: 100%|██████████| 51/51 [00:00<00:00, 271.55it/s]"
     ]
    },
    {
     "name": "stdout",
     "output_type": "stream",
     "text": [
      "\n",
      "epoch : 99, tr_loss:  0.385764, val_loss: 0.423, tr_acc: 75.91%, val_acc: 75.43%\n"
     ]
    },
    {
     "name": "stderr",
     "output_type": "stream",
     "text": [
      "\n"
     ]
    },
    {
     "data": {
      "application/vnd.jupyter.widget-view+json": {
       "model_id": "d1bc8047b14642d5929c2d083baea329",
       "version_major": 2,
       "version_minor": 0
      },
      "text/plain": [
       "HBox(children=(HTML(value='steps'), FloatProgress(value=0.0, max=3006.0), HTML(value='')))"
      ]
     },
     "metadata": {},
     "output_type": "display_data"
    },
    {
     "name": "stderr",
     "output_type": "stream",
     "text": [
      "steps: 100%|██████████| 51/51 [00:00<00:00, 270.53it/s]\n"
     ]
    },
    {
     "name": "stdout",
     "output_type": "stream",
     "text": [
      "\r",
      "\r",
      "global_Step: 300000, tr_loss: 0.385824, val_loss: 0.417232\n"
     ]
    },
    {
     "name": "stderr",
     "output_type": "stream",
     "text": [
      "steps: 100%|██████████| 51/51 [00:00<00:00, 274.25it/s]"
     ]
    },
    {
     "name": "stdout",
     "output_type": "stream",
     "text": [
      "\n",
      "epoch : 100, tr_loss:  0.385911, val_loss: 0.407, tr_acc: 75.90%, val_acc: 75.70%\n"
     ]
    },
    {
     "name": "stderr",
     "output_type": "stream",
     "text": [
      "\n"
     ]
    },
    {
     "data": {
      "application/vnd.jupyter.widget-view+json": {
       "model_id": "86fc634c03a44fd2bcd76cb97e7f28a7",
       "version_major": 2,
       "version_minor": 0
      },
      "text/plain": [
       "HBox(children=(HTML(value='steps'), FloatProgress(value=0.0, max=3006.0), HTML(value='')))"
      ]
     },
     "metadata": {},
     "output_type": "display_data"
    },
    {
     "name": "stderr",
     "output_type": "stream",
     "text": [
      "steps: 100%|██████████| 51/51 [00:00<00:00, 276.01it/s]"
     ]
    },
    {
     "name": "stdout",
     "output_type": "stream",
     "text": [
      "\n",
      "epoch : 101, tr_loss:  0.384805, val_loss: 0.416, tr_acc: 75.98%, val_acc: 75.49%\n"
     ]
    },
    {
     "name": "stderr",
     "output_type": "stream",
     "text": [
      "\n"
     ]
    },
    {
     "data": {
      "application/vnd.jupyter.widget-view+json": {
       "model_id": "3239543928f54ff897fd3c9547f99ec6",
       "version_major": 2,
       "version_minor": 0
      },
      "text/plain": [
       "HBox(children=(HTML(value='steps'), FloatProgress(value=0.0, max=3006.0), HTML(value='')))"
      ]
     },
     "metadata": {},
     "output_type": "display_data"
    },
    {
     "name": "stderr",
     "output_type": "stream",
     "text": [
      "steps: 100%|██████████| 51/51 [00:00<00:00, 274.80it/s]"
     ]
    },
    {
     "name": "stdout",
     "output_type": "stream",
     "text": [
      "\n",
      "epoch : 102, tr_loss:  0.383916, val_loss: 0.418, tr_acc: 76.02%, val_acc: 75.67%\n"
     ]
    },
    {
     "name": "stderr",
     "output_type": "stream",
     "text": [
      "\n"
     ]
    },
    {
     "data": {
      "application/vnd.jupyter.widget-view+json": {
       "model_id": "cc08dd5ae86b4a92bd8a0e88d484d531",
       "version_major": 2,
       "version_minor": 0
      },
      "text/plain": [
       "HBox(children=(HTML(value='steps'), FloatProgress(value=0.0, max=3006.0), HTML(value='')))"
      ]
     },
     "metadata": {},
     "output_type": "display_data"
    },
    {
     "name": "stderr",
     "output_type": "stream",
     "text": [
      "steps: 100%|██████████| 51/51 [00:00<00:00, 272.40it/s]"
     ]
    },
    {
     "name": "stdout",
     "output_type": "stream",
     "text": [
      "\n",
      "epoch : 103, tr_loss:  0.383850, val_loss: 0.419, tr_acc: 76.03%, val_acc: 75.64%\n"
     ]
    },
    {
     "name": "stderr",
     "output_type": "stream",
     "text": [
      "\n"
     ]
    },
    {
     "data": {
      "application/vnd.jupyter.widget-view+json": {
       "model_id": "1fdeb001157c4192bba1032b8d69146c",
       "version_major": 2,
       "version_minor": 0
      },
      "text/plain": [
       "HBox(children=(HTML(value='steps'), FloatProgress(value=0.0, max=3006.0), HTML(value='')))"
      ]
     },
     "metadata": {},
     "output_type": "display_data"
    },
    {
     "name": "stderr",
     "output_type": "stream",
     "text": [
      "steps: 100%|██████████| 51/51 [00:00<00:00, 284.74it/s]\n"
     ]
    },
    {
     "name": "stdout",
     "output_type": "stream",
     "text": [
      "\r",
      "\r",
      "global_Step: 310000, tr_loss: 0.383890, val_loss: 0.412644\n"
     ]
    },
    {
     "name": "stderr",
     "output_type": "stream",
     "text": [
      "steps: 100%|██████████| 51/51 [00:00<00:00, 274.17it/s]"
     ]
    },
    {
     "name": "stdout",
     "output_type": "stream",
     "text": [
      "\n",
      "epoch : 104, tr_loss:  0.383086, val_loss: 0.416, tr_acc: 76.11%, val_acc: 75.92%\n"
     ]
    },
    {
     "name": "stderr",
     "output_type": "stream",
     "text": [
      "\n"
     ]
    },
    {
     "data": {
      "application/vnd.jupyter.widget-view+json": {
       "model_id": "0bda4cd3cbca4c259a9dfbb8dfde09a6",
       "version_major": 2,
       "version_minor": 0
      },
      "text/plain": [
       "HBox(children=(HTML(value='steps'), FloatProgress(value=0.0, max=3006.0), HTML(value='')))"
      ]
     },
     "metadata": {},
     "output_type": "display_data"
    },
    {
     "name": "stderr",
     "output_type": "stream",
     "text": [
      "steps: 100%|██████████| 51/51 [00:00<00:00, 274.83it/s]"
     ]
    },
    {
     "name": "stdout",
     "output_type": "stream",
     "text": [
      "\n",
      "epoch : 105, tr_loss:  0.382783, val_loss: 0.419, tr_acc: 76.10%, val_acc: 75.64%\n"
     ]
    },
    {
     "name": "stderr",
     "output_type": "stream",
     "text": [
      "\n"
     ]
    },
    {
     "data": {
      "application/vnd.jupyter.widget-view+json": {
       "model_id": "2fac1fda0376409c9639b51fc7281ec7",
       "version_major": 2,
       "version_minor": 0
      },
      "text/plain": [
       "HBox(children=(HTML(value='steps'), FloatProgress(value=0.0, max=3006.0), HTML(value='')))"
      ]
     },
     "metadata": {},
     "output_type": "display_data"
    },
    {
     "name": "stderr",
     "output_type": "stream",
     "text": [
      "steps: 100%|██████████| 51/51 [00:00<00:00, 271.28it/s]"
     ]
    },
    {
     "name": "stdout",
     "output_type": "stream",
     "text": [
      "\n",
      "epoch : 106, tr_loss:  0.382174, val_loss: 0.435, tr_acc: 76.23%, val_acc: 75.12%\n"
     ]
    },
    {
     "name": "stderr",
     "output_type": "stream",
     "text": [
      "\n"
     ]
    },
    {
     "data": {
      "application/vnd.jupyter.widget-view+json": {
       "model_id": "e506c59da949482aac9b46fb0c709649",
       "version_major": 2,
       "version_minor": 0
      },
      "text/plain": [
       "HBox(children=(HTML(value='steps'), FloatProgress(value=0.0, max=3006.0), HTML(value='')))"
      ]
     },
     "metadata": {},
     "output_type": "display_data"
    },
    {
     "name": "stderr",
     "output_type": "stream",
     "text": [
      "steps: 100%|██████████| 51/51 [00:00<00:00, 284.91it/s]\n"
     ]
    },
    {
     "name": "stdout",
     "output_type": "stream",
     "text": [
      "\r",
      "\r",
      "global_Step: 320000, tr_loss: 0.380359, val_loss: 0.419935\n"
     ]
    },
    {
     "name": "stderr",
     "output_type": "stream",
     "text": [
      "steps: 100%|██████████| 51/51 [00:00<00:00, 274.18it/s]"
     ]
    },
    {
     "name": "stdout",
     "output_type": "stream",
     "text": [
      "\n",
      "epoch : 107, tr_loss:  0.381905, val_loss: 0.420, tr_acc: 76.13%, val_acc: 75.79%\n"
     ]
    },
    {
     "name": "stderr",
     "output_type": "stream",
     "text": [
      "\n"
     ]
    },
    {
     "data": {
      "application/vnd.jupyter.widget-view+json": {
       "model_id": "49dab6762ff048ed80e37f8deeb365b5",
       "version_major": 2,
       "version_minor": 0
      },
      "text/plain": [
       "HBox(children=(HTML(value='steps'), FloatProgress(value=0.0, max=3006.0), HTML(value='')))"
      ]
     },
     "metadata": {},
     "output_type": "display_data"
    },
    {
     "name": "stderr",
     "output_type": "stream",
     "text": [
      "steps:  53%|█████▎    | 27/51 [00:00<00:00, 269.97it/s]"
     ]
    },
    {
     "name": "stdout",
     "output_type": "stream",
     "text": [
      "\n"
     ]
    },
    {
     "name": "stderr",
     "output_type": "stream",
     "text": [
      "\r",
      "steps: 100%|██████████| 51/51 [00:00<00:00, 267.00it/s]"
     ]
    },
    {
     "name": "stdout",
     "output_type": "stream",
     "text": [
      "\r",
      "epoch : 108, tr_loss:  0.381168, val_loss: 0.430, tr_acc: 76.20%, val_acc: 75.43%\n"
     ]
    },
    {
     "name": "stderr",
     "output_type": "stream",
     "text": [
      "\n"
     ]
    },
    {
     "data": {
      "application/vnd.jupyter.widget-view+json": {
       "model_id": "869a17a8c24b4f6381b0a5350eaf95a9",
       "version_major": 2,
       "version_minor": 0
      },
      "text/plain": [
       "HBox(children=(HTML(value='steps'), FloatProgress(value=0.0, max=3006.0), HTML(value='')))"
      ]
     },
     "metadata": {},
     "output_type": "display_data"
    },
    {
     "name": "stderr",
     "output_type": "stream",
     "text": [
      "steps: 100%|██████████| 51/51 [00:00<00:00, 270.89it/s]"
     ]
    },
    {
     "name": "stdout",
     "output_type": "stream",
     "text": [
      "\n",
      "epoch : 109, tr_loss:  0.380721, val_loss: 0.423, tr_acc: 76.22%, val_acc: 75.67%\n"
     ]
    },
    {
     "name": "stderr",
     "output_type": "stream",
     "text": [
      "\n"
     ]
    },
    {
     "data": {
      "application/vnd.jupyter.widget-view+json": {
       "model_id": "e55f8a0e7f81403faf049d98bc719ac0",
       "version_major": 2,
       "version_minor": 0
      },
      "text/plain": [
       "HBox(children=(HTML(value='steps'), FloatProgress(value=0.0, max=3006.0), HTML(value='')))"
      ]
     },
     "metadata": {},
     "output_type": "display_data"
    },
    {
     "name": "stderr",
     "output_type": "stream",
     "text": [
      "steps: 100%|██████████| 51/51 [00:00<00:00, 283.97it/s]\n"
     ]
    },
    {
     "name": "stdout",
     "output_type": "stream",
     "text": [
      "\r",
      "\r",
      "global_Step: 330000, tr_loss: 0.380687, val_loss: 0.429216\n"
     ]
    },
    {
     "name": "stderr",
     "output_type": "stream",
     "text": [
      "steps: 100%|██████████| 51/51 [00:00<00:00, 269.38it/s]"
     ]
    },
    {
     "name": "stdout",
     "output_type": "stream",
     "text": [
      "\n",
      "epoch : 110, tr_loss:  0.379977, val_loss: 0.431, tr_acc: 76.30%, val_acc: 75.49%\n"
     ]
    },
    {
     "name": "stderr",
     "output_type": "stream",
     "text": [
      "\n"
     ]
    },
    {
     "data": {
      "application/vnd.jupyter.widget-view+json": {
       "model_id": "277ed1328a7e4ced931909f510a96a74",
       "version_major": 2,
       "version_minor": 0
      },
      "text/plain": [
       "HBox(children=(HTML(value='steps'), FloatProgress(value=0.0, max=3006.0), HTML(value='')))"
      ]
     },
     "metadata": {},
     "output_type": "display_data"
    },
    {
     "name": "stderr",
     "output_type": "stream",
     "text": [
      "steps: 100%|██████████| 51/51 [00:00<00:00, 272.34it/s]"
     ]
    },
    {
     "name": "stdout",
     "output_type": "stream",
     "text": [
      "\n",
      "epoch : 111, tr_loss:  0.379492, val_loss: 0.416, tr_acc: 76.29%, val_acc: 75.18%\n"
     ]
    },
    {
     "name": "stderr",
     "output_type": "stream",
     "text": [
      "\n"
     ]
    },
    {
     "data": {
      "application/vnd.jupyter.widget-view+json": {
       "model_id": "0b54d36186124966b2dd9ca12eab9ebc",
       "version_major": 2,
       "version_minor": 0
      },
      "text/plain": [
       "HBox(children=(HTML(value='steps'), FloatProgress(value=0.0, max=3006.0), HTML(value='')))"
      ]
     },
     "metadata": {},
     "output_type": "display_data"
    },
    {
     "name": "stderr",
     "output_type": "stream",
     "text": [
      "steps: 100%|██████████| 51/51 [00:00<00:00, 272.59it/s]"
     ]
    },
    {
     "name": "stdout",
     "output_type": "stream",
     "text": [
      "\n",
      "epoch : 112, tr_loss:  0.379201, val_loss: 0.427, tr_acc: 76.41%, val_acc: 75.24%\n"
     ]
    },
    {
     "name": "stderr",
     "output_type": "stream",
     "text": [
      "\n"
     ]
    },
    {
     "data": {
      "application/vnd.jupyter.widget-view+json": {
       "model_id": "08898dfc6c26498a89fbb567898a64dc",
       "version_major": 2,
       "version_minor": 0
      },
      "text/plain": [
       "HBox(children=(HTML(value='steps'), FloatProgress(value=0.0, max=3006.0), HTML(value='')))"
      ]
     },
     "metadata": {},
     "output_type": "display_data"
    },
    {
     "name": "stderr",
     "output_type": "stream",
     "text": [
      "steps: 100%|██████████| 51/51 [00:00<00:00, 264.19it/s]"
     ]
    },
    {
     "name": "stdout",
     "output_type": "stream",
     "text": [
      "\n",
      "epoch : 113, tr_loss:  0.378286, val_loss: 0.445, tr_acc: 76.40%, val_acc: 74.82%\n"
     ]
    },
    {
     "name": "stderr",
     "output_type": "stream",
     "text": [
      "\n"
     ]
    },
    {
     "data": {
      "application/vnd.jupyter.widget-view+json": {
       "model_id": "5459cc24c41b4bebbbba414f0a5f713c",
       "version_major": 2,
       "version_minor": 0
      },
      "text/plain": [
       "HBox(children=(HTML(value='steps'), FloatProgress(value=0.0, max=3006.0), HTML(value='')))"
      ]
     },
     "metadata": {},
     "output_type": "display_data"
    },
    {
     "name": "stderr",
     "output_type": "stream",
     "text": [
      "steps: 100%|██████████| 51/51 [00:00<00:00, 280.82it/s]\n"
     ]
    },
    {
     "name": "stdout",
     "output_type": "stream",
     "text": [
      "\r",
      "\r",
      "global_Step: 340000, tr_loss: 0.377928, val_loss: 0.436041\n"
     ]
    },
    {
     "name": "stderr",
     "output_type": "stream",
     "text": [
      "steps: 100%|██████████| 51/51 [00:00<00:00, 271.76it/s]"
     ]
    },
    {
     "name": "stdout",
     "output_type": "stream",
     "text": [
      "\n",
      "epoch : 114, tr_loss:  0.377814, val_loss: 0.429, tr_acc: 76.38%, val_acc: 75.67%\n"
     ]
    },
    {
     "name": "stderr",
     "output_type": "stream",
     "text": [
      "\n"
     ]
    },
    {
     "data": {
      "application/vnd.jupyter.widget-view+json": {
       "model_id": "14710d8095db4efb959446288f116c49",
       "version_major": 2,
       "version_minor": 0
      },
      "text/plain": [
       "HBox(children=(HTML(value='steps'), FloatProgress(value=0.0, max=3006.0), HTML(value='')))"
      ]
     },
     "metadata": {},
     "output_type": "display_data"
    },
    {
     "name": "stderr",
     "output_type": "stream",
     "text": [
      "steps: 100%|██████████| 51/51 [00:00<00:00, 271.74it/s]"
     ]
    },
    {
     "name": "stdout",
     "output_type": "stream",
     "text": [
      "\n",
      "epoch : 115, tr_loss:  0.377944, val_loss: 0.440, tr_acc: 76.46%, val_acc: 75.03%\n"
     ]
    },
    {
     "name": "stderr",
     "output_type": "stream",
     "text": [
      "\n"
     ]
    },
    {
     "data": {
      "application/vnd.jupyter.widget-view+json": {
       "model_id": "c0995cd1538a46b19aa24331fabcd90b",
       "version_major": 2,
       "version_minor": 0
      },
      "text/plain": [
       "HBox(children=(HTML(value='steps'), FloatProgress(value=0.0, max=3006.0), HTML(value='')))"
      ]
     },
     "metadata": {},
     "output_type": "display_data"
    },
    {
     "name": "stderr",
     "output_type": "stream",
     "text": [
      "steps: 100%|██████████| 51/51 [00:00<00:00, 275.67it/s]"
     ]
    },
    {
     "name": "stdout",
     "output_type": "stream",
     "text": [
      "\n",
      "\r",
      "epoch : 116, tr_loss:  0.376802, val_loss: 0.444, tr_acc: 76.51%, val_acc: 75.21%\n"
     ]
    },
    {
     "name": "stderr",
     "output_type": "stream",
     "text": [
      "\n"
     ]
    },
    {
     "data": {
      "application/vnd.jupyter.widget-view+json": {
       "model_id": "42cca1e72de94fd89bce5a7d58de8d72",
       "version_major": 2,
       "version_minor": 0
      },
      "text/plain": [
       "HBox(children=(HTML(value='steps'), FloatProgress(value=0.0, max=3006.0), HTML(value='')))"
      ]
     },
     "metadata": {},
     "output_type": "display_data"
    },
    {
     "name": "stderr",
     "output_type": "stream",
     "text": [
      "steps: 100%|██████████| 51/51 [00:00<00:00, 279.28it/s]\n"
     ]
    },
    {
     "name": "stdout",
     "output_type": "stream",
     "text": [
      "\r",
      "\r",
      "global_Step: 350000, tr_loss: 0.375978, val_loss: 0.449999\n"
     ]
    },
    {
     "name": "stderr",
     "output_type": "stream",
     "text": [
      "steps: 100%|██████████| 51/51 [00:00<00:00, 272.80it/s]"
     ]
    },
    {
     "name": "stdout",
     "output_type": "stream",
     "text": [
      "\n",
      "epoch : 117, tr_loss:  0.376425, val_loss: 0.429, tr_acc: 76.61%, val_acc: 75.46%\n"
     ]
    },
    {
     "name": "stderr",
     "output_type": "stream",
     "text": [
      "\n"
     ]
    },
    {
     "data": {
      "application/vnd.jupyter.widget-view+json": {
       "model_id": "0b931054c6114ac1b3421f312216b72e",
       "version_major": 2,
       "version_minor": 0
      },
      "text/plain": [
       "HBox(children=(HTML(value='steps'), FloatProgress(value=0.0, max=3006.0), HTML(value='')))"
      ]
     },
     "metadata": {},
     "output_type": "display_data"
    },
    {
     "name": "stderr",
     "output_type": "stream",
     "text": [
      "steps: 100%|██████████| 51/51 [00:00<00:00, 276.66it/s]"
     ]
    },
    {
     "name": "stdout",
     "output_type": "stream",
     "text": [
      "\n",
      "epoch : 118, tr_loss:  0.376247, val_loss: 0.421, tr_acc: 76.52%, val_acc: 75.92%\n"
     ]
    },
    {
     "name": "stderr",
     "output_type": "stream",
     "text": [
      "\n"
     ]
    },
    {
     "data": {
      "application/vnd.jupyter.widget-view+json": {
       "model_id": "d51f4776918347eaa053160bc406bda6",
       "version_major": 2,
       "version_minor": 0
      },
      "text/plain": [
       "HBox(children=(HTML(value='steps'), FloatProgress(value=0.0, max=3006.0), HTML(value='')))"
      ]
     },
     "metadata": {},
     "output_type": "display_data"
    },
    {
     "name": "stderr",
     "output_type": "stream",
     "text": [
      "steps: 100%|██████████| 51/51 [00:00<00:00, 269.74it/s]"
     ]
    },
    {
     "name": "stdout",
     "output_type": "stream",
     "text": [
      "\n",
      "epoch : 119, tr_loss:  0.375369, val_loss: 0.451, tr_acc: 76.59%, val_acc: 75.15%\n"
     ]
    },
    {
     "name": "stderr",
     "output_type": "stream",
     "text": [
      "\n"
     ]
    },
    {
     "data": {
      "application/vnd.jupyter.widget-view+json": {
       "model_id": "30ef05ca009949e68957ce8c5631f0c4",
       "version_major": 2,
       "version_minor": 0
      },
      "text/plain": [
       "HBox(children=(HTML(value='steps'), FloatProgress(value=0.0, max=3006.0), HTML(value='')))"
      ]
     },
     "metadata": {},
     "output_type": "display_data"
    },
    {
     "name": "stderr",
     "output_type": "stream",
     "text": [
      "steps: 100%|██████████| 51/51 [00:00<00:00, 282.37it/s]\n"
     ]
    },
    {
     "name": "stdout",
     "output_type": "stream",
     "text": [
      "\r",
      "\r",
      "global_Step: 360000, tr_loss: 0.374460, val_loss: 0.431089\n"
     ]
    },
    {
     "name": "stderr",
     "output_type": "stream",
     "text": [
      "steps: 100%|██████████| 51/51 [00:00<00:00, 271.68it/s]"
     ]
    },
    {
     "name": "stdout",
     "output_type": "stream",
     "text": [
      "\n",
      "epoch : 120, tr_loss:  0.374798, val_loss: 0.434, tr_acc: 76.64%, val_acc: 75.52%\n"
     ]
    },
    {
     "name": "stderr",
     "output_type": "stream",
     "text": [
      "\n"
     ]
    },
    {
     "data": {
      "application/vnd.jupyter.widget-view+json": {
       "model_id": "22032df9cbe849fc97ccaec0a0882159",
       "version_major": 2,
       "version_minor": 0
      },
      "text/plain": [
       "HBox(children=(HTML(value='steps'), FloatProgress(value=0.0, max=3006.0), HTML(value='')))"
      ]
     },
     "metadata": {},
     "output_type": "display_data"
    },
    {
     "name": "stderr",
     "output_type": "stream",
     "text": [
      "steps: 100%|██████████| 51/51 [00:00<00:00, 272.89it/s]"
     ]
    },
    {
     "name": "stdout",
     "output_type": "stream",
     "text": [
      "\n",
      "epoch : 121, tr_loss:  0.374347, val_loss: 0.463, tr_acc: 76.66%, val_acc: 75.09%\n"
     ]
    },
    {
     "name": "stderr",
     "output_type": "stream",
     "text": [
      "\n"
     ]
    },
    {
     "data": {
      "application/vnd.jupyter.widget-view+json": {
       "model_id": "95c60ccacd4d4cf1b837543272c87891",
       "version_major": 2,
       "version_minor": 0
      },
      "text/plain": [
       "HBox(children=(HTML(value='steps'), FloatProgress(value=0.0, max=3006.0), HTML(value='')))"
      ]
     },
     "metadata": {},
     "output_type": "display_data"
    },
    {
     "name": "stderr",
     "output_type": "stream",
     "text": [
      "steps: 100%|██████████| 51/51 [00:00<00:00, 274.02it/s]"
     ]
    },
    {
     "name": "stdout",
     "output_type": "stream",
     "text": [
      "\n",
      "epoch : 122, tr_loss:  0.374019, val_loss: 0.423, tr_acc: 76.69%, val_acc: 75.83%\n"
     ]
    },
    {
     "name": "stderr",
     "output_type": "stream",
     "text": [
      "\n"
     ]
    },
    {
     "data": {
      "application/vnd.jupyter.widget-view+json": {
       "model_id": "b324b709881a4ec58528f82f2841eb7f",
       "version_major": 2,
       "version_minor": 0
      },
      "text/plain": [
       "HBox(children=(HTML(value='steps'), FloatProgress(value=0.0, max=3006.0), HTML(value='')))"
      ]
     },
     "metadata": {},
     "output_type": "display_data"
    },
    {
     "name": "stderr",
     "output_type": "stream",
     "text": [
      "steps: 100%|██████████| 51/51 [00:00<00:00, 263.64it/s]"
     ]
    },
    {
     "name": "stdout",
     "output_type": "stream",
     "text": [
      "\n",
      "epoch : 123, tr_loss:  0.373108, val_loss: 0.451, tr_acc: 76.76%, val_acc: 75.52%\n"
     ]
    },
    {
     "name": "stderr",
     "output_type": "stream",
     "text": [
      "\n"
     ]
    },
    {
     "data": {
      "application/vnd.jupyter.widget-view+json": {
       "model_id": "2b4f2ddf2e5547debd9da4a61e615936",
       "version_major": 2,
       "version_minor": 0
      },
      "text/plain": [
       "HBox(children=(HTML(value='steps'), FloatProgress(value=0.0, max=3006.0), HTML(value='')))"
      ]
     },
     "metadata": {},
     "output_type": "display_data"
    },
    {
     "name": "stderr",
     "output_type": "stream",
     "text": [
      "steps: 100%|██████████| 51/51 [00:00<00:00, 287.00it/s]\n"
     ]
    },
    {
     "name": "stdout",
     "output_type": "stream",
     "text": [
      "\r",
      "\r",
      "global_Step: 370000, tr_loss: 0.374029, val_loss: 0.459707\n"
     ]
    },
    {
     "name": "stderr",
     "output_type": "stream",
     "text": [
      "steps: 100%|██████████| 51/51 [00:00<00:00, 271.02it/s]"
     ]
    },
    {
     "name": "stdout",
     "output_type": "stream",
     "text": [
      "\n",
      "epoch : 124, tr_loss:  0.373182, val_loss: 0.439, tr_acc: 76.75%, val_acc: 75.55%\n"
     ]
    },
    {
     "name": "stderr",
     "output_type": "stream",
     "text": [
      "\n"
     ]
    },
    {
     "data": {
      "application/vnd.jupyter.widget-view+json": {
       "model_id": "11fcca670c864b99b538e8e3f9d83ff8",
       "version_major": 2,
       "version_minor": 0
      },
      "text/plain": [
       "HBox(children=(HTML(value='steps'), FloatProgress(value=0.0, max=3006.0), HTML(value='')))"
      ]
     },
     "metadata": {},
     "output_type": "display_data"
    },
    {
     "name": "stderr",
     "output_type": "stream",
     "text": [
      "steps: 100%|██████████| 51/51 [00:00<00:00, 272.86it/s]"
     ]
    },
    {
     "name": "stdout",
     "output_type": "stream",
     "text": [
      "\n",
      "epoch : 125, tr_loss:  0.372457, val_loss: 0.453, tr_acc: 76.82%, val_acc: 75.06%\n"
     ]
    },
    {
     "name": "stderr",
     "output_type": "stream",
     "text": [
      "\n"
     ]
    },
    {
     "data": {
      "application/vnd.jupyter.widget-view+json": {
       "model_id": "bbfae1456eb74d0398f91f9f8a929584",
       "version_major": 2,
       "version_minor": 0
      },
      "text/plain": [
       "HBox(children=(HTML(value='steps'), FloatProgress(value=0.0, max=3006.0), HTML(value='')))"
      ]
     },
     "metadata": {},
     "output_type": "display_data"
    },
    {
     "name": "stderr",
     "output_type": "stream",
     "text": [
      "steps: 100%|██████████| 51/51 [00:00<00:00, 274.31it/s]"
     ]
    },
    {
     "name": "stdout",
     "output_type": "stream",
     "text": [
      "\n",
      "epoch : 126, tr_loss:  0.372521, val_loss: 0.433, tr_acc: 76.79%, val_acc: 75.55%\n"
     ]
    },
    {
     "name": "stderr",
     "output_type": "stream",
     "text": [
      "\n"
     ]
    },
    {
     "data": {
      "application/vnd.jupyter.widget-view+json": {
       "model_id": "6318d9f648124fe8b05a1baf99041c72",
       "version_major": 2,
       "version_minor": 0
      },
      "text/plain": [
       "HBox(children=(HTML(value='steps'), FloatProgress(value=0.0, max=3006.0), HTML(value='')))"
      ]
     },
     "metadata": {},
     "output_type": "display_data"
    },
    {
     "name": "stderr",
     "output_type": "stream",
     "text": [
      "steps: 100%|██████████| 51/51 [00:00<00:00, 287.08it/s]\n"
     ]
    },
    {
     "name": "stdout",
     "output_type": "stream",
     "text": [
      "\r",
      "\r",
      "global_Step: 380000, tr_loss: 0.369285, val_loss: 0.440367\n"
     ]
    },
    {
     "name": "stderr",
     "output_type": "stream",
     "text": [
      "steps: 100%|██████████| 51/51 [00:00<00:00, 272.41it/s]"
     ]
    },
    {
     "name": "stdout",
     "output_type": "stream",
     "text": [
      "\n",
      "epoch : 127, tr_loss:  0.371598, val_loss: 0.478, tr_acc: 76.81%, val_acc: 74.88%\n"
     ]
    },
    {
     "name": "stderr",
     "output_type": "stream",
     "text": [
      "\n"
     ]
    },
    {
     "data": {
      "application/vnd.jupyter.widget-view+json": {
       "model_id": "8cd93f44748e4259bd27ac1cee738d81",
       "version_major": 2,
       "version_minor": 0
      },
      "text/plain": [
       "HBox(children=(HTML(value='steps'), FloatProgress(value=0.0, max=3006.0), HTML(value='')))"
      ]
     },
     "metadata": {},
     "output_type": "display_data"
    },
    {
     "name": "stderr",
     "output_type": "stream",
     "text": [
      "steps: 100%|██████████| 51/51 [00:00<00:00, 274.23it/s]"
     ]
    },
    {
     "name": "stdout",
     "output_type": "stream",
     "text": [
      "\n",
      "epoch : 128, tr_loss:  0.371581, val_loss: 0.420, tr_acc: 76.88%, val_acc: 75.98%\n"
     ]
    },
    {
     "name": "stderr",
     "output_type": "stream",
     "text": [
      "\n"
     ]
    },
    {
     "data": {
      "application/vnd.jupyter.widget-view+json": {
       "model_id": "8d63ef35b50f486595cbd6e4766bd0df",
       "version_major": 2,
       "version_minor": 0
      },
      "text/plain": [
       "HBox(children=(HTML(value='steps'), FloatProgress(value=0.0, max=3006.0), HTML(value='')))"
      ]
     },
     "metadata": {},
     "output_type": "display_data"
    },
    {
     "name": "stderr",
     "output_type": "stream",
     "text": [
      "steps: 100%|██████████| 51/51 [00:00<00:00, 269.51it/s]"
     ]
    },
    {
     "name": "stdout",
     "output_type": "stream",
     "text": [
      "\n",
      "epoch : 129, tr_loss:  0.370916, val_loss: 0.446, tr_acc: 76.92%, val_acc: 75.83%\n"
     ]
    },
    {
     "name": "stderr",
     "output_type": "stream",
     "text": [
      "\n"
     ]
    },
    {
     "data": {
      "application/vnd.jupyter.widget-view+json": {
       "model_id": "424fed4ff9cf456aa09d68a7c218c71c",
       "version_major": 2,
       "version_minor": 0
      },
      "text/plain": [
       "HBox(children=(HTML(value='steps'), FloatProgress(value=0.0, max=3006.0), HTML(value='')))"
      ]
     },
     "metadata": {},
     "output_type": "display_data"
    },
    {
     "name": "stderr",
     "output_type": "stream",
     "text": [
      "steps: 100%|██████████| 51/51 [00:00<00:00, 277.57it/s]\n"
     ]
    },
    {
     "name": "stdout",
     "output_type": "stream",
     "text": [
      "\r",
      "\r",
      "global_Step: 390000, tr_loss: 0.369801, val_loss: 0.450692\n"
     ]
    },
    {
     "name": "stderr",
     "output_type": "stream",
     "text": [
      "steps: 100%|██████████| 51/51 [00:00<00:00, 273.41it/s]"
     ]
    },
    {
     "name": "stdout",
     "output_type": "stream",
     "text": [
      "\n",
      "epoch : 130, tr_loss:  0.369998, val_loss: 0.464, tr_acc: 76.96%, val_acc: 75.03%\n"
     ]
    },
    {
     "name": "stderr",
     "output_type": "stream",
     "text": [
      "\n"
     ]
    },
    {
     "data": {
      "application/vnd.jupyter.widget-view+json": {
       "model_id": "9702894fd4b340739a223ca9af65f949",
       "version_major": 2,
       "version_minor": 0
      },
      "text/plain": [
       "HBox(children=(HTML(value='steps'), FloatProgress(value=0.0, max=3006.0), HTML(value='')))"
      ]
     },
     "metadata": {},
     "output_type": "display_data"
    },
    {
     "name": "stderr",
     "output_type": "stream",
     "text": [
      "steps: 100%|██████████| 51/51 [00:00<00:00, 272.57it/s]"
     ]
    },
    {
     "name": "stdout",
     "output_type": "stream",
     "text": [
      "\n",
      "epoch : 131, tr_loss:  0.369352, val_loss: 0.451, tr_acc: 77.04%, val_acc: 75.43%\n"
     ]
    },
    {
     "name": "stderr",
     "output_type": "stream",
     "text": [
      "\n"
     ]
    },
    {
     "data": {
      "application/vnd.jupyter.widget-view+json": {
       "model_id": "85df01e0119c4bb2bd446857d43bd8be",
       "version_major": 2,
       "version_minor": 0
      },
      "text/plain": [
       "HBox(children=(HTML(value='steps'), FloatProgress(value=0.0, max=3006.0), HTML(value='')))"
      ]
     },
     "metadata": {},
     "output_type": "display_data"
    },
    {
     "name": "stderr",
     "output_type": "stream",
     "text": [
      "steps: 100%|██████████| 51/51 [00:00<00:00, 273.24it/s]"
     ]
    },
    {
     "name": "stdout",
     "output_type": "stream",
     "text": [
      "\n",
      "epoch : 132, tr_loss:  0.368888, val_loss: 0.453, tr_acc: 77.01%, val_acc: 75.58%\n"
     ]
    },
    {
     "name": "stderr",
     "output_type": "stream",
     "text": [
      "\n"
     ]
    },
    {
     "data": {
      "application/vnd.jupyter.widget-view+json": {
       "model_id": "48418d927e1b4c1aacb1ae049df7fcb3",
       "version_major": 2,
       "version_minor": 0
      },
      "text/plain": [
       "HBox(children=(HTML(value='steps'), FloatProgress(value=0.0, max=3006.0), HTML(value='')))"
      ]
     },
     "metadata": {},
     "output_type": "display_data"
    },
    {
     "name": "stderr",
     "output_type": "stream",
     "text": [
      "steps: 100%|██████████| 51/51 [00:00<00:00, 271.12it/s]"
     ]
    },
    {
     "name": "stdout",
     "output_type": "stream",
     "text": [
      "\n",
      "epoch : 133, tr_loss:  0.368738, val_loss: 0.481, tr_acc: 77.02%, val_acc: 75.24%\n"
     ]
    },
    {
     "name": "stderr",
     "output_type": "stream",
     "text": [
      "\n"
     ]
    },
    {
     "data": {
      "application/vnd.jupyter.widget-view+json": {
       "model_id": "e5ff325a40824251b4725f12b4a14e98",
       "version_major": 2,
       "version_minor": 0
      },
      "text/plain": [
       "HBox(children=(HTML(value='steps'), FloatProgress(value=0.0, max=3006.0), HTML(value='')))"
      ]
     },
     "metadata": {},
     "output_type": "display_data"
    },
    {
     "name": "stderr",
     "output_type": "stream",
     "text": [
      "steps: 100%|██████████| 51/51 [00:00<00:00, 283.53it/s]\n"
     ]
    },
    {
     "name": "stdout",
     "output_type": "stream",
     "text": [
      "\r",
      "\r",
      "global_Step: 400000, tr_loss: 0.366487, val_loss: 0.452908\n"
     ]
    },
    {
     "name": "stderr",
     "output_type": "stream",
     "text": [
      "steps: 100%|██████████| 51/51 [00:00<00:00, 266.00it/s]"
     ]
    },
    {
     "name": "stdout",
     "output_type": "stream",
     "text": [
      "\n",
      "epoch : 134, tr_loss:  0.367943, val_loss: 0.481, tr_acc: 77.10%, val_acc: 75.03%\n"
     ]
    },
    {
     "name": "stderr",
     "output_type": "stream",
     "text": [
      "\n"
     ]
    },
    {
     "data": {
      "application/vnd.jupyter.widget-view+json": {
       "model_id": "dff05f88823e4400932574fb711a76a5",
       "version_major": 2,
       "version_minor": 0
      },
      "text/plain": [
       "HBox(children=(HTML(value='steps'), FloatProgress(value=0.0, max=3006.0), HTML(value='')))"
      ]
     },
     "metadata": {},
     "output_type": "display_data"
    },
    {
     "name": "stderr",
     "output_type": "stream",
     "text": [
      "steps: 100%|██████████| 51/51 [00:00<00:00, 274.06it/s]"
     ]
    },
    {
     "name": "stdout",
     "output_type": "stream",
     "text": [
      "\n",
      "epoch : 135, tr_loss:  0.367901, val_loss: 0.455, tr_acc: 77.18%, val_acc: 75.79%\n"
     ]
    },
    {
     "name": "stderr",
     "output_type": "stream",
     "text": [
      "\n"
     ]
    },
    {
     "data": {
      "application/vnd.jupyter.widget-view+json": {
       "model_id": "fb2d63277e1842acba3104b6dc2cba7c",
       "version_major": 2,
       "version_minor": 0
      },
      "text/plain": [
       "HBox(children=(HTML(value='steps'), FloatProgress(value=0.0, max=3006.0), HTML(value='')))"
      ]
     },
     "metadata": {},
     "output_type": "display_data"
    },
    {
     "name": "stderr",
     "output_type": "stream",
     "text": [
      "steps: 100%|██████████| 51/51 [00:00<00:00, 271.79it/s]"
     ]
    },
    {
     "name": "stdout",
     "output_type": "stream",
     "text": [
      "\n",
      "epoch : 136, tr_loss:  0.368821, val_loss: 0.459, tr_acc: 77.06%, val_acc: 75.58%\n"
     ]
    },
    {
     "name": "stderr",
     "output_type": "stream",
     "text": [
      "\n"
     ]
    },
    {
     "data": {
      "application/vnd.jupyter.widget-view+json": {
       "model_id": "3e8f376eb83940ca93a922ecefd758a3",
       "version_major": 2,
       "version_minor": 0
      },
      "text/plain": [
       "HBox(children=(HTML(value='steps'), FloatProgress(value=0.0, max=3006.0), HTML(value='')))"
      ]
     },
     "metadata": {},
     "output_type": "display_data"
    },
    {
     "name": "stderr",
     "output_type": "stream",
     "text": [
      "steps: 100%|██████████| 51/51 [00:00<00:00, 290.79it/s]\n"
     ]
    },
    {
     "name": "stdout",
     "output_type": "stream",
     "text": [
      "\r",
      "\r",
      "global_Step: 410000, tr_loss: 0.366328, val_loss: 0.500774\n"
     ]
    },
    {
     "name": "stderr",
     "output_type": "stream",
     "text": [
      "steps: 100%|██████████| 51/51 [00:00<00:00, 274.08it/s]"
     ]
    },
    {
     "name": "stdout",
     "output_type": "stream",
     "text": [
      "\n",
      "epoch : 137, tr_loss:  0.366618, val_loss: 0.500, tr_acc: 77.18%, val_acc: 74.60%\n"
     ]
    },
    {
     "name": "stderr",
     "output_type": "stream",
     "text": [
      "\n"
     ]
    },
    {
     "data": {
      "application/vnd.jupyter.widget-view+json": {
       "model_id": "3ea53963a34142b888b3f71f7ff3a902",
       "version_major": 2,
       "version_minor": 0
      },
      "text/plain": [
       "HBox(children=(HTML(value='steps'), FloatProgress(value=0.0, max=3006.0), HTML(value='')))"
      ]
     },
     "metadata": {},
     "output_type": "display_data"
    },
    {
     "name": "stderr",
     "output_type": "stream",
     "text": [
      "steps: 100%|██████████| 51/51 [00:00<00:00, 274.69it/s]"
     ]
    },
    {
     "name": "stdout",
     "output_type": "stream",
     "text": [
      "\n",
      "epoch : 138, tr_loss:  0.366473, val_loss: 0.463, tr_acc: 77.22%, val_acc: 75.43%\n"
     ]
    },
    {
     "name": "stderr",
     "output_type": "stream",
     "text": [
      "\n"
     ]
    },
    {
     "data": {
      "application/vnd.jupyter.widget-view+json": {
       "model_id": "7688328165034ce2b49841d75dd52ce9",
       "version_major": 2,
       "version_minor": 0
      },
      "text/plain": [
       "HBox(children=(HTML(value='steps'), FloatProgress(value=0.0, max=3006.0), HTML(value='')))"
      ]
     },
     "metadata": {},
     "output_type": "display_data"
    },
    {
     "name": "stderr",
     "output_type": "stream",
     "text": [
      "steps: 100%|██████████| 51/51 [00:00<00:00, 272.35it/s]"
     ]
    },
    {
     "name": "stdout",
     "output_type": "stream",
     "text": [
      "\n",
      "epoch : 139, tr_loss:  0.365551, val_loss: 0.459, tr_acc: 77.26%, val_acc: 75.55%\n"
     ]
    },
    {
     "name": "stderr",
     "output_type": "stream",
     "text": [
      "\n"
     ]
    },
    {
     "data": {
      "application/vnd.jupyter.widget-view+json": {
       "model_id": "f93ba52893504434bc2eb21706c7592c",
       "version_major": 2,
       "version_minor": 0
      },
      "text/plain": [
       "HBox(children=(HTML(value='steps'), FloatProgress(value=0.0, max=3006.0), HTML(value='')))"
      ]
     },
     "metadata": {},
     "output_type": "display_data"
    },
    {
     "name": "stderr",
     "output_type": "stream",
     "text": [
      "steps: 100%|██████████| 51/51 [00:00<00:00, 281.66it/s]\n"
     ]
    },
    {
     "name": "stdout",
     "output_type": "stream",
     "text": [
      "\r",
      "\r",
      "global_Step: 420000, tr_loss: 0.363665, val_loss: 0.491498\n"
     ]
    },
    {
     "name": "stderr",
     "output_type": "stream",
     "text": [
      "steps: 100%|██████████| 51/51 [00:00<00:00, 273.14it/s]"
     ]
    },
    {
     "name": "stdout",
     "output_type": "stream",
     "text": [
      "\n",
      "epoch : 140, tr_loss:  0.365080, val_loss: 0.421, tr_acc: 77.33%, val_acc: 75.89%\n"
     ]
    },
    {
     "name": "stderr",
     "output_type": "stream",
     "text": [
      "\n"
     ]
    },
    {
     "data": {
      "application/vnd.jupyter.widget-view+json": {
       "model_id": "982ff84c22314cf081391926cf4aa77c",
       "version_major": 2,
       "version_minor": 0
      },
      "text/plain": [
       "HBox(children=(HTML(value='steps'), FloatProgress(value=0.0, max=3006.0), HTML(value='')))"
      ]
     },
     "metadata": {},
     "output_type": "display_data"
    },
    {
     "name": "stderr",
     "output_type": "stream",
     "text": [
      "steps: 100%|██████████| 51/51 [00:00<00:00, 271.59it/s]"
     ]
    },
    {
     "name": "stdout",
     "output_type": "stream",
     "text": [
      "\n",
      "epoch : 141, tr_loss:  0.365070, val_loss: 0.502, tr_acc: 77.28%, val_acc: 74.94%\n"
     ]
    },
    {
     "name": "stderr",
     "output_type": "stream",
     "text": [
      "\n"
     ]
    },
    {
     "data": {
      "application/vnd.jupyter.widget-view+json": {
       "model_id": "e24c8db738a24380a9720c4ab83ec674",
       "version_major": 2,
       "version_minor": 0
      },
      "text/plain": [
       "HBox(children=(HTML(value='steps'), FloatProgress(value=0.0, max=3006.0), HTML(value='')))"
      ]
     },
     "metadata": {},
     "output_type": "display_data"
    },
    {
     "name": "stderr",
     "output_type": "stream",
     "text": [
      "steps:  51%|█████     | 26/51 [00:00<00:00, 257.43it/s]"
     ]
    },
    {
     "name": "stdout",
     "output_type": "stream",
     "text": [
      "\n"
     ]
    },
    {
     "name": "stderr",
     "output_type": "stream",
     "text": [
      "\r",
      "steps: 100%|██████████| 51/51 [00:00<00:00, 258.66it/s]"
     ]
    },
    {
     "name": "stdout",
     "output_type": "stream",
     "text": [
      "\r",
      "epoch : 142, tr_loss:  0.364651, val_loss: 0.461, tr_acc: 77.36%, val_acc: 75.61%\n"
     ]
    },
    {
     "name": "stderr",
     "output_type": "stream",
     "text": [
      "\n"
     ]
    },
    {
     "data": {
      "application/vnd.jupyter.widget-view+json": {
       "model_id": "18ddbe707937427e96e36e7d798c4db5",
       "version_major": 2,
       "version_minor": 0
      },
      "text/plain": [
       "HBox(children=(HTML(value='steps'), FloatProgress(value=0.0, max=3006.0), HTML(value='')))"
      ]
     },
     "metadata": {},
     "output_type": "display_data"
    },
    {
     "name": "stderr",
     "output_type": "stream",
     "text": [
      "steps: 100%|██████████| 51/51 [00:00<00:00, 277.85it/s]"
     ]
    },
    {
     "name": "stdout",
     "output_type": "stream",
     "text": [
      "\n",
      "epoch : 143, tr_loss:  0.364079, val_loss: 0.532, tr_acc: 77.42%, val_acc: 74.85%\n"
     ]
    },
    {
     "name": "stderr",
     "output_type": "stream",
     "text": [
      "\n"
     ]
    },
    {
     "data": {
      "application/vnd.jupyter.widget-view+json": {
       "model_id": "e87cd3cd54b949a9ba30fd93389467ca",
       "version_major": 2,
       "version_minor": 0
      },
      "text/plain": [
       "HBox(children=(HTML(value='steps'), FloatProgress(value=0.0, max=3006.0), HTML(value='')))"
      ]
     },
     "metadata": {},
     "output_type": "display_data"
    },
    {
     "name": "stderr",
     "output_type": "stream",
     "text": [
      "steps: 100%|██████████| 51/51 [00:00<00:00, 277.76it/s]\n"
     ]
    },
    {
     "name": "stdout",
     "output_type": "stream",
     "text": [
      "\r",
      "\r",
      "global_Step: 430000, tr_loss: 0.365593, val_loss: 0.474754\n"
     ]
    },
    {
     "name": "stderr",
     "output_type": "stream",
     "text": [
      "steps: 100%|██████████| 51/51 [00:00<00:00, 265.37it/s]"
     ]
    },
    {
     "name": "stdout",
     "output_type": "stream",
     "text": [
      "\n",
      "epoch : 144, tr_loss:  0.363510, val_loss: 0.491, tr_acc: 77.38%, val_acc: 75.18%\n"
     ]
    },
    {
     "name": "stderr",
     "output_type": "stream",
     "text": [
      "\n"
     ]
    },
    {
     "data": {
      "application/vnd.jupyter.widget-view+json": {
       "model_id": "9a2b988645414eeda41d010acfcf4407",
       "version_major": 2,
       "version_minor": 0
      },
      "text/plain": [
       "HBox(children=(HTML(value='steps'), FloatProgress(value=0.0, max=3006.0), HTML(value='')))"
      ]
     },
     "metadata": {},
     "output_type": "display_data"
    },
    {
     "name": "stderr",
     "output_type": "stream",
     "text": [
      "steps: 100%|██████████| 51/51 [00:00<00:00, 271.07it/s]"
     ]
    },
    {
     "name": "stdout",
     "output_type": "stream",
     "text": [
      "\n",
      "epoch : 145, tr_loss:  0.363380, val_loss: 0.469, tr_acc: 77.48%, val_acc: 75.55%\n"
     ]
    },
    {
     "name": "stderr",
     "output_type": "stream",
     "text": [
      "\n"
     ]
    },
    {
     "data": {
      "application/vnd.jupyter.widget-view+json": {
       "model_id": "82af0dbc401f4fe9808229ece8920bcc",
       "version_major": 2,
       "version_minor": 0
      },
      "text/plain": [
       "HBox(children=(HTML(value='steps'), FloatProgress(value=0.0, max=3006.0), HTML(value='')))"
      ]
     },
     "metadata": {},
     "output_type": "display_data"
    },
    {
     "name": "stderr",
     "output_type": "stream",
     "text": [
      "steps: 100%|██████████| 51/51 [00:00<00:00, 271.29it/s]"
     ]
    },
    {
     "name": "stdout",
     "output_type": "stream",
     "text": [
      "\n",
      "epoch : 146, tr_loss:  0.361950, val_loss: 0.515, tr_acc: 77.51%, val_acc: 75.03%\n"
     ]
    },
    {
     "name": "stderr",
     "output_type": "stream",
     "text": [
      "\n"
     ]
    },
    {
     "data": {
      "application/vnd.jupyter.widget-view+json": {
       "model_id": "6d590667070a478ebebee1b0ebbc95aa",
       "version_major": 2,
       "version_minor": 0
      },
      "text/plain": [
       "HBox(children=(HTML(value='steps'), FloatProgress(value=0.0, max=3006.0), HTML(value='')))"
      ]
     },
     "metadata": {},
     "output_type": "display_data"
    },
    {
     "name": "stderr",
     "output_type": "stream",
     "text": [
      "steps: 100%|██████████| 51/51 [00:00<00:00, 281.46it/s]\n"
     ]
    },
    {
     "name": "stdout",
     "output_type": "stream",
     "text": [
      "\r",
      "\r",
      "global_Step: 440000, tr_loss: 0.361877, val_loss: 0.491406\n"
     ]
    },
    {
     "name": "stderr",
     "output_type": "stream",
     "text": [
      "steps: 100%|██████████| 51/51 [00:00<00:00, 274.55it/s]"
     ]
    },
    {
     "name": "stdout",
     "output_type": "stream",
     "text": [
      "\n",
      "epoch : 147, tr_loss:  0.362146, val_loss: 0.488, tr_acc: 77.50%, val_acc: 75.24%\n"
     ]
    },
    {
     "name": "stderr",
     "output_type": "stream",
     "text": [
      "\n"
     ]
    },
    {
     "data": {
      "application/vnd.jupyter.widget-view+json": {
       "model_id": "8654db644785457f85d2eaedd28c76ff",
       "version_major": 2,
       "version_minor": 0
      },
      "text/plain": [
       "HBox(children=(HTML(value='steps'), FloatProgress(value=0.0, max=3006.0), HTML(value='')))"
      ]
     },
     "metadata": {},
     "output_type": "display_data"
    },
    {
     "name": "stderr",
     "output_type": "stream",
     "text": [
      "steps: 100%|██████████| 51/51 [00:00<00:00, 274.27it/s]"
     ]
    },
    {
     "name": "stdout",
     "output_type": "stream",
     "text": [
      "\n",
      "epoch : 148, tr_loss:  0.361941, val_loss: 0.474, tr_acc: 77.50%, val_acc: 75.34%\n"
     ]
    },
    {
     "name": "stderr",
     "output_type": "stream",
     "text": [
      "\n"
     ]
    },
    {
     "data": {
      "application/vnd.jupyter.widget-view+json": {
       "model_id": "77219c415eb942e7a27b8eacc9ef4554",
       "version_major": 2,
       "version_minor": 0
      },
      "text/plain": [
       "HBox(children=(HTML(value='steps'), FloatProgress(value=0.0, max=3006.0), HTML(value='')))"
      ]
     },
     "metadata": {},
     "output_type": "display_data"
    },
    {
     "name": "stderr",
     "output_type": "stream",
     "text": [
      "steps: 100%|██████████| 51/51 [00:00<00:00, 273.84it/s]"
     ]
    },
    {
     "name": "stdout",
     "output_type": "stream",
     "text": [
      "\n"
     ]
    },
    {
     "name": "stderr",
     "output_type": "stream",
     "text": [
      "\n"
     ]
    },
    {
     "name": "stdout",
     "output_type": "stream",
     "text": [
      "\r",
      "epoch : 149, tr_loss:  0.361308, val_loss: 0.482, tr_acc: 77.50%, val_acc: 75.43%\n"
     ]
    },
    {
     "data": {
      "application/vnd.jupyter.widget-view+json": {
       "model_id": "ab6a054a4b5643b6a3430886d3b55384",
       "version_major": 2,
       "version_minor": 0
      },
      "text/plain": [
       "HBox(children=(HTML(value='steps'), FloatProgress(value=0.0, max=3006.0), HTML(value='')))"
      ]
     },
     "metadata": {},
     "output_type": "display_data"
    },
    {
     "name": "stderr",
     "output_type": "stream",
     "text": [
      "steps: 100%|██████████| 51/51 [00:00<00:00, 284.09it/s]\n"
     ]
    },
    {
     "name": "stdout",
     "output_type": "stream",
     "text": [
      "\r",
      "\r",
      "global_Step: 450000, tr_loss: 0.360709, val_loss: 0.465987\n"
     ]
    },
    {
     "name": "stderr",
     "output_type": "stream",
     "text": [
      "steps: 100%|██████████| 51/51 [00:00<00:00, 272.37it/s]"
     ]
    },
    {
     "name": "stdout",
     "output_type": "stream",
     "text": [
      "\n",
      "epoch : 150, tr_loss:  0.360954, val_loss: 0.489, tr_acc: 77.62%, val_acc: 75.52%\n"
     ]
    },
    {
     "name": "stderr",
     "output_type": "stream",
     "text": [
      "\n"
     ]
    },
    {
     "data": {
      "application/vnd.jupyter.widget-view+json": {
       "model_id": "d9aa574d99384335bdebc461938578f8",
       "version_major": 2,
       "version_minor": 0
      },
      "text/plain": [
       "HBox(children=(HTML(value='steps'), FloatProgress(value=0.0, max=3006.0), HTML(value='')))"
      ]
     },
     "metadata": {},
     "output_type": "display_data"
    },
    {
     "name": "stderr",
     "output_type": "stream",
     "text": [
      "steps: 100%|██████████| 51/51 [00:00<00:00, 272.68it/s]"
     ]
    },
    {
     "name": "stdout",
     "output_type": "stream",
     "text": [
      "\n",
      "epoch : 151, tr_loss:  0.360171, val_loss: 0.502, tr_acc: 77.68%, val_acc: 75.49%\n"
     ]
    },
    {
     "name": "stderr",
     "output_type": "stream",
     "text": [
      "\n"
     ]
    },
    {
     "data": {
      "application/vnd.jupyter.widget-view+json": {
       "model_id": "bf31d1127edd4f088b7755ef42a8e748",
       "version_major": 2,
       "version_minor": 0
      },
      "text/plain": [
       "HBox(children=(HTML(value='steps'), FloatProgress(value=0.0, max=3006.0), HTML(value='')))"
      ]
     },
     "metadata": {},
     "output_type": "display_data"
    },
    {
     "name": "stderr",
     "output_type": "stream",
     "text": [
      "steps: 100%|██████████| 51/51 [00:00<00:00, 271.17it/s]"
     ]
    },
    {
     "name": "stdout",
     "output_type": "stream",
     "text": [
      "\n",
      "epoch : 152, tr_loss:  0.359982, val_loss: 0.544, tr_acc: 77.67%, val_acc: 74.91%\n"
     ]
    },
    {
     "name": "stderr",
     "output_type": "stream",
     "text": [
      "\n"
     ]
    },
    {
     "data": {
      "application/vnd.jupyter.widget-view+json": {
       "model_id": "0f9ebf3654da4911b16ca1a49cf15f5f",
       "version_major": 2,
       "version_minor": 0
      },
      "text/plain": [
       "HBox(children=(HTML(value='steps'), FloatProgress(value=0.0, max=3006.0), HTML(value='')))"
      ]
     },
     "metadata": {},
     "output_type": "display_data"
    },
    {
     "name": "stderr",
     "output_type": "stream",
     "text": [
      "steps: 100%|██████████| 51/51 [00:00<00:00, 272.58it/s]"
     ]
    },
    {
     "name": "stdout",
     "output_type": "stream",
     "text": [
      "\n",
      "epoch : 153, tr_loss:  0.359948, val_loss: 0.486, tr_acc: 77.68%, val_acc: 75.15%\n"
     ]
    },
    {
     "name": "stderr",
     "output_type": "stream",
     "text": [
      "\n"
     ]
    },
    {
     "data": {
      "application/vnd.jupyter.widget-view+json": {
       "model_id": "9d08b894b9ee46958e6ed1124edbb908",
       "version_major": 2,
       "version_minor": 0
      },
      "text/plain": [
       "HBox(children=(HTML(value='steps'), FloatProgress(value=0.0, max=3006.0), HTML(value='')))"
      ]
     },
     "metadata": {},
     "output_type": "display_data"
    },
    {
     "name": "stderr",
     "output_type": "stream",
     "text": [
      "steps: 100%|██████████| 51/51 [00:00<00:00, 281.65it/s]\n"
     ]
    },
    {
     "name": "stdout",
     "output_type": "stream",
     "text": [
      "\r",
      "\r",
      "global_Step: 460000, tr_loss: 0.361646, val_loss: 0.539231\n"
     ]
    },
    {
     "name": "stderr",
     "output_type": "stream",
     "text": [
      "steps: 100%|██████████| 51/51 [00:00<00:00, 270.20it/s]"
     ]
    },
    {
     "name": "stdout",
     "output_type": "stream",
     "text": [
      "\n",
      "epoch : 154, tr_loss:  0.359026, val_loss: 0.513, tr_acc: 77.74%, val_acc: 75.28%\n"
     ]
    },
    {
     "name": "stderr",
     "output_type": "stream",
     "text": [
      "\n"
     ]
    },
    {
     "data": {
      "application/vnd.jupyter.widget-view+json": {
       "model_id": "f883fe99e4eb4bb3abf2ee382a131689",
       "version_major": 2,
       "version_minor": 0
      },
      "text/plain": [
       "HBox(children=(HTML(value='steps'), FloatProgress(value=0.0, max=3006.0), HTML(value='')))"
      ]
     },
     "metadata": {},
     "output_type": "display_data"
    },
    {
     "name": "stderr",
     "output_type": "stream",
     "text": [
      "steps: 100%|██████████| 51/51 [00:00<00:00, 280.78it/s]"
     ]
    },
    {
     "name": "stdout",
     "output_type": "stream",
     "text": [
      "\n",
      "epoch : 155, tr_loss:  0.359096, val_loss: 0.503, tr_acc: 77.80%, val_acc: 75.24%\n"
     ]
    },
    {
     "name": "stderr",
     "output_type": "stream",
     "text": [
      "\n"
     ]
    },
    {
     "data": {
      "application/vnd.jupyter.widget-view+json": {
       "model_id": "40b8035a264b495ba46189d46a17bfdf",
       "version_major": 2,
       "version_minor": 0
      },
      "text/plain": [
       "HBox(children=(HTML(value='steps'), FloatProgress(value=0.0, max=3006.0), HTML(value='')))"
      ]
     },
     "metadata": {},
     "output_type": "display_data"
    },
    {
     "name": "stderr",
     "output_type": "stream",
     "text": [
      "steps: 100%|██████████| 51/51 [00:00<00:00, 269.76it/s]"
     ]
    },
    {
     "name": "stdout",
     "output_type": "stream",
     "text": [
      "\n",
      "epoch : 156, tr_loss:  0.358207, val_loss: 0.522, tr_acc: 77.84%, val_acc: 75.00%\n"
     ]
    },
    {
     "name": "stderr",
     "output_type": "stream",
     "text": [
      "\n"
     ]
    },
    {
     "data": {
      "application/vnd.jupyter.widget-view+json": {
       "model_id": "6cb85301ed544f60b981860c42cd0455",
       "version_major": 2,
       "version_minor": 0
      },
      "text/plain": [
       "HBox(children=(HTML(value='steps'), FloatProgress(value=0.0, max=3006.0), HTML(value='')))"
      ]
     },
     "metadata": {},
     "output_type": "display_data"
    },
    {
     "name": "stderr",
     "output_type": "stream",
     "text": [
      "steps: 100%|██████████| 51/51 [00:00<00:00, 282.76it/s]\n"
     ]
    },
    {
     "name": "stdout",
     "output_type": "stream",
     "text": [
      "\r",
      "\r",
      "global_Step: 470000, tr_loss: 0.357301, val_loss: 0.498965\n"
     ]
    },
    {
     "name": "stderr",
     "output_type": "stream",
     "text": [
      "steps: 100%|██████████| 51/51 [00:00<00:00, 271.76it/s]"
     ]
    },
    {
     "name": "stdout",
     "output_type": "stream",
     "text": [
      "\n",
      "epoch : 157, tr_loss:  0.358107, val_loss: 0.546, tr_acc: 77.87%, val_acc: 75.12%\n"
     ]
    },
    {
     "name": "stderr",
     "output_type": "stream",
     "text": [
      "\n"
     ]
    },
    {
     "data": {
      "application/vnd.jupyter.widget-view+json": {
       "model_id": "a556eddb5c9749b59256b4fbc86b8ab7",
       "version_major": 2,
       "version_minor": 0
      },
      "text/plain": [
       "HBox(children=(HTML(value='steps'), FloatProgress(value=0.0, max=3006.0), HTML(value='')))"
      ]
     },
     "metadata": {},
     "output_type": "display_data"
    },
    {
     "name": "stderr",
     "output_type": "stream",
     "text": [
      "steps: 100%|██████████| 51/51 [00:00<00:00, 275.35it/s]"
     ]
    },
    {
     "name": "stdout",
     "output_type": "stream",
     "text": [
      "\n",
      "epoch : 158, tr_loss:  0.357494, val_loss: 0.496, tr_acc: 77.83%, val_acc: 75.46%\n"
     ]
    },
    {
     "name": "stderr",
     "output_type": "stream",
     "text": [
      "\n"
     ]
    },
    {
     "data": {
      "application/vnd.jupyter.widget-view+json": {
       "model_id": "854bf6b94358492595ff91ad5bf2d1ed",
       "version_major": 2,
       "version_minor": 0
      },
      "text/plain": [
       "HBox(children=(HTML(value='steps'), FloatProgress(value=0.0, max=3006.0), HTML(value='')))"
      ]
     },
     "metadata": {},
     "output_type": "display_data"
    },
    {
     "name": "stderr",
     "output_type": "stream",
     "text": [
      "steps: 100%|██████████| 51/51 [00:00<00:00, 273.29it/s]"
     ]
    },
    {
     "name": "stdout",
     "output_type": "stream",
     "text": [
      "\n",
      "epoch : 159, tr_loss:  0.356530, val_loss: 0.492, tr_acc: 77.86%, val_acc: 75.61%\n"
     ]
    },
    {
     "name": "stderr",
     "output_type": "stream",
     "text": [
      "\n"
     ]
    },
    {
     "data": {
      "application/vnd.jupyter.widget-view+json": {
       "model_id": "e045fa73f40d4fad8e9838dc531412a6",
       "version_major": 2,
       "version_minor": 0
      },
      "text/plain": [
       "HBox(children=(HTML(value='steps'), FloatProgress(value=0.0, max=3006.0), HTML(value='')))"
      ]
     },
     "metadata": {},
     "output_type": "display_data"
    },
    {
     "name": "stderr",
     "output_type": "stream",
     "text": [
      "steps: 100%|██████████| 51/51 [00:00<00:00, 284.73it/s]\n"
     ]
    },
    {
     "name": "stdout",
     "output_type": "stream",
     "text": [
      "\r",
      "\r",
      "global_Step: 480000, tr_loss: 0.355238, val_loss: 0.519233\n"
     ]
    },
    {
     "name": "stderr",
     "output_type": "stream",
     "text": [
      "steps: 100%|██████████| 51/51 [00:00<00:00, 277.70it/s]"
     ]
    },
    {
     "name": "stdout",
     "output_type": "stream",
     "text": [
      "\n"
     ]
    },
    {
     "name": "stderr",
     "output_type": "stream",
     "text": [
      "\n"
     ]
    },
    {
     "name": "stdout",
     "output_type": "stream",
     "text": [
      "\r",
      "epoch : 160, tr_loss:  0.356613, val_loss: 0.524, tr_acc: 77.90%, val_acc: 75.09%\n"
     ]
    },
    {
     "data": {
      "application/vnd.jupyter.widget-view+json": {
       "model_id": "644a1306e3214976b8d72ec53206cc8a",
       "version_major": 2,
       "version_minor": 0
      },
      "text/plain": [
       "HBox(children=(HTML(value='steps'), FloatProgress(value=0.0, max=3006.0), HTML(value='')))"
      ]
     },
     "metadata": {},
     "output_type": "display_data"
    },
    {
     "name": "stderr",
     "output_type": "stream",
     "text": [
      "steps: 100%|██████████| 51/51 [00:00<00:00, 271.24it/s]"
     ]
    },
    {
     "name": "stdout",
     "output_type": "stream",
     "text": [
      "\n",
      "epoch : 161, tr_loss:  0.356673, val_loss: 0.531, tr_acc: 77.93%, val_acc: 74.91%\n"
     ]
    },
    {
     "name": "stderr",
     "output_type": "stream",
     "text": [
      "\n"
     ]
    },
    {
     "data": {
      "application/vnd.jupyter.widget-view+json": {
       "model_id": "41ece0d05f7d41b29830aebd146873fc",
       "version_major": 2,
       "version_minor": 0
      },
      "text/plain": [
       "HBox(children=(HTML(value='steps'), FloatProgress(value=0.0, max=3006.0), HTML(value='')))"
      ]
     },
     "metadata": {},
     "output_type": "display_data"
    },
    {
     "name": "stderr",
     "output_type": "stream",
     "text": [
      "steps: 100%|██████████| 51/51 [00:00<00:00, 269.75it/s]"
     ]
    },
    {
     "name": "stdout",
     "output_type": "stream",
     "text": [
      "\n",
      "epoch : 162, tr_loss:  0.354883, val_loss: 0.518, tr_acc: 77.97%, val_acc: 75.00%\n"
     ]
    },
    {
     "name": "stderr",
     "output_type": "stream",
     "text": [
      "\n"
     ]
    },
    {
     "data": {
      "application/vnd.jupyter.widget-view+json": {
       "model_id": "33106f9dcb0f414b9c87b8cd01cd71ed",
       "version_major": 2,
       "version_minor": 0
      },
      "text/plain": [
       "HBox(children=(HTML(value='steps'), FloatProgress(value=0.0, max=3006.0), HTML(value='')))"
      ]
     },
     "metadata": {},
     "output_type": "display_data"
    },
    {
     "name": "stderr",
     "output_type": "stream",
     "text": [
      "steps: 100%|██████████| 51/51 [00:00<00:00, 273.12it/s]"
     ]
    },
    {
     "name": "stdout",
     "output_type": "stream",
     "text": [
      "\n",
      "epoch : 163, tr_loss:  0.356186, val_loss: 0.452, tr_acc: 77.95%, val_acc: 75.12%\n"
     ]
    },
    {
     "name": "stderr",
     "output_type": "stream",
     "text": [
      "\n"
     ]
    },
    {
     "data": {
      "application/vnd.jupyter.widget-view+json": {
       "model_id": "e3c82c3618de4ed381f8e25c838f2453",
       "version_major": 2,
       "version_minor": 0
      },
      "text/plain": [
       "HBox(children=(HTML(value='steps'), FloatProgress(value=0.0, max=3006.0), HTML(value='')))"
      ]
     },
     "metadata": {},
     "output_type": "display_data"
    },
    {
     "name": "stderr",
     "output_type": "stream",
     "text": [
      "steps: 100%|██████████| 51/51 [00:00<00:00, 283.25it/s]\n"
     ]
    },
    {
     "name": "stdout",
     "output_type": "stream",
     "text": [
      "\r",
      "\r",
      "global_Step: 490000, tr_loss: 0.347886, val_loss: 0.485237\n"
     ]
    },
    {
     "name": "stderr",
     "output_type": "stream",
     "text": [
      "steps: 100%|██████████| 51/51 [00:00<00:00, 272.58it/s]"
     ]
    },
    {
     "name": "stdout",
     "output_type": "stream",
     "text": [
      "\n",
      "epoch : 164, tr_loss:  0.354387, val_loss: 0.535, tr_acc: 78.03%, val_acc: 75.28%\n"
     ]
    },
    {
     "name": "stderr",
     "output_type": "stream",
     "text": [
      "\n"
     ]
    },
    {
     "data": {
      "application/vnd.jupyter.widget-view+json": {
       "model_id": "1de1952e2d424b67a820c51b03cfc34e",
       "version_major": 2,
       "version_minor": 0
      },
      "text/plain": [
       "HBox(children=(HTML(value='steps'), FloatProgress(value=0.0, max=3006.0), HTML(value='')))"
      ]
     },
     "metadata": {},
     "output_type": "display_data"
    },
    {
     "name": "stderr",
     "output_type": "stream",
     "text": [
      "steps: 100%|██████████| 51/51 [00:00<00:00, 276.42it/s]"
     ]
    },
    {
     "name": "stdout",
     "output_type": "stream",
     "text": [
      "\n",
      "epoch : 165, tr_loss:  0.354257, val_loss: 0.506, tr_acc: 78.11%, val_acc: 75.15%\n"
     ]
    },
    {
     "name": "stderr",
     "output_type": "stream",
     "text": [
      "\n"
     ]
    },
    {
     "data": {
      "application/vnd.jupyter.widget-view+json": {
       "model_id": "afa3d1216dc942d88061c023275b1cbc",
       "version_major": 2,
       "version_minor": 0
      },
      "text/plain": [
       "HBox(children=(HTML(value='steps'), FloatProgress(value=0.0, max=3006.0), HTML(value='')))"
      ]
     },
     "metadata": {},
     "output_type": "display_data"
    },
    {
     "name": "stderr",
     "output_type": "stream",
     "text": [
      "steps: 100%|██████████| 51/51 [00:00<00:00, 274.71it/s]"
     ]
    },
    {
     "name": "stdout",
     "output_type": "stream",
     "text": [
      "\n",
      "epoch : 166, tr_loss:  0.353711, val_loss: 0.556, tr_acc: 78.12%, val_acc: 75.12%\n"
     ]
    },
    {
     "name": "stderr",
     "output_type": "stream",
     "text": [
      "\n"
     ]
    },
    {
     "data": {
      "application/vnd.jupyter.widget-view+json": {
       "model_id": "976f5d64409c4fca8d2b067bb9db5390",
       "version_major": 2,
       "version_minor": 0
      },
      "text/plain": [
       "HBox(children=(HTML(value='steps'), FloatProgress(value=0.0, max=3006.0), HTML(value='')))"
      ]
     },
     "metadata": {},
     "output_type": "display_data"
    },
    {
     "name": "stderr",
     "output_type": "stream",
     "text": [
      "steps: 100%|██████████| 51/51 [00:00<00:00, 279.08it/s]\n"
     ]
    },
    {
     "name": "stdout",
     "output_type": "stream",
     "text": [
      "\r",
      "\r",
      "global_Step: 500000, tr_loss: 0.354540, val_loss: 0.538552\n"
     ]
    },
    {
     "name": "stderr",
     "output_type": "stream",
     "text": [
      "steps: 100%|██████████| 51/51 [00:00<00:00, 273.74it/s]"
     ]
    },
    {
     "name": "stdout",
     "output_type": "stream",
     "text": [
      "\n",
      "epoch : 167, tr_loss:  0.353267, val_loss: 0.551, tr_acc: 78.07%, val_acc: 74.69%\n"
     ]
    },
    {
     "name": "stderr",
     "output_type": "stream",
     "text": [
      "\n"
     ]
    },
    {
     "data": {
      "application/vnd.jupyter.widget-view+json": {
       "model_id": "c401ea90254b4f1e85d175a855451c90",
       "version_major": 2,
       "version_minor": 0
      },
      "text/plain": [
       "HBox(children=(HTML(value='steps'), FloatProgress(value=0.0, max=3006.0), HTML(value='')))"
      ]
     },
     "metadata": {},
     "output_type": "display_data"
    },
    {
     "name": "stderr",
     "output_type": "stream",
     "text": [
      "steps: 100%|██████████| 51/51 [00:00<00:00, 274.05it/s]"
     ]
    },
    {
     "name": "stdout",
     "output_type": "stream",
     "text": [
      "\n",
      "epoch : 168, tr_loss:  0.353290, val_loss: 0.533, tr_acc: 78.14%, val_acc: 75.21%\n"
     ]
    },
    {
     "name": "stderr",
     "output_type": "stream",
     "text": [
      "\n"
     ]
    },
    {
     "data": {
      "application/vnd.jupyter.widget-view+json": {
       "model_id": "e97237a968a447a1892e435a55868cf4",
       "version_major": 2,
       "version_minor": 0
      },
      "text/plain": [
       "HBox(children=(HTML(value='steps'), FloatProgress(value=0.0, max=3006.0), HTML(value='')))"
      ]
     },
     "metadata": {},
     "output_type": "display_data"
    },
    {
     "name": "stderr",
     "output_type": "stream",
     "text": [
      "steps: 100%|██████████| 51/51 [00:00<00:00, 272.10it/s]"
     ]
    },
    {
     "name": "stdout",
     "output_type": "stream",
     "text": [
      "\n",
      "epoch : 169, tr_loss:  0.352707, val_loss: 0.528, tr_acc: 78.15%, val_acc: 75.18%\n"
     ]
    },
    {
     "name": "stderr",
     "output_type": "stream",
     "text": [
      "\n"
     ]
    },
    {
     "data": {
      "application/vnd.jupyter.widget-view+json": {
       "model_id": "4ba472d2840b40ebb4887ed42985dae2",
       "version_major": 2,
       "version_minor": 0
      },
      "text/plain": [
       "HBox(children=(HTML(value='steps'), FloatProgress(value=0.0, max=3006.0), HTML(value='')))"
      ]
     },
     "metadata": {},
     "output_type": "display_data"
    },
    {
     "name": "stderr",
     "output_type": "stream",
     "text": [
      "steps: 100%|██████████| 51/51 [00:00<00:00, 281.44it/s]\n"
     ]
    },
    {
     "name": "stdout",
     "output_type": "stream",
     "text": [
      "\r",
      "\r",
      "global_Step: 510000, tr_loss: 0.351043, val_loss: 0.523650\n"
     ]
    },
    {
     "name": "stderr",
     "output_type": "stream",
     "text": [
      "steps: 100%|██████████| 51/51 [00:00<00:00, 272.58it/s]"
     ]
    },
    {
     "name": "stdout",
     "output_type": "stream",
     "text": [
      "\n",
      "epoch : 170, tr_loss:  0.351686, val_loss: 0.472, tr_acc: 78.20%, val_acc: 74.88%\n"
     ]
    },
    {
     "name": "stderr",
     "output_type": "stream",
     "text": [
      "\n"
     ]
    },
    {
     "data": {
      "application/vnd.jupyter.widget-view+json": {
       "model_id": "665a41362b254f94b3757f969b8fffe2",
       "version_major": 2,
       "version_minor": 0
      },
      "text/plain": [
       "HBox(children=(HTML(value='steps'), FloatProgress(value=0.0, max=3006.0), HTML(value='')))"
      ]
     },
     "metadata": {},
     "output_type": "display_data"
    },
    {
     "name": "stderr",
     "output_type": "stream",
     "text": [
      "steps: 100%|██████████| 51/51 [00:00<00:00, 261.46it/s]"
     ]
    },
    {
     "name": "stdout",
     "output_type": "stream",
     "text": [
      "\n",
      "epoch : 171, tr_loss:  0.351862, val_loss: 0.554, tr_acc: 78.25%, val_acc: 74.85%\n"
     ]
    },
    {
     "name": "stderr",
     "output_type": "stream",
     "text": [
      "\n"
     ]
    },
    {
     "data": {
      "application/vnd.jupyter.widget-view+json": {
       "model_id": "628ec6000d314b17a86264a4056aa267",
       "version_major": 2,
       "version_minor": 0
      },
      "text/plain": [
       "HBox(children=(HTML(value='steps'), FloatProgress(value=0.0, max=3006.0), HTML(value='')))"
      ]
     },
     "metadata": {},
     "output_type": "display_data"
    },
    {
     "name": "stderr",
     "output_type": "stream",
     "text": [
      "steps:  55%|█████▍    | 28/51 [00:00<00:00, 274.75it/s]"
     ]
    },
    {
     "name": "stdout",
     "output_type": "stream",
     "text": [
      "\n"
     ]
    },
    {
     "name": "stderr",
     "output_type": "stream",
     "text": [
      "\r",
      "steps: 100%|██████████| 51/51 [00:00<00:00, 272.82it/s]"
     ]
    },
    {
     "name": "stdout",
     "output_type": "stream",
     "text": [
      "\r",
      "epoch : 172, tr_loss:  0.351703, val_loss: 0.549, tr_acc: 78.21%, val_acc: 75.06%\n"
     ]
    },
    {
     "name": "stderr",
     "output_type": "stream",
     "text": [
      "\n"
     ]
    },
    {
     "data": {
      "application/vnd.jupyter.widget-view+json": {
       "model_id": "edcfb9f05fe74028af7c5357843208cf",
       "version_major": 2,
       "version_minor": 0
      },
      "text/plain": [
       "HBox(children=(HTML(value='steps'), FloatProgress(value=0.0, max=3006.0), HTML(value='')))"
      ]
     },
     "metadata": {},
     "output_type": "display_data"
    },
    {
     "name": "stderr",
     "output_type": "stream",
     "text": [
      "steps: 100%|██████████| 51/51 [00:00<00:00, 283.72it/s]\n"
     ]
    },
    {
     "name": "stdout",
     "output_type": "stream",
     "text": [
      "\r",
      "\r",
      "global_Step: 520000, tr_loss: 0.351771, val_loss: 0.520628\n"
     ]
    },
    {
     "name": "stderr",
     "output_type": "stream",
     "text": [
      "steps: 100%|██████████| 51/51 [00:00<00:00, 277.12it/s]"
     ]
    },
    {
     "name": "stdout",
     "output_type": "stream",
     "text": [
      "\n",
      "epoch : 173, tr_loss:  0.351850, val_loss: 0.557, tr_acc: 78.24%, val_acc: 74.72%\n"
     ]
    },
    {
     "name": "stderr",
     "output_type": "stream",
     "text": [
      "\n"
     ]
    },
    {
     "data": {
      "application/vnd.jupyter.widget-view+json": {
       "model_id": "30e8b8339d5e4637ab642dc18639eced",
       "version_major": 2,
       "version_minor": 0
      },
      "text/plain": [
       "HBox(children=(HTML(value='steps'), FloatProgress(value=0.0, max=3006.0), HTML(value='')))"
      ]
     },
     "metadata": {},
     "output_type": "display_data"
    },
    {
     "name": "stderr",
     "output_type": "stream",
     "text": [
      "steps: 100%|██████████| 51/51 [00:00<00:00, 270.98it/s]"
     ]
    },
    {
     "name": "stdout",
     "output_type": "stream",
     "text": [
      "\n",
      "epoch : 174, tr_loss:  0.350871, val_loss: 0.558, tr_acc: 78.35%, val_acc: 74.91%\n"
     ]
    },
    {
     "name": "stderr",
     "output_type": "stream",
     "text": [
      "\n"
     ]
    },
    {
     "data": {
      "application/vnd.jupyter.widget-view+json": {
       "model_id": "1008593c6a224297ab2911802ec63c51",
       "version_major": 2,
       "version_minor": 0
      },
      "text/plain": [
       "HBox(children=(HTML(value='steps'), FloatProgress(value=0.0, max=3006.0), HTML(value='')))"
      ]
     },
     "metadata": {},
     "output_type": "display_data"
    },
    {
     "name": "stderr",
     "output_type": "stream",
     "text": [
      "steps: 100%|██████████| 51/51 [00:00<00:00, 274.71it/s]"
     ]
    },
    {
     "name": "stdout",
     "output_type": "stream",
     "text": [
      "\n",
      "epoch : 175, tr_loss:  0.350107, val_loss: 0.589, tr_acc: 78.35%, val_acc: 74.91%\n"
     ]
    },
    {
     "name": "stderr",
     "output_type": "stream",
     "text": [
      "\n"
     ]
    },
    {
     "data": {
      "application/vnd.jupyter.widget-view+json": {
       "model_id": "0d4db23c7fdd4dd89b86163d5cd67ae8",
       "version_major": 2,
       "version_minor": 0
      },
      "text/plain": [
       "HBox(children=(HTML(value='steps'), FloatProgress(value=0.0, max=3006.0), HTML(value='')))"
      ]
     },
     "metadata": {},
     "output_type": "display_data"
    },
    {
     "name": "stderr",
     "output_type": "stream",
     "text": [
      "steps: 100%|██████████| 51/51 [00:00<00:00, 271.05it/s]"
     ]
    },
    {
     "name": "stdout",
     "output_type": "stream",
     "text": [
      "\n",
      "epoch : 176, tr_loss:  0.349928, val_loss: 0.512, tr_acc: 78.39%, val_acc: 74.72%\n"
     ]
    },
    {
     "name": "stderr",
     "output_type": "stream",
     "text": [
      "\n"
     ]
    },
    {
     "data": {
      "application/vnd.jupyter.widget-view+json": {
       "model_id": "84ced7fb24644b6388da98cacd1300ef",
       "version_major": 2,
       "version_minor": 0
      },
      "text/plain": [
       "HBox(children=(HTML(value='steps'), FloatProgress(value=0.0, max=3006.0), HTML(value='')))"
      ]
     },
     "metadata": {},
     "output_type": "display_data"
    },
    {
     "name": "stderr",
     "output_type": "stream",
     "text": [
      "steps: 100%|██████████| 51/51 [00:00<00:00, 281.55it/s]\n"
     ]
    },
    {
     "name": "stdout",
     "output_type": "stream",
     "text": [
      "\r",
      "\r",
      "global_Step: 530000, tr_loss: 0.347485, val_loss: 0.572966\n"
     ]
    },
    {
     "name": "stderr",
     "output_type": "stream",
     "text": [
      "steps: 100%|██████████| 51/51 [00:00<00:00, 274.29it/s]"
     ]
    },
    {
     "name": "stdout",
     "output_type": "stream",
     "text": [
      "\n",
      "epoch : 177, tr_loss:  0.349302, val_loss: 0.594, tr_acc: 78.38%, val_acc: 74.88%\n"
     ]
    },
    {
     "name": "stderr",
     "output_type": "stream",
     "text": [
      "\n"
     ]
    },
    {
     "data": {
      "application/vnd.jupyter.widget-view+json": {
       "model_id": "d5635cbdb8a448fa92c99ca66ff5a605",
       "version_major": 2,
       "version_minor": 0
      },
      "text/plain": [
       "HBox(children=(HTML(value='steps'), FloatProgress(value=0.0, max=3006.0), HTML(value='')))"
      ]
     },
     "metadata": {},
     "output_type": "display_data"
    },
    {
     "name": "stderr",
     "output_type": "stream",
     "text": [
      "steps: 100%|██████████| 51/51 [00:00<00:00, 271.29it/s]"
     ]
    },
    {
     "name": "stdout",
     "output_type": "stream",
     "text": [
      "\n",
      "epoch : 178, tr_loss:  0.348452, val_loss: 0.599, tr_acc: 78.46%, val_acc: 74.85%\n"
     ]
    },
    {
     "name": "stderr",
     "output_type": "stream",
     "text": [
      "\n"
     ]
    },
    {
     "data": {
      "application/vnd.jupyter.widget-view+json": {
       "model_id": "99cb73c7f9ef4334a423476db042c5c1",
       "version_major": 2,
       "version_minor": 0
      },
      "text/plain": [
       "HBox(children=(HTML(value='steps'), FloatProgress(value=0.0, max=3006.0), HTML(value='')))"
      ]
     },
     "metadata": {},
     "output_type": "display_data"
    },
    {
     "name": "stderr",
     "output_type": "stream",
     "text": [
      "steps: 100%|██████████| 51/51 [00:00<00:00, 273.84it/s]"
     ]
    },
    {
     "name": "stdout",
     "output_type": "stream",
     "text": [
      "\n",
      "epoch : 179, tr_loss:  0.348291, val_loss: 0.559, tr_acc: 78.46%, val_acc: 75.09%\n"
     ]
    },
    {
     "name": "stderr",
     "output_type": "stream",
     "text": [
      "\n"
     ]
    },
    {
     "data": {
      "application/vnd.jupyter.widget-view+json": {
       "model_id": "741f93a04b9f45fea9c686edb3e186b3",
       "version_major": 2,
       "version_minor": 0
      },
      "text/plain": [
       "HBox(children=(HTML(value='steps'), FloatProgress(value=0.0, max=3006.0), HTML(value='')))"
      ]
     },
     "metadata": {},
     "output_type": "display_data"
    },
    {
     "name": "stderr",
     "output_type": "stream",
     "text": [
      "steps: 100%|██████████| 51/51 [00:00<00:00, 281.50it/s]\n"
     ]
    },
    {
     "name": "stdout",
     "output_type": "stream",
     "text": [
      "\r",
      "\r",
      "global_Step: 540000, tr_loss: 0.350769, val_loss: 0.576531\n"
     ]
    },
    {
     "name": "stderr",
     "output_type": "stream",
     "text": [
      "steps: 100%|██████████| 51/51 [00:00<00:00, 272.52it/s]"
     ]
    },
    {
     "name": "stdout",
     "output_type": "stream",
     "text": [
      "\n",
      "epoch : 180, tr_loss:  0.348962, val_loss: 0.540, tr_acc: 78.40%, val_acc: 74.91%\n"
     ]
    },
    {
     "name": "stderr",
     "output_type": "stream",
     "text": [
      "\n"
     ]
    },
    {
     "data": {
      "application/vnd.jupyter.widget-view+json": {
       "model_id": "c5adab7089f143c889b34a2e4b4704a8",
       "version_major": 2,
       "version_minor": 0
      },
      "text/plain": [
       "HBox(children=(HTML(value='steps'), FloatProgress(value=0.0, max=3006.0), HTML(value='')))"
      ]
     },
     "metadata": {},
     "output_type": "display_data"
    },
    {
     "name": "stderr",
     "output_type": "stream",
     "text": [
      "steps: 100%|██████████| 51/51 [00:00<00:00, 272.51it/s]"
     ]
    },
    {
     "name": "stdout",
     "output_type": "stream",
     "text": [
      "\n",
      "epoch : 181, tr_loss:  0.347635, val_loss: 0.544, tr_acc: 78.57%, val_acc: 75.06%\n"
     ]
    },
    {
     "name": "stderr",
     "output_type": "stream",
     "text": [
      "\n"
     ]
    },
    {
     "data": {
      "application/vnd.jupyter.widget-view+json": {
       "model_id": "7223ee85ed5c481ca0d12f3df90e882f",
       "version_major": 2,
       "version_minor": 0
      },
      "text/plain": [
       "HBox(children=(HTML(value='steps'), FloatProgress(value=0.0, max=3006.0), HTML(value='')))"
      ]
     },
     "metadata": {},
     "output_type": "display_data"
    },
    {
     "name": "stderr",
     "output_type": "stream",
     "text": [
      "steps: 100%|██████████| 51/51 [00:00<00:00, 271.20it/s]"
     ]
    },
    {
     "name": "stdout",
     "output_type": "stream",
     "text": [
      "\n",
      "epoch : 182, tr_loss:  0.347868, val_loss: 0.564, tr_acc: 78.51%, val_acc: 75.12%\n"
     ]
    },
    {
     "name": "stderr",
     "output_type": "stream",
     "text": [
      "\n"
     ]
    },
    {
     "data": {
      "application/vnd.jupyter.widget-view+json": {
       "model_id": "7712d7cf3be84b3b875c729430946bff",
       "version_major": 2,
       "version_minor": 0
      },
      "text/plain": [
       "HBox(children=(HTML(value='steps'), FloatProgress(value=0.0, max=3006.0), HTML(value='')))"
      ]
     },
     "metadata": {},
     "output_type": "display_data"
    },
    {
     "name": "stderr",
     "output_type": "stream",
     "text": [
      "steps: 100%|██████████| 51/51 [00:00<00:00, 279.27it/s]\n"
     ]
    },
    {
     "name": "stdout",
     "output_type": "stream",
     "text": [
      "\r",
      "\r",
      "global_Step: 550000, tr_loss: 0.347058, val_loss: 0.577386\n"
     ]
    },
    {
     "name": "stderr",
     "output_type": "stream",
     "text": [
      "steps: 100%|██████████| 51/51 [00:00<00:00, 274.73it/s]"
     ]
    },
    {
     "name": "stdout",
     "output_type": "stream",
     "text": [
      "\n",
      "epoch : 183, tr_loss:  0.347275, val_loss: 0.566, tr_acc: 78.51%, val_acc: 75.06%\n"
     ]
    },
    {
     "name": "stderr",
     "output_type": "stream",
     "text": [
      "\n"
     ]
    },
    {
     "data": {
      "application/vnd.jupyter.widget-view+json": {
       "model_id": "f7fbd265fd0d48b5bbf956c3951bc279",
       "version_major": 2,
       "version_minor": 0
      },
      "text/plain": [
       "HBox(children=(HTML(value='steps'), FloatProgress(value=0.0, max=3006.0), HTML(value='')))"
      ]
     },
     "metadata": {},
     "output_type": "display_data"
    },
    {
     "name": "stderr",
     "output_type": "stream",
     "text": [
      "steps: 100%|██████████| 51/51 [00:00<00:00, 275.15it/s]"
     ]
    },
    {
     "name": "stdout",
     "output_type": "stream",
     "text": [
      "\n"
     ]
    },
    {
     "name": "stderr",
     "output_type": "stream",
     "text": [
      "\n"
     ]
    },
    {
     "name": "stdout",
     "output_type": "stream",
     "text": [
      "\r",
      "epoch : 184, tr_loss:  0.346918, val_loss: 0.581, tr_acc: 78.53%, val_acc: 74.82%\n"
     ]
    },
    {
     "data": {
      "application/vnd.jupyter.widget-view+json": {
       "model_id": "26b4b89875714e6196ec5ed0e1db79f7",
       "version_major": 2,
       "version_minor": 0
      },
      "text/plain": [
       "HBox(children=(HTML(value='steps'), FloatProgress(value=0.0, max=3006.0), HTML(value='')))"
      ]
     },
     "metadata": {},
     "output_type": "display_data"
    },
    {
     "name": "stderr",
     "output_type": "stream",
     "text": [
      "steps: 100%|██████████| 51/51 [00:00<00:00, 274.01it/s]"
     ]
    },
    {
     "name": "stdout",
     "output_type": "stream",
     "text": [
      "\n",
      "epoch : 185, tr_loss:  0.346561, val_loss: 0.482, tr_acc: 78.57%, val_acc: 75.40%\n"
     ]
    },
    {
     "name": "stderr",
     "output_type": "stream",
     "text": [
      "\n"
     ]
    },
    {
     "data": {
      "application/vnd.jupyter.widget-view+json": {
       "model_id": "4a369e81086e42feb88e2ff188dd5006",
       "version_major": 2,
       "version_minor": 0
      },
      "text/plain": [
       "HBox(children=(HTML(value='steps'), FloatProgress(value=0.0, max=3006.0), HTML(value='')))"
      ]
     },
     "metadata": {},
     "output_type": "display_data"
    },
    {
     "name": "stderr",
     "output_type": "stream",
     "text": [
      "steps: 100%|██████████| 51/51 [00:00<00:00, 271.56it/s]"
     ]
    },
    {
     "name": "stdout",
     "output_type": "stream",
     "text": [
      "\n",
      "epoch : 186, tr_loss:  0.345091, val_loss: 0.532, tr_acc: 78.67%, val_acc: 74.76%\n"
     ]
    },
    {
     "name": "stderr",
     "output_type": "stream",
     "text": [
      "\n"
     ]
    },
    {
     "data": {
      "application/vnd.jupyter.widget-view+json": {
       "model_id": "be3ae335dc8b41629f62eb3cf82875b7",
       "version_major": 2,
       "version_minor": 0
      },
      "text/plain": [
       "HBox(children=(HTML(value='steps'), FloatProgress(value=0.0, max=3006.0), HTML(value='')))"
      ]
     },
     "metadata": {},
     "output_type": "display_data"
    },
    {
     "name": "stderr",
     "output_type": "stream",
     "text": [
      "steps: 100%|██████████| 51/51 [00:00<00:00, 279.20it/s]\n"
     ]
    },
    {
     "name": "stdout",
     "output_type": "stream",
     "text": [
      "\r",
      "\r",
      "global_Step: 560000, tr_loss: 0.344117, val_loss: 0.572423\n"
     ]
    },
    {
     "name": "stderr",
     "output_type": "stream",
     "text": [
      "steps: 100%|██████████| 51/51 [00:00<00:00, 273.58it/s]"
     ]
    },
    {
     "name": "stdout",
     "output_type": "stream",
     "text": [
      "\n",
      "epoch : 187, tr_loss:  0.345223, val_loss: 0.630, tr_acc: 78.59%, val_acc: 74.66%\n"
     ]
    },
    {
     "name": "stderr",
     "output_type": "stream",
     "text": [
      "\n"
     ]
    },
    {
     "data": {
      "application/vnd.jupyter.widget-view+json": {
       "model_id": "96dc0986de814d7286f5a1c7cca7bc98",
       "version_major": 2,
       "version_minor": 0
      },
      "text/plain": [
       "HBox(children=(HTML(value='steps'), FloatProgress(value=0.0, max=3006.0), HTML(value='')))"
      ]
     },
     "metadata": {},
     "output_type": "display_data"
    },
    {
     "name": "stderr",
     "output_type": "stream",
     "text": [
      "steps: 100%|██████████| 51/51 [00:00<00:00, 267.78it/s]"
     ]
    },
    {
     "name": "stdout",
     "output_type": "stream",
     "text": [
      "\n",
      "epoch : 188, tr_loss:  0.345323, val_loss: 0.604, tr_acc: 78.70%, val_acc: 74.72%\n"
     ]
    },
    {
     "name": "stderr",
     "output_type": "stream",
     "text": [
      "\n"
     ]
    },
    {
     "data": {
      "application/vnd.jupyter.widget-view+json": {
       "model_id": "230d451d35534814acc54377f4e4520b",
       "version_major": 2,
       "version_minor": 0
      },
      "text/plain": [
       "HBox(children=(HTML(value='steps'), FloatProgress(value=0.0, max=3006.0), HTML(value='')))"
      ]
     },
     "metadata": {},
     "output_type": "display_data"
    },
    {
     "name": "stderr",
     "output_type": "stream",
     "text": [
      "steps: 100%|██████████| 51/51 [00:00<00:00, 275.66it/s]"
     ]
    },
    {
     "name": "stdout",
     "output_type": "stream",
     "text": [
      "\n",
      "epoch : 189, tr_loss:  0.344280, val_loss: 0.609, tr_acc: 78.74%, val_acc: 74.66%\n"
     ]
    },
    {
     "name": "stderr",
     "output_type": "stream",
     "text": [
      "\n"
     ]
    },
    {
     "data": {
      "application/vnd.jupyter.widget-view+json": {
       "model_id": "d245a0b8936148d5aa218f9ce4b79083",
       "version_major": 2,
       "version_minor": 0
      },
      "text/plain": [
       "HBox(children=(HTML(value='steps'), FloatProgress(value=0.0, max=3006.0), HTML(value='')))"
      ]
     },
     "metadata": {},
     "output_type": "display_data"
    },
    {
     "name": "stderr",
     "output_type": "stream",
     "text": [
      "steps: 100%|██████████| 51/51 [00:00<00:00, 282.99it/s]\n"
     ]
    },
    {
     "name": "stdout",
     "output_type": "stream",
     "text": [
      "\r",
      "\r",
      "global_Step: 570000, tr_loss: 0.343815, val_loss: 0.612643\n"
     ]
    },
    {
     "name": "stderr",
     "output_type": "stream",
     "text": [
      "steps: 100%|██████████| 51/51 [00:00<00:00, 267.59it/s]"
     ]
    },
    {
     "name": "stdout",
     "output_type": "stream",
     "text": [
      "\n",
      "epoch : 190, tr_loss:  0.343891, val_loss: 0.577, tr_acc: 78.81%, val_acc: 74.69%\n"
     ]
    },
    {
     "name": "stderr",
     "output_type": "stream",
     "text": [
      "\n"
     ]
    },
    {
     "data": {
      "application/vnd.jupyter.widget-view+json": {
       "model_id": "5b299b19a4724228a46868593611448f",
       "version_major": 2,
       "version_minor": 0
      },
      "text/plain": [
       "HBox(children=(HTML(value='steps'), FloatProgress(value=0.0, max=3006.0), HTML(value='')))"
      ]
     },
     "metadata": {},
     "output_type": "display_data"
    },
    {
     "name": "stderr",
     "output_type": "stream",
     "text": [
      "steps: 100%|██████████| 51/51 [00:00<00:00, 274.84it/s]"
     ]
    },
    {
     "name": "stdout",
     "output_type": "stream",
     "text": [
      "\n",
      "epoch : 191, tr_loss:  0.343471, val_loss: 0.570, tr_acc: 78.78%, val_acc: 74.91%\n"
     ]
    },
    {
     "name": "stderr",
     "output_type": "stream",
     "text": [
      "\n"
     ]
    },
    {
     "data": {
      "application/vnd.jupyter.widget-view+json": {
       "model_id": "c956df2b7a9e44719172e11c84a4f3c3",
       "version_major": 2,
       "version_minor": 0
      },
      "text/plain": [
       "HBox(children=(HTML(value='steps'), FloatProgress(value=0.0, max=3006.0), HTML(value='')))"
      ]
     },
     "metadata": {},
     "output_type": "display_data"
    },
    {
     "name": "stderr",
     "output_type": "stream",
     "text": [
      "steps: 100%|██████████| 51/51 [00:00<00:00, 272.36it/s]"
     ]
    },
    {
     "name": "stdout",
     "output_type": "stream",
     "text": [
      "\n",
      "epoch : 192, tr_loss:  0.344467, val_loss: 0.596, tr_acc: 78.75%, val_acc: 74.85%\n"
     ]
    },
    {
     "name": "stderr",
     "output_type": "stream",
     "text": [
      "\n"
     ]
    },
    {
     "data": {
      "application/vnd.jupyter.widget-view+json": {
       "model_id": "35d36fd3db804e02b96d5335ca3b4f18",
       "version_major": 2,
       "version_minor": 0
      },
      "text/plain": [
       "HBox(children=(HTML(value='steps'), FloatProgress(value=0.0, max=3006.0), HTML(value='')))"
      ]
     },
     "metadata": {},
     "output_type": "display_data"
    },
    {
     "name": "stderr",
     "output_type": "stream",
     "text": [
      "steps: 100%|██████████| 51/51 [00:00<00:00, 282.25it/s]\n"
     ]
    },
    {
     "name": "stdout",
     "output_type": "stream",
     "text": [
      "\r",
      "\r",
      "global_Step: 580000, tr_loss: 0.342476, val_loss: 0.617928\n"
     ]
    },
    {
     "name": "stderr",
     "output_type": "stream",
     "text": [
      "steps: 100%|██████████| 51/51 [00:00<00:00, 275.63it/s]"
     ]
    },
    {
     "name": "stdout",
     "output_type": "stream",
     "text": [
      "\n",
      "epoch : 193, tr_loss:  0.342820, val_loss: 0.611, tr_acc: 78.92%, val_acc: 74.79%\n"
     ]
    },
    {
     "name": "stderr",
     "output_type": "stream",
     "text": [
      "\n"
     ]
    },
    {
     "data": {
      "application/vnd.jupyter.widget-view+json": {
       "model_id": "bbfc70bbfb394720833147c3be63c3a5",
       "version_major": 2,
       "version_minor": 0
      },
      "text/plain": [
       "HBox(children=(HTML(value='steps'), FloatProgress(value=0.0, max=3006.0), HTML(value='')))"
      ]
     },
     "metadata": {},
     "output_type": "display_data"
    },
    {
     "name": "stderr",
     "output_type": "stream",
     "text": [
      "steps: 100%|██████████| 51/51 [00:00<00:00, 274.11it/s]"
     ]
    },
    {
     "name": "stdout",
     "output_type": "stream",
     "text": [
      "\n",
      "epoch : 194, tr_loss:  0.342121, val_loss: 0.653, tr_acc: 78.88%, val_acc: 74.63%\n"
     ]
    },
    {
     "name": "stderr",
     "output_type": "stream",
     "text": [
      "\n"
     ]
    },
    {
     "data": {
      "application/vnd.jupyter.widget-view+json": {
       "model_id": "c651e8afe890415e9209fbc786b31ccd",
       "version_major": 2,
       "version_minor": 0
      },
      "text/plain": [
       "HBox(children=(HTML(value='steps'), FloatProgress(value=0.0, max=3006.0), HTML(value='')))"
      ]
     },
     "metadata": {},
     "output_type": "display_data"
    },
    {
     "name": "stderr",
     "output_type": "stream",
     "text": [
      "steps: 100%|██████████| 51/51 [00:00<00:00, 272.58it/s]"
     ]
    },
    {
     "name": "stdout",
     "output_type": "stream",
     "text": [
      "\n",
      "epoch : 195, tr_loss:  0.342130, val_loss: 0.697, tr_acc: 78.90%, val_acc: 74.24%\n"
     ]
    },
    {
     "name": "stderr",
     "output_type": "stream",
     "text": [
      "\n"
     ]
    },
    {
     "data": {
      "application/vnd.jupyter.widget-view+json": {
       "model_id": "bb7a9c469d4f44cfb93834f7c72a1ed5",
       "version_major": 2,
       "version_minor": 0
      },
      "text/plain": [
       "HBox(children=(HTML(value='steps'), FloatProgress(value=0.0, max=3006.0), HTML(value='')))"
      ]
     },
     "metadata": {},
     "output_type": "display_data"
    },
    {
     "name": "stderr",
     "output_type": "stream",
     "text": [
      "steps: 100%|██████████| 51/51 [00:00<00:00, 272.90it/s]"
     ]
    },
    {
     "name": "stdout",
     "output_type": "stream",
     "text": [
      "\n",
      "epoch : 196, tr_loss:  0.342406, val_loss: 0.584, tr_acc: 78.87%, val_acc: 74.94%\n"
     ]
    },
    {
     "name": "stderr",
     "output_type": "stream",
     "text": [
      "\n"
     ]
    },
    {
     "data": {
      "application/vnd.jupyter.widget-view+json": {
       "model_id": "6b584b817f78487eb6e3fac88996afc0",
       "version_major": 2,
       "version_minor": 0
      },
      "text/plain": [
       "HBox(children=(HTML(value='steps'), FloatProgress(value=0.0, max=3006.0), HTML(value='')))"
      ]
     },
     "metadata": {},
     "output_type": "display_data"
    },
    {
     "name": "stderr",
     "output_type": "stream",
     "text": [
      "steps: 100%|██████████| 51/51 [00:00<00:00, 277.09it/s]\n"
     ]
    },
    {
     "name": "stdout",
     "output_type": "stream",
     "text": [
      "\r",
      "\r",
      "global_Step: 590000, tr_loss: 0.338100, val_loss: 0.611805\n"
     ]
    },
    {
     "name": "stderr",
     "output_type": "stream",
     "text": [
      "steps: 100%|██████████| 51/51 [00:00<00:00, 270.37it/s]"
     ]
    },
    {
     "name": "stdout",
     "output_type": "stream",
     "text": [
      "\n",
      "epoch : 197, tr_loss:  0.341331, val_loss: 0.614, tr_acc: 79.00%, val_acc: 75.00%\n"
     ]
    },
    {
     "name": "stderr",
     "output_type": "stream",
     "text": [
      "\n"
     ]
    },
    {
     "data": {
      "application/vnd.jupyter.widget-view+json": {
       "model_id": "60dfd66a473e490f90869ad5248ab571",
       "version_major": 2,
       "version_minor": 0
      },
      "text/plain": [
       "HBox(children=(HTML(value='steps'), FloatProgress(value=0.0, max=3006.0), HTML(value='')))"
      ]
     },
     "metadata": {},
     "output_type": "display_data"
    },
    {
     "name": "stderr",
     "output_type": "stream",
     "text": [
      "steps: 100%|██████████| 51/51 [00:00<00:00, 274.29it/s]"
     ]
    },
    {
     "name": "stdout",
     "output_type": "stream",
     "text": [
      "\n",
      "epoch : 198, tr_loss:  0.340479, val_loss: 0.601, tr_acc: 78.97%, val_acc: 74.82%\n"
     ]
    },
    {
     "name": "stderr",
     "output_type": "stream",
     "text": [
      "\n"
     ]
    },
    {
     "data": {
      "application/vnd.jupyter.widget-view+json": {
       "model_id": "e5dd964ff2b342319dc008106168c236",
       "version_major": 2,
       "version_minor": 0
      },
      "text/plain": [
       "HBox(children=(HTML(value='steps'), FloatProgress(value=0.0, max=3006.0), HTML(value='')))"
      ]
     },
     "metadata": {},
     "output_type": "display_data"
    },
    {
     "name": "stderr",
     "output_type": "stream",
     "text": [
      "steps: 100%|██████████| 51/51 [00:00<00:00, 259.20it/s]"
     ]
    },
    {
     "name": "stdout",
     "output_type": "stream",
     "text": [
      "\n",
      "epoch : 199, tr_loss:  0.340757, val_loss: 0.667, tr_acc: 78.97%, val_acc: 74.51%\n"
     ]
    },
    {
     "name": "stderr",
     "output_type": "stream",
     "text": [
      "\n"
     ]
    },
    {
     "data": {
      "application/vnd.jupyter.widget-view+json": {
       "model_id": "7a666c90f9f84b57bb0f817d9581afd6",
       "version_major": 2,
       "version_minor": 0
      },
      "text/plain": [
       "HBox(children=(HTML(value='steps'), FloatProgress(value=0.0, max=3006.0), HTML(value='')))"
      ]
     },
     "metadata": {},
     "output_type": "display_data"
    },
    {
     "name": "stderr",
     "output_type": "stream",
     "text": [
      "steps: 100%|██████████| 51/51 [00:00<00:00, 286.46it/s]\n"
     ]
    },
    {
     "name": "stdout",
     "output_type": "stream",
     "text": [
      "\r",
      "\r",
      "global_Step: 600000, tr_loss: 0.341408, val_loss: 0.624080\n"
     ]
    },
    {
     "name": "stderr",
     "output_type": "stream",
     "text": [
      "steps: 100%|██████████| 51/51 [00:00<00:00, 272.60it/s]"
     ]
    },
    {
     "name": "stdout",
     "output_type": "stream",
     "text": [
      "\n",
      "epoch : 200, tr_loss:  0.341337, val_loss: 0.683, tr_acc: 79.05%, val_acc: 74.33%\n"
     ]
    },
    {
     "name": "stderr",
     "output_type": "stream",
     "text": [
      "\n"
     ]
    },
    {
     "data": {
      "application/vnd.jupyter.widget-view+json": {
       "model_id": "e2c7497e860543b29b73738caf04337e",
       "version_major": 2,
       "version_minor": 0
      },
      "text/plain": [
       "HBox(children=(HTML(value='steps'), FloatProgress(value=0.0, max=3006.0), HTML(value='')))"
      ]
     },
     "metadata": {},
     "output_type": "display_data"
    },
    {
     "name": "stderr",
     "output_type": "stream",
     "text": [
      "steps: 100%|██████████| 51/51 [00:00<00:00, 275.12it/s]"
     ]
    },
    {
     "name": "stdout",
     "output_type": "stream",
     "text": [
      "\n",
      "epoch : 201, tr_loss:  0.340223, val_loss: 0.574, tr_acc: 79.08%, val_acc: 74.94%\n"
     ]
    },
    {
     "name": "stderr",
     "output_type": "stream",
     "text": [
      "\n"
     ]
    },
    {
     "data": {
      "application/vnd.jupyter.widget-view+json": {
       "model_id": "3ddda707297447d1bc0b26bdf155fe2c",
       "version_major": 2,
       "version_minor": 0
      },
      "text/plain": [
       "HBox(children=(HTML(value='steps'), FloatProgress(value=0.0, max=3006.0), HTML(value='')))"
      ]
     },
     "metadata": {},
     "output_type": "display_data"
    },
    {
     "name": "stderr",
     "output_type": "stream",
     "text": [
      "steps: 100%|██████████| 51/51 [00:00<00:00, 280.02it/s]"
     ]
    },
    {
     "name": "stdout",
     "output_type": "stream",
     "text": [
      "\n",
      "epoch : 202, tr_loss:  0.340580, val_loss: 0.607, tr_acc: 78.97%, val_acc: 74.91%\n"
     ]
    },
    {
     "name": "stderr",
     "output_type": "stream",
     "text": [
      "\n"
     ]
    },
    {
     "data": {
      "application/vnd.jupyter.widget-view+json": {
       "model_id": "9d624891cdbe4e55a6dcd5e43fab4c3b",
       "version_major": 2,
       "version_minor": 0
      },
      "text/plain": [
       "HBox(children=(HTML(value='steps'), FloatProgress(value=0.0, max=3006.0), HTML(value='')))"
      ]
     },
     "metadata": {},
     "output_type": "display_data"
    },
    {
     "name": "stderr",
     "output_type": "stream",
     "text": [
      "steps: 100%|██████████| 51/51 [00:00<00:00, 284.67it/s]\n"
     ]
    },
    {
     "name": "stdout",
     "output_type": "stream",
     "text": [
      "\r",
      "\r",
      "global_Step: 610000, tr_loss: 0.339258, val_loss: 0.632327\n"
     ]
    },
    {
     "name": "stderr",
     "output_type": "stream",
     "text": [
      "steps: 100%|██████████| 51/51 [00:00<00:00, 271.18it/s]"
     ]
    },
    {
     "name": "stdout",
     "output_type": "stream",
     "text": [
      "\n",
      "epoch : 203, tr_loss:  0.339386, val_loss: 0.616, tr_acc: 79.05%, val_acc: 74.72%\n"
     ]
    },
    {
     "name": "stderr",
     "output_type": "stream",
     "text": [
      "\n"
     ]
    },
    {
     "data": {
      "application/vnd.jupyter.widget-view+json": {
       "model_id": "0cd91a779cc443c2af6929564087c3dd",
       "version_major": 2,
       "version_minor": 0
      },
      "text/plain": [
       "HBox(children=(HTML(value='steps'), FloatProgress(value=0.0, max=3006.0), HTML(value='')))"
      ]
     },
     "metadata": {},
     "output_type": "display_data"
    },
    {
     "name": "stderr",
     "output_type": "stream",
     "text": [
      "steps: 100%|██████████| 51/51 [00:00<00:00, 276.39it/s]"
     ]
    },
    {
     "name": "stdout",
     "output_type": "stream",
     "text": [
      "\n",
      "epoch : 204, tr_loss:  0.338729, val_loss: 0.665, tr_acc: 79.14%, val_acc: 74.57%\n"
     ]
    },
    {
     "name": "stderr",
     "output_type": "stream",
     "text": [
      "\n"
     ]
    },
    {
     "data": {
      "application/vnd.jupyter.widget-view+json": {
       "model_id": "3134abd6809d44c39d2ee219fd9f1fd6",
       "version_major": 2,
       "version_minor": 0
      },
      "text/plain": [
       "HBox(children=(HTML(value='steps'), FloatProgress(value=0.0, max=3006.0), HTML(value='')))"
      ]
     },
     "metadata": {},
     "output_type": "display_data"
    },
    {
     "name": "stderr",
     "output_type": "stream",
     "text": [
      "steps: 100%|██████████| 51/51 [00:00<00:00, 271.79it/s]"
     ]
    },
    {
     "name": "stdout",
     "output_type": "stream",
     "text": [
      "\n",
      "epoch : 205, tr_loss:  0.339004, val_loss: 0.661, tr_acc: 79.11%, val_acc: 73.99%\n"
     ]
    },
    {
     "name": "stderr",
     "output_type": "stream",
     "text": [
      "\n"
     ]
    },
    {
     "data": {
      "application/vnd.jupyter.widget-view+json": {
       "model_id": "04e4986ff4994ab488b38f4baa6d18b9",
       "version_major": 2,
       "version_minor": 0
      },
      "text/plain": [
       "HBox(children=(HTML(value='steps'), FloatProgress(value=0.0, max=3006.0), HTML(value='')))"
      ]
     },
     "metadata": {},
     "output_type": "display_data"
    },
    {
     "name": "stderr",
     "output_type": "stream",
     "text": [
      "steps: 100%|██████████| 51/51 [00:00<00:00, 272.67it/s]"
     ]
    },
    {
     "name": "stdout",
     "output_type": "stream",
     "text": [
      "\n",
      "epoch : 206, tr_loss:  0.337521, val_loss: 0.653, tr_acc: 79.28%, val_acc: 74.39%\n"
     ]
    },
    {
     "name": "stderr",
     "output_type": "stream",
     "text": [
      "\n"
     ]
    },
    {
     "data": {
      "application/vnd.jupyter.widget-view+json": {
       "model_id": "cf61c69b208c4026b601456018f9c282",
       "version_major": 2,
       "version_minor": 0
      },
      "text/plain": [
       "HBox(children=(HTML(value='steps'), FloatProgress(value=0.0, max=3006.0), HTML(value='')))"
      ]
     },
     "metadata": {},
     "output_type": "display_data"
    },
    {
     "name": "stderr",
     "output_type": "stream",
     "text": [
      "steps: 100%|██████████| 51/51 [00:00<00:00, 288.34it/s]\n"
     ]
    },
    {
     "name": "stdout",
     "output_type": "stream",
     "text": [
      "\r",
      "\r",
      "global_Step: 620000, tr_loss: 0.339295, val_loss: 0.635163\n"
     ]
    },
    {
     "name": "stderr",
     "output_type": "stream",
     "text": [
      "steps: 100%|██████████| 51/51 [00:00<00:00, 273.16it/s]"
     ]
    },
    {
     "name": "stdout",
     "output_type": "stream",
     "text": [
      "\n",
      "epoch : 207, tr_loss:  0.338301, val_loss: 0.663, tr_acc: 79.19%, val_acc: 74.24%\n"
     ]
    },
    {
     "name": "stderr",
     "output_type": "stream",
     "text": [
      "\n"
     ]
    },
    {
     "data": {
      "application/vnd.jupyter.widget-view+json": {
       "model_id": "f18e642f936642d78f8971665478ece7",
       "version_major": 2,
       "version_minor": 0
      },
      "text/plain": [
       "HBox(children=(HTML(value='steps'), FloatProgress(value=0.0, max=3006.0), HTML(value='')))"
      ]
     },
     "metadata": {},
     "output_type": "display_data"
    },
    {
     "name": "stderr",
     "output_type": "stream",
     "text": [
      "steps: 100%|██████████| 51/51 [00:00<00:00, 270.27it/s]"
     ]
    },
    {
     "name": "stdout",
     "output_type": "stream",
     "text": [
      "\n",
      "epoch : 208, tr_loss:  0.337089, val_loss: 0.614, tr_acc: 79.26%, val_acc: 74.33%\n"
     ]
    },
    {
     "name": "stderr",
     "output_type": "stream",
     "text": [
      "\n"
     ]
    },
    {
     "data": {
      "application/vnd.jupyter.widget-view+json": {
       "model_id": "75e1c40e15fe4f12a35950468cbb1ec7",
       "version_major": 2,
       "version_minor": 0
      },
      "text/plain": [
       "HBox(children=(HTML(value='steps'), FloatProgress(value=0.0, max=3006.0), HTML(value='')))"
      ]
     },
     "metadata": {},
     "output_type": "display_data"
    },
    {
     "name": "stderr",
     "output_type": "stream",
     "text": [
      "steps: 100%|██████████| 51/51 [00:00<00:00, 268.78it/s]"
     ]
    },
    {
     "name": "stdout",
     "output_type": "stream",
     "text": [
      "\n",
      "epoch : 209, tr_loss:  0.338322, val_loss: 0.636, tr_acc: 79.20%, val_acc: 74.72%\n"
     ]
    },
    {
     "name": "stderr",
     "output_type": "stream",
     "text": [
      "\n"
     ]
    },
    {
     "data": {
      "application/vnd.jupyter.widget-view+json": {
       "model_id": "35453fe07e104d42b7fd170698ad491e",
       "version_major": 2,
       "version_minor": 0
      },
      "text/plain": [
       "HBox(children=(HTML(value='steps'), FloatProgress(value=0.0, max=3006.0), HTML(value='')))"
      ]
     },
     "metadata": {},
     "output_type": "display_data"
    },
    {
     "name": "stderr",
     "output_type": "stream",
     "text": [
      "steps: 100%|██████████| 51/51 [00:00<00:00, 282.19it/s]\n"
     ]
    },
    {
     "name": "stdout",
     "output_type": "stream",
     "text": [
      "\r",
      "\r",
      "global_Step: 630000, tr_loss: 0.338861, val_loss: 0.606528\n"
     ]
    },
    {
     "name": "stderr",
     "output_type": "stream",
     "text": [
      "steps: 100%|██████████| 51/51 [00:00<00:00, 275.42it/s]"
     ]
    },
    {
     "name": "stdout",
     "output_type": "stream",
     "text": [
      "\n",
      "epoch : 210, tr_loss:  0.339023, val_loss: 0.623, tr_acc: 79.07%, val_acc: 75.00%\n"
     ]
    },
    {
     "name": "stderr",
     "output_type": "stream",
     "text": [
      "\n"
     ]
    },
    {
     "data": {
      "application/vnd.jupyter.widget-view+json": {
       "model_id": "b308177136e84108a68702a7ebfd8b8e",
       "version_major": 2,
       "version_minor": 0
      },
      "text/plain": [
       "HBox(children=(HTML(value='steps'), FloatProgress(value=0.0, max=3006.0), HTML(value='')))"
      ]
     },
     "metadata": {},
     "output_type": "display_data"
    },
    {
     "name": "stderr",
     "output_type": "stream",
     "text": [
      "steps: 100%|██████████| 51/51 [00:00<00:00, 262.64it/s]"
     ]
    },
    {
     "name": "stdout",
     "output_type": "stream",
     "text": [
      "\n",
      "epoch : 211, tr_loss:  0.335771, val_loss: 0.621, tr_acc: 79.33%, val_acc: 74.36%\n"
     ]
    },
    {
     "name": "stderr",
     "output_type": "stream",
     "text": [
      "\n"
     ]
    },
    {
     "data": {
      "application/vnd.jupyter.widget-view+json": {
       "model_id": "efceaabffef34ce588157531389cd8ed",
       "version_major": 2,
       "version_minor": 0
      },
      "text/plain": [
       "HBox(children=(HTML(value='steps'), FloatProgress(value=0.0, max=3006.0), HTML(value='')))"
      ]
     },
     "metadata": {},
     "output_type": "display_data"
    },
    {
     "name": "stderr",
     "output_type": "stream",
     "text": [
      "steps: 100%|██████████| 51/51 [00:00<00:00, 265.85it/s]"
     ]
    },
    {
     "name": "stdout",
     "output_type": "stream",
     "text": [
      "\n",
      "epoch : 212, tr_loss:  0.335595, val_loss: 0.701, tr_acc: 79.36%, val_acc: 74.24%\n"
     ]
    },
    {
     "name": "stderr",
     "output_type": "stream",
     "text": [
      "\n"
     ]
    },
    {
     "data": {
      "application/vnd.jupyter.widget-view+json": {
       "model_id": "8e105b00981c4875b90c905d173bf9d8",
       "version_major": 2,
       "version_minor": 0
      },
      "text/plain": [
       "HBox(children=(HTML(value='steps'), FloatProgress(value=0.0, max=3006.0), HTML(value='')))"
      ]
     },
     "metadata": {},
     "output_type": "display_data"
    },
    {
     "name": "stderr",
     "output_type": "stream",
     "text": [
      "steps: 100%|██████████| 51/51 [00:00<00:00, 281.78it/s]\n"
     ]
    },
    {
     "name": "stdout",
     "output_type": "stream",
     "text": [
      "\r",
      "\r",
      "global_Step: 640000, tr_loss: 0.335886, val_loss: 0.502043\n"
     ]
    },
    {
     "name": "stderr",
     "output_type": "stream",
     "text": [
      "steps: 100%|██████████| 51/51 [00:00<00:00, 271.86it/s]"
     ]
    },
    {
     "name": "stdout",
     "output_type": "stream",
     "text": [
      "\n",
      "epoch : 213, tr_loss:  0.337366, val_loss: 0.640, tr_acc: 79.27%, val_acc: 74.42%\n"
     ]
    },
    {
     "name": "stderr",
     "output_type": "stream",
     "text": [
      "\n"
     ]
    },
    {
     "data": {
      "application/vnd.jupyter.widget-view+json": {
       "model_id": "aa2c9ad67cdc4388997ba7e612dacc7a",
       "version_major": 2,
       "version_minor": 0
      },
      "text/plain": [
       "HBox(children=(HTML(value='steps'), FloatProgress(value=0.0, max=3006.0), HTML(value='')))"
      ]
     },
     "metadata": {},
     "output_type": "display_data"
    },
    {
     "name": "stderr",
     "output_type": "stream",
     "text": [
      "steps: 100%|██████████| 51/51 [00:00<00:00, 272.61it/s]"
     ]
    },
    {
     "name": "stdout",
     "output_type": "stream",
     "text": [
      "\n",
      "epoch : 214, tr_loss:  0.334919, val_loss: 0.710, tr_acc: 79.42%, val_acc: 74.27%\n"
     ]
    },
    {
     "name": "stderr",
     "output_type": "stream",
     "text": [
      "\n"
     ]
    },
    {
     "data": {
      "application/vnd.jupyter.widget-view+json": {
       "model_id": "f96a64313a7e418185dae69c461f1134",
       "version_major": 2,
       "version_minor": 0
      },
      "text/plain": [
       "HBox(children=(HTML(value='steps'), FloatProgress(value=0.0, max=3006.0), HTML(value='')))"
      ]
     },
     "metadata": {},
     "output_type": "display_data"
    },
    {
     "name": "stderr",
     "output_type": "stream",
     "text": [
      "steps: 100%|██████████| 51/51 [00:00<00:00, 274.18it/s]"
     ]
    },
    {
     "name": "stdout",
     "output_type": "stream",
     "text": [
      "\n",
      "epoch : 215, tr_loss:  0.334873, val_loss: 0.629, tr_acc: 79.42%, val_acc: 74.76%\n"
     ]
    },
    {
     "name": "stderr",
     "output_type": "stream",
     "text": [
      "\n"
     ]
    },
    {
     "data": {
      "application/vnd.jupyter.widget-view+json": {
       "model_id": "5041b203cbc543abb93ce76f14c3cb96",
       "version_major": 2,
       "version_minor": 0
      },
      "text/plain": [
       "HBox(children=(HTML(value='steps'), FloatProgress(value=0.0, max=3006.0), HTML(value='')))"
      ]
     },
     "metadata": {},
     "output_type": "display_data"
    },
    {
     "name": "stderr",
     "output_type": "stream",
     "text": [
      "steps: 100%|██████████| 51/51 [00:00<00:00, 271.76it/s]"
     ]
    },
    {
     "name": "stdout",
     "output_type": "stream",
     "text": [
      "\n",
      "epoch : 216, tr_loss:  0.334556, val_loss: 0.684, tr_acc: 79.38%, val_acc: 74.48%\n"
     ]
    },
    {
     "name": "stderr",
     "output_type": "stream",
     "text": [
      "\n"
     ]
    },
    {
     "data": {
      "application/vnd.jupyter.widget-view+json": {
       "model_id": "85cde2b7268f4d02b719e674736d4863",
       "version_major": 2,
       "version_minor": 0
      },
      "text/plain": [
       "HBox(children=(HTML(value='steps'), FloatProgress(value=0.0, max=3006.0), HTML(value='')))"
      ]
     },
     "metadata": {},
     "output_type": "display_data"
    },
    {
     "name": "stderr",
     "output_type": "stream",
     "text": [
      "steps: 100%|██████████| 51/51 [00:00<00:00, 281.11it/s]\n"
     ]
    },
    {
     "name": "stdout",
     "output_type": "stream",
     "text": [
      "\r",
      "\r",
      "global_Step: 650000, tr_loss: 0.335186, val_loss: 0.769455\n"
     ]
    },
    {
     "name": "stderr",
     "output_type": "stream",
     "text": [
      "steps: 100%|██████████| 51/51 [00:00<00:00, 275.31it/s]"
     ]
    },
    {
     "name": "stdout",
     "output_type": "stream",
     "text": [
      "\n",
      "epoch : 217, tr_loss:  0.334636, val_loss: 0.657, tr_acc: 79.35%, val_acc: 74.54%\n"
     ]
    },
    {
     "name": "stderr",
     "output_type": "stream",
     "text": [
      "\n"
     ]
    },
    {
     "data": {
      "application/vnd.jupyter.widget-view+json": {
       "model_id": "d9dbbfb227144def8ec36431a48f3485",
       "version_major": 2,
       "version_minor": 0
      },
      "text/plain": [
       "HBox(children=(HTML(value='steps'), FloatProgress(value=0.0, max=3006.0), HTML(value='')))"
      ]
     },
     "metadata": {},
     "output_type": "display_data"
    },
    {
     "name": "stderr",
     "output_type": "stream",
     "text": [
      "steps: 100%|██████████| 51/51 [00:00<00:00, 266.98it/s]"
     ]
    },
    {
     "name": "stdout",
     "output_type": "stream",
     "text": [
      "\n",
      "epoch : 218, tr_loss:  0.333795, val_loss: 0.590, tr_acc: 79.41%, val_acc: 74.76%\n"
     ]
    },
    {
     "name": "stderr",
     "output_type": "stream",
     "text": [
      "\n"
     ]
    },
    {
     "data": {
      "application/vnd.jupyter.widget-view+json": {
       "model_id": "d0c77d0b93ed48bfb1e08b57057c2fae",
       "version_major": 2,
       "version_minor": 0
      },
      "text/plain": [
       "HBox(children=(HTML(value='steps'), FloatProgress(value=0.0, max=3006.0), HTML(value='')))"
      ]
     },
     "metadata": {},
     "output_type": "display_data"
    },
    {
     "name": "stderr",
     "output_type": "stream",
     "text": [
      "steps: 100%|██████████| 51/51 [00:00<00:00, 268.65it/s]"
     ]
    },
    {
     "name": "stdout",
     "output_type": "stream",
     "text": [
      "\n",
      "epoch : 219, tr_loss:  0.334597, val_loss: 0.684, tr_acc: 79.46%, val_acc: 74.11%\n"
     ]
    },
    {
     "name": "stderr",
     "output_type": "stream",
     "text": [
      "\n"
     ]
    },
    {
     "data": {
      "application/vnd.jupyter.widget-view+json": {
       "model_id": "313636614f2e4b478df5f56905e5e881",
       "version_major": 2,
       "version_minor": 0
      },
      "text/plain": [
       "HBox(children=(HTML(value='steps'), FloatProgress(value=0.0, max=3006.0), HTML(value='')))"
      ]
     },
     "metadata": {},
     "output_type": "display_data"
    },
    {
     "name": "stderr",
     "output_type": "stream",
     "text": [
      "steps: 100%|██████████| 51/51 [00:00<00:00, 283.14it/s]\n"
     ]
    },
    {
     "name": "stdout",
     "output_type": "stream",
     "text": [
      "\r",
      "\r",
      "global_Step: 660000, tr_loss: 0.332852, val_loss: 0.556006\n"
     ]
    },
    {
     "name": "stderr",
     "output_type": "stream",
     "text": [
      "steps: 100%|██████████| 51/51 [00:00<00:00, 274.49it/s]"
     ]
    },
    {
     "name": "stdout",
     "output_type": "stream",
     "text": [
      "\n",
      "epoch : 220, tr_loss:  0.333400, val_loss: 0.687, tr_acc: 79.47%, val_acc: 74.11%\n"
     ]
    },
    {
     "name": "stderr",
     "output_type": "stream",
     "text": [
      "\n"
     ]
    },
    {
     "data": {
      "application/vnd.jupyter.widget-view+json": {
       "model_id": "4d21ae20da8d4e7e92969b769c0ec159",
       "version_major": 2,
       "version_minor": 0
      },
      "text/plain": [
       "HBox(children=(HTML(value='steps'), FloatProgress(value=0.0, max=3006.0), HTML(value='')))"
      ]
     },
     "metadata": {},
     "output_type": "display_data"
    },
    {
     "name": "stderr",
     "output_type": "stream",
     "text": [
      "steps: 100%|██████████| 51/51 [00:00<00:00, 273.94it/s]"
     ]
    },
    {
     "name": "stdout",
     "output_type": "stream",
     "text": [
      "\n",
      "epoch : 221, tr_loss:  0.331900, val_loss: 0.648, tr_acc: 79.60%, val_acc: 74.72%\n"
     ]
    },
    {
     "name": "stderr",
     "output_type": "stream",
     "text": [
      "\n"
     ]
    },
    {
     "data": {
      "application/vnd.jupyter.widget-view+json": {
       "model_id": "68e8098b7dbe4916ac4d075406596e74",
       "version_major": 2,
       "version_minor": 0
      },
      "text/plain": [
       "HBox(children=(HTML(value='steps'), FloatProgress(value=0.0, max=3006.0), HTML(value='')))"
      ]
     },
     "metadata": {},
     "output_type": "display_data"
    },
    {
     "name": "stderr",
     "output_type": "stream",
     "text": [
      "steps: 100%|██████████| 51/51 [00:00<00:00, 276.66it/s]"
     ]
    },
    {
     "name": "stdout",
     "output_type": "stream",
     "text": [
      "\n",
      "epoch : 222, tr_loss:  0.333334, val_loss: 0.691, tr_acc: 79.47%, val_acc: 74.57%\n"
     ]
    },
    {
     "name": "stderr",
     "output_type": "stream",
     "text": [
      "\n"
     ]
    },
    {
     "data": {
      "application/vnd.jupyter.widget-view+json": {
       "model_id": "74a676e74a40466d97f83c97b7f2f3c3",
       "version_major": 2,
       "version_minor": 0
      },
      "text/plain": [
       "HBox(children=(HTML(value='steps'), FloatProgress(value=0.0, max=3006.0), HTML(value='')))"
      ]
     },
     "metadata": {},
     "output_type": "display_data"
    },
    {
     "name": "stderr",
     "output_type": "stream",
     "text": [
      "steps: 100%|██████████| 51/51 [00:00<00:00, 289.62it/s]\n"
     ]
    },
    {
     "name": "stdout",
     "output_type": "stream",
     "text": [
      "\r",
      "\r",
      "global_Step: 670000, tr_loss: 0.332385, val_loss: 0.674658\n"
     ]
    },
    {
     "name": "stderr",
     "output_type": "stream",
     "text": [
      "steps: 100%|██████████| 51/51 [00:00<00:00, 272.78it/s]"
     ]
    },
    {
     "name": "stdout",
     "output_type": "stream",
     "text": [
      "\n",
      "epoch : 223, tr_loss:  0.332549, val_loss: 0.715, tr_acc: 79.55%, val_acc: 74.42%\n"
     ]
    },
    {
     "name": "stderr",
     "output_type": "stream",
     "text": [
      "\n"
     ]
    },
    {
     "data": {
      "application/vnd.jupyter.widget-view+json": {
       "model_id": "431e7c68cbb44b5dad82b6f65703c677",
       "version_major": 2,
       "version_minor": 0
      },
      "text/plain": [
       "HBox(children=(HTML(value='steps'), FloatProgress(value=0.0, max=3006.0), HTML(value='')))"
      ]
     },
     "metadata": {},
     "output_type": "display_data"
    },
    {
     "name": "stderr",
     "output_type": "stream",
     "text": [
      "steps: 100%|██████████| 51/51 [00:00<00:00, 271.38it/s]"
     ]
    },
    {
     "name": "stdout",
     "output_type": "stream",
     "text": [
      "\n",
      "epoch : 224, tr_loss:  0.331158, val_loss: 0.657, tr_acc: 79.62%, val_acc: 74.42%\n"
     ]
    },
    {
     "name": "stderr",
     "output_type": "stream",
     "text": [
      "\n"
     ]
    },
    {
     "data": {
      "application/vnd.jupyter.widget-view+json": {
       "model_id": "59cc36f52e2a4476bc9bbb59a251662d",
       "version_major": 2,
       "version_minor": 0
      },
      "text/plain": [
       "HBox(children=(HTML(value='steps'), FloatProgress(value=0.0, max=3006.0), HTML(value='')))"
      ]
     },
     "metadata": {},
     "output_type": "display_data"
    },
    {
     "name": "stderr",
     "output_type": "stream",
     "text": [
      "steps: 100%|██████████| 51/51 [00:00<00:00, 271.57it/s]"
     ]
    },
    {
     "name": "stdout",
     "output_type": "stream",
     "text": [
      "\n",
      "epoch : 225, tr_loss:  0.331678, val_loss: 0.673, tr_acc: 79.59%, val_acc: 74.69%\n"
     ]
    },
    {
     "name": "stderr",
     "output_type": "stream",
     "text": [
      "\n"
     ]
    },
    {
     "data": {
      "application/vnd.jupyter.widget-view+json": {
       "model_id": "74bc9a9568a54e78a38b8e02644b2b37",
       "version_major": 2,
       "version_minor": 0
      },
      "text/plain": [
       "HBox(children=(HTML(value='steps'), FloatProgress(value=0.0, max=3006.0), HTML(value='')))"
      ]
     },
     "metadata": {},
     "output_type": "display_data"
    },
    {
     "name": "stderr",
     "output_type": "stream",
     "text": [
      "steps: 100%|██████████| 51/51 [00:00<00:00, 271.12it/s]"
     ]
    },
    {
     "name": "stdout",
     "output_type": "stream",
     "text": [
      "\n",
      "epoch : 226, tr_loss:  0.331413, val_loss: 0.729, tr_acc: 79.62%, val_acc: 74.72%\n"
     ]
    },
    {
     "name": "stderr",
     "output_type": "stream",
     "text": [
      "\n"
     ]
    },
    {
     "data": {
      "application/vnd.jupyter.widget-view+json": {
       "model_id": "d4ccb64f823648b28cae89889b021787",
       "version_major": 2,
       "version_minor": 0
      },
      "text/plain": [
       "HBox(children=(HTML(value='steps'), FloatProgress(value=0.0, max=3006.0), HTML(value='')))"
      ]
     },
     "metadata": {},
     "output_type": "display_data"
    },
    {
     "name": "stderr",
     "output_type": "stream",
     "text": [
      "steps: 100%|██████████| 51/51 [00:00<00:00, 283.90it/s]\n"
     ]
    },
    {
     "name": "stdout",
     "output_type": "stream",
     "text": [
      "\r",
      "\r",
      "global_Step: 680000, tr_loss: 0.323475, val_loss: 0.777397\n"
     ]
    },
    {
     "name": "stderr",
     "output_type": "stream",
     "text": [
      "steps: 100%|██████████| 51/51 [00:00<00:00, 275.62it/s]"
     ]
    },
    {
     "name": "stdout",
     "output_type": "stream",
     "text": [
      "\n",
      "epoch : 227, tr_loss:  0.332603, val_loss: 0.676, tr_acc: 79.58%, val_acc: 74.63%\n"
     ]
    },
    {
     "name": "stderr",
     "output_type": "stream",
     "text": [
      "\n"
     ]
    },
    {
     "data": {
      "application/vnd.jupyter.widget-view+json": {
       "model_id": "6e37b6a0114548cb9099678993ea0474",
       "version_major": 2,
       "version_minor": 0
      },
      "text/plain": [
       "HBox(children=(HTML(value='steps'), FloatProgress(value=0.0, max=3006.0), HTML(value='')))"
      ]
     },
     "metadata": {},
     "output_type": "display_data"
    },
    {
     "name": "stderr",
     "output_type": "stream",
     "text": [
      "steps: 100%|██████████| 51/51 [00:00<00:00, 276.61it/s]"
     ]
    },
    {
     "name": "stdout",
     "output_type": "stream",
     "text": [
      "\n",
      "epoch : 228, tr_loss:  0.329459, val_loss: 0.742, tr_acc: 79.75%, val_acc: 74.30%\n"
     ]
    },
    {
     "name": "stderr",
     "output_type": "stream",
     "text": [
      "\n"
     ]
    },
    {
     "data": {
      "application/vnd.jupyter.widget-view+json": {
       "model_id": "9ebd152df01f4dc8b665cf8f7e033686",
       "version_major": 2,
       "version_minor": 0
      },
      "text/plain": [
       "HBox(children=(HTML(value='steps'), FloatProgress(value=0.0, max=3006.0), HTML(value='')))"
      ]
     },
     "metadata": {},
     "output_type": "display_data"
    },
    {
     "name": "stderr",
     "output_type": "stream",
     "text": [
      "steps: 100%|██████████| 51/51 [00:00<00:00, 275.35it/s]"
     ]
    },
    {
     "name": "stdout",
     "output_type": "stream",
     "text": [
      "\n",
      "epoch : 229, tr_loss:  0.330285, val_loss: 0.663, tr_acc: 79.66%, val_acc: 74.45%\n"
     ]
    },
    {
     "name": "stderr",
     "output_type": "stream",
     "text": [
      "\n"
     ]
    },
    {
     "data": {
      "application/vnd.jupyter.widget-view+json": {
       "model_id": "92522eba22ae4b05ade72de5c4b0d524",
       "version_major": 2,
       "version_minor": 0
      },
      "text/plain": [
       "HBox(children=(HTML(value='steps'), FloatProgress(value=0.0, max=3006.0), HTML(value='')))"
      ]
     },
     "metadata": {},
     "output_type": "display_data"
    },
    {
     "name": "stderr",
     "output_type": "stream",
     "text": [
      "steps: 100%|██████████| 51/51 [00:00<00:00, 283.28it/s]\n"
     ]
    },
    {
     "name": "stdout",
     "output_type": "stream",
     "text": [
      "\r",
      "\r",
      "global_Step: 690000, tr_loss: 0.330166, val_loss: 0.679170\n"
     ]
    },
    {
     "name": "stderr",
     "output_type": "stream",
     "text": [
      "steps: 100%|██████████| 51/51 [00:00<00:00, 269.64it/s]"
     ]
    },
    {
     "name": "stdout",
     "output_type": "stream",
     "text": [
      "\n",
      "epoch : 230, tr_loss:  0.329923, val_loss: 0.677, tr_acc: 79.75%, val_acc: 74.33%\n"
     ]
    },
    {
     "name": "stderr",
     "output_type": "stream",
     "text": [
      "\n"
     ]
    },
    {
     "data": {
      "application/vnd.jupyter.widget-view+json": {
       "model_id": "ffd7136c5d9649a1a78cae1319c8a013",
       "version_major": 2,
       "version_minor": 0
      },
      "text/plain": [
       "HBox(children=(HTML(value='steps'), FloatProgress(value=0.0, max=3006.0), HTML(value='')))"
      ]
     },
     "metadata": {},
     "output_type": "display_data"
    },
    {
     "name": "stderr",
     "output_type": "stream",
     "text": [
      "steps: 100%|██████████| 51/51 [00:00<00:00, 267.08it/s]"
     ]
    },
    {
     "name": "stdout",
     "output_type": "stream",
     "text": [
      "\n",
      "epoch : 231, tr_loss:  0.328655, val_loss: 0.812, tr_acc: 79.77%, val_acc: 74.08%\n"
     ]
    },
    {
     "name": "stderr",
     "output_type": "stream",
     "text": [
      "\n"
     ]
    },
    {
     "data": {
      "application/vnd.jupyter.widget-view+json": {
       "model_id": "a31d6c1d64174800b960fb2714bcb496",
       "version_major": 2,
       "version_minor": 0
      },
      "text/plain": [
       "HBox(children=(HTML(value='steps'), FloatProgress(value=0.0, max=3006.0), HTML(value='')))"
      ]
     },
     "metadata": {},
     "output_type": "display_data"
    },
    {
     "name": "stderr",
     "output_type": "stream",
     "text": [
      "steps: 100%|██████████| 51/51 [00:00<00:00, 274.21it/s]"
     ]
    },
    {
     "name": "stdout",
     "output_type": "stream",
     "text": [
      "\n",
      "epoch : 232, tr_loss:  0.329535, val_loss: 0.701, tr_acc: 79.75%, val_acc: 74.36%\n"
     ]
    },
    {
     "name": "stderr",
     "output_type": "stream",
     "text": [
      "\n"
     ]
    },
    {
     "data": {
      "application/vnd.jupyter.widget-view+json": {
       "model_id": "374d14b941f84c45b35a98fedfafd5d8",
       "version_major": 2,
       "version_minor": 0
      },
      "text/plain": [
       "HBox(children=(HTML(value='steps'), FloatProgress(value=0.0, max=3006.0), HTML(value='')))"
      ]
     },
     "metadata": {},
     "output_type": "display_data"
    },
    {
     "name": "stderr",
     "output_type": "stream",
     "text": [
      "steps: 100%|██████████| 51/51 [00:00<00:00, 281.24it/s]\n"
     ]
    },
    {
     "name": "stdout",
     "output_type": "stream",
     "text": [
      "\r",
      "\r",
      "global_Step: 700000, tr_loss: 0.329684, val_loss: 0.696846\n"
     ]
    },
    {
     "name": "stderr",
     "output_type": "stream",
     "text": [
      "steps: 100%|██████████| 51/51 [00:00<00:00, 272.76it/s]"
     ]
    },
    {
     "name": "stdout",
     "output_type": "stream",
     "text": [
      "\n",
      "epoch : 233, tr_loss:  0.329181, val_loss: 0.682, tr_acc: 79.80%, val_acc: 74.57%\n"
     ]
    },
    {
     "name": "stderr",
     "output_type": "stream",
     "text": [
      "\n"
     ]
    },
    {
     "data": {
      "application/vnd.jupyter.widget-view+json": {
       "model_id": "48edefa47ef841509490a35ab60b41cb",
       "version_major": 2,
       "version_minor": 0
      },
      "text/plain": [
       "HBox(children=(HTML(value='steps'), FloatProgress(value=0.0, max=3006.0), HTML(value='')))"
      ]
     },
     "metadata": {},
     "output_type": "display_data"
    },
    {
     "name": "stderr",
     "output_type": "stream",
     "text": [
      "steps: 100%|██████████| 51/51 [00:00<00:00, 271.54it/s]"
     ]
    },
    {
     "name": "stdout",
     "output_type": "stream",
     "text": [
      "\n",
      "epoch : 234, tr_loss:  0.328158, val_loss: 0.707, tr_acc: 79.87%, val_acc: 74.51%\n"
     ]
    },
    {
     "name": "stderr",
     "output_type": "stream",
     "text": [
      "\n"
     ]
    },
    {
     "data": {
      "application/vnd.jupyter.widget-view+json": {
       "model_id": "5fec4cbca7f24b9f97690c5ca2ad444f",
       "version_major": 2,
       "version_minor": 0
      },
      "text/plain": [
       "HBox(children=(HTML(value='steps'), FloatProgress(value=0.0, max=3006.0), HTML(value='')))"
      ]
     },
     "metadata": {},
     "output_type": "display_data"
    },
    {
     "name": "stderr",
     "output_type": "stream",
     "text": [
      "steps: 100%|██████████| 51/51 [00:00<00:00, 276.10it/s]"
     ]
    },
    {
     "name": "stdout",
     "output_type": "stream",
     "text": [
      "\n",
      "epoch : 235, tr_loss:  0.329517, val_loss: 0.720, tr_acc: 79.75%, val_acc: 74.33%\n"
     ]
    },
    {
     "name": "stderr",
     "output_type": "stream",
     "text": [
      "\n"
     ]
    },
    {
     "data": {
      "application/vnd.jupyter.widget-view+json": {
       "model_id": "9f00d837f8be4befa5e34c96e3e0fbd5",
       "version_major": 2,
       "version_minor": 0
      },
      "text/plain": [
       "HBox(children=(HTML(value='steps'), FloatProgress(value=0.0, max=3006.0), HTML(value='')))"
      ]
     },
     "metadata": {},
     "output_type": "display_data"
    },
    {
     "name": "stderr",
     "output_type": "stream",
     "text": [
      "steps: 100%|██████████| 51/51 [00:00<00:00, 277.03it/s]"
     ]
    },
    {
     "name": "stdout",
     "output_type": "stream",
     "text": [
      "\n",
      "epoch : 236, tr_loss:  0.327406, val_loss: 0.722, tr_acc: 79.92%, val_acc: 74.42%\n"
     ]
    },
    {
     "name": "stderr",
     "output_type": "stream",
     "text": [
      "\n"
     ]
    },
    {
     "data": {
      "application/vnd.jupyter.widget-view+json": {
       "model_id": "f0939c1913004b9b898db110a14395c9",
       "version_major": 2,
       "version_minor": 0
      },
      "text/plain": [
       "HBox(children=(HTML(value='steps'), FloatProgress(value=0.0, max=3006.0), HTML(value='')))"
      ]
     },
     "metadata": {},
     "output_type": "display_data"
    },
    {
     "name": "stderr",
     "output_type": "stream",
     "text": [
      "steps: 100%|██████████| 51/51 [00:00<00:00, 279.75it/s]\n"
     ]
    },
    {
     "name": "stdout",
     "output_type": "stream",
     "text": [
      "\r",
      "\r",
      "global_Step: 710000, tr_loss: 0.328064, val_loss: 0.758359\n"
     ]
    },
    {
     "name": "stderr",
     "output_type": "stream",
     "text": [
      "steps: 100%|██████████| 51/51 [00:00<00:00, 246.22it/s]"
     ]
    },
    {
     "name": "stdout",
     "output_type": "stream",
     "text": [
      "\n"
     ]
    },
    {
     "name": "stderr",
     "output_type": "stream",
     "text": [
      "\r",
      "steps: 100%|██████████| 51/51 [00:00<00:00, 247.34it/s]"
     ]
    },
    {
     "name": "stdout",
     "output_type": "stream",
     "text": [
      "\r",
      "epoch : 237, tr_loss:  0.328518, val_loss: 0.729, tr_acc: 79.82%, val_acc: 74.48%\n"
     ]
    },
    {
     "name": "stderr",
     "output_type": "stream",
     "text": [
      "\n"
     ]
    },
    {
     "data": {
      "application/vnd.jupyter.widget-view+json": {
       "model_id": "f530d013ea87414c8787cc8ff38cc721",
       "version_major": 2,
       "version_minor": 0
      },
      "text/plain": [
       "HBox(children=(HTML(value='steps'), FloatProgress(value=0.0, max=3006.0), HTML(value='')))"
      ]
     },
     "metadata": {},
     "output_type": "display_data"
    },
    {
     "name": "stderr",
     "output_type": "stream",
     "text": [
      "steps: 100%|██████████| 51/51 [00:00<00:00, 275.58it/s]"
     ]
    },
    {
     "name": "stdout",
     "output_type": "stream",
     "text": [
      "\n",
      "epoch : 238, tr_loss:  0.326633, val_loss: 0.781, tr_acc: 79.95%, val_acc: 73.81%\n"
     ]
    },
    {
     "name": "stderr",
     "output_type": "stream",
     "text": [
      "\n"
     ]
    },
    {
     "data": {
      "application/vnd.jupyter.widget-view+json": {
       "model_id": "5b2bb0bf93eb482e9717cfb088e2b997",
       "version_major": 2,
       "version_minor": 0
      },
      "text/plain": [
       "HBox(children=(HTML(value='steps'), FloatProgress(value=0.0, max=3006.0), HTML(value='')))"
      ]
     },
     "metadata": {},
     "output_type": "display_data"
    },
    {
     "name": "stderr",
     "output_type": "stream",
     "text": [
      "steps: 100%|██████████| 51/51 [00:00<00:00, 279.21it/s]"
     ]
    },
    {
     "name": "stdout",
     "output_type": "stream",
     "text": [
      "\n",
      "epoch : 239, tr_loss:  0.326666, val_loss: 0.751, tr_acc: 79.92%, val_acc: 74.24%\n"
     ]
    },
    {
     "name": "stderr",
     "output_type": "stream",
     "text": [
      "\n"
     ]
    },
    {
     "data": {
      "application/vnd.jupyter.widget-view+json": {
       "model_id": "d47997eee3f144c48c4aecb56dd24f34",
       "version_major": 2,
       "version_minor": 0
      },
      "text/plain": [
       "HBox(children=(HTML(value='steps'), FloatProgress(value=0.0, max=3006.0), HTML(value='')))"
      ]
     },
     "metadata": {},
     "output_type": "display_data"
    },
    {
     "name": "stderr",
     "output_type": "stream",
     "text": [
      "steps: 100%|██████████| 51/51 [00:00<00:00, 281.08it/s]\n"
     ]
    },
    {
     "name": "stdout",
     "output_type": "stream",
     "text": [
      "\r",
      "\r",
      "global_Step: 720000, tr_loss: 0.324652, val_loss: 0.771225\n"
     ]
    },
    {
     "name": "stderr",
     "output_type": "stream",
     "text": [
      "steps: 100%|██████████| 51/51 [00:00<00:00, 262.89it/s]"
     ]
    },
    {
     "name": "stdout",
     "output_type": "stream",
     "text": [
      "\n",
      "epoch : 240, tr_loss:  0.326479, val_loss: 0.700, tr_acc: 79.90%, val_acc: 74.14%\n"
     ]
    },
    {
     "name": "stderr",
     "output_type": "stream",
     "text": [
      "\n"
     ]
    },
    {
     "data": {
      "application/vnd.jupyter.widget-view+json": {
       "model_id": "6cbe8a4df10343339112f45f7cbd9c23",
       "version_major": 2,
       "version_minor": 0
      },
      "text/plain": [
       "HBox(children=(HTML(value='steps'), FloatProgress(value=0.0, max=3006.0), HTML(value='')))"
      ]
     },
     "metadata": {},
     "output_type": "display_data"
    },
    {
     "name": "stderr",
     "output_type": "stream",
     "text": [
      "steps: 100%|██████████| 51/51 [00:00<00:00, 271.32it/s]"
     ]
    },
    {
     "name": "stdout",
     "output_type": "stream",
     "text": [
      "\n",
      "epoch : 241, tr_loss:  0.326233, val_loss: 0.754, tr_acc: 80.01%, val_acc: 74.24%\n"
     ]
    },
    {
     "name": "stderr",
     "output_type": "stream",
     "text": [
      "\n"
     ]
    },
    {
     "data": {
      "application/vnd.jupyter.widget-view+json": {
       "model_id": "b86bc15911d948c482a9aadb0646ba6a",
       "version_major": 2,
       "version_minor": 0
      },
      "text/plain": [
       "HBox(children=(HTML(value='steps'), FloatProgress(value=0.0, max=3006.0), HTML(value='')))"
      ]
     },
     "metadata": {},
     "output_type": "display_data"
    },
    {
     "name": "stderr",
     "output_type": "stream",
     "text": [
      "steps: 100%|██████████| 51/51 [00:00<00:00, 270.29it/s]"
     ]
    },
    {
     "name": "stdout",
     "output_type": "stream",
     "text": [
      "\n",
      "epoch : 242, tr_loss:  0.325728, val_loss: 0.761, tr_acc: 80.00%, val_acc: 74.11%\n"
     ]
    },
    {
     "name": "stderr",
     "output_type": "stream",
     "text": [
      "\n"
     ]
    },
    {
     "data": {
      "application/vnd.jupyter.widget-view+json": {
       "model_id": "91f5325333b54f65883a929bc58e4502",
       "version_major": 2,
       "version_minor": 0
      },
      "text/plain": [
       "HBox(children=(HTML(value='steps'), FloatProgress(value=0.0, max=3006.0), HTML(value='')))"
      ]
     },
     "metadata": {},
     "output_type": "display_data"
    },
    {
     "name": "stderr",
     "output_type": "stream",
     "text": [
      "steps: 100%|██████████| 51/51 [00:00<00:00, 284.54it/s]\n"
     ]
    },
    {
     "name": "stdout",
     "output_type": "stream",
     "text": [
      "\r",
      "\r",
      "global_Step: 730000, tr_loss: 0.324510, val_loss: 0.772211\n"
     ]
    },
    {
     "name": "stderr",
     "output_type": "stream",
     "text": [
      "steps: 100%|██████████| 51/51 [00:00<00:00, 270.73it/s]"
     ]
    },
    {
     "name": "stdout",
     "output_type": "stream",
     "text": [
      "\n",
      "epoch : 243, tr_loss:  0.324706, val_loss: 0.779, tr_acc: 80.05%, val_acc: 74.27%\n"
     ]
    },
    {
     "name": "stderr",
     "output_type": "stream",
     "text": [
      "\n"
     ]
    },
    {
     "data": {
      "application/vnd.jupyter.widget-view+json": {
       "model_id": "a4d2db6975c84126b0e94cd0bb5f7c56",
       "version_major": 2,
       "version_minor": 0
      },
      "text/plain": [
       "HBox(children=(HTML(value='steps'), FloatProgress(value=0.0, max=3006.0), HTML(value='')))"
      ]
     },
     "metadata": {},
     "output_type": "display_data"
    },
    {
     "name": "stderr",
     "output_type": "stream",
     "text": [
      "steps: 100%|██████████| 51/51 [00:00<00:00, 273.18it/s]"
     ]
    },
    {
     "name": "stdout",
     "output_type": "stream",
     "text": [
      "\n",
      "epoch : 244, tr_loss:  0.325190, val_loss: 0.782, tr_acc: 80.08%, val_acc: 74.24%\n"
     ]
    },
    {
     "name": "stderr",
     "output_type": "stream",
     "text": [
      "\n"
     ]
    },
    {
     "data": {
      "application/vnd.jupyter.widget-view+json": {
       "model_id": "664d0b773e6247adab4f200453c96fc7",
       "version_major": 2,
       "version_minor": 0
      },
      "text/plain": [
       "HBox(children=(HTML(value='steps'), FloatProgress(value=0.0, max=3006.0), HTML(value='')))"
      ]
     },
     "metadata": {},
     "output_type": "display_data"
    },
    {
     "name": "stderr",
     "output_type": "stream",
     "text": [
      "steps: 100%|██████████| 51/51 [00:00<00:00, 274.05it/s]"
     ]
    },
    {
     "name": "stdout",
     "output_type": "stream",
     "text": [
      "\n",
      "epoch : 245, tr_loss:  0.325286, val_loss: 0.730, tr_acc: 80.05%, val_acc: 74.33%\n"
     ]
    },
    {
     "name": "stderr",
     "output_type": "stream",
     "text": [
      "\n"
     ]
    },
    {
     "data": {
      "application/vnd.jupyter.widget-view+json": {
       "model_id": "572aacaaab4044afbff1e5d1e0624342",
       "version_major": 2,
       "version_minor": 0
      },
      "text/plain": [
       "HBox(children=(HTML(value='steps'), FloatProgress(value=0.0, max=3006.0), HTML(value='')))"
      ]
     },
     "metadata": {},
     "output_type": "display_data"
    },
    {
     "name": "stderr",
     "output_type": "stream",
     "text": [
      "steps: 100%|██████████| 51/51 [00:00<00:00, 258.72it/s]"
     ]
    },
    {
     "name": "stdout",
     "output_type": "stream",
     "text": [
      "\n",
      "epoch : 246, tr_loss:  0.323678, val_loss: 0.808, tr_acc: 80.17%, val_acc: 73.84%\n"
     ]
    },
    {
     "name": "stderr",
     "output_type": "stream",
     "text": [
      "\n"
     ]
    },
    {
     "data": {
      "application/vnd.jupyter.widget-view+json": {
       "model_id": "48cb006e96ed4eb982befc31cc88ee5c",
       "version_major": 2,
       "version_minor": 0
      },
      "text/plain": [
       "HBox(children=(HTML(value='steps'), FloatProgress(value=0.0, max=3006.0), HTML(value='')))"
      ]
     },
     "metadata": {},
     "output_type": "display_data"
    },
    {
     "name": "stderr",
     "output_type": "stream",
     "text": [
      "steps: 100%|██████████| 51/51 [00:00<00:00, 276.04it/s]\n"
     ]
    },
    {
     "name": "stdout",
     "output_type": "stream",
     "text": [
      "\r",
      "\r",
      "global_Step: 740000, tr_loss: 0.318622, val_loss: 0.773501\n"
     ]
    },
    {
     "name": "stderr",
     "output_type": "stream",
     "text": [
      "steps: 100%|██████████| 51/51 [00:00<00:00, 274.19it/s]"
     ]
    },
    {
     "name": "stdout",
     "output_type": "stream",
     "text": [
      "\n",
      "epoch : 247, tr_loss:  0.324797, val_loss: 0.795, tr_acc: 80.11%, val_acc: 74.02%\n"
     ]
    },
    {
     "name": "stderr",
     "output_type": "stream",
     "text": [
      "\n"
     ]
    },
    {
     "data": {
      "application/vnd.jupyter.widget-view+json": {
       "model_id": "dcfd846729114fc4bedcbdce5a00aa77",
       "version_major": 2,
       "version_minor": 0
      },
      "text/plain": [
       "HBox(children=(HTML(value='steps'), FloatProgress(value=0.0, max=3006.0), HTML(value='')))"
      ]
     },
     "metadata": {},
     "output_type": "display_data"
    },
    {
     "name": "stderr",
     "output_type": "stream",
     "text": [
      "steps: 100%|██████████| 51/51 [00:00<00:00, 268.53it/s]"
     ]
    },
    {
     "name": "stdout",
     "output_type": "stream",
     "text": [
      "\n",
      "epoch : 248, tr_loss:  0.323515, val_loss: 0.838, tr_acc: 80.18%, val_acc: 73.87%\n"
     ]
    },
    {
     "name": "stderr",
     "output_type": "stream",
     "text": [
      "\n"
     ]
    },
    {
     "data": {
      "application/vnd.jupyter.widget-view+json": {
       "model_id": "a8098247336a46dba33c6e1e4a9297db",
       "version_major": 2,
       "version_minor": 0
      },
      "text/plain": [
       "HBox(children=(HTML(value='steps'), FloatProgress(value=0.0, max=3006.0), HTML(value='')))"
      ]
     },
     "metadata": {},
     "output_type": "display_data"
    },
    {
     "name": "stderr",
     "output_type": "stream",
     "text": [
      "steps: 100%|██████████| 51/51 [00:00<00:00, 274.06it/s]"
     ]
    },
    {
     "name": "stdout",
     "output_type": "stream",
     "text": [
      "\n",
      "epoch : 249, tr_loss:  0.323735, val_loss: 0.723, tr_acc: 80.13%, val_acc: 74.30%\n"
     ]
    },
    {
     "name": "stderr",
     "output_type": "stream",
     "text": [
      "\n"
     ]
    },
    {
     "data": {
      "application/vnd.jupyter.widget-view+json": {
       "model_id": "3928793962714a10995b4ae96428fa21",
       "version_major": 2,
       "version_minor": 0
      },
      "text/plain": [
       "HBox(children=(HTML(value='steps'), FloatProgress(value=0.0, max=3006.0), HTML(value='')))"
      ]
     },
     "metadata": {},
     "output_type": "display_data"
    },
    {
     "name": "stderr",
     "output_type": "stream",
     "text": [
      "steps: 100%|██████████| 51/51 [00:00<00:00, 284.55it/s]\n"
     ]
    },
    {
     "name": "stdout",
     "output_type": "stream",
     "text": [
      "\r",
      "\r",
      "global_Step: 750000, tr_loss: 0.326209, val_loss: 0.764192\n"
     ]
    },
    {
     "name": "stderr",
     "output_type": "stream",
     "text": [
      "steps: 100%|██████████| 51/51 [00:00<00:00, 270.88it/s]"
     ]
    },
    {
     "name": "stdout",
     "output_type": "stream",
     "text": [
      "\n",
      "epoch : 250, tr_loss:  0.324649, val_loss: 0.727, tr_acc: 80.06%, val_acc: 74.63%\n"
     ]
    },
    {
     "name": "stderr",
     "output_type": "stream",
     "text": [
      "\n"
     ]
    },
    {
     "data": {
      "application/vnd.jupyter.widget-view+json": {
       "model_id": "dd88f81ab4c0479496fbf1607d3442c5",
       "version_major": 2,
       "version_minor": 0
      },
      "text/plain": [
       "HBox(children=(HTML(value='steps'), FloatProgress(value=0.0, max=3006.0), HTML(value='')))"
      ]
     },
     "metadata": {},
     "output_type": "display_data"
    },
    {
     "name": "stderr",
     "output_type": "stream",
     "text": [
      "steps: 100%|██████████| 51/51 [00:00<00:00, 277.09it/s]"
     ]
    },
    {
     "name": "stdout",
     "output_type": "stream",
     "text": [
      "\n",
      "\r",
      "epoch : 251, tr_loss:  0.322939, val_loss: 0.769, tr_acc: 80.20%, val_acc: 74.36%\n"
     ]
    },
    {
     "name": "stderr",
     "output_type": "stream",
     "text": [
      "\n"
     ]
    },
    {
     "data": {
      "application/vnd.jupyter.widget-view+json": {
       "model_id": "5657465cc49241068f8dc66e2ca8b8a4",
       "version_major": 2,
       "version_minor": 0
      },
      "text/plain": [
       "HBox(children=(HTML(value='steps'), FloatProgress(value=0.0, max=3006.0), HTML(value='')))"
      ]
     },
     "metadata": {},
     "output_type": "display_data"
    },
    {
     "name": "stderr",
     "output_type": "stream",
     "text": [
      "steps: 100%|██████████| 51/51 [00:00<00:00, 268.22it/s]"
     ]
    },
    {
     "name": "stdout",
     "output_type": "stream",
     "text": [
      "\n",
      "epoch : 252, tr_loss:  0.324677, val_loss: 0.773, tr_acc: 80.14%, val_acc: 74.24%\n"
     ]
    },
    {
     "name": "stderr",
     "output_type": "stream",
     "text": [
      "\n"
     ]
    },
    {
     "data": {
      "application/vnd.jupyter.widget-view+json": {
       "model_id": "87897c979d234824895ad1c9da571f05",
       "version_major": 2,
       "version_minor": 0
      },
      "text/plain": [
       "HBox(children=(HTML(value='steps'), FloatProgress(value=0.0, max=3006.0), HTML(value='')))"
      ]
     },
     "metadata": {},
     "output_type": "display_data"
    },
    {
     "name": "stderr",
     "output_type": "stream",
     "text": [
      "steps: 100%|██████████| 51/51 [00:00<00:00, 271.08it/s]\n"
     ]
    },
    {
     "name": "stdout",
     "output_type": "stream",
     "text": [
      "\r",
      "\r",
      "global_Step: 760000, tr_loss: 0.321537, val_loss: 0.746415\n"
     ]
    },
    {
     "name": "stderr",
     "output_type": "stream",
     "text": [
      "steps: 100%|██████████| 51/51 [00:00<00:00, 276.17it/s]"
     ]
    },
    {
     "name": "stdout",
     "output_type": "stream",
     "text": [
      "\n",
      "epoch : 253, tr_loss:  0.322030, val_loss: 0.768, tr_acc: 80.24%, val_acc: 74.02%\n"
     ]
    },
    {
     "name": "stderr",
     "output_type": "stream",
     "text": [
      "\n"
     ]
    },
    {
     "data": {
      "application/vnd.jupyter.widget-view+json": {
       "model_id": "7a6fe75038174447b81aef7cb6dc0125",
       "version_major": 2,
       "version_minor": 0
      },
      "text/plain": [
       "HBox(children=(HTML(value='steps'), FloatProgress(value=0.0, max=3006.0), HTML(value='')))"
      ]
     },
     "metadata": {},
     "output_type": "display_data"
    },
    {
     "name": "stderr",
     "output_type": "stream",
     "text": [
      "steps: 100%|██████████| 51/51 [00:00<00:00, 271.71it/s]"
     ]
    },
    {
     "name": "stdout",
     "output_type": "stream",
     "text": [
      "\n",
      "epoch : 254, tr_loss:  0.322140, val_loss: 0.726, tr_acc: 80.22%, val_acc: 74.39%\n"
     ]
    },
    {
     "name": "stderr",
     "output_type": "stream",
     "text": [
      "\n"
     ]
    },
    {
     "data": {
      "application/vnd.jupyter.widget-view+json": {
       "model_id": "5019136b80e642e0abfb93af9b2a3eef",
       "version_major": 2,
       "version_minor": 0
      },
      "text/plain": [
       "HBox(children=(HTML(value='steps'), FloatProgress(value=0.0, max=3006.0), HTML(value='')))"
      ]
     },
     "metadata": {},
     "output_type": "display_data"
    },
    {
     "name": "stderr",
     "output_type": "stream",
     "text": [
      "steps: 100%|██████████| 51/51 [00:00<00:00, 274.98it/s]"
     ]
    },
    {
     "name": "stdout",
     "output_type": "stream",
     "text": [
      "\n",
      "epoch : 255, tr_loss:  0.321816, val_loss: 0.787, tr_acc: 80.29%, val_acc: 74.14%\n"
     ]
    },
    {
     "name": "stderr",
     "output_type": "stream",
     "text": [
      "\n"
     ]
    },
    {
     "data": {
      "application/vnd.jupyter.widget-view+json": {
       "model_id": "30cb0d7a9cac48b19ec93d54c39e1fcf",
       "version_major": 2,
       "version_minor": 0
      },
      "text/plain": [
       "HBox(children=(HTML(value='steps'), FloatProgress(value=0.0, max=3006.0), HTML(value='')))"
      ]
     },
     "metadata": {},
     "output_type": "display_data"
    },
    {
     "name": "stderr",
     "output_type": "stream",
     "text": [
      "steps: 100%|██████████| 51/51 [00:00<00:00, 264.16it/s]"
     ]
    },
    {
     "name": "stdout",
     "output_type": "stream",
     "text": [
      "\n",
      "epoch : 256, tr_loss:  0.321878, val_loss: 0.834, tr_acc: 80.24%, val_acc: 74.36%\n"
     ]
    },
    {
     "name": "stderr",
     "output_type": "stream",
     "text": [
      "\n"
     ]
    },
    {
     "data": {
      "application/vnd.jupyter.widget-view+json": {
       "model_id": "8bd1e043a0034abc822109d8139ba737",
       "version_major": 2,
       "version_minor": 0
      },
      "text/plain": [
       "HBox(children=(HTML(value='steps'), FloatProgress(value=0.0, max=3006.0), HTML(value='')))"
      ]
     },
     "metadata": {},
     "output_type": "display_data"
    },
    {
     "name": "stderr",
     "output_type": "stream",
     "text": [
      "steps: 100%|██████████| 51/51 [00:00<00:00, 285.41it/s]\n"
     ]
    },
    {
     "name": "stdout",
     "output_type": "stream",
     "text": [
      "\r",
      "\r",
      "global_Step: 770000, tr_loss: 0.320681, val_loss: 0.816831\n"
     ]
    },
    {
     "name": "stderr",
     "output_type": "stream",
     "text": [
      "steps: 100%|██████████| 51/51 [00:00<00:00, 274.01it/s]"
     ]
    },
    {
     "name": "stdout",
     "output_type": "stream",
     "text": [
      "\n",
      "epoch : 257, tr_loss:  0.321232, val_loss: 0.794, tr_acc: 80.31%, val_acc: 74.17%\n"
     ]
    },
    {
     "name": "stderr",
     "output_type": "stream",
     "text": [
      "\n"
     ]
    },
    {
     "data": {
      "application/vnd.jupyter.widget-view+json": {
       "model_id": "e5bdcba3176b4ad2b87050415a952e88",
       "version_major": 2,
       "version_minor": 0
      },
      "text/plain": [
       "HBox(children=(HTML(value='steps'), FloatProgress(value=0.0, max=3006.0), HTML(value='')))"
      ]
     },
     "metadata": {},
     "output_type": "display_data"
    },
    {
     "name": "stderr",
     "output_type": "stream",
     "text": [
      "steps: 100%|██████████| 51/51 [00:00<00:00, 271.10it/s]"
     ]
    },
    {
     "name": "stdout",
     "output_type": "stream",
     "text": [
      "\n",
      "epoch : 258, tr_loss:  0.321157, val_loss: 0.859, tr_acc: 80.27%, val_acc: 73.78%\n"
     ]
    },
    {
     "name": "stderr",
     "output_type": "stream",
     "text": [
      "\n"
     ]
    },
    {
     "data": {
      "application/vnd.jupyter.widget-view+json": {
       "model_id": "1c70ec684aa640adb6e274050f51c1f5",
       "version_major": 2,
       "version_minor": 0
      },
      "text/plain": [
       "HBox(children=(HTML(value='steps'), FloatProgress(value=0.0, max=3006.0), HTML(value='')))"
      ]
     },
     "metadata": {},
     "output_type": "display_data"
    },
    {
     "name": "stderr",
     "output_type": "stream",
     "text": [
      "steps: 100%|██████████| 51/51 [00:00<00:00, 271.73it/s]"
     ]
    },
    {
     "name": "stdout",
     "output_type": "stream",
     "text": [
      "\n",
      "epoch : 259, tr_loss:  0.319932, val_loss: 0.801, tr_acc: 80.37%, val_acc: 74.42%\n"
     ]
    },
    {
     "name": "stderr",
     "output_type": "stream",
     "text": [
      "\n"
     ]
    },
    {
     "data": {
      "application/vnd.jupyter.widget-view+json": {
       "model_id": "dd3fa02f4513436fbe1d818e3a6eb53d",
       "version_major": 2,
       "version_minor": 0
      },
      "text/plain": [
       "HBox(children=(HTML(value='steps'), FloatProgress(value=0.0, max=3006.0), HTML(value='')))"
      ]
     },
     "metadata": {},
     "output_type": "display_data"
    },
    {
     "name": "stderr",
     "output_type": "stream",
     "text": [
      "steps: 100%|██████████| 51/51 [00:00<00:00, 284.93it/s]\n"
     ]
    },
    {
     "name": "stdout",
     "output_type": "stream",
     "text": [
      "\r",
      "\r",
      "global_Step: 780000, tr_loss: 0.324102, val_loss: 0.811051\n"
     ]
    },
    {
     "name": "stderr",
     "output_type": "stream",
     "text": [
      "steps: 100%|██████████| 51/51 [00:00<00:00, 270.71it/s]"
     ]
    },
    {
     "name": "stdout",
     "output_type": "stream",
     "text": [
      "\n",
      "epoch : 260, tr_loss:  0.321128, val_loss: 0.764, tr_acc: 80.32%, val_acc: 74.42%\n"
     ]
    },
    {
     "name": "stderr",
     "output_type": "stream",
     "text": [
      "\n"
     ]
    },
    {
     "data": {
      "application/vnd.jupyter.widget-view+json": {
       "model_id": "632f19b84ef64d7aa9e542923ad3d9c2",
       "version_major": 2,
       "version_minor": 0
      },
      "text/plain": [
       "HBox(children=(HTML(value='steps'), FloatProgress(value=0.0, max=3006.0), HTML(value='')))"
      ]
     },
     "metadata": {},
     "output_type": "display_data"
    },
    {
     "name": "stderr",
     "output_type": "stream",
     "text": [
      "steps: 100%|██████████| 51/51 [00:00<00:00, 265.34it/s]"
     ]
    },
    {
     "name": "stdout",
     "output_type": "stream",
     "text": [
      "\n",
      "epoch : 261, tr_loss:  0.319988, val_loss: 0.815, tr_acc: 80.37%, val_acc: 73.99%\n"
     ]
    },
    {
     "name": "stderr",
     "output_type": "stream",
     "text": [
      "\n"
     ]
    },
    {
     "data": {
      "application/vnd.jupyter.widget-view+json": {
       "model_id": "bd3f1b8f49dd47a1bad11cabde271cfb",
       "version_major": 2,
       "version_minor": 0
      },
      "text/plain": [
       "HBox(children=(HTML(value='steps'), FloatProgress(value=0.0, max=3006.0), HTML(value='')))"
      ]
     },
     "metadata": {},
     "output_type": "display_data"
    },
    {
     "name": "stderr",
     "output_type": "stream",
     "text": [
      "steps: 100%|██████████| 51/51 [00:00<00:00, 274.68it/s]"
     ]
    },
    {
     "name": "stdout",
     "output_type": "stream",
     "text": [
      "\n",
      "epoch : 262, tr_loss:  0.320001, val_loss: 0.852, tr_acc: 80.38%, val_acc: 74.14%\n"
     ]
    },
    {
     "name": "stderr",
     "output_type": "stream",
     "text": [
      "\n"
     ]
    },
    {
     "data": {
      "application/vnd.jupyter.widget-view+json": {
       "model_id": "12dadd9796fd4571960dd59de9591f70",
       "version_major": 2,
       "version_minor": 0
      },
      "text/plain": [
       "HBox(children=(HTML(value='steps'), FloatProgress(value=0.0, max=3006.0), HTML(value='')))"
      ]
     },
     "metadata": {},
     "output_type": "display_data"
    },
    {
     "name": "stderr",
     "output_type": "stream",
     "text": [
      "steps: 100%|██████████| 51/51 [00:00<00:00, 281.84it/s]\n"
     ]
    },
    {
     "name": "stdout",
     "output_type": "stream",
     "text": [
      "\r",
      "\r",
      "global_Step: 790000, tr_loss: 0.318789, val_loss: 0.832006\n"
     ]
    },
    {
     "name": "stderr",
     "output_type": "stream",
     "text": [
      "steps:  55%|█████▍    | 28/51 [00:00<00:00, 276.57it/s]"
     ]
    },
    {
     "name": "stdout",
     "output_type": "stream",
     "text": [
      "\n"
     ]
    },
    {
     "name": "stderr",
     "output_type": "stream",
     "text": [
      "\r",
      "steps: 100%|██████████| 51/51 [00:00<00:00, 272.13it/s]"
     ]
    },
    {
     "name": "stdout",
     "output_type": "stream",
     "text": [
      "\r",
      "epoch : 263, tr_loss:  0.319586, val_loss: 0.796, tr_acc: 80.41%, val_acc: 74.27%\n"
     ]
    },
    {
     "name": "stderr",
     "output_type": "stream",
     "text": [
      "\n"
     ]
    },
    {
     "data": {
      "application/vnd.jupyter.widget-view+json": {
       "model_id": "1b4761a91b034bd28c579eefce8b5042",
       "version_major": 2,
       "version_minor": 0
      },
      "text/plain": [
       "HBox(children=(HTML(value='steps'), FloatProgress(value=0.0, max=3006.0), HTML(value='')))"
      ]
     },
     "metadata": {},
     "output_type": "display_data"
    },
    {
     "name": "stderr",
     "output_type": "stream",
     "text": [
      "steps: 100%|██████████| 51/51 [00:00<00:00, 273.07it/s]"
     ]
    },
    {
     "name": "stdout",
     "output_type": "stream",
     "text": [
      "\n",
      "epoch : 264, tr_loss:  0.318476, val_loss: 0.670, tr_acc: 80.43%, val_acc: 74.05%\n"
     ]
    },
    {
     "name": "stderr",
     "output_type": "stream",
     "text": [
      "\n"
     ]
    },
    {
     "data": {
      "application/vnd.jupyter.widget-view+json": {
       "model_id": "bdf33821651b4ca9afac84c62d9649da",
       "version_major": 2,
       "version_minor": 0
      },
      "text/plain": [
       "HBox(children=(HTML(value='steps'), FloatProgress(value=0.0, max=3006.0), HTML(value='')))"
      ]
     },
     "metadata": {},
     "output_type": "display_data"
    },
    {
     "name": "stderr",
     "output_type": "stream",
     "text": [
      "steps: 100%|██████████| 51/51 [00:00<00:00, 273.10it/s]"
     ]
    },
    {
     "name": "stdout",
     "output_type": "stream",
     "text": [
      "\n",
      "epoch : 265, tr_loss:  0.319343, val_loss: 0.867, tr_acc: 80.51%, val_acc: 74.11%\n"
     ]
    },
    {
     "name": "stderr",
     "output_type": "stream",
     "text": [
      "\n"
     ]
    },
    {
     "data": {
      "application/vnd.jupyter.widget-view+json": {
       "model_id": "d74d270c03144aafbad466ddbb91a284",
       "version_major": 2,
       "version_minor": 0
      },
      "text/plain": [
       "HBox(children=(HTML(value='steps'), FloatProgress(value=0.0, max=3006.0), HTML(value='')))"
      ]
     },
     "metadata": {},
     "output_type": "display_data"
    },
    {
     "name": "stderr",
     "output_type": "stream",
     "text": [
      "steps: 100%|██████████| 51/51 [00:00<00:00, 273.00it/s]"
     ]
    },
    {
     "name": "stdout",
     "output_type": "stream",
     "text": [
      "\n",
      "epoch : 266, tr_loss:  0.320379, val_loss: 0.801, tr_acc: 80.37%, val_acc: 74.11%\n"
     ]
    },
    {
     "name": "stderr",
     "output_type": "stream",
     "text": [
      "\n"
     ]
    },
    {
     "data": {
      "application/vnd.jupyter.widget-view+json": {
       "model_id": "ea805430f9e04d03a1a1d6b03273fd9b",
       "version_major": 2,
       "version_minor": 0
      },
      "text/plain": [
       "HBox(children=(HTML(value='steps'), FloatProgress(value=0.0, max=3006.0), HTML(value='')))"
      ]
     },
     "metadata": {},
     "output_type": "display_data"
    },
    {
     "name": "stderr",
     "output_type": "stream",
     "text": [
      "steps: 100%|██████████| 51/51 [00:00<00:00, 283.31it/s]\n"
     ]
    },
    {
     "name": "stdout",
     "output_type": "stream",
     "text": [
      "\r",
      "\r",
      "global_Step: 800000, tr_loss: 0.313500, val_loss: 0.838483\n"
     ]
    },
    {
     "name": "stderr",
     "output_type": "stream",
     "text": [
      "steps:  55%|█████▍    | 28/51 [00:00<00:00, 272.16it/s]"
     ]
    },
    {
     "name": "stdout",
     "output_type": "stream",
     "text": [
      "\n"
     ]
    },
    {
     "name": "stderr",
     "output_type": "stream",
     "text": [
      "\r",
      "steps: 100%|██████████| 51/51 [00:00<00:00, 268.99it/s]"
     ]
    },
    {
     "name": "stdout",
     "output_type": "stream",
     "text": [
      "\r",
      "epoch : 267, tr_loss:  0.318767, val_loss: 0.788, tr_acc: 80.49%, val_acc: 74.14%\n"
     ]
    },
    {
     "name": "stderr",
     "output_type": "stream",
     "text": [
      "\n"
     ]
    },
    {
     "data": {
      "application/vnd.jupyter.widget-view+json": {
       "model_id": "28941bab0ee04ebdb8f889c2dcc5d9ed",
       "version_major": 2,
       "version_minor": 0
      },
      "text/plain": [
       "HBox(children=(HTML(value='steps'), FloatProgress(value=0.0, max=3006.0), HTML(value='')))"
      ]
     },
     "metadata": {},
     "output_type": "display_data"
    },
    {
     "name": "stderr",
     "output_type": "stream",
     "text": [
      "steps: 100%|██████████| 51/51 [00:00<00:00, 274.11it/s]"
     ]
    },
    {
     "name": "stdout",
     "output_type": "stream",
     "text": [
      "\n",
      "epoch : 268, tr_loss:  0.319287, val_loss: 0.777, tr_acc: 80.45%, val_acc: 73.78%\n"
     ]
    },
    {
     "name": "stderr",
     "output_type": "stream",
     "text": [
      "\n"
     ]
    },
    {
     "data": {
      "application/vnd.jupyter.widget-view+json": {
       "model_id": "ce121bcbe4324acbbadca00443c0145e",
       "version_major": 2,
       "version_minor": 0
      },
      "text/plain": [
       "HBox(children=(HTML(value='steps'), FloatProgress(value=0.0, max=3006.0), HTML(value='')))"
      ]
     },
     "metadata": {},
     "output_type": "display_data"
    },
    {
     "name": "stderr",
     "output_type": "stream",
     "text": [
      "steps: 100%|██████████| 51/51 [00:00<00:00, 269.58it/s]"
     ]
    },
    {
     "name": "stdout",
     "output_type": "stream",
     "text": [
      "\n",
      "epoch : 269, tr_loss:  0.316245, val_loss: 0.832, tr_acc: 80.61%, val_acc: 74.14%\n"
     ]
    },
    {
     "name": "stderr",
     "output_type": "stream",
     "text": [
      "\n"
     ]
    },
    {
     "data": {
      "application/vnd.jupyter.widget-view+json": {
       "model_id": "b82e6255b65347099018bc92c8974c7a",
       "version_major": 2,
       "version_minor": 0
      },
      "text/plain": [
       "HBox(children=(HTML(value='steps'), FloatProgress(value=0.0, max=3006.0), HTML(value='')))"
      ]
     },
     "metadata": {},
     "output_type": "display_data"
    },
    {
     "name": "stderr",
     "output_type": "stream",
     "text": [
      "steps: 100%|██████████| 51/51 [00:00<00:00, 280.24it/s]\n"
     ]
    },
    {
     "name": "stdout",
     "output_type": "stream",
     "text": [
      "\r",
      "\r",
      "global_Step: 810000, tr_loss: 0.320812, val_loss: 0.856818\n"
     ]
    },
    {
     "name": "stderr",
     "output_type": "stream",
     "text": [
      "steps: 100%|██████████| 51/51 [00:00<00:00, 270.95it/s]"
     ]
    },
    {
     "name": "stdout",
     "output_type": "stream",
     "text": [
      "\n",
      "epoch : 270, tr_loss:  0.319124, val_loss: 0.824, tr_acc: 80.39%, val_acc: 74.08%\n"
     ]
    },
    {
     "name": "stderr",
     "output_type": "stream",
     "text": [
      "\n"
     ]
    },
    {
     "data": {
      "application/vnd.jupyter.widget-view+json": {
       "model_id": "e216d673132c4149a4e853916e4a4785",
       "version_major": 2,
       "version_minor": 0
      },
      "text/plain": [
       "HBox(children=(HTML(value='steps'), FloatProgress(value=0.0, max=3006.0), HTML(value='')))"
      ]
     },
     "metadata": {},
     "output_type": "display_data"
    },
    {
     "name": "stderr",
     "output_type": "stream",
     "text": [
      "steps: 100%|██████████| 51/51 [00:00<00:00, 273.88it/s]"
     ]
    },
    {
     "name": "stdout",
     "output_type": "stream",
     "text": [
      "\n",
      "epoch : 271, tr_loss:  0.318551, val_loss: 0.877, tr_acc: 80.52%, val_acc: 73.84%\n"
     ]
    },
    {
     "name": "stderr",
     "output_type": "stream",
     "text": [
      "\n"
     ]
    },
    {
     "data": {
      "application/vnd.jupyter.widget-view+json": {
       "model_id": "e97d4ccb8d8d4923b09b5afece13445e",
       "version_major": 2,
       "version_minor": 0
      },
      "text/plain": [
       "HBox(children=(HTML(value='steps'), FloatProgress(value=0.0, max=3006.0), HTML(value='')))"
      ]
     },
     "metadata": {},
     "output_type": "display_data"
    },
    {
     "name": "stderr",
     "output_type": "stream",
     "text": [
      "steps: 100%|██████████| 51/51 [00:00<00:00, 277.23it/s]"
     ]
    },
    {
     "name": "stdout",
     "output_type": "stream",
     "text": [
      "\n",
      "epoch : 272, tr_loss:  0.317491, val_loss: 0.833, tr_acc: 80.53%, val_acc: 73.78%\n"
     ]
    },
    {
     "name": "stderr",
     "output_type": "stream",
     "text": [
      "\n"
     ]
    },
    {
     "data": {
      "application/vnd.jupyter.widget-view+json": {
       "model_id": "acde9d82c42b41d3a39cb9e108582a97",
       "version_major": 2,
       "version_minor": 0
      },
      "text/plain": [
       "HBox(children=(HTML(value='steps'), FloatProgress(value=0.0, max=3006.0), HTML(value='')))"
      ]
     },
     "metadata": {},
     "output_type": "display_data"
    },
    {
     "name": "stderr",
     "output_type": "stream",
     "text": [
      "steps: 100%|██████████| 51/51 [00:00<00:00, 284.76it/s]\n"
     ]
    },
    {
     "name": "stdout",
     "output_type": "stream",
     "text": [
      "\r",
      "\r",
      "global_Step: 820000, tr_loss: 0.315684, val_loss: 0.872082\n"
     ]
    },
    {
     "name": "stderr",
     "output_type": "stream",
     "text": [
      "steps: 100%|██████████| 51/51 [00:00<00:00, 271.31it/s]"
     ]
    },
    {
     "name": "stdout",
     "output_type": "stream",
     "text": [
      "\n",
      "epoch : 273, tr_loss:  0.315852, val_loss: 0.896, tr_acc: 80.57%, val_acc: 73.81%\n"
     ]
    },
    {
     "name": "stderr",
     "output_type": "stream",
     "text": [
      "\n"
     ]
    },
    {
     "data": {
      "application/vnd.jupyter.widget-view+json": {
       "model_id": "8433935f907c45bcb8aeb5c9360fb3f8",
       "version_major": 2,
       "version_minor": 0
      },
      "text/plain": [
       "HBox(children=(HTML(value='steps'), FloatProgress(value=0.0, max=3006.0), HTML(value='')))"
      ]
     },
     "metadata": {},
     "output_type": "display_data"
    },
    {
     "name": "stderr",
     "output_type": "stream",
     "text": [
      "steps: 100%|██████████| 51/51 [00:00<00:00, 271.10it/s]"
     ]
    },
    {
     "name": "stdout",
     "output_type": "stream",
     "text": [
      "\n",
      "epoch : 274, tr_loss:  0.316328, val_loss: 0.825, tr_acc: 80.57%, val_acc: 73.99%\n"
     ]
    },
    {
     "name": "stderr",
     "output_type": "stream",
     "text": [
      "\n"
     ]
    },
    {
     "data": {
      "application/vnd.jupyter.widget-view+json": {
       "model_id": "486eaf0957324f5383178920a97e1065",
       "version_major": 2,
       "version_minor": 0
      },
      "text/plain": [
       "HBox(children=(HTML(value='steps'), FloatProgress(value=0.0, max=3006.0), HTML(value='')))"
      ]
     },
     "metadata": {},
     "output_type": "display_data"
    },
    {
     "name": "stderr",
     "output_type": "stream",
     "text": [
      "steps: 100%|██████████| 51/51 [00:00<00:00, 273.90it/s]"
     ]
    },
    {
     "name": "stdout",
     "output_type": "stream",
     "text": [
      "\n",
      "epoch : 275, tr_loss:  0.316962, val_loss: 0.840, tr_acc: 80.60%, val_acc: 74.08%\n"
     ]
    },
    {
     "name": "stderr",
     "output_type": "stream",
     "text": [
      "\n"
     ]
    },
    {
     "data": {
      "application/vnd.jupyter.widget-view+json": {
       "model_id": "1a19e8c5c7bb413d865f29997bbd6f4d",
       "version_major": 2,
       "version_minor": 0
      },
      "text/plain": [
       "HBox(children=(HTML(value='steps'), FloatProgress(value=0.0, max=3006.0), HTML(value='')))"
      ]
     },
     "metadata": {},
     "output_type": "display_data"
    },
    {
     "name": "stderr",
     "output_type": "stream",
     "text": [
      "steps: 100%|██████████| 51/51 [00:00<00:00, 275.55it/s]"
     ]
    },
    {
     "name": "stdout",
     "output_type": "stream",
     "text": [
      "\n",
      "epoch : 276, tr_loss:  0.315929, val_loss: 0.869, tr_acc: 80.69%, val_acc: 73.87%\n"
     ]
    },
    {
     "name": "stderr",
     "output_type": "stream",
     "text": [
      "\n"
     ]
    },
    {
     "data": {
      "application/vnd.jupyter.widget-view+json": {
       "model_id": "321a83085c8144d4b345eb7d3268f639",
       "version_major": 2,
       "version_minor": 0
      },
      "text/plain": [
       "HBox(children=(HTML(value='steps'), FloatProgress(value=0.0, max=3006.0), HTML(value='')))"
      ]
     },
     "metadata": {},
     "output_type": "display_data"
    },
    {
     "name": "stderr",
     "output_type": "stream",
     "text": [
      "steps: 100%|██████████| 51/51 [00:00<00:00, 278.49it/s]\n"
     ]
    },
    {
     "name": "stdout",
     "output_type": "stream",
     "text": [
      "\r",
      "\r",
      "global_Step: 830000, tr_loss: 0.317744, val_loss: 0.917225\n"
     ]
    },
    {
     "name": "stderr",
     "output_type": "stream",
     "text": [
      "steps: 100%|██████████| 51/51 [00:00<00:00, 274.62it/s]"
     ]
    },
    {
     "name": "stdout",
     "output_type": "stream",
     "text": [
      "\n",
      "epoch : 277, tr_loss:  0.319473, val_loss: 0.913, tr_acc: 80.49%, val_acc: 73.87%\n"
     ]
    },
    {
     "name": "stderr",
     "output_type": "stream",
     "text": [
      "\n"
     ]
    },
    {
     "data": {
      "application/vnd.jupyter.widget-view+json": {
       "model_id": "f7f71622f4d245f698d89246f48e15c1",
       "version_major": 2,
       "version_minor": 0
      },
      "text/plain": [
       "HBox(children=(HTML(value='steps'), FloatProgress(value=0.0, max=3006.0), HTML(value='')))"
      ]
     },
     "metadata": {},
     "output_type": "display_data"
    },
    {
     "name": "stderr",
     "output_type": "stream",
     "text": [
      "steps: 100%|██████████| 51/51 [00:00<00:00, 272.14it/s]"
     ]
    },
    {
     "name": "stdout",
     "output_type": "stream",
     "text": [
      "\n",
      "epoch : 278, tr_loss:  0.314051, val_loss: 0.866, tr_acc: 80.79%, val_acc: 73.84%\n"
     ]
    },
    {
     "name": "stderr",
     "output_type": "stream",
     "text": [
      "\n"
     ]
    },
    {
     "data": {
      "application/vnd.jupyter.widget-view+json": {
       "model_id": "f412b28b2c7e480990653cf54591d532",
       "version_major": 2,
       "version_minor": 0
      },
      "text/plain": [
       "HBox(children=(HTML(value='steps'), FloatProgress(value=0.0, max=3006.0), HTML(value='')))"
      ]
     },
     "metadata": {},
     "output_type": "display_data"
    },
    {
     "name": "stderr",
     "output_type": "stream",
     "text": [
      "steps: 100%|██████████| 51/51 [00:00<00:00, 269.55it/s]"
     ]
    },
    {
     "name": "stdout",
     "output_type": "stream",
     "text": [
      "\n",
      "epoch : 279, tr_loss:  0.315379, val_loss: 0.848, tr_acc: 80.68%, val_acc: 73.93%\n"
     ]
    },
    {
     "name": "stderr",
     "output_type": "stream",
     "text": [
      "\n"
     ]
    },
    {
     "data": {
      "application/vnd.jupyter.widget-view+json": {
       "model_id": "030f2014fd354be389b4aba190e0141f",
       "version_major": 2,
       "version_minor": 0
      },
      "text/plain": [
       "HBox(children=(HTML(value='steps'), FloatProgress(value=0.0, max=3006.0), HTML(value='')))"
      ]
     },
     "metadata": {},
     "output_type": "display_data"
    },
    {
     "name": "stderr",
     "output_type": "stream",
     "text": [
      "steps: 100%|██████████| 51/51 [00:00<00:00, 287.23it/s]\n"
     ]
    },
    {
     "name": "stdout",
     "output_type": "stream",
     "text": [
      "\r",
      "\r",
      "global_Step: 840000, tr_loss: 0.316227, val_loss: 0.870514\n"
     ]
    },
    {
     "name": "stderr",
     "output_type": "stream",
     "text": [
      "steps: 100%|██████████| 51/51 [00:00<00:00, 270.21it/s]"
     ]
    },
    {
     "name": "stdout",
     "output_type": "stream",
     "text": [
      "\n",
      "epoch : 280, tr_loss:  0.314651, val_loss: 0.830, tr_acc: 80.71%, val_acc: 73.62%\n"
     ]
    },
    {
     "name": "stderr",
     "output_type": "stream",
     "text": [
      "\n"
     ]
    },
    {
     "data": {
      "application/vnd.jupyter.widget-view+json": {
       "model_id": "543e39f1438c48ccbce07613c7b98fb0",
       "version_major": 2,
       "version_minor": 0
      },
      "text/plain": [
       "HBox(children=(HTML(value='steps'), FloatProgress(value=0.0, max=3006.0), HTML(value='')))"
      ]
     },
     "metadata": {},
     "output_type": "display_data"
    },
    {
     "name": "stderr",
     "output_type": "stream",
     "text": [
      "steps: 100%|██████████| 51/51 [00:00<00:00, 274.20it/s]"
     ]
    },
    {
     "name": "stdout",
     "output_type": "stream",
     "text": [
      "\n",
      "epoch : 281, tr_loss:  0.314488, val_loss: 0.904, tr_acc: 80.72%, val_acc: 73.78%\n"
     ]
    },
    {
     "name": "stderr",
     "output_type": "stream",
     "text": [
      "\n"
     ]
    },
    {
     "data": {
      "application/vnd.jupyter.widget-view+json": {
       "model_id": "11a958dd45b442028acaed3eeaa9580c",
       "version_major": 2,
       "version_minor": 0
      },
      "text/plain": [
       "HBox(children=(HTML(value='steps'), FloatProgress(value=0.0, max=3006.0), HTML(value='')))"
      ]
     },
     "metadata": {},
     "output_type": "display_data"
    },
    {
     "name": "stderr",
     "output_type": "stream",
     "text": [
      "steps: 100%|██████████| 51/51 [00:00<00:00, 268.35it/s]"
     ]
    },
    {
     "name": "stdout",
     "output_type": "stream",
     "text": [
      "\n",
      "epoch : 282, tr_loss:  0.314510, val_loss: 0.853, tr_acc: 80.70%, val_acc: 73.90%\n"
     ]
    },
    {
     "name": "stderr",
     "output_type": "stream",
     "text": [
      "\n"
     ]
    },
    {
     "data": {
      "application/vnd.jupyter.widget-view+json": {
       "model_id": "1e94b98ceb6245ebb6af2bfb135193da",
       "version_major": 2,
       "version_minor": 0
      },
      "text/plain": [
       "HBox(children=(HTML(value='steps'), FloatProgress(value=0.0, max=3006.0), HTML(value='')))"
      ]
     },
     "metadata": {},
     "output_type": "display_data"
    },
    {
     "name": "stderr",
     "output_type": "stream",
     "text": [
      "steps: 100%|██████████| 51/51 [00:00<00:00, 287.83it/s]\n"
     ]
    },
    {
     "name": "stdout",
     "output_type": "stream",
     "text": [
      "\r",
      "\r",
      "global_Step: 850000, tr_loss: 0.314005, val_loss: 0.923029\n"
     ]
    },
    {
     "name": "stderr",
     "output_type": "stream",
     "text": [
      "steps: 100%|██████████| 51/51 [00:00<00:00, 275.60it/s]"
     ]
    },
    {
     "name": "stdout",
     "output_type": "stream",
     "text": [
      "\n",
      "epoch : 283, tr_loss:  0.314013, val_loss: 0.896, tr_acc: 80.75%, val_acc: 73.81%\n"
     ]
    },
    {
     "name": "stderr",
     "output_type": "stream",
     "text": [
      "\n"
     ]
    },
    {
     "data": {
      "application/vnd.jupyter.widget-view+json": {
       "model_id": "3dae366dcce64647ad14a7697c265aac",
       "version_major": 2,
       "version_minor": 0
      },
      "text/plain": [
       "HBox(children=(HTML(value='steps'), FloatProgress(value=0.0, max=3006.0), HTML(value='')))"
      ]
     },
     "metadata": {},
     "output_type": "display_data"
    },
    {
     "name": "stderr",
     "output_type": "stream",
     "text": [
      "steps: 100%|██████████| 51/51 [00:00<00:00, 271.88it/s]"
     ]
    },
    {
     "name": "stdout",
     "output_type": "stream",
     "text": [
      "\n",
      "epoch : 284, tr_loss:  0.314990, val_loss: 0.879, tr_acc: 80.75%, val_acc: 73.72%\n"
     ]
    },
    {
     "name": "stderr",
     "output_type": "stream",
     "text": [
      "\n"
     ]
    },
    {
     "data": {
      "application/vnd.jupyter.widget-view+json": {
       "model_id": "7f29385922794103b507546df453ebea",
       "version_major": 2,
       "version_minor": 0
      },
      "text/plain": [
       "HBox(children=(HTML(value='steps'), FloatProgress(value=0.0, max=3006.0), HTML(value='')))"
      ]
     },
     "metadata": {},
     "output_type": "display_data"
    },
    {
     "name": "stderr",
     "output_type": "stream",
     "text": [
      "steps: 100%|██████████| 51/51 [00:00<00:00, 274.11it/s]"
     ]
    },
    {
     "name": "stdout",
     "output_type": "stream",
     "text": [
      "\n",
      "epoch : 285, tr_loss:  0.314147, val_loss: 0.947, tr_acc: 80.77%, val_acc: 73.96%\n"
     ]
    },
    {
     "name": "stderr",
     "output_type": "stream",
     "text": [
      "\n"
     ]
    },
    {
     "data": {
      "application/vnd.jupyter.widget-view+json": {
       "model_id": "e2314817aa8f4f8aa3191acff2b5a7e7",
       "version_major": 2,
       "version_minor": 0
      },
      "text/plain": [
       "HBox(children=(HTML(value='steps'), FloatProgress(value=0.0, max=3006.0), HTML(value='')))"
      ]
     },
     "metadata": {},
     "output_type": "display_data"
    },
    {
     "name": "stderr",
     "output_type": "stream",
     "text": [
      "steps: 100%|██████████| 51/51 [00:00<00:00, 269.51it/s]"
     ]
    },
    {
     "name": "stdout",
     "output_type": "stream",
     "text": [
      "\n",
      "epoch : 286, tr_loss:  0.312893, val_loss: 0.901, tr_acc: 80.88%, val_acc: 73.99%\n"
     ]
    },
    {
     "name": "stderr",
     "output_type": "stream",
     "text": [
      "\n"
     ]
    },
    {
     "data": {
      "application/vnd.jupyter.widget-view+json": {
       "model_id": "663474c182f540ff9c902b9bc4738c28",
       "version_major": 2,
       "version_minor": 0
      },
      "text/plain": [
       "HBox(children=(HTML(value='steps'), FloatProgress(value=0.0, max=3006.0), HTML(value='')))"
      ]
     },
     "metadata": {},
     "output_type": "display_data"
    },
    {
     "name": "stderr",
     "output_type": "stream",
     "text": [
      "steps: 100%|██████████| 51/51 [00:00<00:00, 289.49it/s]\n"
     ]
    },
    {
     "name": "stdout",
     "output_type": "stream",
     "text": [
      "\r",
      "\r",
      "global_Step: 860000, tr_loss: 0.315536, val_loss: 0.912355\n"
     ]
    },
    {
     "name": "stderr",
     "output_type": "stream",
     "text": [
      "steps: 100%|██████████| 51/51 [00:00<00:00, 265.63it/s]"
     ]
    },
    {
     "name": "stdout",
     "output_type": "stream",
     "text": [
      "\n",
      "epoch : 287, tr_loss:  0.312866, val_loss: 0.889, tr_acc: 80.82%, val_acc: 74.02%\n"
     ]
    },
    {
     "name": "stderr",
     "output_type": "stream",
     "text": [
      "\n"
     ]
    },
    {
     "data": {
      "application/vnd.jupyter.widget-view+json": {
       "model_id": "ca40e07b47e7445b9b7d9679dc7742c1",
       "version_major": 2,
       "version_minor": 0
      },
      "text/plain": [
       "HBox(children=(HTML(value='steps'), FloatProgress(value=0.0, max=3006.0), HTML(value='')))"
      ]
     },
     "metadata": {},
     "output_type": "display_data"
    },
    {
     "name": "stderr",
     "output_type": "stream",
     "text": [
      "steps: 100%|██████████| 51/51 [00:00<00:00, 273.04it/s]"
     ]
    },
    {
     "name": "stdout",
     "output_type": "stream",
     "text": [
      "\n"
     ]
    },
    {
     "name": "stderr",
     "output_type": "stream",
     "text": [
      "\n"
     ]
    },
    {
     "name": "stdout",
     "output_type": "stream",
     "text": [
      "\r",
      "epoch : 288, tr_loss:  0.313121, val_loss: 0.886, tr_acc: 80.83%, val_acc: 74.08%\n"
     ]
    },
    {
     "data": {
      "application/vnd.jupyter.widget-view+json": {
       "model_id": "3490fdb759df4a408585a795bd1a1958",
       "version_major": 2,
       "version_minor": 0
      },
      "text/plain": [
       "HBox(children=(HTML(value='steps'), FloatProgress(value=0.0, max=3006.0), HTML(value='')))"
      ]
     },
     "metadata": {},
     "output_type": "display_data"
    },
    {
     "name": "stderr",
     "output_type": "stream",
     "text": [
      "steps: 100%|██████████| 51/51 [00:00<00:00, 272.22it/s]"
     ]
    },
    {
     "name": "stdout",
     "output_type": "stream",
     "text": [
      "\n",
      "epoch : 289, tr_loss:  0.313858, val_loss: 0.897, tr_acc: 80.81%, val_acc: 73.90%\n"
     ]
    },
    {
     "name": "stderr",
     "output_type": "stream",
     "text": [
      "\n"
     ]
    },
    {
     "data": {
      "application/vnd.jupyter.widget-view+json": {
       "model_id": "1c6cef8034f14f988c3b395916cdfeb6",
       "version_major": 2,
       "version_minor": 0
      },
      "text/plain": [
       "HBox(children=(HTML(value='steps'), FloatProgress(value=0.0, max=3006.0), HTML(value='')))"
      ]
     },
     "metadata": {},
     "output_type": "display_data"
    },
    {
     "name": "stderr",
     "output_type": "stream",
     "text": [
      "steps: 100%|██████████| 51/51 [00:00<00:00, 282.98it/s]\n"
     ]
    },
    {
     "name": "stdout",
     "output_type": "stream",
     "text": [
      "\r",
      "\r",
      "global_Step: 870000, tr_loss: 0.311615, val_loss: 0.965283\n"
     ]
    },
    {
     "name": "stderr",
     "output_type": "stream",
     "text": [
      "steps: 100%|██████████| 51/51 [00:00<00:00, 271.25it/s]"
     ]
    },
    {
     "name": "stdout",
     "output_type": "stream",
     "text": [
      "\n",
      "epoch : 290, tr_loss:  0.312034, val_loss: 0.928, tr_acc: 80.86%, val_acc: 73.87%\n"
     ]
    },
    {
     "name": "stderr",
     "output_type": "stream",
     "text": [
      "\n"
     ]
    },
    {
     "data": {
      "application/vnd.jupyter.widget-view+json": {
       "model_id": "dda8da4ebd6b4b8e9443e55ccd551e1f",
       "version_major": 2,
       "version_minor": 0
      },
      "text/plain": [
       "HBox(children=(HTML(value='steps'), FloatProgress(value=0.0, max=3006.0), HTML(value='')))"
      ]
     },
     "metadata": {},
     "output_type": "display_data"
    },
    {
     "name": "stderr",
     "output_type": "stream",
     "text": [
      "steps: 100%|██████████| 51/51 [00:00<00:00, 274.16it/s]"
     ]
    },
    {
     "name": "stdout",
     "output_type": "stream",
     "text": [
      "\n",
      "epoch : 291, tr_loss:  0.311767, val_loss: 0.966, tr_acc: 80.91%, val_acc: 73.84%\n"
     ]
    },
    {
     "name": "stderr",
     "output_type": "stream",
     "text": [
      "\n"
     ]
    },
    {
     "data": {
      "application/vnd.jupyter.widget-view+json": {
       "model_id": "785dc810783a4b6791288423c4be64a4",
       "version_major": 2,
       "version_minor": 0
      },
      "text/plain": [
       "HBox(children=(HTML(value='steps'), FloatProgress(value=0.0, max=3006.0), HTML(value='')))"
      ]
     },
     "metadata": {},
     "output_type": "display_data"
    },
    {
     "name": "stderr",
     "output_type": "stream",
     "text": [
      "steps: 100%|██████████| 51/51 [00:00<00:00, 273.92it/s]"
     ]
    },
    {
     "name": "stdout",
     "output_type": "stream",
     "text": [
      "\n",
      "epoch : 292, tr_loss:  0.312533, val_loss: 0.872, tr_acc: 80.87%, val_acc: 73.78%\n"
     ]
    },
    {
     "name": "stderr",
     "output_type": "stream",
     "text": [
      "\n"
     ]
    },
    {
     "data": {
      "application/vnd.jupyter.widget-view+json": {
       "model_id": "f76cebca8bf04d3b9d9025e8a65dab24",
       "version_major": 2,
       "version_minor": 0
      },
      "text/plain": [
       "HBox(children=(HTML(value='steps'), FloatProgress(value=0.0, max=3006.0), HTML(value='')))"
      ]
     },
     "metadata": {},
     "output_type": "display_data"
    },
    {
     "name": "stderr",
     "output_type": "stream",
     "text": [
      "steps: 100%|██████████| 51/51 [00:00<00:00, 286.36it/s]\n"
     ]
    },
    {
     "name": "stdout",
     "output_type": "stream",
     "text": [
      "\r",
      "\r",
      "global_Step: 880000, tr_loss: 0.310353, val_loss: 0.976567\n"
     ]
    },
    {
     "name": "stderr",
     "output_type": "stream",
     "text": [
      "steps: 100%|██████████| 51/51 [00:00<00:00, 269.71it/s]"
     ]
    },
    {
     "name": "stdout",
     "output_type": "stream",
     "text": [
      "\n",
      "epoch : 293, tr_loss:  0.311558, val_loss: 0.831, tr_acc: 80.92%, val_acc: 73.90%\n"
     ]
    },
    {
     "name": "stderr",
     "output_type": "stream",
     "text": [
      "\n"
     ]
    },
    {
     "data": {
      "application/vnd.jupyter.widget-view+json": {
       "model_id": "68ca617acada49038f26ba5520a61484",
       "version_major": 2,
       "version_minor": 0
      },
      "text/plain": [
       "HBox(children=(HTML(value='steps'), FloatProgress(value=0.0, max=3006.0), HTML(value='')))"
      ]
     },
     "metadata": {},
     "output_type": "display_data"
    },
    {
     "name": "stderr",
     "output_type": "stream",
     "text": [
      "steps: 100%|██████████| 51/51 [00:00<00:00, 272.63it/s]"
     ]
    },
    {
     "name": "stdout",
     "output_type": "stream",
     "text": [
      "\n",
      "epoch : 294, tr_loss:  0.312704, val_loss: 0.905, tr_acc: 80.92%, val_acc: 73.99%\n"
     ]
    },
    {
     "name": "stderr",
     "output_type": "stream",
     "text": [
      "\n"
     ]
    },
    {
     "data": {
      "application/vnd.jupyter.widget-view+json": {
       "model_id": "47075fac87da49af8be2e61d4582be00",
       "version_major": 2,
       "version_minor": 0
      },
      "text/plain": [
       "HBox(children=(HTML(value='steps'), FloatProgress(value=0.0, max=3006.0), HTML(value='')))"
      ]
     },
     "metadata": {},
     "output_type": "display_data"
    },
    {
     "name": "stderr",
     "output_type": "stream",
     "text": [
      "steps: 100%|██████████| 51/51 [00:00<00:00, 268.35it/s]"
     ]
    },
    {
     "name": "stdout",
     "output_type": "stream",
     "text": [
      "\n",
      "epoch : 295, tr_loss:  0.312593, val_loss: 0.879, tr_acc: 80.94%, val_acc: 73.90%\n"
     ]
    },
    {
     "name": "stderr",
     "output_type": "stream",
     "text": [
      "\n"
     ]
    },
    {
     "data": {
      "application/vnd.jupyter.widget-view+json": {
       "model_id": "8cd7fa29410745089454f9cfb3a01857",
       "version_major": 2,
       "version_minor": 0
      },
      "text/plain": [
       "HBox(children=(HTML(value='steps'), FloatProgress(value=0.0, max=3006.0), HTML(value='')))"
      ]
     },
     "metadata": {},
     "output_type": "display_data"
    },
    {
     "name": "stderr",
     "output_type": "stream",
     "text": [
      "steps: 100%|██████████| 51/51 [00:00<00:00, 271.11it/s]"
     ]
    },
    {
     "name": "stdout",
     "output_type": "stream",
     "text": [
      "\n",
      "epoch : 296, tr_loss:  0.310421, val_loss: 0.891, tr_acc: 81.03%, val_acc: 73.50%\n"
     ]
    },
    {
     "name": "stderr",
     "output_type": "stream",
     "text": [
      "\n"
     ]
    },
    {
     "data": {
      "application/vnd.jupyter.widget-view+json": {
       "model_id": "a24fe76fe72642a9ba5d4bafd1431fad",
       "version_major": 2,
       "version_minor": 0
      },
      "text/plain": [
       "HBox(children=(HTML(value='steps'), FloatProgress(value=0.0, max=3006.0), HTML(value='')))"
      ]
     },
     "metadata": {},
     "output_type": "display_data"
    },
    {
     "name": "stderr",
     "output_type": "stream",
     "text": [
      "steps: 100%|██████████| 51/51 [00:00<00:00, 283.61it/s]\n"
     ]
    },
    {
     "name": "stdout",
     "output_type": "stream",
     "text": [
      "\r",
      "\r",
      "global_Step: 890000, tr_loss: 0.301230, val_loss: 0.966774\n"
     ]
    },
    {
     "name": "stderr",
     "output_type": "stream",
     "text": [
      "steps: 100%|██████████| 51/51 [00:00<00:00, 275.15it/s]"
     ]
    },
    {
     "name": "stdout",
     "output_type": "stream",
     "text": [
      "\n",
      "epoch : 297, tr_loss:  0.311183, val_loss: 0.954, tr_acc: 81.04%, val_acc: 73.41%\n"
     ]
    },
    {
     "name": "stderr",
     "output_type": "stream",
     "text": [
      "\n"
     ]
    },
    {
     "data": {
      "application/vnd.jupyter.widget-view+json": {
       "model_id": "d9acc6501ded41ff87a60a070a7be0de",
       "version_major": 2,
       "version_minor": 0
      },
      "text/plain": [
       "HBox(children=(HTML(value='steps'), FloatProgress(value=0.0, max=3006.0), HTML(value='')))"
      ]
     },
     "metadata": {},
     "output_type": "display_data"
    },
    {
     "name": "stderr",
     "output_type": "stream",
     "text": [
      "steps: 100%|██████████| 51/51 [00:00<00:00, 274.37it/s]"
     ]
    },
    {
     "name": "stdout",
     "output_type": "stream",
     "text": [
      "\n"
     ]
    },
    {
     "name": "stderr",
     "output_type": "stream",
     "text": [
      "\n"
     ]
    },
    {
     "name": "stdout",
     "output_type": "stream",
     "text": [
      "\r",
      "epoch : 298, tr_loss:  0.310441, val_loss: 0.895, tr_acc: 81.01%, val_acc: 73.53%\n"
     ]
    },
    {
     "data": {
      "application/vnd.jupyter.widget-view+json": {
       "model_id": "5fe0c9bfe24c4c0d83356feaa232cdea",
       "version_major": 2,
       "version_minor": 0
      },
      "text/plain": [
       "HBox(children=(HTML(value='steps'), FloatProgress(value=0.0, max=3006.0), HTML(value='')))"
      ]
     },
     "metadata": {},
     "output_type": "display_data"
    },
    {
     "name": "stderr",
     "output_type": "stream",
     "text": [
      "steps: 100%|██████████| 51/51 [00:00<00:00, 270.84it/s]"
     ]
    },
    {
     "name": "stdout",
     "output_type": "stream",
     "text": [
      "\n",
      "epoch : 299, tr_loss:  0.311769, val_loss: 0.924, tr_acc: 80.97%, val_acc: 73.75%\n"
     ]
    },
    {
     "name": "stderr",
     "output_type": "stream",
     "text": [
      "\n"
     ]
    },
    {
     "data": {
      "application/vnd.jupyter.widget-view+json": {
       "model_id": "976c78685e054c49b235f936efca5d41",
       "version_major": 2,
       "version_minor": 0
      },
      "text/plain": [
       "HBox(children=(HTML(value='steps'), FloatProgress(value=0.0, max=3006.0), HTML(value='')))"
      ]
     },
     "metadata": {},
     "output_type": "display_data"
    },
    {
     "name": "stderr",
     "output_type": "stream",
     "text": [
      "steps: 100%|██████████| 51/51 [00:00<00:00, 272.98it/s]\n"
     ]
    },
    {
     "name": "stdout",
     "output_type": "stream",
     "text": [
      "\r",
      "\r",
      "global_Step: 900000, tr_loss: 0.306677, val_loss: 0.924456\n"
     ]
    },
    {
     "name": "stderr",
     "output_type": "stream",
     "text": [
      "steps: 100%|██████████| 51/51 [00:00<00:00, 275.51it/s]"
     ]
    },
    {
     "name": "stdout",
     "output_type": "stream",
     "text": [
      "\n",
      "epoch : 300, tr_loss:  0.309136, val_loss: 0.892, tr_acc: 81.07%, val_acc: 73.96%\n"
     ]
    },
    {
     "name": "stderr",
     "output_type": "stream",
     "text": [
      "\n"
     ]
    },
    {
     "data": {
      "application/vnd.jupyter.widget-view+json": {
       "model_id": "143556dcb7794d429291e9186b15cb3f",
       "version_major": 2,
       "version_minor": 0
      },
      "text/plain": [
       "HBox(children=(HTML(value='steps'), FloatProgress(value=0.0, max=3006.0), HTML(value='')))"
      ]
     },
     "metadata": {},
     "output_type": "display_data"
    },
    {
     "name": "stderr",
     "output_type": "stream",
     "text": [
      "steps: 100%|██████████| 51/51 [00:00<00:00, 272.63it/s]"
     ]
    },
    {
     "name": "stdout",
     "output_type": "stream",
     "text": [
      "\n",
      "epoch : 301, tr_loss:  0.310130, val_loss: 0.995, tr_acc: 81.05%, val_acc: 73.75%\n"
     ]
    },
    {
     "name": "stderr",
     "output_type": "stream",
     "text": [
      "\n"
     ]
    },
    {
     "data": {
      "application/vnd.jupyter.widget-view+json": {
       "model_id": "9412207f65c949f2b8a99dd8c1b12cdc",
       "version_major": 2,
       "version_minor": 0
      },
      "text/plain": [
       "HBox(children=(HTML(value='steps'), FloatProgress(value=0.0, max=3006.0), HTML(value='')))"
      ]
     },
     "metadata": {},
     "output_type": "display_data"
    },
    {
     "name": "stderr",
     "output_type": "stream",
     "text": [
      "steps: 100%|██████████| 51/51 [00:00<00:00, 260.91it/s]"
     ]
    },
    {
     "name": "stdout",
     "output_type": "stream",
     "text": [
      "\n",
      "epoch : 302, tr_loss:  0.308965, val_loss: 0.948, tr_acc: 81.07%, val_acc: 73.93%\n"
     ]
    },
    {
     "name": "stderr",
     "output_type": "stream",
     "text": [
      "\n"
     ]
    },
    {
     "data": {
      "application/vnd.jupyter.widget-view+json": {
       "model_id": "e7cd8ffb109b4dc083c3c4e721031199",
       "version_major": 2,
       "version_minor": 0
      },
      "text/plain": [
       "HBox(children=(HTML(value='steps'), FloatProgress(value=0.0, max=3006.0), HTML(value='')))"
      ]
     },
     "metadata": {},
     "output_type": "display_data"
    },
    {
     "name": "stderr",
     "output_type": "stream",
     "text": [
      "steps: 100%|██████████| 51/51 [00:00<00:00, 283.26it/s]\n"
     ]
    },
    {
     "name": "stdout",
     "output_type": "stream",
     "text": [
      "\r",
      "\r",
      "global_Step: 910000, tr_loss: 0.307514, val_loss: 0.921564\n"
     ]
    },
    {
     "name": "stderr",
     "output_type": "stream",
     "text": [
      "steps: 100%|██████████| 51/51 [00:00<00:00, 267.87it/s]"
     ]
    },
    {
     "name": "stdout",
     "output_type": "stream",
     "text": [
      "\n",
      "epoch : 303, tr_loss:  0.308411, val_loss: 0.942, tr_acc: 81.09%, val_acc: 73.66%\n"
     ]
    },
    {
     "name": "stderr",
     "output_type": "stream",
     "text": [
      "\n"
     ]
    },
    {
     "data": {
      "application/vnd.jupyter.widget-view+json": {
       "model_id": "7d7513ee2e164ccba33ea10cb585335e",
       "version_major": 2,
       "version_minor": 0
      },
      "text/plain": [
       "HBox(children=(HTML(value='steps'), FloatProgress(value=0.0, max=3006.0), HTML(value='')))"
      ]
     },
     "metadata": {},
     "output_type": "display_data"
    },
    {
     "name": "stderr",
     "output_type": "stream",
     "text": [
      "steps: 100%|██████████| 51/51 [00:00<00:00, 272.41it/s]"
     ]
    },
    {
     "name": "stdout",
     "output_type": "stream",
     "text": [
      "\n",
      "epoch : 304, tr_loss:  0.310864, val_loss: 0.907, tr_acc: 80.97%, val_acc: 73.81%\n"
     ]
    },
    {
     "name": "stderr",
     "output_type": "stream",
     "text": [
      "\n"
     ]
    },
    {
     "data": {
      "application/vnd.jupyter.widget-view+json": {
       "model_id": "f67c974a17f642fb9bd18c8ecc5d8441",
       "version_major": 2,
       "version_minor": 0
      },
      "text/plain": [
       "HBox(children=(HTML(value='steps'), FloatProgress(value=0.0, max=3006.0), HTML(value='')))"
      ]
     },
     "metadata": {},
     "output_type": "display_data"
    },
    {
     "name": "stderr",
     "output_type": "stream",
     "text": [
      "steps: 100%|██████████| 51/51 [00:00<00:00, 270.75it/s]"
     ]
    },
    {
     "name": "stdout",
     "output_type": "stream",
     "text": [
      "\n",
      "epoch : 305, tr_loss:  0.310909, val_loss: 0.999, tr_acc: 81.02%, val_acc: 73.62%\n"
     ]
    },
    {
     "name": "stderr",
     "output_type": "stream",
     "text": [
      "\n"
     ]
    },
    {
     "data": {
      "application/vnd.jupyter.widget-view+json": {
       "model_id": "de080e098e604a00adb71d06fac832e1",
       "version_major": 2,
       "version_minor": 0
      },
      "text/plain": [
       "HBox(children=(HTML(value='steps'), FloatProgress(value=0.0, max=3006.0), HTML(value='')))"
      ]
     },
     "metadata": {},
     "output_type": "display_data"
    },
    {
     "name": "stderr",
     "output_type": "stream",
     "text": [
      "steps: 100%|██████████| 51/51 [00:00<00:00, 275.43it/s]"
     ]
    },
    {
     "name": "stdout",
     "output_type": "stream",
     "text": [
      "\n",
      "epoch : 306, tr_loss:  0.308284, val_loss: 0.942, tr_acc: 81.15%, val_acc: 74.36%\n"
     ]
    },
    {
     "name": "stderr",
     "output_type": "stream",
     "text": [
      "\n"
     ]
    },
    {
     "data": {
      "application/vnd.jupyter.widget-view+json": {
       "model_id": "7cfc9762cac94b4685f45ef591a93f8b",
       "version_major": 2,
       "version_minor": 0
      },
      "text/plain": [
       "HBox(children=(HTML(value='steps'), FloatProgress(value=0.0, max=3006.0), HTML(value='')))"
      ]
     },
     "metadata": {},
     "output_type": "display_data"
    },
    {
     "name": "stderr",
     "output_type": "stream",
     "text": [
      "steps: 100%|██████████| 51/51 [00:00<00:00, 287.84it/s]\n"
     ]
    },
    {
     "name": "stdout",
     "output_type": "stream",
     "text": [
      "\r",
      "\r",
      "global_Step: 920000, tr_loss: 0.307723, val_loss: 0.906230\n"
     ]
    },
    {
     "name": "stderr",
     "output_type": "stream",
     "text": [
      "steps: 100%|██████████| 51/51 [00:00<00:00, 278.55it/s]"
     ]
    },
    {
     "name": "stdout",
     "output_type": "stream",
     "text": [
      "\n",
      "\r",
      "epoch : 307, tr_loss:  0.307846, val_loss: 0.931, tr_acc: 81.21%, val_acc: 73.75%\n"
     ]
    },
    {
     "name": "stderr",
     "output_type": "stream",
     "text": [
      "\n"
     ]
    },
    {
     "data": {
      "application/vnd.jupyter.widget-view+json": {
       "model_id": "87ac8cdd56614625b3524581066ab46f",
       "version_major": 2,
       "version_minor": 0
      },
      "text/plain": [
       "HBox(children=(HTML(value='steps'), FloatProgress(value=0.0, max=3006.0), HTML(value='')))"
      ]
     },
     "metadata": {},
     "output_type": "display_data"
    },
    {
     "name": "stderr",
     "output_type": "stream",
     "text": [
      "steps: 100%|██████████| 51/51 [00:00<00:00, 275.31it/s]"
     ]
    },
    {
     "name": "stdout",
     "output_type": "stream",
     "text": [
      "\n",
      "epoch : 308, tr_loss:  0.310126, val_loss: 0.834, tr_acc: 81.05%, val_acc: 74.08%\n"
     ]
    },
    {
     "name": "stderr",
     "output_type": "stream",
     "text": [
      "\n"
     ]
    },
    {
     "data": {
      "application/vnd.jupyter.widget-view+json": {
       "model_id": "c881c4251dd847bc90bae0130203483c",
       "version_major": 2,
       "version_minor": 0
      },
      "text/plain": [
       "HBox(children=(HTML(value='steps'), FloatProgress(value=0.0, max=3006.0), HTML(value='')))"
      ]
     },
     "metadata": {},
     "output_type": "display_data"
    },
    {
     "name": "stderr",
     "output_type": "stream",
     "text": [
      "steps: 100%|██████████| 51/51 [00:00<00:00, 277.03it/s]"
     ]
    },
    {
     "name": "stdout",
     "output_type": "stream",
     "text": [
      "\n"
     ]
    },
    {
     "name": "stderr",
     "output_type": "stream",
     "text": [
      "\n"
     ]
    },
    {
     "name": "stdout",
     "output_type": "stream",
     "text": [
      "\r",
      "epoch : 309, tr_loss:  0.311005, val_loss: 0.869, tr_acc: 81.15%, val_acc: 73.87%\n"
     ]
    },
    {
     "data": {
      "application/vnd.jupyter.widget-view+json": {
       "model_id": "7e31c7aa7b564fd8a5fbff75d224b5f9",
       "version_major": 2,
       "version_minor": 0
      },
      "text/plain": [
       "HBox(children=(HTML(value='steps'), FloatProgress(value=0.0, max=3006.0), HTML(value='')))"
      ]
     },
     "metadata": {},
     "output_type": "display_data"
    },
    {
     "name": "stderr",
     "output_type": "stream",
     "text": [
      "steps: 100%|██████████| 51/51 [00:00<00:00, 287.84it/s]\n"
     ]
    },
    {
     "name": "stdout",
     "output_type": "stream",
     "text": [
      "\r",
      "\r",
      "global_Step: 930000, tr_loss: 0.304431, val_loss: 0.964561\n"
     ]
    },
    {
     "name": "stderr",
     "output_type": "stream",
     "text": [
      "steps: 100%|██████████| 51/51 [00:00<00:00, 271.33it/s]"
     ]
    },
    {
     "name": "stdout",
     "output_type": "stream",
     "text": [
      "\n",
      "epoch : 310, tr_loss:  0.306289, val_loss: 0.989, tr_acc: 81.29%, val_acc: 73.78%\n"
     ]
    },
    {
     "name": "stderr",
     "output_type": "stream",
     "text": [
      "\n"
     ]
    },
    {
     "data": {
      "application/vnd.jupyter.widget-view+json": {
       "model_id": "c4bb18b14a7a4c72965df547ea1a90c8",
       "version_major": 2,
       "version_minor": 0
      },
      "text/plain": [
       "HBox(children=(HTML(value='steps'), FloatProgress(value=0.0, max=3006.0), HTML(value='')))"
      ]
     },
     "metadata": {},
     "output_type": "display_data"
    },
    {
     "name": "stderr",
     "output_type": "stream",
     "text": [
      "steps: 100%|██████████| 51/51 [00:00<00:00, 274.97it/s]"
     ]
    },
    {
     "name": "stdout",
     "output_type": "stream",
     "text": [
      "\n",
      "epoch : 311, tr_loss:  0.309748, val_loss: 0.955, tr_acc: 81.17%, val_acc: 73.69%\n"
     ]
    },
    {
     "name": "stderr",
     "output_type": "stream",
     "text": [
      "\n"
     ]
    },
    {
     "data": {
      "application/vnd.jupyter.widget-view+json": {
       "model_id": "eedb1969152b416ba315c4bb8af820c2",
       "version_major": 2,
       "version_minor": 0
      },
      "text/plain": [
       "HBox(children=(HTML(value='steps'), FloatProgress(value=0.0, max=3006.0), HTML(value='')))"
      ]
     },
     "metadata": {},
     "output_type": "display_data"
    },
    {
     "name": "stderr",
     "output_type": "stream",
     "text": [
      "steps: 100%|██████████| 51/51 [00:00<00:00, 268.38it/s]"
     ]
    },
    {
     "name": "stdout",
     "output_type": "stream",
     "text": [
      "\n",
      "epoch : 312, tr_loss:  0.306272, val_loss: 0.992, tr_acc: 81.23%, val_acc: 73.81%\n"
     ]
    },
    {
     "name": "stderr",
     "output_type": "stream",
     "text": [
      "\n"
     ]
    },
    {
     "data": {
      "application/vnd.jupyter.widget-view+json": {
       "model_id": "3a0bf572ec834f31ac410942f7d915e1",
       "version_major": 2,
       "version_minor": 0
      },
      "text/plain": [
       "HBox(children=(HTML(value='steps'), FloatProgress(value=0.0, max=3006.0), HTML(value='')))"
      ]
     },
     "metadata": {},
     "output_type": "display_data"
    },
    {
     "name": "stderr",
     "output_type": "stream",
     "text": [
      "steps: 100%|██████████| 51/51 [00:00<00:00, 289.64it/s]\n"
     ]
    },
    {
     "name": "stdout",
     "output_type": "stream",
     "text": [
      "\r",
      "\r",
      "global_Step: 940000, tr_loss: 0.306145, val_loss: 1.028644\n"
     ]
    },
    {
     "name": "stderr",
     "output_type": "stream",
     "text": [
      "steps: 100%|██████████| 51/51 [00:00<00:00, 271.04it/s]"
     ]
    },
    {
     "name": "stdout",
     "output_type": "stream",
     "text": [
      "\n",
      "epoch : 313, tr_loss:  0.306402, val_loss: 0.979, tr_acc: 81.24%, val_acc: 73.62%\n"
     ]
    },
    {
     "name": "stderr",
     "output_type": "stream",
     "text": [
      "\n"
     ]
    },
    {
     "data": {
      "application/vnd.jupyter.widget-view+json": {
       "model_id": "6d55e557ac884611984cc19fefea9306",
       "version_major": 2,
       "version_minor": 0
      },
      "text/plain": [
       "HBox(children=(HTML(value='steps'), FloatProgress(value=0.0, max=3006.0), HTML(value='')))"
      ]
     },
     "metadata": {},
     "output_type": "display_data"
    },
    {
     "name": "stderr",
     "output_type": "stream",
     "text": [
      "steps: 100%|██████████| 51/51 [00:00<00:00, 271.00it/s]"
     ]
    },
    {
     "name": "stdout",
     "output_type": "stream",
     "text": [
      "\n",
      "epoch : 314, tr_loss:  0.307644, val_loss: 0.984, tr_acc: 81.21%, val_acc: 73.50%\n"
     ]
    },
    {
     "name": "stderr",
     "output_type": "stream",
     "text": [
      "\n"
     ]
    },
    {
     "data": {
      "application/vnd.jupyter.widget-view+json": {
       "model_id": "9e9eb6e06b274a5bbae853319400de4b",
       "version_major": 2,
       "version_minor": 0
      },
      "text/plain": [
       "HBox(children=(HTML(value='steps'), FloatProgress(value=0.0, max=3006.0), HTML(value='')))"
      ]
     },
     "metadata": {},
     "output_type": "display_data"
    },
    {
     "name": "stderr",
     "output_type": "stream",
     "text": [
      "steps: 100%|██████████| 51/51 [00:00<00:00, 278.57it/s]"
     ]
    },
    {
     "name": "stdout",
     "output_type": "stream",
     "text": [
      "\n",
      "epoch : 315, tr_loss:  0.307680, val_loss: 0.898, tr_acc: 81.16%, val_acc: 73.96%\n"
     ]
    },
    {
     "name": "stderr",
     "output_type": "stream",
     "text": [
      "\n"
     ]
    },
    {
     "data": {
      "application/vnd.jupyter.widget-view+json": {
       "model_id": "92e97d46333841238dfff79758de08ac",
       "version_major": 2,
       "version_minor": 0
      },
      "text/plain": [
       "HBox(children=(HTML(value='steps'), FloatProgress(value=0.0, max=3006.0), HTML(value='')))"
      ]
     },
     "metadata": {},
     "output_type": "display_data"
    },
    {
     "name": "stderr",
     "output_type": "stream",
     "text": [
      "steps: 100%|██████████| 51/51 [00:00<00:00, 273.97it/s]"
     ]
    },
    {
     "name": "stdout",
     "output_type": "stream",
     "text": [
      "\n"
     ]
    },
    {
     "name": "stderr",
     "output_type": "stream",
     "text": [
      "\n"
     ]
    },
    {
     "name": "stdout",
     "output_type": "stream",
     "text": [
      "\r",
      "epoch : 316, tr_loss:  0.306941, val_loss: 1.035, tr_acc: 81.29%, val_acc: 73.38%\n"
     ]
    },
    {
     "data": {
      "application/vnd.jupyter.widget-view+json": {
       "model_id": "33e19750d8844ba58082455df90812ea",
       "version_major": 2,
       "version_minor": 0
      },
      "text/plain": [
       "HBox(children=(HTML(value='steps'), FloatProgress(value=0.0, max=3006.0), HTML(value='')))"
      ]
     },
     "metadata": {},
     "output_type": "display_data"
    },
    {
     "name": "stderr",
     "output_type": "stream",
     "text": [
      "steps: 100%|██████████| 51/51 [00:00<00:00, 286.21it/s]\n"
     ]
    },
    {
     "name": "stdout",
     "output_type": "stream",
     "text": [
      "\r",
      "\r",
      "global_Step: 950000, tr_loss: 0.302876, val_loss: 0.988350\n"
     ]
    },
    {
     "name": "stderr",
     "output_type": "stream",
     "text": [
      "steps: 100%|██████████| 51/51 [00:00<00:00, 277.07it/s]"
     ]
    },
    {
     "name": "stdout",
     "output_type": "stream",
     "text": [
      "\n",
      "epoch : 317, tr_loss:  0.307990, val_loss: 0.925, tr_acc: 81.20%, val_acc: 74.08%\n"
     ]
    },
    {
     "name": "stderr",
     "output_type": "stream",
     "text": [
      "\n"
     ]
    },
    {
     "data": {
      "application/vnd.jupyter.widget-view+json": {
       "model_id": "87afdf435c2645c287e6a98bf99b8c29",
       "version_major": 2,
       "version_minor": 0
      },
      "text/plain": [
       "HBox(children=(HTML(value='steps'), FloatProgress(value=0.0, max=3006.0), HTML(value='')))"
      ]
     },
     "metadata": {},
     "output_type": "display_data"
    },
    {
     "name": "stderr",
     "output_type": "stream",
     "text": [
      "steps: 100%|██████████| 51/51 [00:00<00:00, 275.51it/s]"
     ]
    },
    {
     "name": "stdout",
     "output_type": "stream",
     "text": [
      "\n",
      "epoch : 318, tr_loss:  0.306883, val_loss: 0.905, tr_acc: 81.24%, val_acc: 73.84%\n"
     ]
    },
    {
     "name": "stderr",
     "output_type": "stream",
     "text": [
      "\n"
     ]
    },
    {
     "data": {
      "application/vnd.jupyter.widget-view+json": {
       "model_id": "6a3bb56d10a54b8285f9c54acf95d102",
       "version_major": 2,
       "version_minor": 0
      },
      "text/plain": [
       "HBox(children=(HTML(value='steps'), FloatProgress(value=0.0, max=3006.0), HTML(value='')))"
      ]
     },
     "metadata": {},
     "output_type": "display_data"
    },
    {
     "name": "stderr",
     "output_type": "stream",
     "text": [
      "steps: 100%|██████████| 51/51 [00:00<00:00, 278.55it/s]"
     ]
    },
    {
     "name": "stdout",
     "output_type": "stream",
     "text": [
      "\n",
      "epoch : 319, tr_loss:  0.306173, val_loss: 0.919, tr_acc: 81.32%, val_acc: 73.78%\n"
     ]
    },
    {
     "name": "stderr",
     "output_type": "stream",
     "text": [
      "\n"
     ]
    },
    {
     "data": {
      "application/vnd.jupyter.widget-view+json": {
       "model_id": "86d0af4b9264498ab37ad9d9b2202daf",
       "version_major": 2,
       "version_minor": 0
      },
      "text/plain": [
       "HBox(children=(HTML(value='steps'), FloatProgress(value=0.0, max=3006.0), HTML(value='')))"
      ]
     },
     "metadata": {},
     "output_type": "display_data"
    },
    {
     "name": "stderr",
     "output_type": "stream",
     "text": [
      "steps: 100%|██████████| 51/51 [00:00<00:00, 287.97it/s]\n"
     ]
    },
    {
     "name": "stdout",
     "output_type": "stream",
     "text": [
      "\r",
      "\r",
      "global_Step: 960000, tr_loss: 0.305701, val_loss: 0.983284\n"
     ]
    },
    {
     "name": "stderr",
     "output_type": "stream",
     "text": [
      "steps: 100%|██████████| 51/51 [00:00<00:00, 267.02it/s]"
     ]
    },
    {
     "name": "stdout",
     "output_type": "stream",
     "text": [
      "\n",
      "epoch : 320, tr_loss:  0.305846, val_loss: 0.976, tr_acc: 81.40%, val_acc: 73.75%\n"
     ]
    },
    {
     "name": "stderr",
     "output_type": "stream",
     "text": [
      "\n"
     ]
    },
    {
     "data": {
      "application/vnd.jupyter.widget-view+json": {
       "model_id": "cba4ab1bb4af4e05bdcef858d2857730",
       "version_major": 2,
       "version_minor": 0
      },
      "text/plain": [
       "HBox(children=(HTML(value='steps'), FloatProgress(value=0.0, max=3006.0), HTML(value='')))"
      ]
     },
     "metadata": {},
     "output_type": "display_data"
    },
    {
     "name": "stderr",
     "output_type": "stream",
     "text": [
      "steps:  53%|█████▎    | 27/51 [00:00<00:00, 263.07it/s]"
     ]
    },
    {
     "name": "stdout",
     "output_type": "stream",
     "text": [
      "\n"
     ]
    },
    {
     "name": "stderr",
     "output_type": "stream",
     "text": [
      "\r",
      "steps: 100%|██████████| 51/51 [00:00<00:00, 257.81it/s]"
     ]
    },
    {
     "name": "stdout",
     "output_type": "stream",
     "text": [
      "\r",
      "epoch : 321, tr_loss:  0.306409, val_loss: 0.948, tr_acc: 81.25%, val_acc: 73.62%\n"
     ]
    },
    {
     "name": "stderr",
     "output_type": "stream",
     "text": [
      "\n"
     ]
    },
    {
     "data": {
      "application/vnd.jupyter.widget-view+json": {
       "model_id": "ff5a2e81591c460593676bdb0138a6fc",
       "version_major": 2,
       "version_minor": 0
      },
      "text/plain": [
       "HBox(children=(HTML(value='steps'), FloatProgress(value=0.0, max=3006.0), HTML(value='')))"
      ]
     },
     "metadata": {},
     "output_type": "display_data"
    },
    {
     "name": "stderr",
     "output_type": "stream",
     "text": [
      "steps: 100%|██████████| 51/51 [00:00<00:00, 266.48it/s]"
     ]
    },
    {
     "name": "stdout",
     "output_type": "stream",
     "text": [
      "\n",
      "epoch : 322, tr_loss:  0.305780, val_loss: 1.015, tr_acc: 81.35%, val_acc: 73.53%\n"
     ]
    },
    {
     "name": "stderr",
     "output_type": "stream",
     "text": [
      "\n"
     ]
    },
    {
     "data": {
      "application/vnd.jupyter.widget-view+json": {
       "model_id": "9e946a9b79924370a0a4930ccd502a89",
       "version_major": 2,
       "version_minor": 0
      },
      "text/plain": [
       "HBox(children=(HTML(value='steps'), FloatProgress(value=0.0, max=3006.0), HTML(value='')))"
      ]
     },
     "metadata": {},
     "output_type": "display_data"
    },
    {
     "name": "stderr",
     "output_type": "stream",
     "text": [
      "steps: 100%|██████████| 51/51 [00:00<00:00, 287.93it/s]\n"
     ]
    },
    {
     "name": "stdout",
     "output_type": "stream",
     "text": [
      "\r",
      "\r",
      "global_Step: 970000, tr_loss: 0.308744, val_loss: 0.939315\n"
     ]
    },
    {
     "name": "stderr",
     "output_type": "stream",
     "text": [
      "steps: 100%|██████████| 51/51 [00:00<00:00, 278.90it/s]"
     ]
    },
    {
     "name": "stdout",
     "output_type": "stream",
     "text": [
      "\n",
      "epoch : 323, tr_loss:  0.306913, val_loss: 1.032, tr_acc: 81.37%, val_acc: 73.44%\n"
     ]
    },
    {
     "name": "stderr",
     "output_type": "stream",
     "text": [
      "\n"
     ]
    },
    {
     "data": {
      "application/vnd.jupyter.widget-view+json": {
       "model_id": "0250e7e04f1340c58d487b1b50174a36",
       "version_major": 2,
       "version_minor": 0
      },
      "text/plain": [
       "HBox(children=(HTML(value='steps'), FloatProgress(value=0.0, max=3006.0), HTML(value='')))"
      ]
     },
     "metadata": {},
     "output_type": "display_data"
    },
    {
     "name": "stderr",
     "output_type": "stream",
     "text": [
      "steps: 100%|██████████| 51/51 [00:00<00:00, 273.75it/s]"
     ]
    },
    {
     "name": "stdout",
     "output_type": "stream",
     "text": [
      "\n"
     ]
    },
    {
     "name": "stderr",
     "output_type": "stream",
     "text": [
      "\n"
     ]
    },
    {
     "name": "stdout",
     "output_type": "stream",
     "text": [
      "\r",
      "epoch : 324, tr_loss:  0.305895, val_loss: 1.020, tr_acc: 81.32%, val_acc: 73.62%\n"
     ]
    },
    {
     "data": {
      "application/vnd.jupyter.widget-view+json": {
       "model_id": "4c5c9a851a01414f944fb28c4fa58b08",
       "version_major": 2,
       "version_minor": 0
      },
      "text/plain": [
       "HBox(children=(HTML(value='steps'), FloatProgress(value=0.0, max=3006.0), HTML(value='')))"
      ]
     },
     "metadata": {},
     "output_type": "display_data"
    },
    {
     "name": "stderr",
     "output_type": "stream",
     "text": [
      "steps: 100%|██████████| 51/51 [00:00<00:00, 275.85it/s]"
     ]
    },
    {
     "name": "stdout",
     "output_type": "stream",
     "text": [
      "\n",
      "epoch : 325, tr_loss:  0.305225, val_loss: 0.992, tr_acc: 81.33%, val_acc: 73.26%\n"
     ]
    },
    {
     "name": "stderr",
     "output_type": "stream",
     "text": [
      "\n"
     ]
    },
    {
     "data": {
      "application/vnd.jupyter.widget-view+json": {
       "model_id": "6c6c95e826294683a2e1e52f013b235a",
       "version_major": 2,
       "version_minor": 0
      },
      "text/plain": [
       "HBox(children=(HTML(value='steps'), FloatProgress(value=0.0, max=3006.0), HTML(value='')))"
      ]
     },
     "metadata": {},
     "output_type": "display_data"
    },
    {
     "name": "stderr",
     "output_type": "stream",
     "text": [
      "steps: 100%|██████████| 51/51 [00:00<00:00, 273.68it/s]"
     ]
    },
    {
     "name": "stdout",
     "output_type": "stream",
     "text": [
      "\n",
      "epoch : 326, tr_loss:  0.304137, val_loss: 1.025, tr_acc: 81.35%, val_acc: 73.41%\n"
     ]
    },
    {
     "name": "stderr",
     "output_type": "stream",
     "text": [
      "\n"
     ]
    },
    {
     "data": {
      "application/vnd.jupyter.widget-view+json": {
       "model_id": "1809da950fcf4a0db572c7679afdac73",
       "version_major": 2,
       "version_minor": 0
      },
      "text/plain": [
       "HBox(children=(HTML(value='steps'), FloatProgress(value=0.0, max=3006.0), HTML(value='')))"
      ]
     },
     "metadata": {},
     "output_type": "display_data"
    },
    {
     "name": "stderr",
     "output_type": "stream",
     "text": [
      "steps: 100%|██████████| 51/51 [00:00<00:00, 286.10it/s]\n"
     ]
    },
    {
     "name": "stdout",
     "output_type": "stream",
     "text": [
      "\r",
      "\r",
      "global_Step: 980000, tr_loss: 0.289916, val_loss: 1.052501\n"
     ]
    },
    {
     "name": "stderr",
     "output_type": "stream",
     "text": [
      "steps: 100%|██████████| 51/51 [00:00<00:00, 271.42it/s]"
     ]
    },
    {
     "name": "stdout",
     "output_type": "stream",
     "text": [
      "\n",
      "epoch : 327, tr_loss:  0.304351, val_loss: 1.121, tr_acc: 81.37%, val_acc: 73.44%\n"
     ]
    },
    {
     "name": "stderr",
     "output_type": "stream",
     "text": [
      "\n"
     ]
    },
    {
     "data": {
      "application/vnd.jupyter.widget-view+json": {
       "model_id": "ec9fb54db9e74b9bb7c3e2188ff3db6b",
       "version_major": 2,
       "version_minor": 0
      },
      "text/plain": [
       "HBox(children=(HTML(value='steps'), FloatProgress(value=0.0, max=3006.0), HTML(value='')))"
      ]
     },
     "metadata": {},
     "output_type": "display_data"
    },
    {
     "name": "stderr",
     "output_type": "stream",
     "text": [
      "steps: 100%|██████████| 51/51 [00:00<00:00, 265.56it/s]"
     ]
    },
    {
     "name": "stdout",
     "output_type": "stream",
     "text": [
      "\n",
      "epoch : 328, tr_loss:  0.303369, val_loss: 0.949, tr_acc: 81.43%, val_acc: 73.90%\n"
     ]
    },
    {
     "name": "stderr",
     "output_type": "stream",
     "text": [
      "\n"
     ]
    },
    {
     "data": {
      "application/vnd.jupyter.widget-view+json": {
       "model_id": "0b877256632244ab8bde5585fb5570b1",
       "version_major": 2,
       "version_minor": 0
      },
      "text/plain": [
       "HBox(children=(HTML(value='steps'), FloatProgress(value=0.0, max=3006.0), HTML(value='')))"
      ]
     },
     "metadata": {},
     "output_type": "display_data"
    },
    {
     "name": "stderr",
     "output_type": "stream",
     "text": [
      "steps: 100%|██████████| 51/51 [00:00<00:00, 269.91it/s]"
     ]
    },
    {
     "name": "stdout",
     "output_type": "stream",
     "text": [
      "\n",
      "epoch : 329, tr_loss:  0.304942, val_loss: 1.041, tr_acc: 81.38%, val_acc: 73.26%\n"
     ]
    },
    {
     "name": "stderr",
     "output_type": "stream",
     "text": [
      "\n"
     ]
    },
    {
     "data": {
      "application/vnd.jupyter.widget-view+json": {
       "model_id": "1c47c8c56e364bdc9186ced5a9f6e5ec",
       "version_major": 2,
       "version_minor": 0
      },
      "text/plain": [
       "HBox(children=(HTML(value='steps'), FloatProgress(value=0.0, max=3006.0), HTML(value='')))"
      ]
     },
     "metadata": {},
     "output_type": "display_data"
    },
    {
     "name": "stderr",
     "output_type": "stream",
     "text": [
      "steps: 100%|██████████| 51/51 [00:00<00:00, 289.16it/s]\n"
     ]
    },
    {
     "name": "stdout",
     "output_type": "stream",
     "text": [
      "\r",
      "\r",
      "global_Step: 990000, tr_loss: 0.300083, val_loss: 1.070830\n"
     ]
    },
    {
     "name": "stderr",
     "output_type": "stream",
     "text": [
      "steps: 100%|██████████| 51/51 [00:00<00:00, 267.80it/s]"
     ]
    },
    {
     "name": "stdout",
     "output_type": "stream",
     "text": [
      "\n",
      "epoch : 330, tr_loss:  0.301741, val_loss: 0.991, tr_acc: 81.51%, val_acc: 73.87%\n"
     ]
    },
    {
     "name": "stderr",
     "output_type": "stream",
     "text": [
      "\n"
     ]
    },
    {
     "data": {
      "application/vnd.jupyter.widget-view+json": {
       "model_id": "430ecc0c862b49adb6227917fb0fcb7e",
       "version_major": 2,
       "version_minor": 0
      },
      "text/plain": [
       "HBox(children=(HTML(value='steps'), FloatProgress(value=0.0, max=3006.0), HTML(value='')))"
      ]
     },
     "metadata": {},
     "output_type": "display_data"
    },
    {
     "name": "stderr",
     "output_type": "stream",
     "text": [
      "steps: 100%|██████████| 51/51 [00:00<00:00, 271.96it/s]"
     ]
    },
    {
     "name": "stdout",
     "output_type": "stream",
     "text": [
      "\n",
      "epoch : 331, tr_loss:  0.304479, val_loss: 0.987, tr_acc: 81.44%, val_acc: 73.59%\n"
     ]
    },
    {
     "name": "stderr",
     "output_type": "stream",
     "text": [
      "\n"
     ]
    },
    {
     "data": {
      "application/vnd.jupyter.widget-view+json": {
       "model_id": "da75f905ade947a5bb4a7091a99fa5bc",
       "version_major": 2,
       "version_minor": 0
      },
      "text/plain": [
       "HBox(children=(HTML(value='steps'), FloatProgress(value=0.0, max=3006.0), HTML(value='')))"
      ]
     },
     "metadata": {},
     "output_type": "display_data"
    },
    {
     "name": "stderr",
     "output_type": "stream",
     "text": [
      "steps: 100%|██████████| 51/51 [00:00<00:00, 271.70it/s]"
     ]
    },
    {
     "name": "stdout",
     "output_type": "stream",
     "text": [
      "\n",
      "epoch : 332, tr_loss:  0.303808, val_loss: 0.982, tr_acc: 81.46%, val_acc: 73.50%\n"
     ]
    },
    {
     "name": "stderr",
     "output_type": "stream",
     "text": [
      "\n"
     ]
    },
    {
     "data": {
      "application/vnd.jupyter.widget-view+json": {
       "model_id": "92a78eec643a46b196b759d311b45375",
       "version_major": 2,
       "version_minor": 0
      },
      "text/plain": [
       "HBox(children=(HTML(value='steps'), FloatProgress(value=0.0, max=3006.0), HTML(value='')))"
      ]
     },
     "metadata": {},
     "output_type": "display_data"
    },
    {
     "name": "stderr",
     "output_type": "stream",
     "text": [
      "steps: 100%|██████████| 51/51 [00:00<00:00, 287.86it/s]\n"
     ]
    },
    {
     "name": "stdout",
     "output_type": "stream",
     "text": [
      "\r",
      "\r",
      "global_Step: 1000000, tr_loss: 0.300874, val_loss: 0.998184\n"
     ]
    },
    {
     "name": "stderr",
     "output_type": "stream",
     "text": [
      "steps: 100%|██████████| 51/51 [00:00<00:00, 267.27it/s]"
     ]
    },
    {
     "name": "stdout",
     "output_type": "stream",
     "text": [
      "\n",
      "epoch : 333, tr_loss:  0.302589, val_loss: 1.008, tr_acc: 81.45%, val_acc: 73.47%\n"
     ]
    },
    {
     "name": "stderr",
     "output_type": "stream",
     "text": [
      "\n"
     ]
    },
    {
     "data": {
      "application/vnd.jupyter.widget-view+json": {
       "model_id": "1ea54c1992bb45a3a6f73ef5103dac5a",
       "version_major": 2,
       "version_minor": 0
      },
      "text/plain": [
       "HBox(children=(HTML(value='steps'), FloatProgress(value=0.0, max=3006.0), HTML(value='')))"
      ]
     },
     "metadata": {},
     "output_type": "display_data"
    },
    {
     "name": "stderr",
     "output_type": "stream",
     "text": [
      "steps: 100%|██████████| 51/51 [00:00<00:00, 274.01it/s]"
     ]
    },
    {
     "name": "stdout",
     "output_type": "stream",
     "text": [
      "\n",
      "epoch : 334, tr_loss:  0.301947, val_loss: 1.056, tr_acc: 81.55%, val_acc: 73.41%\n"
     ]
    },
    {
     "name": "stderr",
     "output_type": "stream",
     "text": [
      "\n"
     ]
    },
    {
     "data": {
      "application/vnd.jupyter.widget-view+json": {
       "model_id": "39494dea455f4d818f89fd7f2a5bec2a",
       "version_major": 2,
       "version_minor": 0
      },
      "text/plain": [
       "HBox(children=(HTML(value='steps'), FloatProgress(value=0.0, max=3006.0), HTML(value='')))"
      ]
     },
     "metadata": {},
     "output_type": "display_data"
    },
    {
     "name": "stderr",
     "output_type": "stream",
     "text": [
      "steps: 100%|██████████| 51/51 [00:00<00:00, 278.58it/s]"
     ]
    },
    {
     "name": "stdout",
     "output_type": "stream",
     "text": [
      "\n",
      "epoch : 335, tr_loss:  0.302326, val_loss: 1.005, tr_acc: 81.51%, val_acc: 73.29%\n"
     ]
    },
    {
     "name": "stderr",
     "output_type": "stream",
     "text": [
      "\n"
     ]
    },
    {
     "data": {
      "application/vnd.jupyter.widget-view+json": {
       "model_id": "c8b92ad60d844fffae1fef99095432f1",
       "version_major": 2,
       "version_minor": 0
      },
      "text/plain": [
       "HBox(children=(HTML(value='steps'), FloatProgress(value=0.0, max=3006.0), HTML(value='')))"
      ]
     },
     "metadata": {},
     "output_type": "display_data"
    },
    {
     "name": "stderr",
     "output_type": "stream",
     "text": [
      "steps: 100%|██████████| 51/51 [00:00<00:00, 287.99it/s]\n",
      "steps:   0%|          | 0/51 [00:00<?, ?it/s]"
     ]
    },
    {
     "name": "stdout",
     "output_type": "stream",
     "text": [
      "\r",
      "\r",
      "global_Step: 1010000, tr_loss: 0.302902, val_loss: 1.023656\n",
      "\n"
     ]
    },
    {
     "name": "stderr",
     "output_type": "stream",
     "text": [
      "steps: 100%|██████████| 51/51 [00:00<00:00, 272.64it/s]"
     ]
    },
    {
     "name": "stdout",
     "output_type": "stream",
     "text": [
      "\r",
      "epoch : 336, tr_loss:  0.302882, val_loss: 1.014, tr_acc: 81.43%, val_acc: 73.56%\n"
     ]
    },
    {
     "name": "stderr",
     "output_type": "stream",
     "text": [
      "\n"
     ]
    },
    {
     "data": {
      "application/vnd.jupyter.widget-view+json": {
       "model_id": "9742c452f06a4e5da329c3cf49a0de53",
       "version_major": 2,
       "version_minor": 0
      },
      "text/plain": [
       "HBox(children=(HTML(value='steps'), FloatProgress(value=0.0, max=3006.0), HTML(value='')))"
      ]
     },
     "metadata": {},
     "output_type": "display_data"
    },
    {
     "name": "stderr",
     "output_type": "stream",
     "text": [
      "steps: 100%|██████████| 51/51 [00:00<00:00, 268.43it/s]"
     ]
    },
    {
     "name": "stdout",
     "output_type": "stream",
     "text": [
      "\n",
      "epoch : 337, tr_loss:  0.301557, val_loss: 1.025, tr_acc: 81.54%, val_acc: 73.29%\n"
     ]
    },
    {
     "name": "stderr",
     "output_type": "stream",
     "text": [
      "\n"
     ]
    },
    {
     "data": {
      "application/vnd.jupyter.widget-view+json": {
       "model_id": "a16d8f7381784e059bbe8671caf05783",
       "version_major": 2,
       "version_minor": 0
      },
      "text/plain": [
       "HBox(children=(HTML(value='steps'), FloatProgress(value=0.0, max=3006.0), HTML(value='')))"
      ]
     },
     "metadata": {},
     "output_type": "display_data"
    },
    {
     "name": "stderr",
     "output_type": "stream",
     "text": [
      "steps:  53%|█████▎    | 27/51 [00:00<00:00, 266.49it/s]"
     ]
    },
    {
     "name": "stdout",
     "output_type": "stream",
     "text": [
      "\n"
     ]
    },
    {
     "name": "stderr",
     "output_type": "stream",
     "text": [
      "\r",
      "steps: 100%|██████████| 51/51 [00:00<00:00, 269.34it/s]"
     ]
    },
    {
     "name": "stdout",
     "output_type": "stream",
     "text": [
      "\r",
      "epoch : 338, tr_loss:  0.301605, val_loss: 1.098, tr_acc: 81.52%, val_acc: 73.47%\n"
     ]
    },
    {
     "name": "stderr",
     "output_type": "stream",
     "text": [
      "\n"
     ]
    },
    {
     "data": {
      "application/vnd.jupyter.widget-view+json": {
       "model_id": "58a8f7eeaaef40bcabdaeb7c3656961a",
       "version_major": 2,
       "version_minor": 0
      },
      "text/plain": [
       "HBox(children=(HTML(value='steps'), FloatProgress(value=0.0, max=3006.0), HTML(value='')))"
      ]
     },
     "metadata": {},
     "output_type": "display_data"
    },
    {
     "name": "stderr",
     "output_type": "stream",
     "text": [
      "steps: 100%|██████████| 51/51 [00:00<00:00, 272.12it/s]"
     ]
    },
    {
     "name": "stdout",
     "output_type": "stream",
     "text": [
      "\n",
      "epoch : 339, tr_loss:  0.301648, val_loss: 1.004, tr_acc: 81.61%, val_acc: 73.59%\n"
     ]
    },
    {
     "name": "stderr",
     "output_type": "stream",
     "text": [
      "\n"
     ]
    },
    {
     "data": {
      "application/vnd.jupyter.widget-view+json": {
       "model_id": "08d5c85523e24465a100130c9b644a8b",
       "version_major": 2,
       "version_minor": 0
      },
      "text/plain": [
       "HBox(children=(HTML(value='steps'), FloatProgress(value=0.0, max=3006.0), HTML(value='')))"
      ]
     },
     "metadata": {},
     "output_type": "display_data"
    },
    {
     "name": "stderr",
     "output_type": "stream",
     "text": [
      "steps: 100%|██████████| 51/51 [00:00<00:00, 284.80it/s]\n"
     ]
    },
    {
     "name": "stdout",
     "output_type": "stream",
     "text": [
      "\r",
      "\r",
      "global_Step: 1020000, tr_loss: 0.299542, val_loss: 1.114944\n"
     ]
    },
    {
     "name": "stderr",
     "output_type": "stream",
     "text": [
      "steps:  51%|█████     | 26/51 [00:00<00:00, 254.72it/s]"
     ]
    },
    {
     "name": "stdout",
     "output_type": "stream",
     "text": [
      "\n"
     ]
    },
    {
     "name": "stderr",
     "output_type": "stream",
     "text": [
      "steps: 100%|██████████| 51/51 [00:00<00:00, 249.75it/s]"
     ]
    },
    {
     "name": "stdout",
     "output_type": "stream",
     "text": [
      "\r",
      "epoch : 340, tr_loss:  0.302295, val_loss: 1.114, tr_acc: 81.55%, val_acc: 73.29%\n"
     ]
    },
    {
     "name": "stderr",
     "output_type": "stream",
     "text": [
      "\n"
     ]
    },
    {
     "data": {
      "application/vnd.jupyter.widget-view+json": {
       "model_id": "325d8ae602ce475b8764beeb6b31868d",
       "version_major": 2,
       "version_minor": 0
      },
      "text/plain": [
       "HBox(children=(HTML(value='steps'), FloatProgress(value=0.0, max=3006.0), HTML(value='')))"
      ]
     },
     "metadata": {},
     "output_type": "display_data"
    },
    {
     "name": "stderr",
     "output_type": "stream",
     "text": [
      "steps: 100%|██████████| 51/51 [00:00<00:00, 276.09it/s]"
     ]
    },
    {
     "name": "stdout",
     "output_type": "stream",
     "text": [
      "\n",
      "epoch : 341, tr_loss:  0.299933, val_loss: 1.105, tr_acc: 81.64%, val_acc: 73.26%\n"
     ]
    },
    {
     "name": "stderr",
     "output_type": "stream",
     "text": [
      "\n"
     ]
    },
    {
     "data": {
      "application/vnd.jupyter.widget-view+json": {
       "model_id": "c81e36f47cba4d0aa5f2a77fdc16e6c8",
       "version_major": 2,
       "version_minor": 0
      },
      "text/plain": [
       "HBox(children=(HTML(value='steps'), FloatProgress(value=0.0, max=3006.0), HTML(value='')))"
      ]
     },
     "metadata": {},
     "output_type": "display_data"
    },
    {
     "name": "stderr",
     "output_type": "stream",
     "text": [
      "steps: 100%|██████████| 51/51 [00:00<00:00, 271.09it/s]"
     ]
    },
    {
     "name": "stdout",
     "output_type": "stream",
     "text": [
      "\n",
      "epoch : 342, tr_loss:  0.300627, val_loss: 0.986, tr_acc: 81.59%, val_acc: 73.32%\n"
     ]
    },
    {
     "name": "stderr",
     "output_type": "stream",
     "text": [
      "\n"
     ]
    },
    {
     "data": {
      "application/vnd.jupyter.widget-view+json": {
       "model_id": "cfd7c346773944ac8cc05706f5eceec5",
       "version_major": 2,
       "version_minor": 0
      },
      "text/plain": [
       "HBox(children=(HTML(value='steps'), FloatProgress(value=0.0, max=3006.0), HTML(value='')))"
      ]
     },
     "metadata": {},
     "output_type": "display_data"
    },
    {
     "name": "stderr",
     "output_type": "stream",
     "text": [
      "steps: 100%|██████████| 51/51 [00:00<00:00, 280.19it/s]\n"
     ]
    },
    {
     "name": "stdout",
     "output_type": "stream",
     "text": [
      "\r",
      "\r",
      "global_Step: 1030000, tr_loss: 0.299757, val_loss: 1.031384\n"
     ]
    },
    {
     "name": "stderr",
     "output_type": "stream",
     "text": [
      "steps: 100%|██████████| 51/51 [00:00<00:00, 273.84it/s]"
     ]
    },
    {
     "name": "stdout",
     "output_type": "stream",
     "text": [
      "\n",
      "epoch : 343, tr_loss:  0.301294, val_loss: 0.963, tr_acc: 81.60%, val_acc: 73.26%\n"
     ]
    },
    {
     "name": "stderr",
     "output_type": "stream",
     "text": [
      "\n"
     ]
    },
    {
     "data": {
      "application/vnd.jupyter.widget-view+json": {
       "model_id": "df90461fb2994bd9a7ae34e24f999cc6",
       "version_major": 2,
       "version_minor": 0
      },
      "text/plain": [
       "HBox(children=(HTML(value='steps'), FloatProgress(value=0.0, max=3006.0), HTML(value='')))"
      ]
     },
     "metadata": {},
     "output_type": "display_data"
    },
    {
     "name": "stderr",
     "output_type": "stream",
     "text": [
      "steps: 100%|██████████| 51/51 [00:00<00:00, 275.49it/s]"
     ]
    },
    {
     "name": "stdout",
     "output_type": "stream",
     "text": [
      "\n",
      "epoch : 344, tr_loss:  0.299483, val_loss: 1.028, tr_acc: 81.70%, val_acc: 73.35%\n"
     ]
    },
    {
     "name": "stderr",
     "output_type": "stream",
     "text": [
      "\n"
     ]
    },
    {
     "data": {
      "application/vnd.jupyter.widget-view+json": {
       "model_id": "2d91b80565064cbf8e36e7499760ec53",
       "version_major": 2,
       "version_minor": 0
      },
      "text/plain": [
       "HBox(children=(HTML(value='steps'), FloatProgress(value=0.0, max=3006.0), HTML(value='')))"
      ]
     },
     "metadata": {},
     "output_type": "display_data"
    },
    {
     "name": "stderr",
     "output_type": "stream",
     "text": [
      "steps: 100%|██████████| 51/51 [00:00<00:00, 271.95it/s]"
     ]
    },
    {
     "name": "stdout",
     "output_type": "stream",
     "text": [
      "\n",
      "epoch : 345, tr_loss:  0.300962, val_loss: 1.144, tr_acc: 81.67%, val_acc: 73.14%\n"
     ]
    },
    {
     "name": "stderr",
     "output_type": "stream",
     "text": [
      "\n"
     ]
    },
    {
     "data": {
      "application/vnd.jupyter.widget-view+json": {
       "model_id": "a9150e3838374e59ba0f27b7f45c5f89",
       "version_major": 2,
       "version_minor": 0
      },
      "text/plain": [
       "HBox(children=(HTML(value='steps'), FloatProgress(value=0.0, max=3006.0), HTML(value='')))"
      ]
     },
     "metadata": {},
     "output_type": "display_data"
    },
    {
     "name": "stderr",
     "output_type": "stream",
     "text": [
      "steps: 100%|██████████| 51/51 [00:00<00:00, 283.36it/s]\n"
     ]
    },
    {
     "name": "stdout",
     "output_type": "stream",
     "text": [
      "\r",
      "\r",
      "global_Step: 1040000, tr_loss: 0.301123, val_loss: 1.075663\n"
     ]
    },
    {
     "name": "stderr",
     "output_type": "stream",
     "text": [
      "steps: 100%|██████████| 51/51 [00:00<00:00, 269.83it/s]"
     ]
    },
    {
     "name": "stdout",
     "output_type": "stream",
     "text": [
      "\n",
      "epoch : 346, tr_loss:  0.301050, val_loss: 1.094, tr_acc: 81.61%, val_acc: 73.41%\n"
     ]
    },
    {
     "name": "stderr",
     "output_type": "stream",
     "text": [
      "\n"
     ]
    },
    {
     "data": {
      "application/vnd.jupyter.widget-view+json": {
       "model_id": "534a8e8d10434af09a4b136ca5aa77ff",
       "version_major": 2,
       "version_minor": 0
      },
      "text/plain": [
       "HBox(children=(HTML(value='steps'), FloatProgress(value=0.0, max=3006.0), HTML(value='')))"
      ]
     },
     "metadata": {},
     "output_type": "display_data"
    },
    {
     "name": "stderr",
     "output_type": "stream",
     "text": [
      "steps: 100%|██████████| 51/51 [00:00<00:00, 274.67it/s]"
     ]
    },
    {
     "name": "stdout",
     "output_type": "stream",
     "text": [
      "\n",
      "epoch : 347, tr_loss:  0.300045, val_loss: 1.089, tr_acc: 81.71%, val_acc: 73.44%\n"
     ]
    },
    {
     "name": "stderr",
     "output_type": "stream",
     "text": [
      "\n"
     ]
    },
    {
     "data": {
      "application/vnd.jupyter.widget-view+json": {
       "model_id": "e9614bbc991244c8904d32ff3668ca96",
       "version_major": 2,
       "version_minor": 0
      },
      "text/plain": [
       "HBox(children=(HTML(value='steps'), FloatProgress(value=0.0, max=3006.0), HTML(value='')))"
      ]
     },
     "metadata": {},
     "output_type": "display_data"
    },
    {
     "name": "stderr",
     "output_type": "stream",
     "text": [
      "steps: 100%|██████████| 51/51 [00:00<00:00, 271.83it/s]"
     ]
    },
    {
     "name": "stdout",
     "output_type": "stream",
     "text": [
      "\n",
      "epoch : 348, tr_loss:  0.302045, val_loss: 1.046, tr_acc: 81.58%, val_acc: 73.41%\n"
     ]
    },
    {
     "name": "stderr",
     "output_type": "stream",
     "text": [
      "\n"
     ]
    },
    {
     "data": {
      "application/vnd.jupyter.widget-view+json": {
       "model_id": "719b418ab5d64bf4a684478e85942e9c",
       "version_major": 2,
       "version_minor": 0
      },
      "text/plain": [
       "HBox(children=(HTML(value='steps'), FloatProgress(value=0.0, max=3006.0), HTML(value='')))"
      ]
     },
     "metadata": {},
     "output_type": "display_data"
    },
    {
     "name": "stderr",
     "output_type": "stream",
     "text": [
      "steps: 100%|██████████| 51/51 [00:00<00:00, 278.27it/s]"
     ]
    },
    {
     "name": "stdout",
     "output_type": "stream",
     "text": [
      "\n",
      "epoch : 349, tr_loss:  0.299070, val_loss: 1.085, tr_acc: 81.68%, val_acc: 73.41%\n"
     ]
    },
    {
     "name": "stderr",
     "output_type": "stream",
     "text": [
      "\n"
     ]
    },
    {
     "data": {
      "application/vnd.jupyter.widget-view+json": {
       "model_id": "db53641c4cd84e4fb1e4f6f2835dc3b8",
       "version_major": 2,
       "version_minor": 0
      },
      "text/plain": [
       "HBox(children=(HTML(value='steps'), FloatProgress(value=0.0, max=3006.0), HTML(value='')))"
      ]
     },
     "metadata": {},
     "output_type": "display_data"
    },
    {
     "name": "stderr",
     "output_type": "stream",
     "text": [
      "steps: 100%|██████████| 51/51 [00:00<00:00, 285.88it/s]\n"
     ]
    },
    {
     "name": "stdout",
     "output_type": "stream",
     "text": [
      "\r",
      "\r",
      "global_Step: 1050000, tr_loss: 0.298190, val_loss: 1.023731\n"
     ]
    },
    {
     "name": "stderr",
     "output_type": "stream",
     "text": [
      "steps: 100%|██████████| 51/51 [00:00<00:00, 273.84it/s]"
     ]
    },
    {
     "name": "stdout",
     "output_type": "stream",
     "text": [
      "\n",
      "epoch : 350, tr_loss:  0.299285, val_loss: 1.024, tr_acc: 81.73%, val_acc: 73.17%\n"
     ]
    },
    {
     "name": "stderr",
     "output_type": "stream",
     "text": [
      "\n"
     ]
    },
    {
     "data": {
      "application/vnd.jupyter.widget-view+json": {
       "model_id": "a73d9f805cce47bcb9ae87437d1511c2",
       "version_major": 2,
       "version_minor": 0
      },
      "text/plain": [
       "HBox(children=(HTML(value='steps'), FloatProgress(value=0.0, max=3006.0), HTML(value='')))"
      ]
     },
     "metadata": {},
     "output_type": "display_data"
    },
    {
     "name": "stderr",
     "output_type": "stream",
     "text": [
      "steps: 100%|██████████| 51/51 [00:00<00:00, 278.31it/s]"
     ]
    },
    {
     "name": "stdout",
     "output_type": "stream",
     "text": [
      "\n",
      "\r",
      "epoch : 351, tr_loss:  0.299832, val_loss: 1.093, tr_acc: 81.69%, val_acc: 73.59%\n"
     ]
    },
    {
     "name": "stderr",
     "output_type": "stream",
     "text": [
      "\n"
     ]
    },
    {
     "data": {
      "application/vnd.jupyter.widget-view+json": {
       "model_id": "4c46aac5c2bb49989bd88ce73aab1e31",
       "version_major": 2,
       "version_minor": 0
      },
      "text/plain": [
       "HBox(children=(HTML(value='steps'), FloatProgress(value=0.0, max=3006.0), HTML(value='')))"
      ]
     },
     "metadata": {},
     "output_type": "display_data"
    },
    {
     "name": "stderr",
     "output_type": "stream",
     "text": [
      "steps: 100%|██████████| 51/51 [00:00<00:00, 278.38it/s]"
     ]
    },
    {
     "name": "stdout",
     "output_type": "stream",
     "text": [
      "\n",
      "epoch : 352, tr_loss:  0.298254, val_loss: 0.971, tr_acc: 81.76%, val_acc: 73.90%\n"
     ]
    },
    {
     "name": "stderr",
     "output_type": "stream",
     "text": [
      "\n"
     ]
    },
    {
     "data": {
      "application/vnd.jupyter.widget-view+json": {
       "model_id": "e2aa6679dda44cc1bf9c001c89b27669",
       "version_major": 2,
       "version_minor": 0
      },
      "text/plain": [
       "HBox(children=(HTML(value='steps'), FloatProgress(value=0.0, max=3006.0), HTML(value='')))"
      ]
     },
     "metadata": {},
     "output_type": "display_data"
    },
    {
     "name": "stderr",
     "output_type": "stream",
     "text": [
      "steps: 100%|██████████| 51/51 [00:00<00:00, 283.63it/s]\n"
     ]
    },
    {
     "name": "stdout",
     "output_type": "stream",
     "text": [
      "\r",
      "\r",
      "global_Step: 1060000, tr_loss: 0.297837, val_loss: 1.128973\n"
     ]
    },
    {
     "name": "stderr",
     "output_type": "stream",
     "text": [
      "steps: 100%|██████████| 51/51 [00:00<00:00, 272.74it/s]"
     ]
    },
    {
     "name": "stdout",
     "output_type": "stream",
     "text": [
      "\n",
      "epoch : 353, tr_loss:  0.298880, val_loss: 1.136, tr_acc: 81.66%, val_acc: 73.23%\n"
     ]
    },
    {
     "name": "stderr",
     "output_type": "stream",
     "text": [
      "\n"
     ]
    },
    {
     "data": {
      "application/vnd.jupyter.widget-view+json": {
       "model_id": "3ff2dfe54928450a854a273d84c2a8e2",
       "version_major": 2,
       "version_minor": 0
      },
      "text/plain": [
       "HBox(children=(HTML(value='steps'), FloatProgress(value=0.0, max=3006.0), HTML(value='')))"
      ]
     },
     "metadata": {},
     "output_type": "display_data"
    },
    {
     "name": "stderr",
     "output_type": "stream",
     "text": [
      "steps: 100%|██████████| 51/51 [00:00<00:00, 271.14it/s]"
     ]
    },
    {
     "name": "stdout",
     "output_type": "stream",
     "text": [
      "\n",
      "epoch : 354, tr_loss:  0.298682, val_loss: 1.093, tr_acc: 81.79%, val_acc: 73.44%\n"
     ]
    },
    {
     "name": "stderr",
     "output_type": "stream",
     "text": [
      "\n"
     ]
    },
    {
     "data": {
      "application/vnd.jupyter.widget-view+json": {
       "model_id": "50374254c6c14314a99fc0b6ae7a63a2",
       "version_major": 2,
       "version_minor": 0
      },
      "text/plain": [
       "HBox(children=(HTML(value='steps'), FloatProgress(value=0.0, max=3006.0), HTML(value='')))"
      ]
     },
     "metadata": {},
     "output_type": "display_data"
    },
    {
     "name": "stderr",
     "output_type": "stream",
     "text": [
      "steps: 100%|██████████| 51/51 [00:00<00:00, 272.65it/s]"
     ]
    },
    {
     "name": "stdout",
     "output_type": "stream",
     "text": [
      "\n",
      "epoch : 355, tr_loss:  0.299844, val_loss: 1.062, tr_acc: 81.68%, val_acc: 73.32%\n"
     ]
    },
    {
     "name": "stderr",
     "output_type": "stream",
     "text": [
      "\n"
     ]
    },
    {
     "data": {
      "application/vnd.jupyter.widget-view+json": {
       "model_id": "f61110b15231430b9e4f4e6e36e30e5f",
       "version_major": 2,
       "version_minor": 0
      },
      "text/plain": [
       "HBox(children=(HTML(value='steps'), FloatProgress(value=0.0, max=3006.0), HTML(value='')))"
      ]
     },
     "metadata": {},
     "output_type": "display_data"
    },
    {
     "name": "stderr",
     "output_type": "stream",
     "text": [
      "steps: 100%|██████████| 51/51 [00:00<00:00, 286.33it/s]\n"
     ]
    },
    {
     "name": "stdout",
     "output_type": "stream",
     "text": [
      "\r",
      "\r",
      "global_Step: 1070000, tr_loss: 0.296884, val_loss: 1.234892\n"
     ]
    },
    {
     "name": "stderr",
     "output_type": "stream",
     "text": [
      "steps: 100%|██████████| 51/51 [00:00<00:00, 274.08it/s]"
     ]
    },
    {
     "name": "stdout",
     "output_type": "stream",
     "text": [
      "\n",
      "epoch : 356, tr_loss:  0.296689, val_loss: 1.094, tr_acc: 81.88%, val_acc: 73.35%\n"
     ]
    },
    {
     "name": "stderr",
     "output_type": "stream",
     "text": [
      "\n"
     ]
    },
    {
     "data": {
      "application/vnd.jupyter.widget-view+json": {
       "model_id": "d13cd86797b0473696601fbbbfe8f7aa",
       "version_major": 2,
       "version_minor": 0
      },
      "text/plain": [
       "HBox(children=(HTML(value='steps'), FloatProgress(value=0.0, max=3006.0), HTML(value='')))"
      ]
     },
     "metadata": {},
     "output_type": "display_data"
    },
    {
     "name": "stderr",
     "output_type": "stream",
     "text": [
      "steps: 100%|██████████| 51/51 [00:00<00:00, 270.31it/s]"
     ]
    },
    {
     "name": "stdout",
     "output_type": "stream",
     "text": [
      "\n",
      "epoch : 357, tr_loss:  0.299306, val_loss: 1.091, tr_acc: 81.71%, val_acc: 73.11%\n"
     ]
    },
    {
     "name": "stderr",
     "output_type": "stream",
     "text": [
      "\n"
     ]
    },
    {
     "data": {
      "application/vnd.jupyter.widget-view+json": {
       "model_id": "4fc69413dba24d3eb0ee688c33e0433e",
       "version_major": 2,
       "version_minor": 0
      },
      "text/plain": [
       "HBox(children=(HTML(value='steps'), FloatProgress(value=0.0, max=3006.0), HTML(value='')))"
      ]
     },
     "metadata": {},
     "output_type": "display_data"
    },
    {
     "name": "stderr",
     "output_type": "stream",
     "text": [
      "steps: 100%|██████████| 51/51 [00:00<00:00, 277.05it/s]"
     ]
    },
    {
     "name": "stdout",
     "output_type": "stream",
     "text": [
      "\n",
      "epoch : 358, tr_loss:  0.296807, val_loss: 1.063, tr_acc: 81.75%, val_acc: 73.50%\n"
     ]
    },
    {
     "name": "stderr",
     "output_type": "stream",
     "text": [
      "\n"
     ]
    },
    {
     "data": {
      "application/vnd.jupyter.widget-view+json": {
       "model_id": "1690a08b94254ca69fbe314ef787758e",
       "version_major": 2,
       "version_minor": 0
      },
      "text/plain": [
       "HBox(children=(HTML(value='steps'), FloatProgress(value=0.0, max=3006.0), HTML(value='')))"
      ]
     },
     "metadata": {},
     "output_type": "display_data"
    },
    {
     "name": "stderr",
     "output_type": "stream",
     "text": [
      "steps: 100%|██████████| 51/51 [00:00<00:00, 252.74it/s]"
     ]
    },
    {
     "name": "stdout",
     "output_type": "stream",
     "text": [
      "\n",
      "epoch : 359, tr_loss:  0.297962, val_loss: 1.112, tr_acc: 81.79%, val_acc: 73.47%\n"
     ]
    },
    {
     "name": "stderr",
     "output_type": "stream",
     "text": [
      "\n"
     ]
    },
    {
     "data": {
      "application/vnd.jupyter.widget-view+json": {
       "model_id": "9a2095fbc32d4e628561c72f2e1064f3",
       "version_major": 2,
       "version_minor": 0
      },
      "text/plain": [
       "HBox(children=(HTML(value='steps'), FloatProgress(value=0.0, max=3006.0), HTML(value='')))"
      ]
     },
     "metadata": {},
     "output_type": "display_data"
    },
    {
     "name": "stderr",
     "output_type": "stream",
     "text": [
      "steps: 100%|██████████| 51/51 [00:00<00:00, 279.70it/s]\n"
     ]
    },
    {
     "name": "stdout",
     "output_type": "stream",
     "text": [
      "\r",
      "\r",
      "global_Step: 1080000, tr_loss: 0.293150, val_loss: 1.198969\n"
     ]
    },
    {
     "name": "stderr",
     "output_type": "stream",
     "text": [
      "steps: 100%|██████████| 51/51 [00:00<00:00, 273.61it/s]"
     ]
    },
    {
     "name": "stdout",
     "output_type": "stream",
     "text": [
      "\n",
      "epoch : 360, tr_loss:  0.299089, val_loss: 1.121, tr_acc: 81.74%, val_acc: 72.98%\n"
     ]
    },
    {
     "name": "stderr",
     "output_type": "stream",
     "text": [
      "\n"
     ]
    },
    {
     "data": {
      "application/vnd.jupyter.widget-view+json": {
       "model_id": "a8105b39817d44dd993d3ee19ee9f493",
       "version_major": 2,
       "version_minor": 0
      },
      "text/plain": [
       "HBox(children=(HTML(value='steps'), FloatProgress(value=0.0, max=3006.0), HTML(value='')))"
      ]
     },
     "metadata": {},
     "output_type": "display_data"
    },
    {
     "name": "stderr",
     "output_type": "stream",
     "text": [
      "steps: 100%|██████████| 51/51 [00:00<00:00, 266.35it/s]"
     ]
    },
    {
     "name": "stdout",
     "output_type": "stream",
     "text": [
      "\n",
      "epoch : 361, tr_loss:  0.297493, val_loss: 1.095, tr_acc: 81.85%, val_acc: 73.20%\n"
     ]
    },
    {
     "name": "stderr",
     "output_type": "stream",
     "text": [
      "\n"
     ]
    },
    {
     "data": {
      "application/vnd.jupyter.widget-view+json": {
       "model_id": "21f7da7e962841ca812f3830efeaa4f7",
       "version_major": 2,
       "version_minor": 0
      },
      "text/plain": [
       "HBox(children=(HTML(value='steps'), FloatProgress(value=0.0, max=3006.0), HTML(value='')))"
      ]
     },
     "metadata": {},
     "output_type": "display_data"
    },
    {
     "name": "stderr",
     "output_type": "stream",
     "text": [
      "steps: 100%|██████████| 51/51 [00:00<00:00, 269.88it/s]"
     ]
    },
    {
     "name": "stdout",
     "output_type": "stream",
     "text": [
      "\n",
      "epoch : 362, tr_loss:  0.296430, val_loss: 1.073, tr_acc: 81.87%, val_acc: 73.53%\n"
     ]
    },
    {
     "name": "stderr",
     "output_type": "stream",
     "text": [
      "\n"
     ]
    },
    {
     "data": {
      "application/vnd.jupyter.widget-view+json": {
       "model_id": "f1e1a9143c27497b89c9a42c3ff89da1",
       "version_major": 2,
       "version_minor": 0
      },
      "text/plain": [
       "HBox(children=(HTML(value='steps'), FloatProgress(value=0.0, max=3006.0), HTML(value='')))"
      ]
     },
     "metadata": {},
     "output_type": "display_data"
    },
    {
     "name": "stderr",
     "output_type": "stream",
     "text": [
      "steps: 100%|██████████| 51/51 [00:00<00:00, 286.18it/s]\n"
     ]
    },
    {
     "name": "stdout",
     "output_type": "stream",
     "text": [
      "\r",
      "\r",
      "global_Step: 1090000, tr_loss: 0.294833, val_loss: 1.159149\n"
     ]
    },
    {
     "name": "stderr",
     "output_type": "stream",
     "text": [
      "steps: 100%|██████████| 51/51 [00:00<00:00, 274.74it/s]"
     ]
    },
    {
     "name": "stdout",
     "output_type": "stream",
     "text": [
      "\n",
      "epoch : 363, tr_loss:  0.296086, val_loss: 1.099, tr_acc: 81.86%, val_acc: 73.44%\n"
     ]
    },
    {
     "name": "stderr",
     "output_type": "stream",
     "text": [
      "\n"
     ]
    },
    {
     "data": {
      "application/vnd.jupyter.widget-view+json": {
       "model_id": "f8739786101c4c0c8f375612dd274d99",
       "version_major": 2,
       "version_minor": 0
      },
      "text/plain": [
       "HBox(children=(HTML(value='steps'), FloatProgress(value=0.0, max=3006.0), HTML(value='')))"
      ]
     },
     "metadata": {},
     "output_type": "display_data"
    },
    {
     "name": "stderr",
     "output_type": "stream",
     "text": [
      "steps: 100%|██████████| 51/51 [00:00<00:00, 268.23it/s]"
     ]
    },
    {
     "name": "stdout",
     "output_type": "stream",
     "text": [
      "\n",
      "epoch : 364, tr_loss:  0.300479, val_loss: 1.143, tr_acc: 81.70%, val_acc: 73.38%\n"
     ]
    },
    {
     "name": "stderr",
     "output_type": "stream",
     "text": [
      "\n"
     ]
    },
    {
     "data": {
      "application/vnd.jupyter.widget-view+json": {
       "model_id": "3e3122170d0a4d7e8c4345d63b5c3652",
       "version_major": 2,
       "version_minor": 0
      },
      "text/plain": [
       "HBox(children=(HTML(value='steps'), FloatProgress(value=0.0, max=3006.0), HTML(value='')))"
      ]
     },
     "metadata": {},
     "output_type": "display_data"
    },
    {
     "name": "stderr",
     "output_type": "stream",
     "text": [
      "steps: 100%|██████████| 51/51 [00:00<00:00, 271.73it/s]"
     ]
    },
    {
     "name": "stdout",
     "output_type": "stream",
     "text": [
      "\n",
      "epoch : 365, tr_loss:  0.295744, val_loss: 1.162, tr_acc: 81.92%, val_acc: 73.17%\n"
     ]
    },
    {
     "name": "stderr",
     "output_type": "stream",
     "text": [
      "\n"
     ]
    },
    {
     "data": {
      "application/vnd.jupyter.widget-view+json": {
       "model_id": "a5c36566e64d436783585cac1f5be40f",
       "version_major": 2,
       "version_minor": 0
      },
      "text/plain": [
       "HBox(children=(HTML(value='steps'), FloatProgress(value=0.0, max=3006.0), HTML(value='')))"
      ]
     },
     "metadata": {},
     "output_type": "display_data"
    },
    {
     "name": "stderr",
     "output_type": "stream",
     "text": [
      "steps: 100%|██████████| 51/51 [00:00<00:00, 281.64it/s]\n"
     ]
    },
    {
     "name": "stdout",
     "output_type": "stream",
     "text": [
      "\r",
      "\r",
      "global_Step: 1100000, tr_loss: 0.297328, val_loss: 1.024386\n"
     ]
    },
    {
     "name": "stderr",
     "output_type": "stream",
     "text": [
      "steps: 100%|██████████| 51/51 [00:00<00:00, 270.76it/s]"
     ]
    },
    {
     "name": "stdout",
     "output_type": "stream",
     "text": [
      "\n",
      "epoch : 366, tr_loss:  0.297040, val_loss: 1.189, tr_acc: 81.93%, val_acc: 73.26%\n"
     ]
    },
    {
     "name": "stderr",
     "output_type": "stream",
     "text": [
      "\n"
     ]
    },
    {
     "data": {
      "application/vnd.jupyter.widget-view+json": {
       "model_id": "2f72cfbcb5e4421e86ed065e02e5ec82",
       "version_major": 2,
       "version_minor": 0
      },
      "text/plain": [
       "HBox(children=(HTML(value='steps'), FloatProgress(value=0.0, max=3006.0), HTML(value='')))"
      ]
     },
     "metadata": {},
     "output_type": "display_data"
    },
    {
     "name": "stderr",
     "output_type": "stream",
     "text": [
      "steps: 100%|██████████| 51/51 [00:00<00:00, 270.88it/s]"
     ]
    },
    {
     "name": "stdout",
     "output_type": "stream",
     "text": [
      "\n",
      "epoch : 367, tr_loss:  0.296415, val_loss: 1.107, tr_acc: 81.90%, val_acc: 73.26%\n"
     ]
    },
    {
     "name": "stderr",
     "output_type": "stream",
     "text": [
      "\n"
     ]
    },
    {
     "data": {
      "application/vnd.jupyter.widget-view+json": {
       "model_id": "dea2d4140000498db3aa66ba61bf8f85",
       "version_major": 2,
       "version_minor": 0
      },
      "text/plain": [
       "HBox(children=(HTML(value='steps'), FloatProgress(value=0.0, max=3006.0), HTML(value='')))"
      ]
     },
     "metadata": {},
     "output_type": "display_data"
    },
    {
     "name": "stderr",
     "output_type": "stream",
     "text": [
      "steps:  51%|█████     | 26/51 [00:00<00:00, 260.00it/s]"
     ]
    },
    {
     "name": "stdout",
     "output_type": "stream",
     "text": [
      "\n"
     ]
    },
    {
     "name": "stderr",
     "output_type": "stream",
     "text": [
      "\r",
      "steps: 100%|██████████| 51/51 [00:00<00:00, 258.43it/s]"
     ]
    },
    {
     "name": "stdout",
     "output_type": "stream",
     "text": [
      "\r",
      "epoch : 368, tr_loss:  0.296027, val_loss: 1.206, tr_acc: 81.90%, val_acc: 73.44%\n"
     ]
    },
    {
     "name": "stderr",
     "output_type": "stream",
     "text": [
      "\n"
     ]
    },
    {
     "data": {
      "application/vnd.jupyter.widget-view+json": {
       "model_id": "2ae4f4ae4b2342bc804e6d4c01d52ac6",
       "version_major": 2,
       "version_minor": 0
      },
      "text/plain": [
       "HBox(children=(HTML(value='steps'), FloatProgress(value=0.0, max=3006.0), HTML(value='')))"
      ]
     },
     "metadata": {},
     "output_type": "display_data"
    },
    {
     "name": "stderr",
     "output_type": "stream",
     "text": [
      "steps: 100%|██████████| 51/51 [00:00<00:00, 275.56it/s]"
     ]
    },
    {
     "name": "stdout",
     "output_type": "stream",
     "text": [
      "\n"
     ]
    },
    {
     "name": "stderr",
     "output_type": "stream",
     "text": [
      "\n"
     ]
    },
    {
     "name": "stdout",
     "output_type": "stream",
     "text": [
      "\r",
      "epoch : 369, tr_loss:  0.295549, val_loss: 1.165, tr_acc: 81.93%, val_acc: 73.38%\n"
     ]
    },
    {
     "data": {
      "application/vnd.jupyter.widget-view+json": {
       "model_id": "ed83a4bbaf6649ce8cb889f4a198fdd1",
       "version_major": 2,
       "version_minor": 0
      },
      "text/plain": [
       "HBox(children=(HTML(value='steps'), FloatProgress(value=0.0, max=3006.0), HTML(value='')))"
      ]
     },
     "metadata": {},
     "output_type": "display_data"
    },
    {
     "name": "stderr",
     "output_type": "stream",
     "text": [
      "steps: 100%|██████████| 51/51 [00:00<00:00, 282.99it/s]\n"
     ]
    },
    {
     "name": "stdout",
     "output_type": "stream",
     "text": [
      "\r",
      "\r",
      "global_Step: 1110000, tr_loss: 0.293748, val_loss: 1.129321\n"
     ]
    },
    {
     "name": "stderr",
     "output_type": "stream",
     "text": [
      "steps: 100%|██████████| 51/51 [00:00<00:00, 272.93it/s]"
     ]
    },
    {
     "name": "stdout",
     "output_type": "stream",
     "text": [
      "\n",
      "epoch : 370, tr_loss:  0.295722, val_loss: 1.135, tr_acc: 81.87%, val_acc: 73.47%\n"
     ]
    },
    {
     "name": "stderr",
     "output_type": "stream",
     "text": [
      "\n"
     ]
    },
    {
     "data": {
      "application/vnd.jupyter.widget-view+json": {
       "model_id": "e8d5f4cd04b9436facb5a0eb97f03500",
       "version_major": 2,
       "version_minor": 0
      },
      "text/plain": [
       "HBox(children=(HTML(value='steps'), FloatProgress(value=0.0, max=3006.0), HTML(value='')))"
      ]
     },
     "metadata": {},
     "output_type": "display_data"
    },
    {
     "name": "stderr",
     "output_type": "stream",
     "text": [
      "steps: 100%|██████████| 51/51 [00:00<00:00, 269.56it/s]"
     ]
    },
    {
     "name": "stdout",
     "output_type": "stream",
     "text": [
      "\n",
      "epoch : 371, tr_loss:  0.296262, val_loss: 1.134, tr_acc: 81.89%, val_acc: 73.04%\n"
     ]
    },
    {
     "name": "stderr",
     "output_type": "stream",
     "text": [
      "\n"
     ]
    },
    {
     "data": {
      "application/vnd.jupyter.widget-view+json": {
       "model_id": "cb5becb1fc0249c4b3fa753b6dc32d26",
       "version_major": 2,
       "version_minor": 0
      },
      "text/plain": [
       "HBox(children=(HTML(value='steps'), FloatProgress(value=0.0, max=3006.0), HTML(value='')))"
      ]
     },
     "metadata": {},
     "output_type": "display_data"
    },
    {
     "name": "stderr",
     "output_type": "stream",
     "text": [
      "steps: 100%|██████████| 51/51 [00:00<00:00, 272.29it/s]"
     ]
    },
    {
     "name": "stdout",
     "output_type": "stream",
     "text": [
      "\n",
      "epoch : 372, tr_loss:  0.294219, val_loss: 1.248, tr_acc: 81.97%, val_acc: 73.38%\n"
     ]
    },
    {
     "name": "stderr",
     "output_type": "stream",
     "text": [
      "\n"
     ]
    },
    {
     "data": {
      "application/vnd.jupyter.widget-view+json": {
       "model_id": "cf545b9e63ae485b97622e035ac8591d",
       "version_major": 2,
       "version_minor": 0
      },
      "text/plain": [
       "HBox(children=(HTML(value='steps'), FloatProgress(value=0.0, max=3006.0), HTML(value='')))"
      ]
     },
     "metadata": {},
     "output_type": "display_data"
    },
    {
     "name": "stderr",
     "output_type": "stream",
     "text": [
      "steps: 100%|██████████| 51/51 [00:00<00:00, 287.78it/s]\n"
     ]
    },
    {
     "name": "stdout",
     "output_type": "stream",
     "text": [
      "\r",
      "\r",
      "global_Step: 1120000, tr_loss: 0.296799, val_loss: 1.141564\n"
     ]
    },
    {
     "name": "stderr",
     "output_type": "stream",
     "text": [
      "steps: 100%|██████████| 51/51 [00:00<00:00, 267.52it/s]"
     ]
    },
    {
     "name": "stdout",
     "output_type": "stream",
     "text": [
      "\n",
      "epoch : 373, tr_loss:  0.296511, val_loss: 1.059, tr_acc: 81.85%, val_acc: 73.44%\n"
     ]
    },
    {
     "name": "stderr",
     "output_type": "stream",
     "text": [
      "\n"
     ]
    },
    {
     "data": {
      "application/vnd.jupyter.widget-view+json": {
       "model_id": "0efcd1141e3e4a95811db877fa2b98cb",
       "version_major": 2,
       "version_minor": 0
      },
      "text/plain": [
       "HBox(children=(HTML(value='steps'), FloatProgress(value=0.0, max=3006.0), HTML(value='')))"
      ]
     },
     "metadata": {},
     "output_type": "display_data"
    },
    {
     "name": "stderr",
     "output_type": "stream",
     "text": [
      "steps: 100%|██████████| 51/51 [00:00<00:00, 274.73it/s]"
     ]
    },
    {
     "name": "stdout",
     "output_type": "stream",
     "text": [
      "\n",
      "epoch : 374, tr_loss:  0.294147, val_loss: 1.224, tr_acc: 81.97%, val_acc: 73.11%\n"
     ]
    },
    {
     "name": "stderr",
     "output_type": "stream",
     "text": [
      "\n"
     ]
    },
    {
     "data": {
      "application/vnd.jupyter.widget-view+json": {
       "model_id": "eb31287a45c444ef86e69727a4b7291d",
       "version_major": 2,
       "version_minor": 0
      },
      "text/plain": [
       "HBox(children=(HTML(value='steps'), FloatProgress(value=0.0, max=3006.0), HTML(value='')))"
      ]
     },
     "metadata": {},
     "output_type": "display_data"
    },
    {
     "name": "stderr",
     "output_type": "stream",
     "text": [
      "steps: 100%|██████████| 51/51 [00:00<00:00, 275.36it/s]"
     ]
    },
    {
     "name": "stdout",
     "output_type": "stream",
     "text": [
      "\n",
      "epoch : 375, tr_loss:  0.294502, val_loss: 1.266, tr_acc: 81.98%, val_acc: 73.04%\n"
     ]
    },
    {
     "name": "stderr",
     "output_type": "stream",
     "text": [
      "\n"
     ]
    },
    {
     "data": {
      "application/vnd.jupyter.widget-view+json": {
       "model_id": "a6e74d12b13e40bea4d8bb9f3ab10005",
       "version_major": 2,
       "version_minor": 0
      },
      "text/plain": [
       "HBox(children=(HTML(value='steps'), FloatProgress(value=0.0, max=3006.0), HTML(value='')))"
      ]
     },
     "metadata": {},
     "output_type": "display_data"
    },
    {
     "name": "stderr",
     "output_type": "stream",
     "text": [
      "steps: 100%|██████████| 51/51 [00:00<00:00, 287.09it/s]\n"
     ]
    },
    {
     "name": "stdout",
     "output_type": "stream",
     "text": [
      "\r",
      "\r",
      "global_Step: 1130000, tr_loss: 0.293422, val_loss: 1.166859\n"
     ]
    },
    {
     "name": "stderr",
     "output_type": "stream",
     "text": [
      "steps: 100%|██████████| 51/51 [00:00<00:00, 278.38it/s]"
     ]
    },
    {
     "name": "stdout",
     "output_type": "stream",
     "text": [
      "\n",
      "epoch : 376, tr_loss:  0.292925, val_loss: 1.337, tr_acc: 82.03%, val_acc: 73.04%\n"
     ]
    },
    {
     "name": "stderr",
     "output_type": "stream",
     "text": [
      "\n"
     ]
    },
    {
     "data": {
      "application/vnd.jupyter.widget-view+json": {
       "model_id": "b2bfbab3050440c380f7efca988308f1",
       "version_major": 2,
       "version_minor": 0
      },
      "text/plain": [
       "HBox(children=(HTML(value='steps'), FloatProgress(value=0.0, max=3006.0), HTML(value='')))"
      ]
     },
     "metadata": {},
     "output_type": "display_data"
    },
    {
     "name": "stderr",
     "output_type": "stream",
     "text": [
      "steps: 100%|██████████| 51/51 [00:00<00:00, 275.27it/s]"
     ]
    },
    {
     "name": "stdout",
     "output_type": "stream",
     "text": [
      "\n",
      "epoch : 377, tr_loss:  0.295369, val_loss: 1.202, tr_acc: 81.92%, val_acc: 73.26%\n"
     ]
    },
    {
     "name": "stderr",
     "output_type": "stream",
     "text": [
      "\n"
     ]
    },
    {
     "data": {
      "application/vnd.jupyter.widget-view+json": {
       "model_id": "1b00c715f898480da7052076d182e1df",
       "version_major": 2,
       "version_minor": 0
      },
      "text/plain": [
       "HBox(children=(HTML(value='steps'), FloatProgress(value=0.0, max=3006.0), HTML(value='')))"
      ]
     },
     "metadata": {},
     "output_type": "display_data"
    },
    {
     "name": "stderr",
     "output_type": "stream",
     "text": [
      "steps: 100%|██████████| 51/51 [00:00<00:00, 275.25it/s]"
     ]
    },
    {
     "name": "stdout",
     "output_type": "stream",
     "text": [
      "\n",
      "epoch : 378, tr_loss:  0.294249, val_loss: 1.178, tr_acc: 81.96%, val_acc: 73.04%\n"
     ]
    },
    {
     "name": "stderr",
     "output_type": "stream",
     "text": [
      "\n"
     ]
    },
    {
     "data": {
      "application/vnd.jupyter.widget-view+json": {
       "model_id": "fd96dc0f2f234a21b7f349bccf6e2fe9",
       "version_major": 2,
       "version_minor": 0
      },
      "text/plain": [
       "HBox(children=(HTML(value='steps'), FloatProgress(value=0.0, max=3006.0), HTML(value='')))"
      ]
     },
     "metadata": {},
     "output_type": "display_data"
    },
    {
     "name": "stderr",
     "output_type": "stream",
     "text": [
      "steps: 100%|██████████| 51/51 [00:00<00:00, 274.15it/s]"
     ]
    },
    {
     "name": "stdout",
     "output_type": "stream",
     "text": [
      "\n",
      "epoch : 379, tr_loss:  0.294346, val_loss: 1.222, tr_acc: 82.03%, val_acc: 73.32%\n"
     ]
    },
    {
     "name": "stderr",
     "output_type": "stream",
     "text": [
      "\n"
     ]
    },
    {
     "data": {
      "application/vnd.jupyter.widget-view+json": {
       "model_id": "2436b869de9a47848911b70ea1c3bbec",
       "version_major": 2,
       "version_minor": 0
      },
      "text/plain": [
       "HBox(children=(HTML(value='steps'), FloatProgress(value=0.0, max=3006.0), HTML(value='')))"
      ]
     },
     "metadata": {},
     "output_type": "display_data"
    },
    {
     "name": "stderr",
     "output_type": "stream",
     "text": [
      "steps: 100%|██████████| 51/51 [00:00<00:00, 291.26it/s]\n"
     ]
    },
    {
     "name": "stdout",
     "output_type": "stream",
     "text": [
      "\r",
      "\r",
      "global_Step: 1140000, tr_loss: 0.295180, val_loss: 1.099892\n"
     ]
    },
    {
     "name": "stderr",
     "output_type": "stream",
     "text": [
      "steps: 100%|██████████| 51/51 [00:00<00:00, 272.47it/s]"
     ]
    },
    {
     "name": "stdout",
     "output_type": "stream",
     "text": [
      "\n",
      "epoch : 380, tr_loss:  0.294013, val_loss: 1.149, tr_acc: 82.06%, val_acc: 73.50%\n"
     ]
    },
    {
     "name": "stderr",
     "output_type": "stream",
     "text": [
      "\n"
     ]
    },
    {
     "data": {
      "application/vnd.jupyter.widget-view+json": {
       "model_id": "bdefeafdcd354b43b3dcffe2dd9b58c2",
       "version_major": 2,
       "version_minor": 0
      },
      "text/plain": [
       "HBox(children=(HTML(value='steps'), FloatProgress(value=0.0, max=3006.0), HTML(value='')))"
      ]
     },
     "metadata": {},
     "output_type": "display_data"
    },
    {
     "name": "stderr",
     "output_type": "stream",
     "text": [
      "steps: 100%|██████████| 51/51 [00:00<00:00, 271.81it/s]"
     ]
    },
    {
     "name": "stdout",
     "output_type": "stream",
     "text": [
      "\n",
      "epoch : 381, tr_loss:  0.293618, val_loss: 1.072, tr_acc: 82.03%, val_acc: 73.62%\n"
     ]
    },
    {
     "name": "stderr",
     "output_type": "stream",
     "text": [
      "\n"
     ]
    },
    {
     "data": {
      "application/vnd.jupyter.widget-view+json": {
       "model_id": "2f08747251bc4761b5cc8d6f61b8e158",
       "version_major": 2,
       "version_minor": 0
      },
      "text/plain": [
       "HBox(children=(HTML(value='steps'), FloatProgress(value=0.0, max=3006.0), HTML(value='')))"
      ]
     },
     "metadata": {},
     "output_type": "display_data"
    },
    {
     "name": "stderr",
     "output_type": "stream",
     "text": [
      "steps: 100%|██████████| 51/51 [00:00<00:00, 270.73it/s]"
     ]
    },
    {
     "name": "stdout",
     "output_type": "stream",
     "text": [
      "\n",
      "epoch : 382, tr_loss:  0.293413, val_loss: 1.292, tr_acc: 82.05%, val_acc: 73.01%\n"
     ]
    },
    {
     "name": "stderr",
     "output_type": "stream",
     "text": [
      "\n"
     ]
    },
    {
     "data": {
      "application/vnd.jupyter.widget-view+json": {
       "model_id": "fbd7d504e3274c6aabe4b1d03067e325",
       "version_major": 2,
       "version_minor": 0
      },
      "text/plain": [
       "HBox(children=(HTML(value='steps'), FloatProgress(value=0.0, max=3006.0), HTML(value='')))"
      ]
     },
     "metadata": {},
     "output_type": "display_data"
    },
    {
     "name": "stderr",
     "output_type": "stream",
     "text": [
      "steps: 100%|██████████| 51/51 [00:00<00:00, 287.67it/s]\n"
     ]
    },
    {
     "name": "stdout",
     "output_type": "stream",
     "text": [
      "\r",
      "\r",
      "global_Step: 1150000, tr_loss: 0.295460, val_loss: 1.163067\n"
     ]
    },
    {
     "name": "stderr",
     "output_type": "stream",
     "text": [
      "steps: 100%|██████████| 51/51 [00:00<00:00, 275.90it/s]"
     ]
    },
    {
     "name": "stdout",
     "output_type": "stream",
     "text": [
      "\n",
      "epoch : 383, tr_loss:  0.293294, val_loss: 1.201, tr_acc: 82.11%, val_acc: 73.50%\n"
     ]
    },
    {
     "name": "stderr",
     "output_type": "stream",
     "text": [
      "\n"
     ]
    },
    {
     "data": {
      "application/vnd.jupyter.widget-view+json": {
       "model_id": "d647d591b3854ea1aba210826b1fc515",
       "version_major": 2,
       "version_minor": 0
      },
      "text/plain": [
       "HBox(children=(HTML(value='steps'), FloatProgress(value=0.0, max=3006.0), HTML(value='')))"
      ]
     },
     "metadata": {},
     "output_type": "display_data"
    },
    {
     "name": "stderr",
     "output_type": "stream",
     "text": [
      "steps: 100%|██████████| 51/51 [00:00<00:00, 274.63it/s]"
     ]
    },
    {
     "name": "stdout",
     "output_type": "stream",
     "text": [
      "\n",
      "epoch : 384, tr_loss:  0.296193, val_loss: 1.104, tr_acc: 81.94%, val_acc: 73.53%\n"
     ]
    },
    {
     "name": "stderr",
     "output_type": "stream",
     "text": [
      "\n"
     ]
    },
    {
     "data": {
      "application/vnd.jupyter.widget-view+json": {
       "model_id": "b246bede63ef476e9773bd4db1a2979b",
       "version_major": 2,
       "version_minor": 0
      },
      "text/plain": [
       "HBox(children=(HTML(value='steps'), FloatProgress(value=0.0, max=3006.0), HTML(value='')))"
      ]
     },
     "metadata": {},
     "output_type": "display_data"
    },
    {
     "name": "stderr",
     "output_type": "stream",
     "text": [
      "steps: 100%|██████████| 51/51 [00:00<00:00, 275.45it/s]"
     ]
    },
    {
     "name": "stdout",
     "output_type": "stream",
     "text": [
      "\n",
      "epoch : 385, tr_loss:  0.291133, val_loss: 1.155, tr_acc: 82.06%, val_acc: 73.26%\n"
     ]
    },
    {
     "name": "stderr",
     "output_type": "stream",
     "text": [
      "\n"
     ]
    },
    {
     "data": {
      "application/vnd.jupyter.widget-view+json": {
       "model_id": "868fb90f313b4998a1972f1ecaa32d9e",
       "version_major": 2,
       "version_minor": 0
      },
      "text/plain": [
       "HBox(children=(HTML(value='steps'), FloatProgress(value=0.0, max=3006.0), HTML(value='')))"
      ]
     },
     "metadata": {},
     "output_type": "display_data"
    },
    {
     "name": "stderr",
     "output_type": "stream",
     "text": [
      "steps: 100%|██████████| 51/51 [00:00<00:00, 287.78it/s]\n"
     ]
    },
    {
     "name": "stdout",
     "output_type": "stream",
     "text": [
      "\r",
      "\r",
      "global_Step: 1160000, tr_loss: 0.294664, val_loss: 1.173965\n"
     ]
    },
    {
     "name": "stderr",
     "output_type": "stream",
     "text": [
      "steps: 100%|██████████| 51/51 [00:00<00:00, 272.99it/s]"
     ]
    },
    {
     "name": "stdout",
     "output_type": "stream",
     "text": [
      "\n",
      "epoch : 386, tr_loss:  0.296588, val_loss: 1.063, tr_acc: 81.92%, val_acc: 73.26%\n"
     ]
    },
    {
     "name": "stderr",
     "output_type": "stream",
     "text": [
      "\n"
     ]
    },
    {
     "data": {
      "application/vnd.jupyter.widget-view+json": {
       "model_id": "c40eb5ada2fc45129969b295eedbf2f8",
       "version_major": 2,
       "version_minor": 0
      },
      "text/plain": [
       "HBox(children=(HTML(value='steps'), FloatProgress(value=0.0, max=3006.0), HTML(value='')))"
      ]
     },
     "metadata": {},
     "output_type": "display_data"
    },
    {
     "name": "stderr",
     "output_type": "stream",
     "text": [
      "steps: 100%|██████████| 51/51 [00:00<00:00, 263.20it/s]"
     ]
    },
    {
     "name": "stdout",
     "output_type": "stream",
     "text": [
      "\n",
      "epoch : 387, tr_loss:  0.290746, val_loss: 1.224, tr_acc: 82.22%, val_acc: 72.92%\n"
     ]
    },
    {
     "name": "stderr",
     "output_type": "stream",
     "text": [
      "\n"
     ]
    },
    {
     "data": {
      "application/vnd.jupyter.widget-view+json": {
       "model_id": "9741ea845959430d98ea50635c310a41",
       "version_major": 2,
       "version_minor": 0
      },
      "text/plain": [
       "HBox(children=(HTML(value='steps'), FloatProgress(value=0.0, max=3006.0), HTML(value='')))"
      ]
     },
     "metadata": {},
     "output_type": "display_data"
    },
    {
     "name": "stderr",
     "output_type": "stream",
     "text": [
      "steps: 100%|██████████| 51/51 [00:00<00:00, 261.53it/s]"
     ]
    },
    {
     "name": "stdout",
     "output_type": "stream",
     "text": [
      "\n",
      "epoch : 388, tr_loss:  0.293028, val_loss: 1.170, tr_acc: 82.03%, val_acc: 73.53%\n"
     ]
    },
    {
     "name": "stderr",
     "output_type": "stream",
     "text": [
      "\n"
     ]
    },
    {
     "data": {
      "application/vnd.jupyter.widget-view+json": {
       "model_id": "f9afda1eb639482fae979283b61a82ce",
       "version_major": 2,
       "version_minor": 0
      },
      "text/plain": [
       "HBox(children=(HTML(value='steps'), FloatProgress(value=0.0, max=3006.0), HTML(value='')))"
      ]
     },
     "metadata": {},
     "output_type": "display_data"
    },
    {
     "name": "stderr",
     "output_type": "stream",
     "text": [
      "steps: 100%|██████████| 51/51 [00:00<00:00, 268.41it/s]"
     ]
    },
    {
     "name": "stdout",
     "output_type": "stream",
     "text": [
      "\n",
      "epoch : 389, tr_loss:  0.291971, val_loss: 1.207, tr_acc: 82.10%, val_acc: 72.83%\n"
     ]
    },
    {
     "name": "stderr",
     "output_type": "stream",
     "text": [
      "\n"
     ]
    },
    {
     "data": {
      "application/vnd.jupyter.widget-view+json": {
       "model_id": "c9cd4e3c16b44fec8c1ec9b1acab23fe",
       "version_major": 2,
       "version_minor": 0
      },
      "text/plain": [
       "HBox(children=(HTML(value='steps'), FloatProgress(value=0.0, max=3006.0), HTML(value='')))"
      ]
     },
     "metadata": {},
     "output_type": "display_data"
    },
    {
     "name": "stderr",
     "output_type": "stream",
     "text": [
      "steps: 100%|██████████| 51/51 [00:00<00:00, 287.48it/s]\n"
     ]
    },
    {
     "name": "stdout",
     "output_type": "stream",
     "text": [
      "\r",
      "\r",
      "global_Step: 1170000, tr_loss: 0.292999, val_loss: 0.968449\n"
     ]
    },
    {
     "name": "stderr",
     "output_type": "stream",
     "text": [
      "steps: 100%|██████████| 51/51 [00:00<00:00, 273.21it/s]"
     ]
    },
    {
     "name": "stdout",
     "output_type": "stream",
     "text": [
      "\n",
      "epoch : 390, tr_loss:  0.292238, val_loss: 1.148, tr_acc: 82.11%, val_acc: 73.50%\n"
     ]
    },
    {
     "name": "stderr",
     "output_type": "stream",
     "text": [
      "\n"
     ]
    },
    {
     "data": {
      "application/vnd.jupyter.widget-view+json": {
       "model_id": "38fd79de1e7245339c238bb8842a7fa5",
       "version_major": 2,
       "version_minor": 0
      },
      "text/plain": [
       "HBox(children=(HTML(value='steps'), FloatProgress(value=0.0, max=3006.0), HTML(value='')))"
      ]
     },
     "metadata": {},
     "output_type": "display_data"
    },
    {
     "name": "stderr",
     "output_type": "stream",
     "text": [
      "steps: 100%|██████████| 51/51 [00:00<00:00, 269.25it/s]"
     ]
    },
    {
     "name": "stdout",
     "output_type": "stream",
     "text": [
      "\n",
      "epoch : 391, tr_loss:  0.292501, val_loss: 1.323, tr_acc: 82.19%, val_acc: 73.14%\n"
     ]
    },
    {
     "name": "stderr",
     "output_type": "stream",
     "text": [
      "\n"
     ]
    },
    {
     "data": {
      "application/vnd.jupyter.widget-view+json": {
       "model_id": "d7159dbffde74ea1b23bdc83576be0f9",
       "version_major": 2,
       "version_minor": 0
      },
      "text/plain": [
       "HBox(children=(HTML(value='steps'), FloatProgress(value=0.0, max=3006.0), HTML(value='')))"
      ]
     },
     "metadata": {},
     "output_type": "display_data"
    },
    {
     "name": "stderr",
     "output_type": "stream",
     "text": [
      "steps: 100%|██████████| 51/51 [00:00<00:00, 272.09it/s]"
     ]
    },
    {
     "name": "stdout",
     "output_type": "stream",
     "text": [
      "\n",
      "epoch : 392, tr_loss:  0.290708, val_loss: 1.126, tr_acc: 82.19%, val_acc: 73.32%\n"
     ]
    },
    {
     "name": "stderr",
     "output_type": "stream",
     "text": [
      "\n"
     ]
    },
    {
     "data": {
      "application/vnd.jupyter.widget-view+json": {
       "model_id": "3d71cbd0c9d74d10b0120151f312654d",
       "version_major": 2,
       "version_minor": 0
      },
      "text/plain": [
       "HBox(children=(HTML(value='steps'), FloatProgress(value=0.0, max=3006.0), HTML(value='')))"
      ]
     },
     "metadata": {},
     "output_type": "display_data"
    },
    {
     "name": "stderr",
     "output_type": "stream",
     "text": [
      "steps: 100%|██████████| 51/51 [00:00<00:00, 287.98it/s]\n"
     ]
    },
    {
     "name": "stdout",
     "output_type": "stream",
     "text": [
      "\r",
      "\r",
      "global_Step: 1180000, tr_loss: 0.289116, val_loss: 1.159551\n"
     ]
    },
    {
     "name": "stderr",
     "output_type": "stream",
     "text": [
      "steps: 100%|██████████| 51/51 [00:00<00:00, 276.04it/s]"
     ]
    },
    {
     "name": "stdout",
     "output_type": "stream",
     "text": [
      "\n",
      "epoch : 393, tr_loss:  0.290504, val_loss: 1.200, tr_acc: 82.21%, val_acc: 73.20%\n"
     ]
    },
    {
     "name": "stderr",
     "output_type": "stream",
     "text": [
      "\n"
     ]
    },
    {
     "data": {
      "application/vnd.jupyter.widget-view+json": {
       "model_id": "0f2dcf1aaffc4d20a8bd5b231a774231",
       "version_major": 2,
       "version_minor": 0
      },
      "text/plain": [
       "HBox(children=(HTML(value='steps'), FloatProgress(value=0.0, max=3006.0), HTML(value='')))"
      ]
     },
     "metadata": {},
     "output_type": "display_data"
    },
    {
     "name": "stderr",
     "output_type": "stream",
     "text": [
      "steps: 100%|██████████| 51/51 [00:00<00:00, 273.78it/s]"
     ]
    },
    {
     "name": "stdout",
     "output_type": "stream",
     "text": [
      "\n",
      "epoch : 394, tr_loss:  0.290691, val_loss: 1.261, tr_acc: 82.15%, val_acc: 73.62%\n"
     ]
    },
    {
     "name": "stderr",
     "output_type": "stream",
     "text": [
      "\n"
     ]
    },
    {
     "data": {
      "application/vnd.jupyter.widget-view+json": {
       "model_id": "8012f7ebf90d48f6865928b2af222a9a",
       "version_major": 2,
       "version_minor": 0
      },
      "text/plain": [
       "HBox(children=(HTML(value='steps'), FloatProgress(value=0.0, max=3006.0), HTML(value='')))"
      ]
     },
     "metadata": {},
     "output_type": "display_data"
    },
    {
     "name": "stderr",
     "output_type": "stream",
     "text": [
      "steps: 100%|██████████| 51/51 [00:00<00:00, 272.58it/s]"
     ]
    },
    {
     "name": "stdout",
     "output_type": "stream",
     "text": [
      "\n",
      "epoch : 395, tr_loss:  0.291029, val_loss: 1.296, tr_acc: 82.21%, val_acc: 73.23%\n"
     ]
    },
    {
     "name": "stderr",
     "output_type": "stream",
     "text": [
      "\n"
     ]
    },
    {
     "data": {
      "application/vnd.jupyter.widget-view+json": {
       "model_id": "c163340249bd4d3a91bc327966f25faa",
       "version_major": 2,
       "version_minor": 0
      },
      "text/plain": [
       "HBox(children=(HTML(value='steps'), FloatProgress(value=0.0, max=3006.0), HTML(value='')))"
      ]
     },
     "metadata": {},
     "output_type": "display_data"
    },
    {
     "name": "stderr",
     "output_type": "stream",
     "text": [
      "steps: 100%|██████████| 51/51 [00:00<00:00, 283.36it/s]\n"
     ]
    },
    {
     "name": "stdout",
     "output_type": "stream",
     "text": [
      "\r",
      "\r",
      "global_Step: 1190000, tr_loss: 0.292419, val_loss: 1.307229\n"
     ]
    },
    {
     "name": "stderr",
     "output_type": "stream",
     "text": [
      "steps: 100%|██████████| 51/51 [00:00<00:00, 271.81it/s]"
     ]
    },
    {
     "name": "stdout",
     "output_type": "stream",
     "text": [
      "\n",
      "epoch : 396, tr_loss:  0.291072, val_loss: 1.185, tr_acc: 82.16%, val_acc: 73.35%\n"
     ]
    },
    {
     "name": "stderr",
     "output_type": "stream",
     "text": [
      "\n"
     ]
    },
    {
     "data": {
      "application/vnd.jupyter.widget-view+json": {
       "model_id": "f7529ee044d6411db1ed0b577cf64be5",
       "version_major": 2,
       "version_minor": 0
      },
      "text/plain": [
       "HBox(children=(HTML(value='steps'), FloatProgress(value=0.0, max=3006.0), HTML(value='')))"
      ]
     },
     "metadata": {},
     "output_type": "display_data"
    },
    {
     "name": "stderr",
     "output_type": "stream",
     "text": [
      "steps: 100%|██████████| 51/51 [00:00<00:00, 272.76it/s]"
     ]
    },
    {
     "name": "stdout",
     "output_type": "stream",
     "text": [
      "\n",
      "epoch : 397, tr_loss:  0.292158, val_loss: 1.174, tr_acc: 82.14%, val_acc: 73.59%\n"
     ]
    },
    {
     "name": "stderr",
     "output_type": "stream",
     "text": [
      "\n"
     ]
    },
    {
     "data": {
      "application/vnd.jupyter.widget-view+json": {
       "model_id": "927d0d45bafe4f73b192785be9df4466",
       "version_major": 2,
       "version_minor": 0
      },
      "text/plain": [
       "HBox(children=(HTML(value='steps'), FloatProgress(value=0.0, max=3006.0), HTML(value='')))"
      ]
     },
     "metadata": {},
     "output_type": "display_data"
    },
    {
     "name": "stderr",
     "output_type": "stream",
     "text": [
      "steps: 100%|██████████| 51/51 [00:00<00:00, 268.42it/s]"
     ]
    },
    {
     "name": "stdout",
     "output_type": "stream",
     "text": [
      "\n",
      "epoch : 398, tr_loss:  0.289876, val_loss: 1.192, tr_acc: 82.25%, val_acc: 73.32%\n"
     ]
    },
    {
     "name": "stderr",
     "output_type": "stream",
     "text": [
      "\n"
     ]
    },
    {
     "data": {
      "application/vnd.jupyter.widget-view+json": {
       "model_id": "96ae66e525d74e7bbd6a6d9b2ed988ce",
       "version_major": 2,
       "version_minor": 0
      },
      "text/plain": [
       "HBox(children=(HTML(value='steps'), FloatProgress(value=0.0, max=3006.0), HTML(value='')))"
      ]
     },
     "metadata": {},
     "output_type": "display_data"
    },
    {
     "name": "stderr",
     "output_type": "stream",
     "text": [
      "steps: 100%|██████████| 51/51 [00:00<00:00, 269.77it/s]"
     ]
    },
    {
     "name": "stdout",
     "output_type": "stream",
     "text": [
      "\n",
      "epoch : 399, tr_loss:  0.291100, val_loss: 1.222, tr_acc: 82.24%, val_acc: 73.41%\n"
     ]
    },
    {
     "name": "stderr",
     "output_type": "stream",
     "text": [
      "\n"
     ]
    },
    {
     "data": {
      "application/vnd.jupyter.widget-view+json": {
       "model_id": "47b1b4652ca74dccb671fcd2a0d34a1f",
       "version_major": 2,
       "version_minor": 0
      },
      "text/plain": [
       "HBox(children=(HTML(value='steps'), FloatProgress(value=0.0, max=3006.0), HTML(value='')))"
      ]
     },
     "metadata": {},
     "output_type": "display_data"
    },
    {
     "name": "stderr",
     "output_type": "stream",
     "text": [
      "steps: 100%|██████████| 51/51 [00:00<00:00, 283.20it/s]\n"
     ]
    },
    {
     "name": "stdout",
     "output_type": "stream",
     "text": [
      "\r",
      "\r",
      "global_Step: 1200000, tr_loss: 0.298567, val_loss: 1.352577\n"
     ]
    },
    {
     "name": "stderr",
     "output_type": "stream",
     "text": [
      "steps: 100%|██████████| 51/51 [00:00<00:00, 266.52it/s]"
     ]
    },
    {
     "name": "stdout",
     "output_type": "stream",
     "text": [
      "\n",
      "epoch : 400, tr_loss:  0.292818, val_loss: 1.219, tr_acc: 82.19%, val_acc: 73.50%\n"
     ]
    },
    {
     "name": "stderr",
     "output_type": "stream",
     "text": [
      "\n"
     ]
    },
    {
     "data": {
      "application/vnd.jupyter.widget-view+json": {
       "model_id": "6533d8170f2740d6a80b0d67fe0ad10e",
       "version_major": 2,
       "version_minor": 0
      },
      "text/plain": [
       "HBox(children=(HTML(value='steps'), FloatProgress(value=0.0, max=3006.0), HTML(value='')))"
      ]
     },
     "metadata": {},
     "output_type": "display_data"
    },
    {
     "name": "stderr",
     "output_type": "stream",
     "text": [
      "steps: 100%|██████████| 51/51 [00:00<00:00, 273.91it/s]"
     ]
    },
    {
     "name": "stdout",
     "output_type": "stream",
     "text": [
      "\n",
      "epoch : 401, tr_loss:  0.289304, val_loss: 1.196, tr_acc: 82.23%, val_acc: 73.47%\n"
     ]
    },
    {
     "name": "stderr",
     "output_type": "stream",
     "text": [
      "\n"
     ]
    },
    {
     "data": {
      "application/vnd.jupyter.widget-view+json": {
       "model_id": "b430218b5b9e4162ade72e0525671e20",
       "version_major": 2,
       "version_minor": 0
      },
      "text/plain": [
       "HBox(children=(HTML(value='steps'), FloatProgress(value=0.0, max=3006.0), HTML(value='')))"
      ]
     },
     "metadata": {},
     "output_type": "display_data"
    },
    {
     "name": "stderr",
     "output_type": "stream",
     "text": [
      "steps: 100%|██████████| 51/51 [00:00<00:00, 273.41it/s]"
     ]
    },
    {
     "name": "stdout",
     "output_type": "stream",
     "text": [
      "\n",
      "epoch : 402, tr_loss:  0.289460, val_loss: 1.274, tr_acc: 82.30%, val_acc: 72.68%\n"
     ]
    },
    {
     "name": "stderr",
     "output_type": "stream",
     "text": [
      "\n"
     ]
    },
    {
     "data": {
      "application/vnd.jupyter.widget-view+json": {
       "model_id": "c82c673807364ea1ac40f57893e45603",
       "version_major": 2,
       "version_minor": 0
      },
      "text/plain": [
       "HBox(children=(HTML(value='steps'), FloatProgress(value=0.0, max=3006.0), HTML(value='')))"
      ]
     },
     "metadata": {},
     "output_type": "display_data"
    },
    {
     "name": "stderr",
     "output_type": "stream",
     "text": [
      "steps: 100%|██████████| 51/51 [00:00<00:00, 277.65it/s]\n"
     ]
    },
    {
     "name": "stdout",
     "output_type": "stream",
     "text": [
      "\r",
      "\r",
      "global_Step: 1210000, tr_loss: 0.291370, val_loss: 1.296787\n"
     ]
    },
    {
     "name": "stderr",
     "output_type": "stream",
     "text": [
      "steps: 100%|██████████| 51/51 [00:00<00:00, 276.26it/s]"
     ]
    },
    {
     "name": "stdout",
     "output_type": "stream",
     "text": [
      "\n",
      "epoch : 403, tr_loss:  0.290934, val_loss: 1.124, tr_acc: 82.21%, val_acc: 73.26%\n"
     ]
    },
    {
     "name": "stderr",
     "output_type": "stream",
     "text": [
      "\n"
     ]
    },
    {
     "data": {
      "application/vnd.jupyter.widget-view+json": {
       "model_id": "6beac86aab264f0aa1ecbf18e3be4338",
       "version_major": 2,
       "version_minor": 0
      },
      "text/plain": [
       "HBox(children=(HTML(value='steps'), FloatProgress(value=0.0, max=3006.0), HTML(value='')))"
      ]
     },
     "metadata": {},
     "output_type": "display_data"
    },
    {
     "name": "stderr",
     "output_type": "stream",
     "text": [
      "steps: 100%|██████████| 51/51 [00:00<00:00, 275.72it/s]"
     ]
    },
    {
     "name": "stdout",
     "output_type": "stream",
     "text": [
      "\n"
     ]
    },
    {
     "name": "stderr",
     "output_type": "stream",
     "text": [
      "\n"
     ]
    },
    {
     "name": "stdout",
     "output_type": "stream",
     "text": [
      "\r",
      "epoch : 404, tr_loss:  0.291607, val_loss: 1.121, tr_acc: 82.18%, val_acc: 73.07%\n"
     ]
    },
    {
     "data": {
      "application/vnd.jupyter.widget-view+json": {
       "model_id": "403714f326644c43a1a1086ccbb0c953",
       "version_major": 2,
       "version_minor": 0
      },
      "text/plain": [
       "HBox(children=(HTML(value='steps'), FloatProgress(value=0.0, max=3006.0), HTML(value='')))"
      ]
     },
     "metadata": {},
     "output_type": "display_data"
    },
    {
     "name": "stderr",
     "output_type": "stream",
     "text": [
      "steps: 100%|██████████| 51/51 [00:00<00:00, 274.00it/s]"
     ]
    },
    {
     "name": "stdout",
     "output_type": "stream",
     "text": [
      "\n",
      "epoch : 405, tr_loss:  0.288835, val_loss: 1.243, tr_acc: 82.32%, val_acc: 73.04%\n"
     ]
    },
    {
     "name": "stderr",
     "output_type": "stream",
     "text": [
      "\n"
     ]
    },
    {
     "data": {
      "application/vnd.jupyter.widget-view+json": {
       "model_id": "a2e1abb5af294fe697f52d9ed372ca76",
       "version_major": 2,
       "version_minor": 0
      },
      "text/plain": [
       "HBox(children=(HTML(value='steps'), FloatProgress(value=0.0, max=3006.0), HTML(value='')))"
      ]
     },
     "metadata": {},
     "output_type": "display_data"
    },
    {
     "name": "stderr",
     "output_type": "stream",
     "text": [
      "steps: 100%|██████████| 51/51 [00:00<00:00, 286.66it/s]\n"
     ]
    },
    {
     "name": "stdout",
     "output_type": "stream",
     "text": [
      "\r",
      "\r",
      "global_Step: 1220000, tr_loss: 0.289161, val_loss: 1.132094\n"
     ]
    },
    {
     "name": "stderr",
     "output_type": "stream",
     "text": [
      "steps: 100%|██████████| 51/51 [00:00<00:00, 277.20it/s]"
     ]
    },
    {
     "name": "stdout",
     "output_type": "stream",
     "text": [
      "\n",
      "epoch : 406, tr_loss:  0.288887, val_loss: 1.263, tr_acc: 82.31%, val_acc: 73.07%\n"
     ]
    },
    {
     "name": "stderr",
     "output_type": "stream",
     "text": [
      "\n"
     ]
    },
    {
     "data": {
      "application/vnd.jupyter.widget-view+json": {
       "model_id": "cbc8d1d42bf749b9934c952921b01e40",
       "version_major": 2,
       "version_minor": 0
      },
      "text/plain": [
       "HBox(children=(HTML(value='steps'), FloatProgress(value=0.0, max=3006.0), HTML(value='')))"
      ]
     },
     "metadata": {},
     "output_type": "display_data"
    },
    {
     "name": "stderr",
     "output_type": "stream",
     "text": [
      "steps: 100%|██████████| 51/51 [00:00<00:00, 267.53it/s]"
     ]
    },
    {
     "name": "stdout",
     "output_type": "stream",
     "text": [
      "\n",
      "epoch : 407, tr_loss:  0.289338, val_loss: 1.204, tr_acc: 82.30%, val_acc: 73.23%\n"
     ]
    },
    {
     "name": "stderr",
     "output_type": "stream",
     "text": [
      "\n"
     ]
    },
    {
     "data": {
      "application/vnd.jupyter.widget-view+json": {
       "model_id": "715794bd7ee74a08adcc9ad2d8f9812d",
       "version_major": 2,
       "version_minor": 0
      },
      "text/plain": [
       "HBox(children=(HTML(value='steps'), FloatProgress(value=0.0, max=3006.0), HTML(value='')))"
      ]
     },
     "metadata": {},
     "output_type": "display_data"
    },
    {
     "name": "stderr",
     "output_type": "stream",
     "text": [
      "steps: 100%|██████████| 51/51 [00:00<00:00, 273.27it/s]"
     ]
    },
    {
     "name": "stdout",
     "output_type": "stream",
     "text": [
      "\n",
      "epoch : 408, tr_loss:  0.289043, val_loss: 1.261, tr_acc: 82.25%, val_acc: 72.92%\n"
     ]
    },
    {
     "name": "stderr",
     "output_type": "stream",
     "text": [
      "\n"
     ]
    },
    {
     "data": {
      "application/vnd.jupyter.widget-view+json": {
       "model_id": "02f797ed71b9466db5ddda64931ea2a1",
       "version_major": 2,
       "version_minor": 0
      },
      "text/plain": [
       "HBox(children=(HTML(value='steps'), FloatProgress(value=0.0, max=3006.0), HTML(value='')))"
      ]
     },
     "metadata": {},
     "output_type": "display_data"
    },
    {
     "name": "stderr",
     "output_type": "stream",
     "text": [
      "steps: 100%|██████████| 51/51 [00:00<00:00, 268.90it/s]"
     ]
    },
    {
     "name": "stdout",
     "output_type": "stream",
     "text": [
      "\n",
      "epoch : 409, tr_loss:  0.288310, val_loss: 1.428, tr_acc: 82.31%, val_acc: 72.68%\n"
     ]
    },
    {
     "name": "stderr",
     "output_type": "stream",
     "text": [
      "\n"
     ]
    },
    {
     "data": {
      "application/vnd.jupyter.widget-view+json": {
       "model_id": "fadbbaef67c547ffa7a5b117bc4b572d",
       "version_major": 2,
       "version_minor": 0
      },
      "text/plain": [
       "HBox(children=(HTML(value='steps'), FloatProgress(value=0.0, max=3006.0), HTML(value='')))"
      ]
     },
     "metadata": {},
     "output_type": "display_data"
    },
    {
     "name": "stderr",
     "output_type": "stream",
     "text": [
      "steps: 100%|██████████| 51/51 [00:00<00:00, 282.56it/s]\n"
     ]
    },
    {
     "name": "stdout",
     "output_type": "stream",
     "text": [
      "\r",
      "\r",
      "global_Step: 1230000, tr_loss: 0.290230, val_loss: 1.340481\n"
     ]
    },
    {
     "name": "stderr",
     "output_type": "stream",
     "text": [
      "steps: 100%|██████████| 51/51 [00:00<00:00, 274.49it/s]"
     ]
    },
    {
     "name": "stdout",
     "output_type": "stream",
     "text": [
      "\n",
      "epoch : 410, tr_loss:  0.290003, val_loss: 1.228, tr_acc: 82.34%, val_acc: 73.20%\n"
     ]
    },
    {
     "name": "stderr",
     "output_type": "stream",
     "text": [
      "\n"
     ]
    },
    {
     "data": {
      "application/vnd.jupyter.widget-view+json": {
       "model_id": "3c74cdf00a52488ca1b79c22e6988b29",
       "version_major": 2,
       "version_minor": 0
      },
      "text/plain": [
       "HBox(children=(HTML(value='steps'), FloatProgress(value=0.0, max=3006.0), HTML(value='')))"
      ]
     },
     "metadata": {},
     "output_type": "display_data"
    },
    {
     "name": "stderr",
     "output_type": "stream",
     "text": [
      "steps: 100%|██████████| 51/51 [00:00<00:00, 276.92it/s]"
     ]
    },
    {
     "name": "stdout",
     "output_type": "stream",
     "text": [
      "\n"
     ]
    },
    {
     "name": "stderr",
     "output_type": "stream",
     "text": [
      "\n"
     ]
    },
    {
     "name": "stdout",
     "output_type": "stream",
     "text": [
      "\r",
      "epoch : 411, tr_loss:  0.288788, val_loss: 1.292, tr_acc: 82.36%, val_acc: 73.11%\n"
     ]
    },
    {
     "data": {
      "application/vnd.jupyter.widget-view+json": {
       "model_id": "cace9b5638e84d45986f4420d0f299a8",
       "version_major": 2,
       "version_minor": 0
      },
      "text/plain": [
       "HBox(children=(HTML(value='steps'), FloatProgress(value=0.0, max=3006.0), HTML(value='')))"
      ]
     },
     "metadata": {},
     "output_type": "display_data"
    },
    {
     "name": "stderr",
     "output_type": "stream",
     "text": [
      "steps: 100%|██████████| 51/51 [00:00<00:00, 274.15it/s]"
     ]
    },
    {
     "name": "stdout",
     "output_type": "stream",
     "text": [
      "\n",
      "epoch : 412, tr_loss:  0.289470, val_loss: 1.269, tr_acc: 82.30%, val_acc: 73.41%\n"
     ]
    },
    {
     "name": "stderr",
     "output_type": "stream",
     "text": [
      "\n"
     ]
    },
    {
     "data": {
      "application/vnd.jupyter.widget-view+json": {
       "model_id": "8fbee724349548ddb0c5e49658da608c",
       "version_major": 2,
       "version_minor": 0
      },
      "text/plain": [
       "HBox(children=(HTML(value='steps'), FloatProgress(value=0.0, max=3006.0), HTML(value='')))"
      ]
     },
     "metadata": {},
     "output_type": "display_data"
    },
    {
     "name": "stderr",
     "output_type": "stream",
     "text": [
      "steps: 100%|██████████| 51/51 [00:00<00:00, 288.40it/s]\n"
     ]
    },
    {
     "name": "stdout",
     "output_type": "stream",
     "text": [
      "\r",
      "\r",
      "global_Step: 1240000, tr_loss: 0.286962, val_loss: 1.118161\n"
     ]
    },
    {
     "name": "stderr",
     "output_type": "stream",
     "text": [
      "steps: 100%|██████████| 51/51 [00:00<00:00, 268.57it/s]"
     ]
    },
    {
     "name": "stdout",
     "output_type": "stream",
     "text": [
      "\n",
      "epoch : 413, tr_loss:  0.287787, val_loss: 1.296, tr_acc: 82.37%, val_acc: 73.07%\n"
     ]
    },
    {
     "name": "stderr",
     "output_type": "stream",
     "text": [
      "\n"
     ]
    },
    {
     "data": {
      "application/vnd.jupyter.widget-view+json": {
       "model_id": "8c80cde2c3714f69900ac5175851fddf",
       "version_major": 2,
       "version_minor": 0
      },
      "text/plain": [
       "HBox(children=(HTML(value='steps'), FloatProgress(value=0.0, max=3006.0), HTML(value='')))"
      ]
     },
     "metadata": {},
     "output_type": "display_data"
    },
    {
     "name": "stderr",
     "output_type": "stream",
     "text": [
      "steps: 100%|██████████| 51/51 [00:00<00:00, 275.04it/s]"
     ]
    },
    {
     "name": "stdout",
     "output_type": "stream",
     "text": [
      "\n",
      "epoch : 414, tr_loss:  0.288902, val_loss: 1.255, tr_acc: 82.35%, val_acc: 73.47%\n"
     ]
    },
    {
     "name": "stderr",
     "output_type": "stream",
     "text": [
      "\n"
     ]
    },
    {
     "data": {
      "application/vnd.jupyter.widget-view+json": {
       "model_id": "4bf787b77f784ce9a31a0b2b3bb6f0dd",
       "version_major": 2,
       "version_minor": 0
      },
      "text/plain": [
       "HBox(children=(HTML(value='steps'), FloatProgress(value=0.0, max=3006.0), HTML(value='')))"
      ]
     },
     "metadata": {},
     "output_type": "display_data"
    },
    {
     "name": "stderr",
     "output_type": "stream",
     "text": [
      "steps: 100%|██████████| 51/51 [00:00<00:00, 266.24it/s]"
     ]
    },
    {
     "name": "stdout",
     "output_type": "stream",
     "text": [
      "\n",
      "epoch : 415, tr_loss:  0.289046, val_loss: 1.269, tr_acc: 82.34%, val_acc: 73.35%\n"
     ]
    },
    {
     "name": "stderr",
     "output_type": "stream",
     "text": [
      "\n"
     ]
    },
    {
     "data": {
      "application/vnd.jupyter.widget-view+json": {
       "model_id": "b3d0d661d6a84b35b6b16b07ad6750dc",
       "version_major": 2,
       "version_minor": 0
      },
      "text/plain": [
       "HBox(children=(HTML(value='steps'), FloatProgress(value=0.0, max=3006.0), HTML(value='')))"
      ]
     },
     "metadata": {},
     "output_type": "display_data"
    },
    {
     "name": "stderr",
     "output_type": "stream",
     "text": [
      "steps: 100%|██████████| 51/51 [00:00<00:00, 283.10it/s]\n"
     ]
    },
    {
     "name": "stdout",
     "output_type": "stream",
     "text": [
      "\r",
      "\r",
      "global_Step: 1250000, tr_loss: 0.286668, val_loss: 1.361622\n"
     ]
    },
    {
     "name": "stderr",
     "output_type": "stream",
     "text": [
      "steps: 100%|██████████| 51/51 [00:00<00:00, 269.54it/s]"
     ]
    },
    {
     "name": "stdout",
     "output_type": "stream",
     "text": [
      "\n",
      "epoch : 416, tr_loss:  0.286260, val_loss: 1.351, tr_acc: 82.45%, val_acc: 72.80%\n"
     ]
    },
    {
     "name": "stderr",
     "output_type": "stream",
     "text": [
      "\n"
     ]
    },
    {
     "data": {
      "application/vnd.jupyter.widget-view+json": {
       "model_id": "9ef64ff2b6cc468aac33f5a776b48b23",
       "version_major": 2,
       "version_minor": 0
      },
      "text/plain": [
       "HBox(children=(HTML(value='steps'), FloatProgress(value=0.0, max=3006.0), HTML(value='')))"
      ]
     },
     "metadata": {},
     "output_type": "display_data"
    },
    {
     "name": "stderr",
     "output_type": "stream",
     "text": [
      "steps: 100%|██████████| 51/51 [00:00<00:00, 262.23it/s]"
     ]
    },
    {
     "name": "stdout",
     "output_type": "stream",
     "text": [
      "\n",
      "epoch : 417, tr_loss:  0.287534, val_loss: 1.273, tr_acc: 82.40%, val_acc: 73.50%\n"
     ]
    },
    {
     "name": "stderr",
     "output_type": "stream",
     "text": [
      "\n"
     ]
    },
    {
     "data": {
      "application/vnd.jupyter.widget-view+json": {
       "model_id": "b1c1f3bec81f411495fd9b6b47ebfc00",
       "version_major": 2,
       "version_minor": 0
      },
      "text/plain": [
       "HBox(children=(HTML(value='steps'), FloatProgress(value=0.0, max=3006.0), HTML(value='')))"
      ]
     },
     "metadata": {},
     "output_type": "display_data"
    },
    {
     "name": "stderr",
     "output_type": "stream",
     "text": [
      "steps: 100%|██████████| 51/51 [00:00<00:00, 273.03it/s]"
     ]
    },
    {
     "name": "stdout",
     "output_type": "stream",
     "text": [
      "\n",
      "epoch : 418, tr_loss:  0.287301, val_loss: 1.369, tr_acc: 82.43%, val_acc: 73.14%\n"
     ]
    },
    {
     "name": "stderr",
     "output_type": "stream",
     "text": [
      "\n"
     ]
    },
    {
     "data": {
      "application/vnd.jupyter.widget-view+json": {
       "model_id": "2ac4755661254494a64aa8824b959fa9",
       "version_major": 2,
       "version_minor": 0
      },
      "text/plain": [
       "HBox(children=(HTML(value='steps'), FloatProgress(value=0.0, max=3006.0), HTML(value='')))"
      ]
     },
     "metadata": {},
     "output_type": "display_data"
    },
    {
     "name": "stderr",
     "output_type": "stream",
     "text": [
      "steps: 100%|██████████| 51/51 [00:00<00:00, 267.53it/s]"
     ]
    },
    {
     "name": "stdout",
     "output_type": "stream",
     "text": [
      "\n",
      "epoch : 419, tr_loss:  0.288123, val_loss: 1.215, tr_acc: 82.39%, val_acc: 73.14%\n"
     ]
    },
    {
     "name": "stderr",
     "output_type": "stream",
     "text": [
      "\n"
     ]
    },
    {
     "data": {
      "application/vnd.jupyter.widget-view+json": {
       "model_id": "0573f5d62da04904a33a794937dd6e8b",
       "version_major": 2,
       "version_minor": 0
      },
      "text/plain": [
       "HBox(children=(HTML(value='steps'), FloatProgress(value=0.0, max=3006.0), HTML(value='')))"
      ]
     },
     "metadata": {},
     "output_type": "display_data"
    },
    {
     "name": "stderr",
     "output_type": "stream",
     "text": [
      "steps: 100%|██████████| 51/51 [00:00<00:00, 285.43it/s]\n"
     ]
    },
    {
     "name": "stdout",
     "output_type": "stream",
     "text": [
      "\r",
      "\r",
      "global_Step: 1260000, tr_loss: 0.281013, val_loss: 1.288943\n"
     ]
    },
    {
     "name": "stderr",
     "output_type": "stream",
     "text": [
      "steps: 100%|██████████| 51/51 [00:00<00:00, 272.60it/s]"
     ]
    },
    {
     "name": "stdout",
     "output_type": "stream",
     "text": [
      "\n",
      "epoch : 420, tr_loss:  0.285473, val_loss: 1.203, tr_acc: 82.51%, val_acc: 73.29%\n"
     ]
    },
    {
     "name": "stderr",
     "output_type": "stream",
     "text": [
      "\n"
     ]
    },
    {
     "data": {
      "application/vnd.jupyter.widget-view+json": {
       "model_id": "821a54dbbe274230bda239b3ffa6957b",
       "version_major": 2,
       "version_minor": 0
      },
      "text/plain": [
       "HBox(children=(HTML(value='steps'), FloatProgress(value=0.0, max=3006.0), HTML(value='')))"
      ]
     },
     "metadata": {},
     "output_type": "display_data"
    },
    {
     "name": "stderr",
     "output_type": "stream",
     "text": [
      "steps: 100%|██████████| 51/51 [00:00<00:00, 269.28it/s]"
     ]
    },
    {
     "name": "stdout",
     "output_type": "stream",
     "text": [
      "\n",
      "epoch : 421, tr_loss:  0.286056, val_loss: 1.310, tr_acc: 82.49%, val_acc: 72.62%\n"
     ]
    },
    {
     "name": "stderr",
     "output_type": "stream",
     "text": [
      "\n"
     ]
    },
    {
     "data": {
      "application/vnd.jupyter.widget-view+json": {
       "model_id": "7a5b44f639ec487280ed2715286ee9b1",
       "version_major": 2,
       "version_minor": 0
      },
      "text/plain": [
       "HBox(children=(HTML(value='steps'), FloatProgress(value=0.0, max=3006.0), HTML(value='')))"
      ]
     },
     "metadata": {},
     "output_type": "display_data"
    },
    {
     "name": "stderr",
     "output_type": "stream",
     "text": [
      "steps: 100%|██████████| 51/51 [00:00<00:00, 276.20it/s]"
     ]
    },
    {
     "name": "stdout",
     "output_type": "stream",
     "text": [
      "\n",
      "epoch : 422, tr_loss:  0.288293, val_loss: 1.361, tr_acc: 82.40%, val_acc: 73.14%\n"
     ]
    },
    {
     "name": "stderr",
     "output_type": "stream",
     "text": [
      "\n"
     ]
    },
    {
     "data": {
      "application/vnd.jupyter.widget-view+json": {
       "model_id": "9b3310d8a0254fef9e4bc8c6fd92b772",
       "version_major": 2,
       "version_minor": 0
      },
      "text/plain": [
       "HBox(children=(HTML(value='steps'), FloatProgress(value=0.0, max=3006.0), HTML(value='')))"
      ]
     },
     "metadata": {},
     "output_type": "display_data"
    },
    {
     "name": "stderr",
     "output_type": "stream",
     "text": [
      "steps: 100%|██████████| 51/51 [00:00<00:00, 280.56it/s]\n"
     ]
    },
    {
     "name": "stdout",
     "output_type": "stream",
     "text": [
      "\r",
      "\r",
      "global_Step: 1270000, tr_loss: 0.283027, val_loss: 1.357655\n"
     ]
    },
    {
     "name": "stderr",
     "output_type": "stream",
     "text": [
      "steps: 100%|██████████| 51/51 [00:00<00:00, 273.77it/s]"
     ]
    },
    {
     "name": "stdout",
     "output_type": "stream",
     "text": [
      "\n",
      "epoch : 423, tr_loss:  0.284248, val_loss: 1.330, tr_acc: 82.52%, val_acc: 72.92%\n"
     ]
    },
    {
     "name": "stderr",
     "output_type": "stream",
     "text": [
      "\n"
     ]
    },
    {
     "data": {
      "application/vnd.jupyter.widget-view+json": {
       "model_id": "4f8b3c0793044cdb904e8a7ce08b4a47",
       "version_major": 2,
       "version_minor": 0
      },
      "text/plain": [
       "HBox(children=(HTML(value='steps'), FloatProgress(value=0.0, max=3006.0), HTML(value='')))"
      ]
     },
     "metadata": {},
     "output_type": "display_data"
    },
    {
     "name": "stderr",
     "output_type": "stream",
     "text": [
      "steps: 100%|██████████| 51/51 [00:00<00:00, 273.97it/s]"
     ]
    },
    {
     "name": "stdout",
     "output_type": "stream",
     "text": [
      "\n",
      "epoch : 424, tr_loss:  0.288829, val_loss: 1.308, tr_acc: 82.36%, val_acc: 73.23%\n"
     ]
    },
    {
     "name": "stderr",
     "output_type": "stream",
     "text": [
      "\n"
     ]
    },
    {
     "data": {
      "application/vnd.jupyter.widget-view+json": {
       "model_id": "2d4a98d3fc4f41cab9865e705c55c87c",
       "version_major": 2,
       "version_minor": 0
      },
      "text/plain": [
       "HBox(children=(HTML(value='steps'), FloatProgress(value=0.0, max=3006.0), HTML(value='')))"
      ]
     },
     "metadata": {},
     "output_type": "display_data"
    },
    {
     "name": "stderr",
     "output_type": "stream",
     "text": [
      "steps: 100%|██████████| 51/51 [00:00<00:00, 272.62it/s]"
     ]
    },
    {
     "name": "stdout",
     "output_type": "stream",
     "text": [
      "\n",
      "epoch : 425, tr_loss:  0.285517, val_loss: 1.354, tr_acc: 82.49%, val_acc: 72.92%\n"
     ]
    },
    {
     "name": "stderr",
     "output_type": "stream",
     "text": [
      "\n"
     ]
    },
    {
     "data": {
      "application/vnd.jupyter.widget-view+json": {
       "model_id": "502e03fc79594f349799c8dbdfbe96a2",
       "version_major": 2,
       "version_minor": 0
      },
      "text/plain": [
       "HBox(children=(HTML(value='steps'), FloatProgress(value=0.0, max=3006.0), HTML(value='')))"
      ]
     },
     "metadata": {},
     "output_type": "display_data"
    },
    {
     "name": "stderr",
     "output_type": "stream",
     "text": [
      "steps: 100%|██████████| 51/51 [00:00<00:00, 282.24it/s]\n"
     ]
    },
    {
     "name": "stdout",
     "output_type": "stream",
     "text": [
      "\r",
      "\r",
      "global_Step: 1280000, tr_loss: 0.286007, val_loss: 1.332576\n"
     ]
    },
    {
     "name": "stderr",
     "output_type": "stream",
     "text": [
      "steps: 100%|██████████| 51/51 [00:00<00:00, 261.90it/s]"
     ]
    },
    {
     "name": "stdout",
     "output_type": "stream",
     "text": [
      "\n",
      "epoch : 426, tr_loss:  0.286268, val_loss: 1.330, tr_acc: 82.50%, val_acc: 73.17%\n"
     ]
    },
    {
     "name": "stderr",
     "output_type": "stream",
     "text": [
      "\n"
     ]
    },
    {
     "data": {
      "application/vnd.jupyter.widget-view+json": {
       "model_id": "351d8bb390bb45fd830f6ce826ba104d",
       "version_major": 2,
       "version_minor": 0
      },
      "text/plain": [
       "HBox(children=(HTML(value='steps'), FloatProgress(value=0.0, max=3006.0), HTML(value='')))"
      ]
     },
     "metadata": {},
     "output_type": "display_data"
    },
    {
     "name": "stderr",
     "output_type": "stream",
     "text": [
      "steps: 100%|██████████| 51/51 [00:00<00:00, 271.97it/s]"
     ]
    },
    {
     "name": "stdout",
     "output_type": "stream",
     "text": [
      "\n",
      "epoch : 427, tr_loss:  0.285128, val_loss: 1.277, tr_acc: 82.55%, val_acc: 72.86%\n"
     ]
    },
    {
     "name": "stderr",
     "output_type": "stream",
     "text": [
      "\n"
     ]
    },
    {
     "data": {
      "application/vnd.jupyter.widget-view+json": {
       "model_id": "e3a64ae2b1ea442f92a1e33810b96c4a",
       "version_major": 2,
       "version_minor": 0
      },
      "text/plain": [
       "HBox(children=(HTML(value='steps'), FloatProgress(value=0.0, max=3006.0), HTML(value='')))"
      ]
     },
     "metadata": {},
     "output_type": "display_data"
    },
    {
     "name": "stderr",
     "output_type": "stream",
     "text": [
      "steps: 100%|██████████| 51/51 [00:00<00:00, 272.75it/s]"
     ]
    },
    {
     "name": "stdout",
     "output_type": "stream",
     "text": [
      "\n",
      "epoch : 428, tr_loss:  0.286472, val_loss: 1.294, tr_acc: 82.43%, val_acc: 72.98%\n"
     ]
    },
    {
     "name": "stderr",
     "output_type": "stream",
     "text": [
      "\n"
     ]
    },
    {
     "data": {
      "application/vnd.jupyter.widget-view+json": {
       "model_id": "db638e3c20064961bf55152741de2151",
       "version_major": 2,
       "version_minor": 0
      },
      "text/plain": [
       "HBox(children=(HTML(value='steps'), FloatProgress(value=0.0, max=3006.0), HTML(value='')))"
      ]
     },
     "metadata": {},
     "output_type": "display_data"
    },
    {
     "name": "stderr",
     "output_type": "stream",
     "text": [
      "steps: 100%|██████████| 51/51 [00:00<00:00, 272.77it/s]"
     ]
    },
    {
     "name": "stdout",
     "output_type": "stream",
     "text": [
      "\n",
      "epoch : 429, tr_loss:  0.285790, val_loss: 1.316, tr_acc: 82.47%, val_acc: 72.92%\n"
     ]
    },
    {
     "name": "stderr",
     "output_type": "stream",
     "text": [
      "\n"
     ]
    },
    {
     "data": {
      "application/vnd.jupyter.widget-view+json": {
       "model_id": "4c05f26f5d8f491f8cdb1d22c7f87047",
       "version_major": 2,
       "version_minor": 0
      },
      "text/plain": [
       "HBox(children=(HTML(value='steps'), FloatProgress(value=0.0, max=3006.0), HTML(value='')))"
      ]
     },
     "metadata": {},
     "output_type": "display_data"
    },
    {
     "name": "stderr",
     "output_type": "stream",
     "text": [
      "steps: 100%|██████████| 51/51 [00:00<00:00, 286.47it/s]\n"
     ]
    },
    {
     "name": "stdout",
     "output_type": "stream",
     "text": [
      "\r",
      "\r",
      "global_Step: 1290000, tr_loss: 0.282210, val_loss: 1.396573\n"
     ]
    },
    {
     "name": "stderr",
     "output_type": "stream",
     "text": [
      "steps: 100%|██████████| 51/51 [00:00<00:00, 274.42it/s]"
     ]
    },
    {
     "name": "stdout",
     "output_type": "stream",
     "text": [
      "\n",
      "epoch : 430, tr_loss:  0.286113, val_loss: 1.368, tr_acc: 82.44%, val_acc: 72.95%\n"
     ]
    },
    {
     "name": "stderr",
     "output_type": "stream",
     "text": [
      "\n"
     ]
    },
    {
     "data": {
      "application/vnd.jupyter.widget-view+json": {
       "model_id": "7a87307bdf0d47e79ae56db2040158fe",
       "version_major": 2,
       "version_minor": 0
      },
      "text/plain": [
       "HBox(children=(HTML(value='steps'), FloatProgress(value=0.0, max=3006.0), HTML(value='')))"
      ]
     },
     "metadata": {},
     "output_type": "display_data"
    },
    {
     "name": "stderr",
     "output_type": "stream",
     "text": [
      "steps: 100%|██████████| 51/51 [00:00<00:00, 273.14it/s]"
     ]
    },
    {
     "name": "stdout",
     "output_type": "stream",
     "text": [
      "\n",
      "epoch : 431, tr_loss:  0.287828, val_loss: 1.364, tr_acc: 82.44%, val_acc: 72.92%\n"
     ]
    },
    {
     "name": "stderr",
     "output_type": "stream",
     "text": [
      "\n"
     ]
    },
    {
     "data": {
      "application/vnd.jupyter.widget-view+json": {
       "model_id": "cb67a69e56dd43a8beb1c89c3467a3f2",
       "version_major": 2,
       "version_minor": 0
      },
      "text/plain": [
       "HBox(children=(HTML(value='steps'), FloatProgress(value=0.0, max=3006.0), HTML(value='')))"
      ]
     },
     "metadata": {},
     "output_type": "display_data"
    },
    {
     "name": "stderr",
     "output_type": "stream",
     "text": [
      "steps: 100%|██████████| 51/51 [00:00<00:00, 274.38it/s]"
     ]
    },
    {
     "name": "stdout",
     "output_type": "stream",
     "text": [
      "\n"
     ]
    },
    {
     "name": "stderr",
     "output_type": "stream",
     "text": [
      "\n"
     ]
    },
    {
     "name": "stdout",
     "output_type": "stream",
     "text": [
      "\r",
      "epoch : 432, tr_loss:  0.287031, val_loss: 1.377, tr_acc: 82.52%, val_acc: 72.80%\n"
     ]
    },
    {
     "data": {
      "application/vnd.jupyter.widget-view+json": {
       "model_id": "9cddea427cdd4d4aabb475552814318b",
       "version_major": 2,
       "version_minor": 0
      },
      "text/plain": [
       "HBox(children=(HTML(value='steps'), FloatProgress(value=0.0, max=3006.0), HTML(value='')))"
      ]
     },
     "metadata": {},
     "output_type": "display_data"
    },
    {
     "name": "stderr",
     "output_type": "stream",
     "text": [
      "steps: 100%|██████████| 51/51 [00:00<00:00, 281.68it/s]\n"
     ]
    },
    {
     "name": "stdout",
     "output_type": "stream",
     "text": [
      "\r",
      "\r",
      "global_Step: 1300000, tr_loss: 0.280343, val_loss: 1.371917\n"
     ]
    },
    {
     "name": "stderr",
     "output_type": "stream",
     "text": [
      "steps: 100%|██████████| 51/51 [00:00<00:00, 269.61it/s]"
     ]
    },
    {
     "name": "stdout",
     "output_type": "stream",
     "text": [
      "\n",
      "epoch : 433, tr_loss:  0.283708, val_loss: 1.309, tr_acc: 82.65%, val_acc: 73.20%\n"
     ]
    },
    {
     "name": "stderr",
     "output_type": "stream",
     "text": [
      "\n"
     ]
    },
    {
     "data": {
      "application/vnd.jupyter.widget-view+json": {
       "model_id": "57ba234e647f405e9cb1440f8358660e",
       "version_major": 2,
       "version_minor": 0
      },
      "text/plain": [
       "HBox(children=(HTML(value='steps'), FloatProgress(value=0.0, max=3006.0), HTML(value='')))"
      ]
     },
     "metadata": {},
     "output_type": "display_data"
    },
    {
     "name": "stderr",
     "output_type": "stream",
     "text": [
      "steps:  51%|█████     | 26/51 [00:00<00:00, 250.71it/s]"
     ]
    },
    {
     "name": "stdout",
     "output_type": "stream",
     "text": [
      "\n"
     ]
    },
    {
     "name": "stderr",
     "output_type": "stream",
     "text": [
      "\r",
      "steps: 100%|██████████| 51/51 [00:00<00:00, 257.94it/s]"
     ]
    },
    {
     "name": "stdout",
     "output_type": "stream",
     "text": [
      "\r",
      "epoch : 434, tr_loss:  0.285643, val_loss: 1.260, tr_acc: 82.55%, val_acc: 72.65%\n"
     ]
    },
    {
     "name": "stderr",
     "output_type": "stream",
     "text": [
      "\n"
     ]
    },
    {
     "data": {
      "application/vnd.jupyter.widget-view+json": {
       "model_id": "6a8e76b5d9304b8b8a05f89c62638e48",
       "version_major": 2,
       "version_minor": 0
      },
      "text/plain": [
       "HBox(children=(HTML(value='steps'), FloatProgress(value=0.0, max=3006.0), HTML(value='')))"
      ]
     },
     "metadata": {},
     "output_type": "display_data"
    },
    {
     "name": "stderr",
     "output_type": "stream",
     "text": [
      "steps: 100%|██████████| 51/51 [00:00<00:00, 269.57it/s]"
     ]
    },
    {
     "name": "stdout",
     "output_type": "stream",
     "text": [
      "\n",
      "epoch : 435, tr_loss:  0.286204, val_loss: 1.293, tr_acc: 82.45%, val_acc: 73.59%\n"
     ]
    },
    {
     "name": "stderr",
     "output_type": "stream",
     "text": [
      "\n"
     ]
    },
    {
     "data": {
      "application/vnd.jupyter.widget-view+json": {
       "model_id": "9db15c3674464b1ea91995e3f50b246f",
       "version_major": 2,
       "version_minor": 0
      },
      "text/plain": [
       "HBox(children=(HTML(value='steps'), FloatProgress(value=0.0, max=3006.0), HTML(value='')))"
      ]
     },
     "metadata": {},
     "output_type": "display_data"
    },
    {
     "name": "stderr",
     "output_type": "stream",
     "text": [
      "steps: 100%|██████████| 51/51 [00:00<00:00, 286.56it/s]\n"
     ]
    },
    {
     "name": "stdout",
     "output_type": "stream",
     "text": [
      "\r",
      "\r",
      "global_Step: 1310000, tr_loss: 0.286744, val_loss: 1.335592\n"
     ]
    },
    {
     "name": "stderr",
     "output_type": "stream",
     "text": [
      "steps: 100%|██████████| 51/51 [00:00<00:00, 274.19it/s]"
     ]
    },
    {
     "name": "stdout",
     "output_type": "stream",
     "text": [
      "\n",
      "epoch : 436, tr_loss:  0.285424, val_loss: 1.396, tr_acc: 82.56%, val_acc: 73.01%\n"
     ]
    },
    {
     "name": "stderr",
     "output_type": "stream",
     "text": [
      "\n"
     ]
    },
    {
     "data": {
      "application/vnd.jupyter.widget-view+json": {
       "model_id": "7cbd6407f9bd43e287c93e7e379dc242",
       "version_major": 2,
       "version_minor": 0
      },
      "text/plain": [
       "HBox(children=(HTML(value='steps'), FloatProgress(value=0.0, max=3006.0), HTML(value='')))"
      ]
     },
     "metadata": {},
     "output_type": "display_data"
    },
    {
     "name": "stderr",
     "output_type": "stream",
     "text": [
      "steps: 100%|██████████| 51/51 [00:00<00:00, 277.18it/s]"
     ]
    },
    {
     "name": "stdout",
     "output_type": "stream",
     "text": [
      "\n",
      "epoch : 437, tr_loss:  0.284666, val_loss: 1.415, tr_acc: 82.58%, val_acc: 72.89%\n"
     ]
    },
    {
     "name": "stderr",
     "output_type": "stream",
     "text": [
      "\n"
     ]
    },
    {
     "data": {
      "application/vnd.jupyter.widget-view+json": {
       "model_id": "55f68a9072214bb18fcb2f2e85b2fc1a",
       "version_major": 2,
       "version_minor": 0
      },
      "text/plain": [
       "HBox(children=(HTML(value='steps'), FloatProgress(value=0.0, max=3006.0), HTML(value='')))"
      ]
     },
     "metadata": {},
     "output_type": "display_data"
    },
    {
     "name": "stderr",
     "output_type": "stream",
     "text": [
      "steps: 100%|██████████| 51/51 [00:00<00:00, 275.94it/s]"
     ]
    },
    {
     "name": "stdout",
     "output_type": "stream",
     "text": [
      "\n",
      "epoch : 438, tr_loss:  0.286403, val_loss: 1.401, tr_acc: 82.59%, val_acc: 72.68%\n"
     ]
    },
    {
     "name": "stderr",
     "output_type": "stream",
     "text": [
      "\n"
     ]
    },
    {
     "data": {
      "application/vnd.jupyter.widget-view+json": {
       "model_id": "368b2838f5664294a8fa205179460fa9",
       "version_major": 2,
       "version_minor": 0
      },
      "text/plain": [
       "HBox(children=(HTML(value='steps'), FloatProgress(value=0.0, max=3006.0), HTML(value='')))"
      ]
     },
     "metadata": {},
     "output_type": "display_data"
    },
    {
     "name": "stderr",
     "output_type": "stream",
     "text": [
      "steps: 100%|██████████| 51/51 [00:00<00:00, 274.76it/s]"
     ]
    },
    {
     "name": "stdout",
     "output_type": "stream",
     "text": [
      "\n",
      "epoch : 439, tr_loss:  0.285372, val_loss: 1.351, tr_acc: 82.54%, val_acc: 73.38%\n"
     ]
    },
    {
     "name": "stderr",
     "output_type": "stream",
     "text": [
      "\n"
     ]
    },
    {
     "data": {
      "application/vnd.jupyter.widget-view+json": {
       "model_id": "76866febeb2c4c8d8b6f057f5d826fb3",
       "version_major": 2,
       "version_minor": 0
      },
      "text/plain": [
       "HBox(children=(HTML(value='steps'), FloatProgress(value=0.0, max=3006.0), HTML(value='')))"
      ]
     },
     "metadata": {},
     "output_type": "display_data"
    },
    {
     "name": "stderr",
     "output_type": "stream",
     "text": [
      "steps: 100%|██████████| 51/51 [00:00<00:00, 284.28it/s]\n"
     ]
    },
    {
     "name": "stdout",
     "output_type": "stream",
     "text": [
      "\r",
      "\r",
      "global_Step: 1320000, tr_loss: 0.275625, val_loss: 1.410867\n"
     ]
    },
    {
     "name": "stderr",
     "output_type": "stream",
     "text": [
      "steps: 100%|██████████| 51/51 [00:00<00:00, 274.28it/s]"
     ]
    },
    {
     "name": "stdout",
     "output_type": "stream",
     "text": [
      "\n",
      "epoch : 440, tr_loss:  0.285826, val_loss: 1.297, tr_acc: 82.58%, val_acc: 73.26%\n"
     ]
    },
    {
     "name": "stderr",
     "output_type": "stream",
     "text": [
      "\n"
     ]
    },
    {
     "data": {
      "application/vnd.jupyter.widget-view+json": {
       "model_id": "5c7b0c03729545648bb76ede1529220d",
       "version_major": 2,
       "version_minor": 0
      },
      "text/plain": [
       "HBox(children=(HTML(value='steps'), FloatProgress(value=0.0, max=3006.0), HTML(value='')))"
      ]
     },
     "metadata": {},
     "output_type": "display_data"
    },
    {
     "name": "stderr",
     "output_type": "stream",
     "text": [
      "steps: 100%|██████████| 51/51 [00:00<00:00, 276.14it/s]"
     ]
    },
    {
     "name": "stdout",
     "output_type": "stream",
     "text": [
      "\n",
      "epoch : 441, tr_loss:  0.283714, val_loss: 1.310, tr_acc: 82.60%, val_acc: 73.62%\n"
     ]
    },
    {
     "name": "stderr",
     "output_type": "stream",
     "text": [
      "\n"
     ]
    },
    {
     "data": {
      "application/vnd.jupyter.widget-view+json": {
       "model_id": "f56eaa748f8a426c9c27a8c095f1ed24",
       "version_major": 2,
       "version_minor": 0
      },
      "text/plain": [
       "HBox(children=(HTML(value='steps'), FloatProgress(value=0.0, max=3006.0), HTML(value='')))"
      ]
     },
     "metadata": {},
     "output_type": "display_data"
    },
    {
     "name": "stderr",
     "output_type": "stream",
     "text": [
      "steps: 100%|██████████| 51/51 [00:00<00:00, 271.51it/s]"
     ]
    },
    {
     "name": "stdout",
     "output_type": "stream",
     "text": [
      "\n",
      "epoch : 442, tr_loss:  0.284787, val_loss: 1.392, tr_acc: 82.54%, val_acc: 72.86%\n"
     ]
    },
    {
     "name": "stderr",
     "output_type": "stream",
     "text": [
      "\n"
     ]
    },
    {
     "data": {
      "application/vnd.jupyter.widget-view+json": {
       "model_id": "3c8da81df9ab48e599493571802d3702",
       "version_major": 2,
       "version_minor": 0
      },
      "text/plain": [
       "HBox(children=(HTML(value='steps'), FloatProgress(value=0.0, max=3006.0), HTML(value='')))"
      ]
     },
     "metadata": {},
     "output_type": "display_data"
    },
    {
     "name": "stderr",
     "output_type": "stream",
     "text": [
      "steps: 100%|██████████| 51/51 [00:00<00:00, 284.79it/s]\n"
     ]
    },
    {
     "name": "stdout",
     "output_type": "stream",
     "text": [
      "\r",
      "\r",
      "global_Step: 1330000, tr_loss: 0.281122, val_loss: 1.377337\n"
     ]
    },
    {
     "name": "stderr",
     "output_type": "stream",
     "text": [
      "steps: 100%|██████████| 51/51 [00:00<00:00, 270.23it/s]"
     ]
    },
    {
     "name": "stdout",
     "output_type": "stream",
     "text": [
      "\n",
      "epoch : 443, tr_loss:  0.284779, val_loss: 1.321, tr_acc: 82.62%, val_acc: 72.77%\n"
     ]
    },
    {
     "name": "stderr",
     "output_type": "stream",
     "text": [
      "\n"
     ]
    },
    {
     "data": {
      "application/vnd.jupyter.widget-view+json": {
       "model_id": "c80a5feb71cc4ad485f0596098be6cb3",
       "version_major": 2,
       "version_minor": 0
      },
      "text/plain": [
       "HBox(children=(HTML(value='steps'), FloatProgress(value=0.0, max=3006.0), HTML(value='')))"
      ]
     },
     "metadata": {},
     "output_type": "display_data"
    },
    {
     "name": "stderr",
     "output_type": "stream",
     "text": [
      "steps: 100%|██████████| 51/51 [00:00<00:00, 275.62it/s]"
     ]
    },
    {
     "name": "stdout",
     "output_type": "stream",
     "text": [
      "\n",
      "epoch : 444, tr_loss:  0.281787, val_loss: 1.349, tr_acc: 82.66%, val_acc: 72.80%\n"
     ]
    },
    {
     "name": "stderr",
     "output_type": "stream",
     "text": [
      "\n"
     ]
    },
    {
     "data": {
      "application/vnd.jupyter.widget-view+json": {
       "model_id": "f3b19c82e9144f15b52a79d633921b21",
       "version_major": 2,
       "version_minor": 0
      },
      "text/plain": [
       "HBox(children=(HTML(value='steps'), FloatProgress(value=0.0, max=3006.0), HTML(value='')))"
      ]
     },
     "metadata": {},
     "output_type": "display_data"
    },
    {
     "name": "stderr",
     "output_type": "stream",
     "text": [
      "steps: 100%|██████████| 51/51 [00:00<00:00, 271.30it/s]"
     ]
    },
    {
     "name": "stdout",
     "output_type": "stream",
     "text": [
      "\n",
      "epoch : 445, tr_loss:  0.286386, val_loss: 1.317, tr_acc: 82.56%, val_acc: 72.95%\n"
     ]
    },
    {
     "name": "stderr",
     "output_type": "stream",
     "text": [
      "\n"
     ]
    },
    {
     "data": {
      "application/vnd.jupyter.widget-view+json": {
       "model_id": "308d8c4933624751860f69d45150fb54",
       "version_major": 2,
       "version_minor": 0
      },
      "text/plain": [
       "HBox(children=(HTML(value='steps'), FloatProgress(value=0.0, max=3006.0), HTML(value='')))"
      ]
     },
     "metadata": {},
     "output_type": "display_data"
    },
    {
     "name": "stderr",
     "output_type": "stream",
     "text": [
      "steps: 100%|██████████| 51/51 [00:00<00:00, 287.06it/s]\n"
     ]
    },
    {
     "name": "stdout",
     "output_type": "stream",
     "text": [
      "\r",
      "\r",
      "global_Step: 1340000, tr_loss: 0.282504, val_loss: 1.330485\n"
     ]
    },
    {
     "name": "stderr",
     "output_type": "stream",
     "text": [
      "steps: 100%|██████████| 51/51 [00:00<00:00, 269.90it/s]"
     ]
    },
    {
     "name": "stdout",
     "output_type": "stream",
     "text": [
      "\n",
      "epoch : 446, tr_loss:  0.282189, val_loss: 1.421, tr_acc: 82.67%, val_acc: 72.59%\n"
     ]
    },
    {
     "name": "stderr",
     "output_type": "stream",
     "text": [
      "\n"
     ]
    },
    {
     "data": {
      "application/vnd.jupyter.widget-view+json": {
       "model_id": "c4573df4c8f1497a8a7cbd5a72e14b50",
       "version_major": 2,
       "version_minor": 0
      },
      "text/plain": [
       "HBox(children=(HTML(value='steps'), FloatProgress(value=0.0, max=3006.0), HTML(value='')))"
      ]
     },
     "metadata": {},
     "output_type": "display_data"
    },
    {
     "name": "stderr",
     "output_type": "stream",
     "text": [
      "steps: 100%|██████████| 51/51 [00:00<00:00, 273.95it/s]"
     ]
    },
    {
     "name": "stdout",
     "output_type": "stream",
     "text": [
      "\n",
      "epoch : 447, tr_loss:  0.285066, val_loss: 1.462, tr_acc: 82.58%, val_acc: 72.92%\n"
     ]
    },
    {
     "name": "stderr",
     "output_type": "stream",
     "text": [
      "\n"
     ]
    },
    {
     "data": {
      "application/vnd.jupyter.widget-view+json": {
       "model_id": "8587d789948944feac0621240112facb",
       "version_major": 2,
       "version_minor": 0
      },
      "text/plain": [
       "HBox(children=(HTML(value='steps'), FloatProgress(value=0.0, max=3006.0), HTML(value='')))"
      ]
     },
     "metadata": {},
     "output_type": "display_data"
    },
    {
     "name": "stderr",
     "output_type": "stream",
     "text": [
      "steps: 100%|██████████| 51/51 [00:00<00:00, 267.62it/s]"
     ]
    },
    {
     "name": "stdout",
     "output_type": "stream",
     "text": [
      "\n",
      "epoch : 448, tr_loss:  0.283090, val_loss: 1.445, tr_acc: 82.67%, val_acc: 72.52%\n"
     ]
    },
    {
     "name": "stderr",
     "output_type": "stream",
     "text": [
      "\n"
     ]
    },
    {
     "data": {
      "application/vnd.jupyter.widget-view+json": {
       "model_id": "0d20aa9e919346b4a695046734279239",
       "version_major": 2,
       "version_minor": 0
      },
      "text/plain": [
       "HBox(children=(HTML(value='steps'), FloatProgress(value=0.0, max=3006.0), HTML(value='')))"
      ]
     },
     "metadata": {},
     "output_type": "display_data"
    },
    {
     "name": "stderr",
     "output_type": "stream",
     "text": [
      "steps: 100%|██████████| 51/51 [00:00<00:00, 272.60it/s]"
     ]
    },
    {
     "name": "stdout",
     "output_type": "stream",
     "text": [
      "\n",
      "epoch : 449, tr_loss:  0.283157, val_loss: 1.297, tr_acc: 82.66%, val_acc: 72.86%\n"
     ]
    },
    {
     "name": "stderr",
     "output_type": "stream",
     "text": [
      "\n"
     ]
    },
    {
     "data": {
      "application/vnd.jupyter.widget-view+json": {
       "model_id": "92b6f5ae17284ef3a639bb623fa08fc9",
       "version_major": 2,
       "version_minor": 0
      },
      "text/plain": [
       "HBox(children=(HTML(value='steps'), FloatProgress(value=0.0, max=3006.0), HTML(value='')))"
      ]
     },
     "metadata": {},
     "output_type": "display_data"
    },
    {
     "name": "stderr",
     "output_type": "stream",
     "text": [
      "steps: 100%|██████████| 51/51 [00:00<00:00, 281.02it/s]\n"
     ]
    },
    {
     "name": "stdout",
     "output_type": "stream",
     "text": [
      "\r",
      "\r",
      "global_Step: 1350000, tr_loss: 0.286898, val_loss: 1.379572\n"
     ]
    },
    {
     "name": "stderr",
     "output_type": "stream",
     "text": [
      "steps: 100%|██████████| 51/51 [00:00<00:00, 269.71it/s]"
     ]
    },
    {
     "name": "stdout",
     "output_type": "stream",
     "text": [
      "\n",
      "epoch : 450, tr_loss:  0.283143, val_loss: 1.365, tr_acc: 82.56%, val_acc: 72.89%\n"
     ]
    },
    {
     "name": "stderr",
     "output_type": "stream",
     "text": [
      "\n"
     ]
    },
    {
     "data": {
      "application/vnd.jupyter.widget-view+json": {
       "model_id": "c2dcc25fc826411b9f9c19db29bbf34b",
       "version_major": 2,
       "version_minor": 0
      },
      "text/plain": [
       "HBox(children=(HTML(value='steps'), FloatProgress(value=0.0, max=3006.0), HTML(value='')))"
      ]
     },
     "metadata": {},
     "output_type": "display_data"
    },
    {
     "name": "stderr",
     "output_type": "stream",
     "text": [
      "steps: 100%|██████████| 51/51 [00:00<00:00, 272.44it/s]"
     ]
    },
    {
     "name": "stdout",
     "output_type": "stream",
     "text": [
      "\n",
      "epoch : 451, tr_loss:  0.284047, val_loss: 1.380, tr_acc: 82.67%, val_acc: 72.71%\n"
     ]
    },
    {
     "name": "stderr",
     "output_type": "stream",
     "text": [
      "\n"
     ]
    },
    {
     "data": {
      "application/vnd.jupyter.widget-view+json": {
       "model_id": "3124b0f7a2f54c169141028bc6342411",
       "version_major": 2,
       "version_minor": 0
      },
      "text/plain": [
       "HBox(children=(HTML(value='steps'), FloatProgress(value=0.0, max=3006.0), HTML(value='')))"
      ]
     },
     "metadata": {},
     "output_type": "display_data"
    },
    {
     "name": "stderr",
     "output_type": "stream",
     "text": [
      "steps: 100%|██████████| 51/51 [00:00<00:00, 269.56it/s]"
     ]
    },
    {
     "name": "stdout",
     "output_type": "stream",
     "text": [
      "\n",
      "epoch : 452, tr_loss:  0.283490, val_loss: 1.522, tr_acc: 82.66%, val_acc: 72.68%\n"
     ]
    },
    {
     "name": "stderr",
     "output_type": "stream",
     "text": [
      "\n"
     ]
    },
    {
     "data": {
      "application/vnd.jupyter.widget-view+json": {
       "model_id": "6b052bcec2284860bb8ad2857959d9ba",
       "version_major": 2,
       "version_minor": 0
      },
      "text/plain": [
       "HBox(children=(HTML(value='steps'), FloatProgress(value=0.0, max=3006.0), HTML(value='')))"
      ]
     },
     "metadata": {},
     "output_type": "display_data"
    },
    {
     "name": "stderr",
     "output_type": "stream",
     "text": [
      "steps: 100%|██████████| 51/51 [00:00<00:00, 283.86it/s]\n"
     ]
    },
    {
     "name": "stdout",
     "output_type": "stream",
     "text": [
      "\r",
      "\r",
      "global_Step: 1360000, tr_loss: 0.279926, val_loss: 1.452166\n"
     ]
    },
    {
     "name": "stderr",
     "output_type": "stream",
     "text": [
      "steps: 100%|██████████| 51/51 [00:00<00:00, 271.28it/s]"
     ]
    },
    {
     "name": "stdout",
     "output_type": "stream",
     "text": [
      "\n",
      "epoch : 453, tr_loss:  0.282066, val_loss: 1.397, tr_acc: 82.72%, val_acc: 73.17%\n"
     ]
    },
    {
     "name": "stderr",
     "output_type": "stream",
     "text": [
      "\n"
     ]
    },
    {
     "data": {
      "application/vnd.jupyter.widget-view+json": {
       "model_id": "f91596d8c26e4b98a639568a6603accc",
       "version_major": 2,
       "version_minor": 0
      },
      "text/plain": [
       "HBox(children=(HTML(value='steps'), FloatProgress(value=0.0, max=3006.0), HTML(value='')))"
      ]
     },
     "metadata": {},
     "output_type": "display_data"
    },
    {
     "name": "stderr",
     "output_type": "stream",
     "text": [
      "steps: 100%|██████████| 51/51 [00:00<00:00, 270.35it/s]"
     ]
    },
    {
     "name": "stdout",
     "output_type": "stream",
     "text": [
      "\n",
      "epoch : 454, tr_loss:  0.281811, val_loss: 1.385, tr_acc: 82.71%, val_acc: 73.11%\n"
     ]
    },
    {
     "name": "stderr",
     "output_type": "stream",
     "text": [
      "\n"
     ]
    },
    {
     "data": {
      "application/vnd.jupyter.widget-view+json": {
       "model_id": "8c6ce0c7d1a24e55a9e62cf7ac2538bc",
       "version_major": 2,
       "version_minor": 0
      },
      "text/plain": [
       "HBox(children=(HTML(value='steps'), FloatProgress(value=0.0, max=3006.0), HTML(value='')))"
      ]
     },
     "metadata": {},
     "output_type": "display_data"
    },
    {
     "name": "stderr",
     "output_type": "stream",
     "text": [
      "steps: 100%|██████████| 51/51 [00:00<00:00, 265.55it/s]"
     ]
    },
    {
     "name": "stdout",
     "output_type": "stream",
     "text": [
      "\n",
      "epoch : 455, tr_loss:  0.282868, val_loss: 1.406, tr_acc: 82.68%, val_acc: 73.23%\n"
     ]
    },
    {
     "name": "stderr",
     "output_type": "stream",
     "text": [
      "\n"
     ]
    },
    {
     "data": {
      "application/vnd.jupyter.widget-view+json": {
       "model_id": "492bb73b5a194018b2ed107ce7925f5a",
       "version_major": 2,
       "version_minor": 0
      },
      "text/plain": [
       "HBox(children=(HTML(value='steps'), FloatProgress(value=0.0, max=3006.0), HTML(value='')))"
      ]
     },
     "metadata": {},
     "output_type": "display_data"
    },
    {
     "name": "stderr",
     "output_type": "stream",
     "text": [
      "steps: 100%|██████████| 51/51 [00:00<00:00, 283.04it/s]\n"
     ]
    },
    {
     "name": "stdout",
     "output_type": "stream",
     "text": [
      "\r",
      "\r",
      "global_Step: 1370000, tr_loss: 0.282070, val_loss: 1.405165\n"
     ]
    },
    {
     "name": "stderr",
     "output_type": "stream",
     "text": [
      "steps: 100%|██████████| 51/51 [00:00<00:00, 276.02it/s]"
     ]
    },
    {
     "name": "stdout",
     "output_type": "stream",
     "text": [
      "\n",
      "epoch : 456, tr_loss:  0.282388, val_loss: 1.384, tr_acc: 82.67%, val_acc: 73.20%\n"
     ]
    },
    {
     "name": "stderr",
     "output_type": "stream",
     "text": [
      "\n"
     ]
    },
    {
     "data": {
      "application/vnd.jupyter.widget-view+json": {
       "model_id": "c8f17d3a3053466f8a27b8ce511ecf60",
       "version_major": 2,
       "version_minor": 0
      },
      "text/plain": [
       "HBox(children=(HTML(value='steps'), FloatProgress(value=0.0, max=3006.0), HTML(value='')))"
      ]
     },
     "metadata": {},
     "output_type": "display_data"
    },
    {
     "name": "stderr",
     "output_type": "stream",
     "text": [
      "steps: 100%|██████████| 51/51 [00:00<00:00, 269.94it/s]"
     ]
    },
    {
     "name": "stdout",
     "output_type": "stream",
     "text": [
      "\n",
      "epoch : 457, tr_loss:  0.281296, val_loss: 1.546, tr_acc: 82.78%, val_acc: 72.92%\n"
     ]
    },
    {
     "name": "stderr",
     "output_type": "stream",
     "text": [
      "\n"
     ]
    },
    {
     "data": {
      "application/vnd.jupyter.widget-view+json": {
       "model_id": "afa542220b6a49cb88c03ee924da0965",
       "version_major": 2,
       "version_minor": 0
      },
      "text/plain": [
       "HBox(children=(HTML(value='steps'), FloatProgress(value=0.0, max=3006.0), HTML(value='')))"
      ]
     },
     "metadata": {},
     "output_type": "display_data"
    },
    {
     "name": "stderr",
     "output_type": "stream",
     "text": [
      "steps: 100%|██████████| 51/51 [00:00<00:00, 271.08it/s]"
     ]
    },
    {
     "name": "stdout",
     "output_type": "stream",
     "text": [
      "\n",
      "epoch : 458, tr_loss:  0.284066, val_loss: 1.454, tr_acc: 82.62%, val_acc: 73.07%\n"
     ]
    },
    {
     "name": "stderr",
     "output_type": "stream",
     "text": [
      "\n"
     ]
    },
    {
     "data": {
      "application/vnd.jupyter.widget-view+json": {
       "model_id": "9c40df6693b34f9096732872b280d180",
       "version_major": 2,
       "version_minor": 0
      },
      "text/plain": [
       "HBox(children=(HTML(value='steps'), FloatProgress(value=0.0, max=3006.0), HTML(value='')))"
      ]
     },
     "metadata": {},
     "output_type": "display_data"
    },
    {
     "name": "stderr",
     "output_type": "stream",
     "text": [
      "steps: 100%|██████████| 51/51 [00:00<00:00, 269.83it/s]"
     ]
    },
    {
     "name": "stdout",
     "output_type": "stream",
     "text": [
      "\n",
      "epoch : 459, tr_loss:  0.281307, val_loss: 1.391, tr_acc: 82.75%, val_acc: 72.65%\n"
     ]
    },
    {
     "name": "stderr",
     "output_type": "stream",
     "text": [
      "\n"
     ]
    },
    {
     "data": {
      "application/vnd.jupyter.widget-view+json": {
       "model_id": "23ba8ba011d74aae92b823e3c651c972",
       "version_major": 2,
       "version_minor": 0
      },
      "text/plain": [
       "HBox(children=(HTML(value='steps'), FloatProgress(value=0.0, max=3006.0), HTML(value='')))"
      ]
     },
     "metadata": {},
     "output_type": "display_data"
    },
    {
     "name": "stderr",
     "output_type": "stream",
     "text": [
      "steps: 100%|██████████| 51/51 [00:00<00:00, 274.00it/s]\n"
     ]
    },
    {
     "name": "stdout",
     "output_type": "stream",
     "text": [
      "\r",
      "\r",
      "global_Step: 1380000, tr_loss: 0.283601, val_loss: 1.515569\n"
     ]
    },
    {
     "name": "stderr",
     "output_type": "stream",
     "text": [
      "steps: 100%|██████████| 51/51 [00:00<00:00, 272.27it/s]"
     ]
    },
    {
     "name": "stdout",
     "output_type": "stream",
     "text": [
      "\n",
      "epoch : 460, tr_loss:  0.289852, val_loss: 1.331, tr_acc: 82.48%, val_acc: 72.98%\n"
     ]
    },
    {
     "name": "stderr",
     "output_type": "stream",
     "text": [
      "\n"
     ]
    },
    {
     "data": {
      "application/vnd.jupyter.widget-view+json": {
       "model_id": "f2522303f5104b4d9d7a72ec86eb427f",
       "version_major": 2,
       "version_minor": 0
      },
      "text/plain": [
       "HBox(children=(HTML(value='steps'), FloatProgress(value=0.0, max=3006.0), HTML(value='')))"
      ]
     },
     "metadata": {},
     "output_type": "display_data"
    },
    {
     "name": "stderr",
     "output_type": "stream",
     "text": [
      "steps: 100%|██████████| 51/51 [00:00<00:00, 271.72it/s]"
     ]
    },
    {
     "name": "stdout",
     "output_type": "stream",
     "text": [
      "\n",
      "epoch : 461, tr_loss:  0.278964, val_loss: 1.391, tr_acc: 82.88%, val_acc: 73.23%\n"
     ]
    },
    {
     "name": "stderr",
     "output_type": "stream",
     "text": [
      "\n"
     ]
    },
    {
     "data": {
      "application/vnd.jupyter.widget-view+json": {
       "model_id": "f64625844b584425b64403d57936d604",
       "version_major": 2,
       "version_minor": 0
      },
      "text/plain": [
       "HBox(children=(HTML(value='steps'), FloatProgress(value=0.0, max=3006.0), HTML(value='')))"
      ]
     },
     "metadata": {},
     "output_type": "display_data"
    },
    {
     "name": "stderr",
     "output_type": "stream",
     "text": [
      "steps: 100%|██████████| 51/51 [00:00<00:00, 270.31it/s]"
     ]
    },
    {
     "name": "stdout",
     "output_type": "stream",
     "text": [
      "\n",
      "epoch : 462, tr_loss:  0.279358, val_loss: 1.388, tr_acc: 82.82%, val_acc: 72.83%\n"
     ]
    },
    {
     "name": "stderr",
     "output_type": "stream",
     "text": [
      "\n"
     ]
    },
    {
     "data": {
      "application/vnd.jupyter.widget-view+json": {
       "model_id": "22b360f8d6c64a09839af5e5daa94447",
       "version_major": 2,
       "version_minor": 0
      },
      "text/plain": [
       "HBox(children=(HTML(value='steps'), FloatProgress(value=0.0, max=3006.0), HTML(value='')))"
      ]
     },
     "metadata": {},
     "output_type": "display_data"
    },
    {
     "name": "stderr",
     "output_type": "stream",
     "text": [
      "steps: 100%|██████████| 51/51 [00:00<00:00, 283.10it/s]\n"
     ]
    },
    {
     "name": "stdout",
     "output_type": "stream",
     "text": [
      "\r",
      "\r",
      "global_Step: 1390000, tr_loss: 0.287418, val_loss: 1.461848\n"
     ]
    },
    {
     "name": "stderr",
     "output_type": "stream",
     "text": [
      "steps:  47%|████▋     | 24/51 [00:00<00:00, 237.55it/s]"
     ]
    },
    {
     "name": "stdout",
     "output_type": "stream",
     "text": [
      "\n"
     ]
    },
    {
     "name": "stderr",
     "output_type": "stream",
     "text": [
      "steps: 100%|██████████| 51/51 [00:00<00:00, 248.74it/s]"
     ]
    },
    {
     "name": "stdout",
     "output_type": "stream",
     "text": [
      "\r",
      "epoch : 463, tr_loss:  0.282683, val_loss: 1.461, tr_acc: 82.76%, val_acc: 72.89%\n"
     ]
    },
    {
     "name": "stderr",
     "output_type": "stream",
     "text": [
      "\n"
     ]
    },
    {
     "data": {
      "application/vnd.jupyter.widget-view+json": {
       "model_id": "19bd6faf416e40d08b7dc2817d4761a3",
       "version_major": 2,
       "version_minor": 0
      },
      "text/plain": [
       "HBox(children=(HTML(value='steps'), FloatProgress(value=0.0, max=3006.0), HTML(value='')))"
      ]
     },
     "metadata": {},
     "output_type": "display_data"
    },
    {
     "name": "stderr",
     "output_type": "stream",
     "text": [
      "steps: 100%|██████████| 51/51 [00:00<00:00, 271.03it/s]"
     ]
    },
    {
     "name": "stdout",
     "output_type": "stream",
     "text": [
      "\n",
      "epoch : 464, tr_loss:  0.281251, val_loss: 1.407, tr_acc: 82.73%, val_acc: 72.65%\n"
     ]
    },
    {
     "name": "stderr",
     "output_type": "stream",
     "text": [
      "\n"
     ]
    },
    {
     "data": {
      "application/vnd.jupyter.widget-view+json": {
       "model_id": "0f1c8ad7592746a1a02eb9524bc31c8f",
       "version_major": 2,
       "version_minor": 0
      },
      "text/plain": [
       "HBox(children=(HTML(value='steps'), FloatProgress(value=0.0, max=3006.0), HTML(value='')))"
      ]
     },
     "metadata": {},
     "output_type": "display_data"
    },
    {
     "name": "stderr",
     "output_type": "stream",
     "text": [
      "steps: 100%|██████████| 51/51 [00:00<00:00, 279.58it/s]"
     ]
    },
    {
     "name": "stdout",
     "output_type": "stream",
     "text": [
      "\n",
      "epoch : 465, tr_loss:  0.281824, val_loss: 1.398, tr_acc: 82.72%, val_acc: 72.52%\n"
     ]
    },
    {
     "name": "stderr",
     "output_type": "stream",
     "text": [
      "\n"
     ]
    },
    {
     "data": {
      "application/vnd.jupyter.widget-view+json": {
       "model_id": "04cd2c4bccf847fda449b6c53466f0c7",
       "version_major": 2,
       "version_minor": 0
      },
      "text/plain": [
       "HBox(children=(HTML(value='steps'), FloatProgress(value=0.0, max=3006.0), HTML(value='')))"
      ]
     },
     "metadata": {},
     "output_type": "display_data"
    },
    {
     "name": "stderr",
     "output_type": "stream",
     "text": [
      "steps: 100%|██████████| 51/51 [00:00<00:00, 281.57it/s]\n"
     ]
    },
    {
     "name": "stdout",
     "output_type": "stream",
     "text": [
      "\r",
      "\r",
      "global_Step: 1400000, tr_loss: 0.279062, val_loss: 1.264653\n"
     ]
    },
    {
     "name": "stderr",
     "output_type": "stream",
     "text": [
      "steps: 100%|██████████| 51/51 [00:00<00:00, 273.21it/s]"
     ]
    },
    {
     "name": "stdout",
     "output_type": "stream",
     "text": [
      "\n",
      "epoch : 466, tr_loss:  0.280660, val_loss: 1.452, tr_acc: 82.82%, val_acc: 72.95%\n"
     ]
    },
    {
     "name": "stderr",
     "output_type": "stream",
     "text": [
      "\n"
     ]
    },
    {
     "data": {
      "application/vnd.jupyter.widget-view+json": {
       "model_id": "1cb242d6423646dfbb58b9d74e237bcb",
       "version_major": 2,
       "version_minor": 0
      },
      "text/plain": [
       "HBox(children=(HTML(value='steps'), FloatProgress(value=0.0, max=3006.0), HTML(value='')))"
      ]
     },
     "metadata": {},
     "output_type": "display_data"
    },
    {
     "name": "stderr",
     "output_type": "stream",
     "text": [
      "steps: 100%|██████████| 51/51 [00:00<00:00, 272.64it/s]"
     ]
    },
    {
     "name": "stdout",
     "output_type": "stream",
     "text": [
      "\n",
      "epoch : 467, tr_loss:  0.280240, val_loss: 1.408, tr_acc: 82.86%, val_acc: 72.37%\n"
     ]
    },
    {
     "name": "stderr",
     "output_type": "stream",
     "text": [
      "\n"
     ]
    },
    {
     "data": {
      "application/vnd.jupyter.widget-view+json": {
       "model_id": "f5f11afa6f8c46b5af877479da8c0028",
       "version_major": 2,
       "version_minor": 0
      },
      "text/plain": [
       "HBox(children=(HTML(value='steps'), FloatProgress(value=0.0, max=3006.0), HTML(value='')))"
      ]
     },
     "metadata": {},
     "output_type": "display_data"
    },
    {
     "name": "stderr",
     "output_type": "stream",
     "text": [
      "steps: 100%|██████████| 51/51 [00:00<00:00, 274.04it/s]"
     ]
    },
    {
     "name": "stdout",
     "output_type": "stream",
     "text": [
      "\n",
      "epoch : 468, tr_loss:  0.280379, val_loss: 1.249, tr_acc: 82.83%, val_acc: 73.01%\n"
     ]
    },
    {
     "name": "stderr",
     "output_type": "stream",
     "text": [
      "\n"
     ]
    },
    {
     "data": {
      "application/vnd.jupyter.widget-view+json": {
       "model_id": "d1922d62875a4930bace5a1bf67b34c2",
       "version_major": 2,
       "version_minor": 0
      },
      "text/plain": [
       "HBox(children=(HTML(value='steps'), FloatProgress(value=0.0, max=3006.0), HTML(value='')))"
      ]
     },
     "metadata": {},
     "output_type": "display_data"
    },
    {
     "name": "stderr",
     "output_type": "stream",
     "text": [
      "steps: 100%|██████████| 51/51 [00:00<00:00, 274.01it/s]"
     ]
    },
    {
     "name": "stdout",
     "output_type": "stream",
     "text": [
      "\n",
      "epoch : 469, tr_loss:  0.279393, val_loss: 1.350, tr_acc: 82.82%, val_acc: 72.92%\n"
     ]
    },
    {
     "name": "stderr",
     "output_type": "stream",
     "text": [
      "\n"
     ]
    },
    {
     "data": {
      "application/vnd.jupyter.widget-view+json": {
       "model_id": "9581afaa1b6e42c2b77629709159df7e",
       "version_major": 2,
       "version_minor": 0
      },
      "text/plain": [
       "HBox(children=(HTML(value='steps'), FloatProgress(value=0.0, max=3006.0), HTML(value='')))"
      ]
     },
     "metadata": {},
     "output_type": "display_data"
    },
    {
     "name": "stderr",
     "output_type": "stream",
     "text": [
      "steps: 100%|██████████| 51/51 [00:00<00:00, 284.71it/s]\n"
     ]
    },
    {
     "name": "stdout",
     "output_type": "stream",
     "text": [
      "\r",
      "\r",
      "global_Step: 1410000, tr_loss: 0.278513, val_loss: 1.452316\n"
     ]
    },
    {
     "name": "stderr",
     "output_type": "stream",
     "text": [
      "steps: 100%|██████████| 51/51 [00:00<00:00, 271.15it/s]"
     ]
    },
    {
     "name": "stdout",
     "output_type": "stream",
     "text": [
      "\n",
      "epoch : 470, tr_loss:  0.280147, val_loss: 1.511, tr_acc: 82.84%, val_acc: 72.59%\n"
     ]
    },
    {
     "name": "stderr",
     "output_type": "stream",
     "text": [
      "\n"
     ]
    },
    {
     "data": {
      "application/vnd.jupyter.widget-view+json": {
       "model_id": "05a0d9e6afe04045993c2050acc70955",
       "version_major": 2,
       "version_minor": 0
      },
      "text/plain": [
       "HBox(children=(HTML(value='steps'), FloatProgress(value=0.0, max=3006.0), HTML(value='')))"
      ]
     },
     "metadata": {},
     "output_type": "display_data"
    },
    {
     "name": "stderr",
     "output_type": "stream",
     "text": [
      "steps: 100%|██████████| 51/51 [00:00<00:00, 272.80it/s]"
     ]
    },
    {
     "name": "stdout",
     "output_type": "stream",
     "text": [
      "\n",
      "epoch : 471, tr_loss:  0.279539, val_loss: 1.365, tr_acc: 82.87%, val_acc: 72.40%\n"
     ]
    },
    {
     "name": "stderr",
     "output_type": "stream",
     "text": [
      "\n"
     ]
    },
    {
     "data": {
      "application/vnd.jupyter.widget-view+json": {
       "model_id": "7a9f20d01b8f4e1cb04bf3fc1a479548",
       "version_major": 2,
       "version_minor": 0
      },
      "text/plain": [
       "HBox(children=(HTML(value='steps'), FloatProgress(value=0.0, max=3006.0), HTML(value='')))"
      ]
     },
     "metadata": {},
     "output_type": "display_data"
    },
    {
     "name": "stderr",
     "output_type": "stream",
     "text": [
      "steps: 100%|██████████| 51/51 [00:00<00:00, 275.69it/s]"
     ]
    },
    {
     "name": "stdout",
     "output_type": "stream",
     "text": [
      "\n",
      "epoch : 472, tr_loss:  0.279911, val_loss: 1.345, tr_acc: 82.81%, val_acc: 72.92%\n"
     ]
    },
    {
     "name": "stderr",
     "output_type": "stream",
     "text": [
      "\n"
     ]
    },
    {
     "data": {
      "application/vnd.jupyter.widget-view+json": {
       "model_id": "24a898e6cc6d4c0b824240e02f1434d8",
       "version_major": 2,
       "version_minor": 0
      },
      "text/plain": [
       "HBox(children=(HTML(value='steps'), FloatProgress(value=0.0, max=3006.0), HTML(value='')))"
      ]
     },
     "metadata": {},
     "output_type": "display_data"
    },
    {
     "name": "stderr",
     "output_type": "stream",
     "text": [
      "steps: 100%|██████████| 51/51 [00:00<00:00, 280.19it/s]\n"
     ]
    },
    {
     "name": "stdout",
     "output_type": "stream",
     "text": [
      "\r",
      "\r",
      "global_Step: 1420000, tr_loss: 0.278729, val_loss: 1.558499\n"
     ]
    },
    {
     "name": "stderr",
     "output_type": "stream",
     "text": [
      "steps: 100%|██████████| 51/51 [00:00<00:00, 274.68it/s]"
     ]
    },
    {
     "name": "stdout",
     "output_type": "stream",
     "text": [
      "\n",
      "epoch : 473, tr_loss:  0.281487, val_loss: 1.553, tr_acc: 82.77%, val_acc: 72.74%\n"
     ]
    },
    {
     "name": "stderr",
     "output_type": "stream",
     "text": [
      "\n"
     ]
    },
    {
     "data": {
      "application/vnd.jupyter.widget-view+json": {
       "model_id": "c112ece352e8497ea41dfb2be8f74850",
       "version_major": 2,
       "version_minor": 0
      },
      "text/plain": [
       "HBox(children=(HTML(value='steps'), FloatProgress(value=0.0, max=3006.0), HTML(value='')))"
      ]
     },
     "metadata": {},
     "output_type": "display_data"
    },
    {
     "name": "stderr",
     "output_type": "stream",
     "text": [
      "steps: 100%|██████████| 51/51 [00:00<00:00, 270.25it/s]"
     ]
    },
    {
     "name": "stdout",
     "output_type": "stream",
     "text": [
      "\n",
      "epoch : 474, tr_loss:  0.279585, val_loss: 1.403, tr_acc: 82.86%, val_acc: 73.07%\n"
     ]
    },
    {
     "name": "stderr",
     "output_type": "stream",
     "text": [
      "\n"
     ]
    },
    {
     "data": {
      "application/vnd.jupyter.widget-view+json": {
       "model_id": "118962841f6147d8ba568c1f4f81419e",
       "version_major": 2,
       "version_minor": 0
      },
      "text/plain": [
       "HBox(children=(HTML(value='steps'), FloatProgress(value=0.0, max=3006.0), HTML(value='')))"
      ]
     },
     "metadata": {},
     "output_type": "display_data"
    },
    {
     "name": "stderr",
     "output_type": "stream",
     "text": [
      "steps: 100%|██████████| 51/51 [00:00<00:00, 272.58it/s]"
     ]
    },
    {
     "name": "stdout",
     "output_type": "stream",
     "text": [
      "\n",
      "epoch : 475, tr_loss:  0.280736, val_loss: 1.437, tr_acc: 82.79%, val_acc: 72.62%\n"
     ]
    },
    {
     "name": "stderr",
     "output_type": "stream",
     "text": [
      "\n"
     ]
    },
    {
     "data": {
      "application/vnd.jupyter.widget-view+json": {
       "model_id": "4c8120bd303a4be1b905fbffe207877d",
       "version_major": 2,
       "version_minor": 0
      },
      "text/plain": [
       "HBox(children=(HTML(value='steps'), FloatProgress(value=0.0, max=3006.0), HTML(value='')))"
      ]
     },
     "metadata": {},
     "output_type": "display_data"
    },
    {
     "name": "stderr",
     "output_type": "stream",
     "text": [
      "steps: 100%|██████████| 51/51 [00:00<00:00, 283.13it/s]\n"
     ]
    },
    {
     "name": "stdout",
     "output_type": "stream",
     "text": [
      "\r",
      "\r",
      "global_Step: 1430000, tr_loss: 0.278641, val_loss: 1.504050\n"
     ]
    },
    {
     "name": "stderr",
     "output_type": "stream",
     "text": [
      "steps: 100%|██████████| 51/51 [00:00<00:00, 272.66it/s]"
     ]
    },
    {
     "name": "stdout",
     "output_type": "stream",
     "text": [
      "\n",
      "epoch : 476, tr_loss:  0.279514, val_loss: 1.510, tr_acc: 82.93%, val_acc: 72.95%\n"
     ]
    },
    {
     "name": "stderr",
     "output_type": "stream",
     "text": [
      "\n"
     ]
    },
    {
     "data": {
      "application/vnd.jupyter.widget-view+json": {
       "model_id": "baa8dfba498d4631a80c539e06847ea8",
       "version_major": 2,
       "version_minor": 0
      },
      "text/plain": [
       "HBox(children=(HTML(value='steps'), FloatProgress(value=0.0, max=3006.0), HTML(value='')))"
      ]
     },
     "metadata": {},
     "output_type": "display_data"
    },
    {
     "name": "stderr",
     "output_type": "stream",
     "text": [
      "steps: 100%|██████████| 51/51 [00:00<00:00, 271.02it/s]"
     ]
    },
    {
     "name": "stdout",
     "output_type": "stream",
     "text": [
      "\n",
      "epoch : 477, tr_loss:  0.281044, val_loss: 1.410, tr_acc: 82.86%, val_acc: 72.59%\n"
     ]
    },
    {
     "name": "stderr",
     "output_type": "stream",
     "text": [
      "\n"
     ]
    },
    {
     "data": {
      "application/vnd.jupyter.widget-view+json": {
       "model_id": "177f5b27aa864ecf9def978c3a559a6c",
       "version_major": 2,
       "version_minor": 0
      },
      "text/plain": [
       "HBox(children=(HTML(value='steps'), FloatProgress(value=0.0, max=3006.0), HTML(value='')))"
      ]
     },
     "metadata": {},
     "output_type": "display_data"
    },
    {
     "name": "stderr",
     "output_type": "stream",
     "text": [
      "steps: 100%|██████████| 51/51 [00:00<00:00, 276.09it/s]"
     ]
    },
    {
     "name": "stdout",
     "output_type": "stream",
     "text": [
      "\n",
      "epoch : 478, tr_loss:  0.279767, val_loss: 1.393, tr_acc: 82.88%, val_acc: 72.98%\n"
     ]
    },
    {
     "name": "stderr",
     "output_type": "stream",
     "text": [
      "\n"
     ]
    },
    {
     "data": {
      "application/vnd.jupyter.widget-view+json": {
       "model_id": "77bcb3e6fbfa42a2b29df5159803b434",
       "version_major": 2,
       "version_minor": 0
      },
      "text/plain": [
       "HBox(children=(HTML(value='steps'), FloatProgress(value=0.0, max=3006.0), HTML(value='')))"
      ]
     },
     "metadata": {},
     "output_type": "display_data"
    },
    {
     "name": "stderr",
     "output_type": "stream",
     "text": [
      "steps: 100%|██████████| 51/51 [00:00<00:00, 278.62it/s]"
     ]
    },
    {
     "name": "stdout",
     "output_type": "stream",
     "text": [
      "\n",
      "epoch : 479, tr_loss:  0.279898, val_loss: 1.367, tr_acc: 82.84%, val_acc: 73.29%\n"
     ]
    },
    {
     "name": "stderr",
     "output_type": "stream",
     "text": [
      "\n"
     ]
    },
    {
     "data": {
      "application/vnd.jupyter.widget-view+json": {
       "model_id": "847f2739f4204267af7d34c20f851235",
       "version_major": 2,
       "version_minor": 0
      },
      "text/plain": [
       "HBox(children=(HTML(value='steps'), FloatProgress(value=0.0, max=3006.0), HTML(value='')))"
      ]
     },
     "metadata": {},
     "output_type": "display_data"
    },
    {
     "name": "stderr",
     "output_type": "stream",
     "text": [
      "steps: 100%|██████████| 51/51 [00:00<00:00, 283.37it/s]\n"
     ]
    },
    {
     "name": "stdout",
     "output_type": "stream",
     "text": [
      "\r",
      "\r",
      "global_Step: 1440000, tr_loss: 0.270256, val_loss: 1.515460\n"
     ]
    },
    {
     "name": "stderr",
     "output_type": "stream",
     "text": [
      "steps: 100%|██████████| 51/51 [00:00<00:00, 268.45it/s]"
     ]
    },
    {
     "name": "stdout",
     "output_type": "stream",
     "text": [
      "\n",
      "epoch : 480, tr_loss:  0.277806, val_loss: 1.491, tr_acc: 82.93%, val_acc: 72.62%\n"
     ]
    },
    {
     "name": "stderr",
     "output_type": "stream",
     "text": [
      "\n"
     ]
    },
    {
     "data": {
      "application/vnd.jupyter.widget-view+json": {
       "model_id": "89cd09f5dd6b47188971f4f3f99f7997",
       "version_major": 2,
       "version_minor": 0
      },
      "text/plain": [
       "HBox(children=(HTML(value='steps'), FloatProgress(value=0.0, max=3006.0), HTML(value='')))"
      ]
     },
     "metadata": {},
     "output_type": "display_data"
    },
    {
     "name": "stderr",
     "output_type": "stream",
     "text": [
      "steps: 100%|██████████| 51/51 [00:00<00:00, 273.41it/s]"
     ]
    },
    {
     "name": "stdout",
     "output_type": "stream",
     "text": [
      "\n",
      "epoch : 481, tr_loss:  0.277973, val_loss: 1.502, tr_acc: 82.93%, val_acc: 73.01%\n"
     ]
    },
    {
     "name": "stderr",
     "output_type": "stream",
     "text": [
      "\n"
     ]
    },
    {
     "data": {
      "application/vnd.jupyter.widget-view+json": {
       "model_id": "e3a2feb16ef04ca1abecb5122f9a2782",
       "version_major": 2,
       "version_minor": 0
      },
      "text/plain": [
       "HBox(children=(HTML(value='steps'), FloatProgress(value=0.0, max=3006.0), HTML(value='')))"
      ]
     },
     "metadata": {},
     "output_type": "display_data"
    },
    {
     "name": "stderr",
     "output_type": "stream",
     "text": [
      "steps: 100%|██████████| 51/51 [00:00<00:00, 263.64it/s]"
     ]
    },
    {
     "name": "stdout",
     "output_type": "stream",
     "text": [
      "\n",
      "epoch : 482, tr_loss:  0.279517, val_loss: 1.338, tr_acc: 82.82%, val_acc: 73.01%\n"
     ]
    },
    {
     "name": "stderr",
     "output_type": "stream",
     "text": [
      "\n"
     ]
    },
    {
     "data": {
      "application/vnd.jupyter.widget-view+json": {
       "model_id": "b52bb4f3e1a24ae69249016262f2beae",
       "version_major": 2,
       "version_minor": 0
      },
      "text/plain": [
       "HBox(children=(HTML(value='steps'), FloatProgress(value=0.0, max=3006.0), HTML(value='')))"
      ]
     },
     "metadata": {},
     "output_type": "display_data"
    },
    {
     "name": "stderr",
     "output_type": "stream",
     "text": [
      "steps: 100%|██████████| 51/51 [00:00<00:00, 283.37it/s]\n"
     ]
    },
    {
     "name": "stdout",
     "output_type": "stream",
     "text": [
      "\r",
      "\r",
      "global_Step: 1450000, tr_loss: 0.281617, val_loss: 1.552328\n"
     ]
    },
    {
     "name": "stderr",
     "output_type": "stream",
     "text": [
      "steps: 100%|██████████| 51/51 [00:00<00:00, 272.24it/s]"
     ]
    },
    {
     "name": "stdout",
     "output_type": "stream",
     "text": [
      "\n",
      "epoch : 483, tr_loss:  0.279388, val_loss: 1.523, tr_acc: 82.91%, val_acc: 72.43%\n"
     ]
    },
    {
     "name": "stderr",
     "output_type": "stream",
     "text": [
      "\n"
     ]
    },
    {
     "data": {
      "application/vnd.jupyter.widget-view+json": {
       "model_id": "6afa25cc724640c6a90a2e795e7cff7f",
       "version_major": 2,
       "version_minor": 0
      },
      "text/plain": [
       "HBox(children=(HTML(value='steps'), FloatProgress(value=0.0, max=3006.0), HTML(value='')))"
      ]
     },
     "metadata": {},
     "output_type": "display_data"
    },
    {
     "name": "stderr",
     "output_type": "stream",
     "text": [
      "steps: 100%|██████████| 51/51 [00:00<00:00, 272.48it/s]"
     ]
    },
    {
     "name": "stdout",
     "output_type": "stream",
     "text": [
      "\n",
      "epoch : 484, tr_loss:  0.278436, val_loss: 1.427, tr_acc: 82.95%, val_acc: 72.68%\n"
     ]
    },
    {
     "name": "stderr",
     "output_type": "stream",
     "text": [
      "\n"
     ]
    },
    {
     "data": {
      "application/vnd.jupyter.widget-view+json": {
       "model_id": "348f9e72db7e45eb9b147440f8bd330e",
       "version_major": 2,
       "version_minor": 0
      },
      "text/plain": [
       "HBox(children=(HTML(value='steps'), FloatProgress(value=0.0, max=3006.0), HTML(value='')))"
      ]
     },
     "metadata": {},
     "output_type": "display_data"
    },
    {
     "name": "stderr",
     "output_type": "stream",
     "text": [
      "steps: 100%|██████████| 51/51 [00:00<00:00, 273.72it/s]"
     ]
    },
    {
     "name": "stdout",
     "output_type": "stream",
     "text": [
      "\n",
      "epoch : 485, tr_loss:  0.279164, val_loss: 1.543, tr_acc: 82.94%, val_acc: 72.46%\n"
     ]
    },
    {
     "name": "stderr",
     "output_type": "stream",
     "text": [
      "\n"
     ]
    },
    {
     "data": {
      "application/vnd.jupyter.widget-view+json": {
       "model_id": "c96d3c58074d4312bf70796c4e4b9f06",
       "version_major": 2,
       "version_minor": 0
      },
      "text/plain": [
       "HBox(children=(HTML(value='steps'), FloatProgress(value=0.0, max=3006.0), HTML(value='')))"
      ]
     },
     "metadata": {},
     "output_type": "display_data"
    },
    {
     "name": "stderr",
     "output_type": "stream",
     "text": [
      "steps: 100%|██████████| 51/51 [00:00<00:00, 285.61it/s]\n"
     ]
    },
    {
     "name": "stdout",
     "output_type": "stream",
     "text": [
      "\r",
      "\r",
      "global_Step: 1460000, tr_loss: 0.278066, val_loss: 1.516803\n"
     ]
    },
    {
     "name": "stderr",
     "output_type": "stream",
     "text": [
      "steps: 100%|██████████| 51/51 [00:00<00:00, 273.91it/s]"
     ]
    },
    {
     "name": "stdout",
     "output_type": "stream",
     "text": [
      "\n",
      "epoch : 486, tr_loss:  0.277323, val_loss: 1.515, tr_acc: 82.95%, val_acc: 72.65%\n"
     ]
    },
    {
     "name": "stderr",
     "output_type": "stream",
     "text": [
      "\n"
     ]
    },
    {
     "data": {
      "application/vnd.jupyter.widget-view+json": {
       "model_id": "cbf91568f5dd4d7b972ab87efca07c4b",
       "version_major": 2,
       "version_minor": 0
      },
      "text/plain": [
       "HBox(children=(HTML(value='steps'), FloatProgress(value=0.0, max=3006.0), HTML(value='')))"
      ]
     },
     "metadata": {},
     "output_type": "display_data"
    },
    {
     "name": "stderr",
     "output_type": "stream",
     "text": [
      "steps: 100%|██████████| 51/51 [00:00<00:00, 271.41it/s]"
     ]
    },
    {
     "name": "stdout",
     "output_type": "stream",
     "text": [
      "\n",
      "epoch : 487, tr_loss:  0.280139, val_loss: 1.413, tr_acc: 82.89%, val_acc: 72.46%\n"
     ]
    },
    {
     "name": "stderr",
     "output_type": "stream",
     "text": [
      "\n"
     ]
    },
    {
     "data": {
      "application/vnd.jupyter.widget-view+json": {
       "model_id": "ed2d07878f2a4a1e97e7545e5e911a11",
       "version_major": 2,
       "version_minor": 0
      },
      "text/plain": [
       "HBox(children=(HTML(value='steps'), FloatProgress(value=0.0, max=3006.0), HTML(value='')))"
      ]
     },
     "metadata": {},
     "output_type": "display_data"
    },
    {
     "name": "stderr",
     "output_type": "stream",
     "text": [
      "steps: 100%|██████████| 51/51 [00:00<00:00, 275.51it/s]"
     ]
    },
    {
     "name": "stdout",
     "output_type": "stream",
     "text": [
      "\n",
      "epoch : 488, tr_loss:  0.276829, val_loss: 1.472, tr_acc: 83.05%, val_acc: 72.62%\n"
     ]
    },
    {
     "name": "stderr",
     "output_type": "stream",
     "text": [
      "\n"
     ]
    },
    {
     "data": {
      "application/vnd.jupyter.widget-view+json": {
       "model_id": "941f52206b5b4e89825e5bc27a433334",
       "version_major": 2,
       "version_minor": 0
      },
      "text/plain": [
       "HBox(children=(HTML(value='steps'), FloatProgress(value=0.0, max=3006.0), HTML(value='')))"
      ]
     },
     "metadata": {},
     "output_type": "display_data"
    },
    {
     "name": "stderr",
     "output_type": "stream",
     "text": [
      "steps: 100%|██████████| 51/51 [00:00<00:00, 269.00it/s]"
     ]
    },
    {
     "name": "stdout",
     "output_type": "stream",
     "text": [
      "\n",
      "epoch : 489, tr_loss:  0.280679, val_loss: 1.450, tr_acc: 82.95%, val_acc: 72.31%\n"
     ]
    },
    {
     "name": "stderr",
     "output_type": "stream",
     "text": [
      "\n"
     ]
    },
    {
     "data": {
      "application/vnd.jupyter.widget-view+json": {
       "model_id": "332d6f75168b4212a7e25ce8b5fd2deb",
       "version_major": 2,
       "version_minor": 0
      },
      "text/plain": [
       "HBox(children=(HTML(value='steps'), FloatProgress(value=0.0, max=3006.0), HTML(value='')))"
      ]
     },
     "metadata": {},
     "output_type": "display_data"
    },
    {
     "name": "stderr",
     "output_type": "stream",
     "text": [
      "steps: 100%|██████████| 51/51 [00:00<00:00, 284.75it/s]\n"
     ]
    },
    {
     "name": "stdout",
     "output_type": "stream",
     "text": [
      "\r",
      "\r",
      "global_Step: 1470000, tr_loss: 0.342939, val_loss: 1.346818\n"
     ]
    },
    {
     "name": "stderr",
     "output_type": "stream",
     "text": [
      "steps: 100%|██████████| 51/51 [00:00<00:00, 273.76it/s]"
     ]
    },
    {
     "name": "stdout",
     "output_type": "stream",
     "text": [
      "\n",
      "epoch : 490, tr_loss:  0.278774, val_loss: 1.568, tr_acc: 82.93%, val_acc: 72.80%\n"
     ]
    },
    {
     "name": "stderr",
     "output_type": "stream",
     "text": [
      "\n"
     ]
    },
    {
     "data": {
      "application/vnd.jupyter.widget-view+json": {
       "model_id": "645b2ffc2247477db8a318076f13146e",
       "version_major": 2,
       "version_minor": 0
      },
      "text/plain": [
       "HBox(children=(HTML(value='steps'), FloatProgress(value=0.0, max=3006.0), HTML(value='')))"
      ]
     },
     "metadata": {},
     "output_type": "display_data"
    },
    {
     "name": "stderr",
     "output_type": "stream",
     "text": [
      "steps: 100%|██████████| 51/51 [00:00<00:00, 274.68it/s]"
     ]
    },
    {
     "name": "stdout",
     "output_type": "stream",
     "text": [
      "\n",
      "epoch : 491, tr_loss:  0.276725, val_loss: 1.401, tr_acc: 82.99%, val_acc: 72.89%\n"
     ]
    },
    {
     "name": "stderr",
     "output_type": "stream",
     "text": [
      "\n"
     ]
    },
    {
     "data": {
      "application/vnd.jupyter.widget-view+json": {
       "model_id": "d177a5e4f69542a3b39af1bf010bac13",
       "version_major": 2,
       "version_minor": 0
      },
      "text/plain": [
       "HBox(children=(HTML(value='steps'), FloatProgress(value=0.0, max=3006.0), HTML(value='')))"
      ]
     },
     "metadata": {},
     "output_type": "display_data"
    },
    {
     "name": "stderr",
     "output_type": "stream",
     "text": [
      "steps: 100%|██████████| 51/51 [00:00<00:00, 271.11it/s]"
     ]
    },
    {
     "name": "stdout",
     "output_type": "stream",
     "text": [
      "\n",
      "epoch : 492, tr_loss:  0.277753, val_loss: 1.528, tr_acc: 82.99%, val_acc: 72.86%\n"
     ]
    },
    {
     "name": "stderr",
     "output_type": "stream",
     "text": [
      "\n"
     ]
    },
    {
     "data": {
      "application/vnd.jupyter.widget-view+json": {
       "model_id": "4b516ef113a14b119645b8e2efde12bc",
       "version_major": 2,
       "version_minor": 0
      },
      "text/plain": [
       "HBox(children=(HTML(value='steps'), FloatProgress(value=0.0, max=3006.0), HTML(value='')))"
      ]
     },
     "metadata": {},
     "output_type": "display_data"
    },
    {
     "name": "stderr",
     "output_type": "stream",
     "text": [
      "steps: 100%|██████████| 51/51 [00:00<00:00, 284.96it/s]\n"
     ]
    },
    {
     "name": "stdout",
     "output_type": "stream",
     "text": [
      "\r",
      "\r",
      "global_Step: 1480000, tr_loss: 0.280660, val_loss: 1.420008\n"
     ]
    },
    {
     "name": "stderr",
     "output_type": "stream",
     "text": [
      "steps: 100%|██████████| 51/51 [00:00<00:00, 274.15it/s]"
     ]
    },
    {
     "name": "stdout",
     "output_type": "stream",
     "text": [
      "\n",
      "epoch : 493, tr_loss:  0.278262, val_loss: 1.263, tr_acc: 82.89%, val_acc: 72.86%\n"
     ]
    },
    {
     "name": "stderr",
     "output_type": "stream",
     "text": [
      "\n"
     ]
    },
    {
     "data": {
      "application/vnd.jupyter.widget-view+json": {
       "model_id": "f0a22db2ccb046e0bb3258b29503b2e6",
       "version_major": 2,
       "version_minor": 0
      },
      "text/plain": [
       "HBox(children=(HTML(value='steps'), FloatProgress(value=0.0, max=3006.0), HTML(value='')))"
      ]
     },
     "metadata": {},
     "output_type": "display_data"
    },
    {
     "name": "stderr",
     "output_type": "stream",
     "text": [
      "steps: 100%|██████████| 51/51 [00:00<00:00, 270.44it/s]"
     ]
    },
    {
     "name": "stdout",
     "output_type": "stream",
     "text": [
      "\n",
      "epoch : 494, tr_loss:  0.277241, val_loss: 1.596, tr_acc: 82.97%, val_acc: 72.83%\n"
     ]
    },
    {
     "name": "stderr",
     "output_type": "stream",
     "text": [
      "\n"
     ]
    },
    {
     "data": {
      "application/vnd.jupyter.widget-view+json": {
       "model_id": "a5ac0b94e51c4de9b7493918fd9d91f8",
       "version_major": 2,
       "version_minor": 0
      },
      "text/plain": [
       "HBox(children=(HTML(value='steps'), FloatProgress(value=0.0, max=3006.0), HTML(value='')))"
      ]
     },
     "metadata": {},
     "output_type": "display_data"
    },
    {
     "name": "stderr",
     "output_type": "stream",
     "text": [
      "steps: 100%|██████████| 51/51 [00:00<00:00, 272.67it/s]"
     ]
    },
    {
     "name": "stdout",
     "output_type": "stream",
     "text": [
      "\n",
      "epoch : 495, tr_loss:  0.277391, val_loss: 1.690, tr_acc: 82.99%, val_acc: 72.77%\n"
     ]
    },
    {
     "name": "stderr",
     "output_type": "stream",
     "text": [
      "\n"
     ]
    },
    {
     "data": {
      "application/vnd.jupyter.widget-view+json": {
       "model_id": "8b43fef953cd431b8bd7394b2808b2c7",
       "version_major": 2,
       "version_minor": 0
      },
      "text/plain": [
       "HBox(children=(HTML(value='steps'), FloatProgress(value=0.0, max=3006.0), HTML(value='')))"
      ]
     },
     "metadata": {},
     "output_type": "display_data"
    },
    {
     "name": "stderr",
     "output_type": "stream",
     "text": [
      "steps: 100%|██████████| 51/51 [00:00<00:00, 282.18it/s]\n"
     ]
    },
    {
     "name": "stdout",
     "output_type": "stream",
     "text": [
      "\r",
      "\r",
      "global_Step: 1490000, tr_loss: 0.273059, val_loss: 1.493623\n"
     ]
    },
    {
     "name": "stderr",
     "output_type": "stream",
     "text": [
      "steps: 100%|██████████| 51/51 [00:00<00:00, 274.03it/s]"
     ]
    },
    {
     "name": "stdout",
     "output_type": "stream",
     "text": [
      "\n"
     ]
    },
    {
     "name": "stderr",
     "output_type": "stream",
     "text": [
      "\n"
     ]
    },
    {
     "name": "stdout",
     "output_type": "stream",
     "text": [
      "\r",
      "epoch : 496, tr_loss:  0.276114, val_loss: 1.488, tr_acc: 83.08%, val_acc: 72.95%\n"
     ]
    },
    {
     "data": {
      "application/vnd.jupyter.widget-view+json": {
       "model_id": "55f312cd77c8419a8ec3ec6c5636a6e2",
       "version_major": 2,
       "version_minor": 0
      },
      "text/plain": [
       "HBox(children=(HTML(value='steps'), FloatProgress(value=0.0, max=3006.0), HTML(value='')))"
      ]
     },
     "metadata": {},
     "output_type": "display_data"
    },
    {
     "name": "stderr",
     "output_type": "stream",
     "text": [
      "steps: 100%|██████████| 51/51 [00:00<00:00, 272.73it/s]"
     ]
    },
    {
     "name": "stdout",
     "output_type": "stream",
     "text": [
      "\n",
      "epoch : 497, tr_loss:  0.276563, val_loss: 1.543, tr_acc: 83.08%, val_acc: 72.89%\n"
     ]
    },
    {
     "name": "stderr",
     "output_type": "stream",
     "text": [
      "\n"
     ]
    },
    {
     "data": {
      "application/vnd.jupyter.widget-view+json": {
       "model_id": "3bd1f6757a584386ab3c75270b4be2fa",
       "version_major": 2,
       "version_minor": 0
      },
      "text/plain": [
       "HBox(children=(HTML(value='steps'), FloatProgress(value=0.0, max=3006.0), HTML(value='')))"
      ]
     },
     "metadata": {},
     "output_type": "display_data"
    },
    {
     "name": "stderr",
     "output_type": "stream",
     "text": [
      "steps: 100%|██████████| 51/51 [00:00<00:00, 270.06it/s]"
     ]
    },
    {
     "name": "stdout",
     "output_type": "stream",
     "text": [
      "\n",
      "epoch : 498, tr_loss:  0.275415, val_loss: 1.646, tr_acc: 83.09%, val_acc: 72.65%\n"
     ]
    },
    {
     "name": "stderr",
     "output_type": "stream",
     "text": [
      "\n"
     ]
    },
    {
     "data": {
      "application/vnd.jupyter.widget-view+json": {
       "model_id": "064f56bd15b9495791bdacd9e1d4cc93",
       "version_major": 2,
       "version_minor": 0
      },
      "text/plain": [
       "HBox(children=(HTML(value='steps'), FloatProgress(value=0.0, max=3006.0), HTML(value='')))"
      ]
     },
     "metadata": {},
     "output_type": "display_data"
    },
    {
     "name": "stderr",
     "output_type": "stream",
     "text": [
      "steps: 100%|██████████| 51/51 [00:00<00:00, 273.48it/s]"
     ]
    },
    {
     "name": "stdout",
     "output_type": "stream",
     "text": [
      "\n",
      "epoch : 499, tr_loss:  0.275495, val_loss: 1.599, tr_acc: 83.08%, val_acc: 72.74%\n"
     ]
    },
    {
     "name": "stderr",
     "output_type": "stream",
     "text": [
      "\n"
     ]
    },
    {
     "data": {
      "application/vnd.jupyter.widget-view+json": {
       "model_id": "9c322e7e892f4a04adeb66216fdb022c",
       "version_major": 2,
       "version_minor": 0
      },
      "text/plain": [
       "HBox(children=(HTML(value='steps'), FloatProgress(value=0.0, max=3006.0), HTML(value='')))"
      ]
     },
     "metadata": {},
     "output_type": "display_data"
    },
    {
     "name": "stderr",
     "output_type": "stream",
     "text": [
      "steps: 100%|██████████| 51/51 [00:00<00:00, 278.56it/s]\n"
     ]
    },
    {
     "name": "stdout",
     "output_type": "stream",
     "text": [
      "\r",
      "\r",
      "global_Step: 1500000, tr_loss: 0.264989, val_loss: 1.580107\n"
     ]
    },
    {
     "name": "stderr",
     "output_type": "stream",
     "text": [
      "steps: 100%|██████████| 51/51 [00:00<00:00, 271.68it/s]"
     ]
    },
    {
     "name": "stdout",
     "output_type": "stream",
     "text": [
      "\n",
      "epoch : 500, tr_loss:  0.276290, val_loss: 1.572, tr_acc: 83.09%, val_acc: 72.68%\n",
      "\n"
     ]
    },
    {
     "name": "stderr",
     "output_type": "stream",
     "text": [
      "\n"
     ]
    }
   ],
   "source": [
    "# 모델 학습\n",
    "\n",
    "best_val_loss = 1e+10\n",
    "train_acc = []\n",
    "valid_acc = []\n",
    "train_losses = []\n",
    "valid_losses = []\n",
    "# x_error_check = []  # Issue 에 대한 디버깅 코드\n",
    "\n",
    "for epoch in tqdm(range(args.epochs), desc='epochs'):\n",
    "    tr_loss = 0\n",
    "    tr_acc = 0\n",
    "    model.train()\n",
    "    \n",
    "    for step, mb in tqdm(enumerate(tr_dl), desc='steps', total=len(tr_dl)):\n",
    "        x_mb, y_mb = map(lambda elm: elm.to(device), mb)\n",
    "        \n",
    "#         x_error_check.append(x_mb)\n",
    "#         if len(x_error_check) > 2:\n",
    "#             del x_error_check[0]\n",
    "        \n",
    "        optimizer.zero_grad()\n",
    "        y_hat_mb = model(x_mb)\n",
    "        loss = loss_fn(y_hat_mb, y_mb)\n",
    "        loss.backward()\n",
    "        optimizer.step()\n",
    "        \n",
    "        with torch.no_grad():\n",
    "            mb_acc = acc(y_hat_mb, y_mb)\n",
    "        \n",
    "        clip_gradient(model, 1e-1)\n",
    "        \n",
    "        tr_loss += loss.item()\n",
    "        tr_acc += mb_acc.item()\n",
    "        \n",
    "        if (epoch*len(tr_dl)+step) % args.summary_step == 0:\n",
    "            val_loss = evaluate(model, val_dl, {'loss':loss_fn}, device)['loss']\n",
    "            writer.add_scalars('loss', {'train': tr_loss / (step + 1), 'val': val_loss}, epoch*len(tr_dl) + step)\n",
    "            tqdm.write('global_Step: {:3}, tr_loss: {:3f}, val_loss: {:3f}'.format(epoch* len(tr_dl) + step,\n",
    "                                                                                       tr_loss / (step + 1),\n",
    "                                                                                       val_loss))\n",
    "            model.train()\n",
    "    \n",
    "    else:\n",
    "        tr_loss  /= (step + 1)\n",
    "        tr_acc /= (step + 1)\n",
    "        train_losses.append(tr_loss)\n",
    "        train_acc.append(tr_acc)\n",
    "        \n",
    "        tr_sum = {'loss': tr_loss, 'acc': tr_acc}\n",
    "        val_sum = evaluate(model, val_dl, {'loss': loss_fn, 'acc': acc}, device)\n",
    "        tqdm.write('epoch : {}, tr_loss: {: 3f}, val_loss: '\n",
    "                       '{:.3f}, tr_acc: {:.2%}, val_acc: {:.2%}'.format(epoch+1, tr_sum['loss'], val_sum['loss'],\n",
    "                                                                        tr_sum['acc'], val_sum['acc']))\n",
    "        \n",
    "        val_loss = val_sum['loss']\n",
    "        valid_losses.append(val_loss)\n",
    "        valid_acc.append(val_sum['acc'])\n",
    "        is_best = val_loss < best_val_loss\n",
    "        \n",
    "        if is_best:\n",
    "            state = {\n",
    "                'epoch': epoch+1, \n",
    "                'model_state_dict': model.state_dict(), \n",
    "                'opt_state_dict': optimizer.state_dict()\n",
    "            }\n",
    "            summary = {'tr': tr_sum, 'val': val_sum}\n",
    "            summary_manager.update(summary)\n",
    "            summary_manager.save('summary.json')\n",
    "            checkpoint_manager.save_checkpoint(state, 'best.tar')\n",
    "            best_val_loss = val_loss"
   ]
  },
  {
   "cell_type": "markdown",
   "metadata": {},
   "source": [
    "    1. jupyter notebook 버전이 다르면 tqdm이 안예쁘게 나올 수 있음\n",
    "    2. gpu를 안쓸경우 생각보다 오래 걸림"
   ]
  },
  {
   "cell_type": "markdown",
   "metadata": {},
   "source": [
    "    Issue) 갑자기 아래의 에러가 나는 경우\n",
    "    \n",
    "    (Expected tensor for argument #1 'indices' to have scalar type Long; but got torch.cuda.FloatTensor instead \n",
    "     while checking arguments for embedding)\n",
    "    \n",
    "    tr_dl 에서 나오는 index가 갑자기 소수점으로 바뀌는 경우가 있음. \n",
    "    위 에러가 뜬 뒤, x_mb.dtype 을 확인해보면 데이터 타입이 torch.float32 로 바뀌어 있음.\n",
    "    아마, batch 의 첫 번째 row가 empty일때, 이를 빼고 배치를 계산한뒤 다시 복구시킬때 gpu 에서 소수점으로 반환하는듯 \n",
    "    (torch gpu 초기값 문제일수도 있음)\n",
    "    \n",
    "    해결) 데이터 전처리시, punctuation 을 제거하지 않음. 문장중에 . 혹은 ? 만 있는 문장이 있기 때문에 empty sentence가 생김"
   ]
  },
  {
   "cell_type": "code",
   "execution_count": 9,
   "metadata": {},
   "outputs": [
    {
     "data": {
      "text/plain": [
       "{'tr': {'loss': 0.3986261745174964, 'acc': 0.750935628742515},\n",
       " 'val': {'loss': 0.390417542026212, 'acc': 0.7625305623471883}}"
      ]
     },
     "execution_count": 9,
     "metadata": {},
     "output_type": "execute_result"
    }
   ],
   "source": [
    "summary"
   ]
  },
  {
   "cell_type": "code",
   "execution_count": 10,
   "metadata": {},
   "outputs": [
    {
     "data": {
      "image/png": "[encoded data removed]",
      "text/plain": [
       "<Figure size 720x576 with 1 Axes>"
      ]
     },
     "metadata": {
      "needs_background": "light"
     },
     "output_type": "display_data"
    }
   ],
   "source": [
    "fig = plt.figure(figsize=(10,8))\n",
    "plt.plot(range(1, len(train_losses)+1), train_losses, label='Training Loss')\n",
    "plt.plot(range(1, len(valid_losses)+1), valid_losses, label='Validation Loss')\n",
    "\n",
    "minposs = valid_losses.index(min(valid_losses))+1\n",
    "plt.axvline(minposs, linestyle='dotted', color='r',label='Best Model Checkpoint')\n",
    "\n",
    "plt.title('Loss Curve')\n",
    "plt.xlabel('epochs')\n",
    "plt.ylabel('loss')\n",
    "plt.grid(True)\n",
    "plt.legend()\n",
    "plt.tight_layout()\n",
    "plt.show()\n",
    "fig.savefig(f'{save_dir}/loss_plot.png', bbox_inches = 'tight')"
   ]
  },
  {
   "cell_type": "code",
   "execution_count": 11,
   "metadata": {},
   "outputs": [
    {
     "data": {
      "image/png": "[encoded data removed]",
      "text/plain": [
       "<Figure size 720x576 with 1 Axes>"
      ]
     },
     "metadata": {
      "needs_background": "light"
     },
     "output_type": "display_data"
    }
   ],
   "source": [
    "fig = plt.figure(figsize=(10,8))\n",
    "plt.plot(range(1,len(train_acc)+1), train_acc, label='Training Accuracy')\n",
    "plt.plot(range(1,len(valid_acc)+1), valid_acc, label='Validation Accuracy')\n",
    "\n",
    "minposs = valid_losses.index(min(valid_losses))+1\n",
    "plt.axvline(minposs, linestyle='--', color='r',label='Best Model Checkpoint')\n",
    "\n",
    "plt.title('Accuracy Plot')\n",
    "plt.xlabel('epochs')\n",
    "plt.ylabel('accuracy')\n",
    "plt.grid(True)\n",
    "plt.legend()\n",
    "plt.tight_layout()\n",
    "plt.show()\n",
    "fig.savefig(f'{save_dir}/accuracy_plot.png', bbox_inches = 'tight')"
   ]
  },
  {
   "cell_type": "markdown",
   "metadata": {},
   "source": [
    "### Test Label 이 존재할 경우"
   ]
  },
  {
   "cell_type": "code",
   "execution_count": 12,
   "metadata": {},
   "outputs": [],
   "source": [
    "test_data = pd.read_csv(data_dir / test_data_name, header=None, sep='|', names=['speaker','utterance','tag'])\n",
    "\n",
    "x_test, y_test = test_data['utterance'], test_data['tag']\n",
    "\n",
    "text_preprocess_pipeline = [sent_tokenize, stemming]\n",
    "x_test = x_test.apply(preprocess_text, processing_function_list=text_preprocess_pipeline)\n",
    "\n",
    "x_test = list(convert_token_to_idx(x_test, token2idx))\n",
    "y_test = list(convert_label_to_idx(y_test, label2idx))\n",
    "\n",
    "test_ds = DAdataset(x_test, y_test)\n",
    "test_dl = DataLoader(test_ds, batch_size=64, collate_fn=test_ds.collate_fn, drop_last=True)"
   ]
  },
  {
   "cell_type": "code",
   "execution_count": 13,
   "metadata": {},
   "outputs": [
    {
     "name": "stderr",
     "output_type": "stream",
     "text": [
      "steps: 100%|██████████| 63/63 [00:00<00:00, 257.90it/s]"
     ]
    },
    {
     "name": "stdout",
     "output_type": "stream",
     "text": [
      "loss: 0.445932, acc: 70.65%\n"
     ]
    },
    {
     "name": "stderr",
     "output_type": "stream",
     "text": [
      "\n"
     ]
    }
   ],
   "source": [
    "summ = evaluate(model, test_dl, {'loss': loss_fn, 'acc': acc}, device)\n",
    "\n",
    "summary_manager = SummaryManager(save_dir)\n",
    "summary_manager.load('summary.json')\n",
    "summary_manager.update(summ)\n",
    "summary_manager.save('summary.json')\n",
    "\n",
    "print('loss: {:3f}, acc: {:.2%}'.format(summ['loss'], summ['acc']))"
   ]
  },
  {
   "cell_type": "markdown",
   "metadata": {},
   "source": [
    "https://discuss.pytorch.org/t/can-we-use-pre-trained-word-embeddings-for-weight-initialization-in-nn-embedding/1222\n",
    "https://quokkas.tistory.com/entry/pytorch%EC%97%90%EC%84%9C-EarlyStop-%EC%9D%B4%EC%9A%A9%ED%95%98%EA%B8%B0\n",
    "https://simonjisu.github.io/nlp/2018/07/05/packedsequence.html\n",
    "https://nbviewer.jupyter.org/github/simonjisu/pytorch_tutorials/blob/master/00_Basic_Utils/02_PackedSequence.ipynb\n",
    "\n",
    "데이터 전처리: https://m.blog.naver.com/PostView.naver?isHttpsRedirect=true&blogId=qbxlvnf11&logNo=221434157182\n",
    "\n",
    "pretrained 사용: https://discuss.pytorch.org/t/can-we-use-pre-trained-word-embeddings-for-weight-initialization-in-nn-embedding/1222"
   ]
  },
  {
   "cell_type": "code",
   "execution_count": null,
   "metadata": {},
   "outputs": [],
   "source": []
  }
 ],
 "metadata": {
  "kernelspec": {
   "display_name": "Python 3",
   "language": "python",
   "name": "python3"
  },
  "language_info": {
   "codemirror_mode": {
    "name": "ipython",
    "version": 3
   },
   "file_extension": ".py",
   "mimetype": "text/x-python",
   "name": "python",
   "nbconvert_exporter": "python",
   "pygments_lexer": "ipython3",
   "version": "3.8.5"
  },
  "toc": {
   "base_numbering": 1,
   "nav_menu": {},
   "number_sections": false,
   "sideBar": true,
   "skip_h1_title": false,
   "title_cell": "Table of Contents",
   "title_sidebar": "Contents",
   "toc_cell": false,
   "toc_position": {},
   "toc_section_display": true,
   "toc_window_display": false
  }
 },
 "nbformat": 4,
 "nbformat_minor": 5
}
